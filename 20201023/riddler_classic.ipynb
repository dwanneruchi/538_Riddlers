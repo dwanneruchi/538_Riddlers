{
 "cells": [
  {
   "cell_type": "markdown",
   "metadata": {},
   "source": [
    "### Classic: \n",
    "\n",
    "Now that LeBron James and Anthony Davis have restored the Los Angeles Lakers to glory with their recent victory in the NBA Finals, suppose they decide to play a game of sudden-death, one-on-one basketball. They’ll flip a coin to see which of them has first possession, and whoever makes the first basket wins the game.\n",
    "\n",
    "Both players have a 50 percent chance of making any shot they take. However, Davis is the superior rebounder and will always rebound any shot that either of them misses. Every time Davis rebounds the ball, he dribbles back to the three-point line before attempting another shot.\n",
    "\n",
    "Before each of Davis’s shot attempts, James has a probability p of stealing the ball and regaining possession before Davis can get the shot off. What value of p makes this an evenly matched game of one-on-one, so that both players have an equal chance of winning before the coin is flipped?"
   ]
  },
  {
   "cell_type": "markdown",
   "metadata": {},
   "source": [
    "### Breaking down the logic:\n",
    "\n",
    "- Game play starts with `p=0.5` likelihood of either playing getting the ball\n",
    "- AD likelihood to score is `p = 0.5 * (1-p)` when he has the ball \n",
    "    - AD likelihood to score when LeBron has the ball is: `p = 0.5 * (0.5 * (1 - p))`\n",
    "- LeBron likelihood to score is `p = 0.5` when he has the ball \n",
    "    - likelihood to score when AD has the ball is: `p = 0.5 * p * (0.5)` \n",
    "- AD always rebounds a missed shot - so likelihood of getting the ball after LeBron shoots is `p = 0.5`\n",
    "\n",
    "### Setting Equations equal for likelihood to win when other play has the ball:\n",
    "\n",
    "`P(AD has ball) = 1-p`\n",
    "\n",
    "`P(LeBron has ball) = p`  --> only way he can get it is by stealing once game starts\n",
    "\n",
    "Likelihood of each winning: \n",
    "\n",
    "- AD can win two ways: \n",
    " - 1) Lebron has ball (`p`), misses, AD rebounds, avoids steal, and scores: (`0.5*p*(1-p)*0.5`)\n",
    "  - `0.25p - 0.25p^2`\n",
    " - 2) AD has ball, avoids steal, and scores:  (`(1-p)*(1-p)*0.5`)\n",
    "  - `0.5 - p + 0.5p^2`\n",
    " - Totl win likelihood is the sum: `0.5 - 0.75p + 0.25p^2`\n",
    "- LeBron can win two ways: \n",
    " - 1) Lebron has ball and scores: (`0.5*p`)\n",
    " - 2) AD has ball, LeBron steals, and scores:  (`(1-p)*(p)*0.5`)\n",
    "     - `0.5p - 0.5p^2`\n",
    " - Total win likelihood is sum: `1p - 0.5p^2`\n",
    "     \n",
    "Solve for p when: \n",
    "`0.5 - 0.75p + 0.25p^2 = p - 0.5p^2`\n",
    "\n",
    "Or: \n",
    "\n",
    "`0.5 - 1.75p + 0.75p^2 = 0`\n",
    "\n",
    "`p = 0.33333`\n",
    " "
   ]
  },
  {
   "cell_type": "markdown",
   "metadata": {},
   "source": [
    "### Compare to Programmatic Build\n",
    "\n",
    "- Analytical solution is `p=0.333` \n",
    "\n",
    "- Build a gameplay class - run simulation & determine how often LeBron vs AD wins with various p"
   ]
  },
  {
   "cell_type": "code",
   "execution_count": 11,
   "metadata": {},
   "outputs": [],
   "source": [
    "import numpy as np"
   ]
  },
  {
   "cell_type": "code",
   "execution_count": 30,
   "metadata": {},
   "outputs": [],
   "source": [
    "# Note: AD is player 0, while Lebron is player 1\n",
    "\n",
    "class bball():\n",
    "    def __init__(self, p = 0.5):\n",
    "        self.p = p\n",
    "        self.ball = np.random.choice([0,1]) # determine who has ball first        \n",
    "    \n",
    "    def findWinner(self):\n",
    "        \"\"\"Run function until a winner emerges; return winner\"\"\"\n",
    "        \n",
    "        winner = 0\n",
    "        while winner == 0:\n",
    "            \n",
    "            # Check if Lebron steals from AD when AD has ball:\n",
    "            if self.ball == 0:\n",
    "                self.__steal()\n",
    "            \n",
    "            # continue to shot \n",
    "            made = self.__shotAttempt()\n",
    "            \n",
    "            # if shot is made, then whoever has the ball is the winner\n",
    "            if made == 1:\n",
    "                return self.ball\n",
    "            \n",
    "            # otherwise AD gets the ball & we start sequence again\n",
    "            else: \n",
    "                self.ball = 0\n",
    "                    \n",
    "    def __steal(self):\n",
    "        \"\"\"Method to check if Lebron steals ball\"\"\"\n",
    "        steal = np.random.binomial(1, self.p)\n",
    "        if steal == 1:\n",
    "            self.ball = 1 # ball goes to Lebron\n",
    "\n",
    "    def __shotAttempt(self):\n",
    "        \"\"\"Determine if shot is successful. Assuming player takes shot, 50% chance to make\"\"\"\n",
    "        return np.random.binomial(1, 0.5)"
   ]
  },
  {
   "cell_type": "code",
   "execution_count": 55,
   "metadata": {},
   "outputs": [
    {
     "name": "stdout",
     "output_type": "stream",
     "text": [
      "Using p of 0.320: Total win % for LeBron = 0.490\n",
      "Using p of 0.321: Total win % for LeBron = 0.493\n",
      "Using p of 0.322: Total win % for LeBron = 0.491\n",
      "Using p of 0.323: Total win % for LeBron = 0.491\n",
      "Using p of 0.324: Total win % for LeBron = 0.492\n",
      "Using p of 0.325: Total win % for LeBron = 0.495\n",
      "Using p of 0.326: Total win % for LeBron = 0.498\n",
      "Using p of 0.327: Total win % for LeBron = 0.493\n",
      "Using p of 0.328: Total win % for LeBron = 0.495\n",
      "Using p of 0.329: Total win % for LeBron = 0.498\n",
      "Using p of 0.330: Total win % for LeBron = 0.495\n",
      "Using p of 0.331: Total win % for LeBron = 0.499\n",
      "Using p of 0.332: Total win % for LeBron = 0.499\n",
      "Using p of 0.333: Total win % for LeBron = 0.499\n",
      "Using p of 0.334: Total win % for LeBron = 0.500\n",
      "Using p of 0.335: Total win % for LeBron = 0.501\n",
      "Using p of 0.336: Total win % for LeBron = 0.500\n",
      "Using p of 0.337: Total win % for LeBron = 0.501\n",
      "Using p of 0.338: Total win % for LeBron = 0.505\n",
      "Using p of 0.339: Total win % for LeBron = 0.502\n",
      "Using p of 0.340: Total win % for LeBron = 0.504\n",
      "Using p of 0.341: Total win % for LeBron = 0.507\n",
      "Using p of 0.342: Total win % for LeBron = 0.507\n",
      "Using p of 0.343: Total win % for LeBron = 0.507\n",
      "Using p of 0.344: Total win % for LeBron = 0.509\n",
      "Using p of 0.345: Total win % for LeBron = 0.512\n",
      "Using p of 0.346: Total win % for LeBron = 0.509\n",
      "Using p of 0.347: Total win % for LeBron = 0.507\n",
      "Using p of 0.348: Total win % for LeBron = 0.511\n",
      "Using p of 0.349: Total win % for LeBron = 0.514\n"
     ]
    }
   ],
   "source": [
    "# run 100000 tests across subset of various p values\n",
    "for p in np.arange(0.32,0.35,0.001):\n",
    "    \n",
    "    # reinitialize tracking of wins \n",
    "    tot_wins = 0\n",
    "    games = 100000\n",
    "    \n",
    "    for _ in range(games):\n",
    "        game = bball(p = p)\n",
    "        winner = game.findWinner()\n",
    "        tot_wins += winner\n",
    "\n",
    "    print(f\"Using p of {p:.3f}: Total win % for LeBron = {tot_wins / games:.3f}\")"
   ]
  },
  {
   "cell_type": "markdown",
   "metadata": {},
   "source": [
    "### Final Answer:\n",
    "\n",
    "Things are even if `p = 1/3` as shown in analytical & programmatic solve."
   ]
  }
 ],
 "metadata": {
  "kernelspec": {
   "display_name": "Python 3.8",
   "language": "python",
   "name": "other-env"
  },
  "language_info": {
   "codemirror_mode": {
    "name": "ipython",
    "version": 3
   },
   "file_extension": ".py",
   "mimetype": "text/x-python",
   "name": "python",
   "nbconvert_exporter": "python",
   "pygments_lexer": "ipython3",
   "version": "3.8.5"
  }
 },
 "nbformat": 4,
 "nbformat_minor": 4
}
