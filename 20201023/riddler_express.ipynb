{
 "cells": [
  {
   "cell_type": "markdown",
   "metadata": {},
   "source": [
    "### Riddler Expression: \n",
    "\n",
    "Link: https://fivethirtyeight.com/features/can-you-feed-the-hot-hand/\n",
    "\n",
    "This season, on the way to winning her fourth WNBA championship in her 17-year career, Sue Bird made approximately 50 percent of her field goal attempts. Suppose she and Seattle Storm teammate Breanna Stewart are interested in testing whether Bird has a “hot hand” — that is, if her chances of making a basket depend on whether or not her previous shot went in. Bird happens to know that her chances of making any given shot is always 50 percent, independent of her shooting history, but she agrees to perform an experiment.\n",
    "\n",
    "In each trial of the experiment, Bird will take three shots, while Stewart will record which shots Bird made or missed. Stewart will then look at all the trials that had at least one shot that was immediately preceded by a made shot. She will randomly pick one of these trials and then randomly pick a shot that was preceded by a made shot. (If there was only one such shot to pick from, she will choose that shot.)\n",
    "\n",
    "What is the probability that Bird made the shot that Stewart picked?"
   ]
  },
  {
   "cell_type": "markdown",
   "metadata": {},
   "source": [
    "### Solution: \n",
    "\n",
    "Solving this one by thinking about independence and the possible subspaces. \n",
    "\n",
    "1) The following outcomes exist for Bird with equal likelihood due to independence (p1 * p2 * p3)\n",
    "- 1 = made shot, 0 = missed shot\n",
    "\n",
    "- Sample space: permutation of `n` events -> `2*2*2` = 8\n",
    " - 000, 001, 010, 101,110, 100, 011, 111\n",
    "- Each has a 0.5^3 = 0.125 likelihood of occurring. \n",
    "\n",
    "2) However, sample space is reduced only to scenarios where `one shot was immediately preceded by a made shot`. This means we need shot attempt (n-1) == 1 when n exists. This will rule out 2 of the above 8 options. \n",
    "    - We exclude: 000, 001\n",
    "    \n",
    "3) Out of the sample spaces left each is equally likely to be chosen. \n",
    "- Can just solve for each variant & likelihood of finding a sucess:\n",
    "    - 010: 0% chance (no shots are consecutive) \n",
    "    - 101: 0% chance (no shots are consecutive) \n",
    "    - 110: 50% chance (if we sample first shot made, then we get a made shot. if not, then we get a miss) \n",
    "    - 100: 0% chance (no shots are conseecutive) \n",
    "    - 011: 100% chance (there is only one option here - choosing the middle make, which is followed by a made shot)) \n",
    "    - 111: 100% chance (there is always success)\n",
    "    \n",
    "4) Final likelihood is the sum of the above: \n",
    "- P = 1/6 * 0 * 3 + 2*(1/6 * 1) + 1*(1/6 * 1/2)\n",
    "- P =  2/6 + 1/12 \n",
    "- P = 5/12"
   ]
  }
 ],
 "metadata": {
  "kernelspec": {
   "display_name": "Python 3.8",
   "language": "python",
   "name": "other-env"
  },
  "language_info": {
   "codemirror_mode": {
    "name": "ipython",
    "version": 3
   },
   "file_extension": ".py",
   "mimetype": "text/x-python",
   "name": "python",
   "nbconvert_exporter": "python",
   "pygments_lexer": "ipython3",
   "version": "3.8.5"
  }
 },
 "nbformat": 4,
 "nbformat_minor": 4
}
