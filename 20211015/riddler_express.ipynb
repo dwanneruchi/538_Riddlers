{
 "cells": [
  {
   "cell_type": "markdown",
   "id": "df4457fc",
   "metadata": {},
   "source": [
    "### Express Prompt: \n",
    "\n",
    "The American League Championship Series of Riddler League Baseball determines one of the teams that will compete in the Riddler World Series. This year’s teams — the Tampa Bay Lines and the Minnesota Twin Primes — are evenly matched. In other words, both teams are equally likely to win each game of the best-of-seven series.\n",
    "\n",
    "On average, how many games will the series last? (Note that the series ends as soon as one team has won four games.)\n",
    "\n",
    "### Solution: Analytical\n",
    "\n",
    "- We can solve for expected value based on likelihood of each combinations of games to win\n",
    "- Each likelihood is `0.5**n`\n",
    "- Able to solve as \"the number of different groups of `r` objects each, which can be formed from the available `n` objects.\" \n",
    "    - Where `n` will represent total games played and `r` will represent 4 each time (e.g. likelihood of `T-F-T-T-T` or `n-4` (for the likelihood of something like `F-F-T-T-F-F`)\n",
    "- Need to remove any repeated sequences:\n",
    "        - e.g. `T-T-T-T` is covered in one of the combinations of 5 as `T-T-T-T-F`\n",
    "        - This can be done by substracting off combination where `n = n-1` and `r=r`"
   ]
  },
  {
   "cell_type": "code",
   "execution_count": 1,
   "id": "5c692473",
   "metadata": {},
   "outputs": [],
   "source": [
    "from math import factorial as f\n",
    "def comb(n, r):\n",
    "    try:\n",
    "        return f(n) / (f(n-r) * f(r))\n",
    "    except:\n",
    "        return 0 # this is for negative case \n",
    "\n",
    "# when we have n = 4 and r = 4 we only have one sequence we can make \n",
    "assert(comb(4,4) == 1)\n",
    "\n",
    "# when we have n = 5 and r = 4 we have 5 total sequences (TTTTF, TFTTT, TTFTT, TTTFT, FTTTT)\n",
    "assert(comb(5,4) == 5)\n",
    "\n",
    "# to avoid double counting the same event in n = 5, r = 4 we need to remove TTTTF to get 4 unique\n",
    "unique_count = comb(5,4) - comb(4,4)\n",
    "assert(unique_count == 4)"
   ]
  },
  {
   "cell_type": "code",
   "execution_count": 2,
   "id": "2b12bdd9",
   "metadata": {},
   "outputs": [
    {
     "name": "stdout",
     "output_type": "stream",
     "text": [
      "The Expected Total Games is 5.812\n"
     ]
    }
   ],
   "source": [
    "n_vals = range(4,8)\n",
    "count_dict = {}\n",
    "for n in n_vals:\n",
    "    c = 2 * (comb(n,4) - comb(n-1, 4)) # we multiply by 2 to represent each teams combinations at step\n",
    "    l = c * (0.5**n) # solve likelihood \n",
    "    count_dict[n] = {'c': c, 'l': l}\n",
    "\n",
    "# confirm we have captured all possibilities \n",
    "assert(sum([v['l'] for k,v in count_dict.items()]) == 1)\n",
    "\n",
    "# finally, we simply calculate the expected value \n",
    "EV = sum([v['l'] * k for k,v in count_dict.items()])\n",
    "\n",
    "print(f\"The Expected Total Games is {EV:.3f}\")\n"
   ]
  },
  {
   "cell_type": "markdown",
   "id": "5294c4af",
   "metadata": {},
   "source": [
    "### Solution: Simulation\n",
    "\n",
    "- I just can't help myself - choose a random term until we find 4 `T` or 4 `F` in sequence"
   ]
  },
  {
   "cell_type": "code",
   "execution_count": 3,
   "id": "a049c446",
   "metadata": {},
   "outputs": [],
   "source": [
    "import numpy as np\n",
    "import random\n",
    "def playSeries(r = 4):\n",
    "    \"\"\"We play series until team as Wins = R or Losses = R\"\"\"\n",
    "    arr = np.zeros(shape=(7,1))\n",
    "    for i in range(7):\n",
    "        arr[i] = random.choice([0, 1])\n",
    "        \n",
    "        # we can check for 4 1s or a sequence of 1s that would indicate 4 0s\n",
    "        if (sum(arr) == r) or (sum(arr) == i + 1 - r):\n",
    "            return i + 1"
   ]
  },
  {
   "cell_type": "code",
   "execution_count": 4,
   "id": "6feb5fc0",
   "metadata": {},
   "outputs": [
    {
     "name": "stdout",
     "output_type": "stream",
     "text": [
      "Played 1000 series: Avg Games to Win was 5.799\n",
      "Played 10000 series: Avg Games to Win was 5.812\n",
      "Played 100000 series: Avg Games to Win was 5.818\n",
      "Played 1000000 series: Avg Games to Win was 5.813\n"
     ]
    }
   ],
   "source": [
    "sim_range = [1_000, 10_000, 100_000, 1_000_000]\n",
    "for sim in sim_range:\n",
    "    r_sum = 0 # keep running sum \n",
    "    for _ in range(sim):\n",
    "        r_sum += playSeries()\n",
    "    \n",
    "    print(f\"Played {sim} series: Avg Games to Win was {r_sum / sim:.3f}\")"
   ]
  }
 ],
 "metadata": {
  "kernelspec": {
   "display_name": "ml",
   "language": "python",
   "name": "ml"
  },
  "language_info": {
   "codemirror_mode": {
    "name": "ipython",
    "version": 3
   },
   "file_extension": ".py",
   "mimetype": "text/x-python",
   "name": "python",
   "nbconvert_exporter": "python",
   "pygments_lexer": "ipython3",
   "version": "3.9.2"
  }
 },
 "nbformat": 4,
 "nbformat_minor": 5
}
