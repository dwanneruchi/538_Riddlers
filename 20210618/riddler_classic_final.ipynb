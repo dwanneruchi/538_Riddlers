{
 "cells": [
  {
   "cell_type": "markdown",
   "metadata": {},
   "source": [
    "### Riddler Classic: \n",
    "\n",
    "\n",
    "#### Handling the map:\n",
    "Going to treat the roads like a clock: \n",
    "\n",
    "- 12 o'clock = 1\n",
    "\n",
    "- 3 o'clock = 3\n",
    "\n",
    "- 6 o'clock = 5\n",
    "\n",
    "- 9 o'clock = 7\n",
    "\n",
    "#### process:\n",
    "\n",
    "- Exploration of this is here: https://github.com/dwanneruchi/538_Riddlers/blob/master/20210618/riddler_classic_process.ipynb\n",
    "\n",
    "- General rules:\n",
    "    - A crash is missed only in the following scenarios: \n",
    "        1) Car A is inside of Car B route (e.g. Car A: 2 -> 3, Car B: 1 -> 6)\n",
    "        2) Car B is inside of Car A route (e.g. Car A: 6 -> 2, Car B: 3 -> 5)\n",
    "        3) Car A & Car B are totally disjoint (e.g. Car A: 2 -> 7, Car B: 8 -> 1)\n",
    "    - Anything else would qualify as a crash:\n",
    "        - Assumption 1: If Car A Leaves 1 and Lands in 2, and Car B Leaves 4 and Lands in 1 that this qualifies as a crash.\n",
    "            - `@xaqwg` on Twitter said as much: https://twitter.com/Donald_Adamek/status/1405879172019404800\n",
    "        - Assumption 2: If Car A & B end in the same place, also counts as a Crash (confirmed in riddler) "
   ]
  },
  {
   "cell_type": "code",
   "execution_count": 1,
   "metadata": {},
   "outputs": [],
   "source": [
    "import random \n",
    "import time \n",
    "\n",
    "class Car:\n",
    "    def __init__(self, point_list):\n",
    "        self.origin_a = random.choices(point_list, k=1)[0]\n",
    "        self.origin_b = random.choices([x for x in point_list if x != self.origin_a], k=1)[0]\n",
    "        self.endpoint_a = random.choices([x for x in point_list if x != self.origin_a], k=1)[0]\n",
    "        self.endpoint_b = random.choices([x for x in point_list if x != self.origin_b], k=1)[0]\n",
    "        self.car_a = (self.origin_a, self.endpoint_a)\n",
    "        self.car_b = (self.origin_b, self.endpoint_b)\n",
    "    \n",
    "    def determine_crossing(self):\n",
    "        \"\"\" Function returns a 1 for a crash, 0 for no crash\n",
    "        \n",
    "        Info: \n",
    "        1) i always treat start as lowest value, end as highest. this lets me avoid\n",
    "           some messier logic. It handles instances where drivers end on the same path but started form\n",
    "           different ends (e.g. (1,4), (8,4)) since a crash is considered if same road is EVER traveled\n",
    "           by Driver A & B. \n",
    "        \n",
    "        2) The crashes handled are: path crossing, starting / ending same route\n",
    "        \n",
    "        3) The only way to not crash is for:\n",
    "           - One car to be completely enclosed by the route of another (e.g. Car A (1,8), Car B (2,6))\n",
    "           - One car to be completely outside of the range of another (e.g. Car A (1,2), Car B (4,6))\n",
    "        \n",
    "        \"\"\"\n",
    "        # capture start, end\n",
    "        o_a, e_a = min(self.car_a), max(self.car_a)\n",
    "        o_b, e_b = min(self.car_b), max(self.car_b)\n",
    "\n",
    "        if o_a < o_b < e_a and o_a < e_b < e_a:\n",
    "            return 0\n",
    "\n",
    "        # route is totally outside \n",
    "        if (not(o_a <= o_b <= e_a)) and (not(o_a <= e_b <= e_a)):\n",
    "            return 0\n",
    "\n",
    "        # assume no crash\n",
    "        return 1"
   ]
  },
  {
   "cell_type": "markdown",
   "metadata": {},
   "source": [
    "### Quick Test\n",
    "\n",
    "The testing below is to ensure proper results, so I override the `self.car_a`, `self.car_b` attributes"
   ]
  },
  {
   "cell_type": "code",
   "execution_count": 2,
   "metadata": {},
   "outputs": [],
   "source": [
    "# test instance \n",
    "test_car = Car(list(range(1,8)))\n",
    "\n",
    "# second car is between roads \n",
    "test_car.car_a = (1,8)\n",
    "test_car.car_b = (2,3)\n",
    "assert(test_car.determine_crossing() == 0)\n",
    "\n",
    "# first car is between roads\n",
    "test_car.car_a = (3,6)\n",
    "test_car.car_b = (1,8)\n",
    "assert(test_car.determine_crossing() == 0)\n",
    "\n",
    "# second car would cross here since going to same location, so crashes\n",
    "test_car.car_a = (1,3)\n",
    "test_car.car_b = (4,3)\n",
    "assert(test_car.determine_crossing() == 1)\n",
    "\n",
    "# another crash \n",
    "test_car.car_a = (1,5)\n",
    "test_car.car_b = (8,2)\n",
    "assert(test_car.determine_crossing() == 1)\n",
    "\n",
    "# no crash as they are totally separate\n",
    "test_car.car_a = (3,8)\n",
    "test_car.car_b = (7,4)\n",
    "assert(test_car.determine_crossing() == 0)"
   ]
  },
  {
   "cell_type": "markdown",
   "metadata": {},
   "source": [
    "### Simulation: \n",
    "\n",
    "- Lists are slow so switching to `NumPy` later makes sense\n",
    "- A `class` was totally unecessary here....passing random values through a matrix would be way faster.\n",
    "    - Initially I was thinking I would need to reference one class within another, but took a different approach. "
   ]
  },
  {
   "cell_type": "code",
   "execution_count": 3,
   "metadata": {},
   "outputs": [
    {
     "name": "stdout",
     "output_type": "stream",
     "text": [
      "Time for 100 sims: 0.01\n",
      "Likelihood of crash: 0.660\n",
      "Time for 1000 sims: 0.06\n",
      "Likelihood of crash: 0.613\n",
      "Time for 10000 sims: 0.13\n",
      "Likelihood of crash: 0.636\n",
      "Time for 100000 sims: 1.08\n",
      "Likelihood of crash: 0.627\n",
      "Time for 1000000 sims: 11.97\n",
      "Likelihood of crash: 0.630\n",
      "Time for 2000000 sims: 27.71\n",
      "Likelihood of crash: 0.630\n",
      "Time for 5000000 sims: 51.46\n",
      "Likelihood of crash: 0.629\n"
     ]
    }
   ],
   "source": [
    "sim_list = [100, 1_000, 10_000, 100_000, \n",
    "            1_000_000, 2_000_000, 5_000_000]\n",
    "\n",
    "for sim_count in sim_list:\n",
    "    start_time = time.time()\n",
    "    crashes = 0\n",
    "    for _ in range(sim_count):\n",
    "        my_car = Car(list(range(1,8)))\n",
    "        crashes += my_car.determine_crossing()\n",
    "\n",
    "    end_time = time.time()\n",
    "    print(f\"Time for {sim_count} sims: {end_time - start_time:.2f}\")\n",
    "    print(f\"Likelihood of crash: {crashes / sim_count:.3f}\")"
   ]
  },
  {
   "cell_type": "markdown",
   "metadata": {},
   "source": [
    "### Extra Credit: What do we Converge to As Routes -> infinity\n",
    "\n",
    "- Going to just use 10_000 sims, over an ever-expanding range up to 1000 (not the best, but gives an approximation)\n",
    "- Again, using `NumPy` would make WAY more sense.....and would be WAYYYY faster and would allow for a MUCHHH higher max. Need to rewrite. "
   ]
  },
  {
   "cell_type": "code",
   "execution_count": 13,
   "metadata": {},
   "outputs": [
    {
     "name": "stdout",
     "output_type": "stream",
     "text": [
      "Likelihood of crash with 100 routes: 0.361\n",
      "Likelihood of crash with 200 routes: 0.350\n",
      "Likelihood of crash with 300 routes: 0.337\n",
      "Likelihood of crash with 400 routes: 0.338\n",
      "Likelihood of crash with 500 routes: 0.348\n",
      "Likelihood of crash with 600 routes: 0.331\n",
      "Likelihood of crash with 700 routes: 0.335\n",
      "Likelihood of crash with 800 routes: 0.335\n",
      "Likelihood of crash with 900 routes: 0.334\n"
     ]
    }
   ],
   "source": [
    "route_size = 10\n",
    "sim_count = 10_000\n",
    "while route_size < 1_000:\n",
    "    crashes = 0\n",
    "    for _ in range(sim_count):\n",
    "        my_car = Car(list(range(1,route_size)))\n",
    "        crashes += my_car.determine_crossing()\n",
    "    # print every 1_000_000\n",
    "    if route_size % 100 == 0:\n",
    "        print(f\"Likelihood of crash with {route_size} routes: {crashes / sim_count:.3f}\")\n",
    "    route_size += 10"
   ]
  }
 ],
 "metadata": {
  "kernelspec": {
   "display_name": "Python 3.8",
   "language": "python",
   "name": "other-env"
  },
  "language_info": {
   "codemirror_mode": {
    "name": "ipython",
    "version": 3
   },
   "file_extension": ".py",
   "mimetype": "text/x-python",
   "name": "python",
   "nbconvert_exporter": "python",
   "pygments_lexer": "ipython3",
   "version": "3.8.5"
  }
 },
 "nbformat": 4,
 "nbformat_minor": 4
}
