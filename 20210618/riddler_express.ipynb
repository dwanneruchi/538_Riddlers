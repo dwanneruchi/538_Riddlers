{
 "cells": [
  {
   "cell_type": "markdown",
   "metadata": {},
   "source": [
    "### Express:\n",
    "\n",
    "Scoring in bowling can be a tricky matter. There are 10 frames, and in each frame you get two chances to knock down as many of the 10 pins as you can. Each pin knocked down is worth 1 point, and the pins are reset after each frame. Your score is then the sum of the scores across all 10 frames.\n",
    "\n",
    "If only it were that simple. There are special rules for spares (when you’ve knocked down all 10 pins with the second ball of a frame) and strikes (when you knock down all 10 pins with your first ball). Whenever you bowl a strike, that frame is scored as 10 plus the scores of your next two rolls. This can lead to some dependency issues at the end of the game, which means the final frame has its own set of rules that I won’t go into here.\n",
    "\n",
    "For example, if you bowled three strikes and missed every subsequent shot (i.e., they were gutter balls), your third frame would be worth 10 points, your second frame would be worth 20 and your first frame 30. Your final score would be 30 + 20 + 10, or 60 points.\n",
    "\n",
    "This week, Magritte is going bowling, and the bowling gods have decided that he will bowl exactly three strikes in three randomly selected frames. All the other frames will consist of nothing but gutter balls. Magritte also lacks patience for bowling’s particular rules. If one of his three strikes comes on the 10th and final frame and he is prompted to bowl further to complete the game, he will bowl gutter balls out of frustration.\n",
    "\n",
    "What score can Magritte expect to achieve? (That is, with three randomly placed strikes, what is his average score?)\n",
    "\n",
    "### Approach: \n",
    "\n",
    "- We should be able to build out permutations:\n",
    "    - This is a binary problem. \n",
    "    - We have to figure out the number of sequences where:\n",
    "        - `1-1-1`: Worth \n",
    "        - `1-1...-...1` pair: \n",
    "        - `1...1...1` not connected: \n",
    "\n",
    "- We can assume the following:\n",
    "    - A strike occurs or a gutterball occurs. \n",
    "    - This means I can treat each frame as a single outcome:\n",
    "        - 0 would indicate 2 gutter balls\n",
    "        - 1 would indicate a strike or a gutter-strike"
   ]
  },
  {
   "cell_type": "code",
   "execution_count": 1,
   "metadata": {},
   "outputs": [],
   "source": [
    "def calculateScore(strike_frames):\n",
    "    \"\"\"Input tuple indicating frames and output score\"\"\"\n",
    "    a,b,c = strike_frames\n",
    "    if a + 2 == b + 1 == c:\n",
    "        return 10 + 20 + 30\n",
    "    elif (a + 1 == b) or (b + 1 == c):\n",
    "        return 10 + 20 + 10\n",
    "    else:\n",
    "        return 10 + 10 + 10"
   ]
  },
  {
   "cell_type": "code",
   "execution_count": 2,
   "metadata": {},
   "outputs": [],
   "source": [
    "# create a generator\n",
    "bowl_set = []\n",
    "for i in range(10):\n",
    "    for j in range(i+1,10):\n",
    "        for k in range(j+1, 10):\n",
    "            bowl_set.append((i,j,k))"
   ]
  },
  {
   "cell_type": "code",
   "execution_count": 3,
   "metadata": {},
   "outputs": [
    {
     "name": "stdout",
     "output_type": "stream",
     "text": [
      "Printing Some Examples\n",
      "(0, 1, 2)\n",
      "Score is: 60\n",
      "\n",
      "(0, 1, 3)\n",
      "Score is: 40\n",
      "\n",
      "(0, 1, 4)\n",
      "Score is: 40\n",
      "\n",
      "(1, 5, 8)\n",
      "Score is: 30\n",
      "\n",
      "(1, 5, 9)\n",
      "Score is: 30\n",
      "\n",
      "(1, 6, 7)\n",
      "Score is: 40\n",
      "\n",
      "(1, 6, 8)\n",
      "Score is: 30\n",
      "\n",
      "(6, 8, 9)\n",
      "Score is: 40\n",
      "\n",
      "(7, 8, 9)\n",
      "Score is: 60\n",
      "\n",
      "Examples Done \n",
      "\n",
      "Expected Score: 36.67\n"
     ]
    }
   ],
   "source": [
    "tot_score = 0\n",
    "print(\"Printing Some Examples\")\n",
    "for i, out in enumerate(bowl_set):\n",
    "    score = calculateScore(out)\n",
    "    tot_score += score\n",
    "    if i < 3:\n",
    "        print(out)\n",
    "        print(f\"Score is: {score}\\n\")\n",
    "    if i > 55 and i < 60:\n",
    "        print(out)\n",
    "        print(f\"Score is: {score}\\n\")\n",
    "    if i > len(bowl_set) - 3:\n",
    "        print(out)\n",
    "        print(f\"Score is: {score}\\n\")\n",
    "print(\"Examples Done \\n\")\n",
    "\n",
    "# Expected Value: \n",
    "print(f\"Expected Score: {tot_score / len(bowl_set):.2f}\")"
   ]
  }
 ],
 "metadata": {
  "kernelspec": {
   "display_name": "Python 3.8",
   "language": "python",
   "name": "other-env"
  },
  "language_info": {
   "codemirror_mode": {
    "name": "ipython",
    "version": 3
   },
   "file_extension": ".py",
   "mimetype": "text/x-python",
   "name": "python",
   "nbconvert_exporter": "python",
   "pygments_lexer": "ipython3",
   "version": "3.8.5"
  }
 },
 "nbformat": 4,
 "nbformat_minor": 4
}
