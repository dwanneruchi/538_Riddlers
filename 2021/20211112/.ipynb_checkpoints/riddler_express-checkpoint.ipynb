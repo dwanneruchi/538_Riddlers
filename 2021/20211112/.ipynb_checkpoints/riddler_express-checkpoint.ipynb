{
 "cells": [
  {
   "cell_type": "markdown",
   "id": "9e757f14",
   "metadata": {},
   "source": [
    "### Riddler Express:\n",
    "\n",
    "I have three dice (d4, d6, d8) on my desk that I fiddle with while working, much to the chagrin of my co-workers. For the uninitiated, the d4 is a tetrahedron that is equally likely to land on any of its four faces (numbered 1 through 4), the d6 is a cube that is equally likely to land on any of its six faces (numbered 1 through 6), and the d8 is an octahedron that is equally likely to land on any of its eight faces (numbered 1 through 8).\n",
    "\n",
    "I like to play a game in which I roll all three dice in “numerical” order: d4, then d6 and then d8. I win this game when the three rolls form a strictly increasing sequence (such as 2-4-7, but not 2-4-4). What is my probability of winning?\n",
    "\n",
    "\n",
    "#### Analytical Solution:\n",
    "\n",
    "*Solution 1: Determining All Combinations*\n",
    "\n",
    "Determine all possible sequences that adhere relative to total combinations\n",
    " \n",
    "Total Combinations: `4*6*8` = 192\n",
    "Strictly increasing sequences: 48\n",
    "- 1: 20\n",
    "    - 2 -> {3-8} = 6\n",
    "    - 3 -> {4-8} = 5\n",
    "    - 4 -> {5-8} = 4\n",
    "    - 5 -> {6-8} = 3\n",
    "    - 6 -> {7-8} = 2\n",
    "- 2: 14\n",
    "    - 3 -> {4-8} = 5\n",
    "    - 4 -> {5-8} = 4\n",
    "    - 5 -> {6-8} = 3\n",
    "    - 6 -> {7-8} = 2\n",
    "- 3: 9\n",
    "    - 4 -> {5-8} = 4\n",
    "    - 5 -> {6-8} = 3\n",
    "    - 6 -> {7-8} = 2\n",
    "- 4: 5\n",
    "    - 5 -> {6-8} = 3\n",
    "    - 6 -> {7-8} = 2\n",
    "    \n",
    " Solution: `48/192 = 0.25`"
   ]
  },
  {
   "cell_type": "markdown",
   "id": "de81b6e6",
   "metadata": {},
   "source": [
    "### Python Solution\n",
    "\n",
    "This could be massively sped up using numpy, which I will do next. But for now just creating a simple class which can store a single game and determine if strictly increasing or not. "
   ]
  },
  {
   "cell_type": "code",
   "execution_count": 1,
   "id": "b4185bad",
   "metadata": {},
   "outputs": [
    {
     "name": "stdout",
     "output_type": "stream",
     "text": [
      "[True, True]\n",
      "True\n",
      "False\n"
     ]
    }
   ],
   "source": [
    "# sample test\n",
    "test = [3,4,5]\n",
    "print([test[i] < test[i+1] for i in range(len(test)-1)])\n",
    "\n",
    "# all this will fail at the first element, so bit faster than doing all checks\n",
    "# try out all on strictly increasing\n",
    "output = all([test[i] < test[i+1] for i in range(len(test)-1)])\n",
    "print(output)\n",
    "\n",
    "# try out all on a non-strictly increasing\n",
    "test = [9,4,5]\n",
    "output = all([test[i] < test[i+1] for i in range(len(test)-1)])\n",
    "print(output)"
   ]
  },
  {
   "cell_type": "code",
   "execution_count": 2,
   "id": "a03d1698",
   "metadata": {},
   "outputs": [],
   "source": [
    "import numpy as np \n",
    "import time\n",
    "\n",
    "class multiDie():\n",
    "    def __init__(self, sides):\n",
    "        self.sides = sides\n",
    "        \n",
    "    def checkRolls(self):\n",
    "        \"\"\"Check if strictly increasing\"\"\"\n",
    "        # roll all\n",
    "        self._buildSeq()\n",
    "        \n",
    "        # use all to check if each element is greater than prior idx\n",
    "        output = all([self.rolls[i] < self.rolls[i+1] for i in range(len(self.rolls)-1)])\n",
    "        return output\n",
    "        \n",
    "    def _buildSeq(self):\n",
    "        \"\"\"Roll len(sides) die of varying sizes\"\"\"\n",
    "        self.rolls = [self._rollN(sides) for sides in self.sides]\n",
    "    \n",
    "    def _rollN(self, n):\n",
    "        \"\"\"Roll a single die with N sides\"\"\"\n",
    "        return np.random.choice(n) + 1"
   ]
  },
  {
   "cell_type": "code",
   "execution_count": 3,
   "id": "6863b834",
   "metadata": {},
   "outputs": [
    {
     "name": "stdout",
     "output_type": "stream",
     "text": [
      "[2, 4, 2]\n",
      "False\n",
      "[4, 4, 5]\n",
      "False\n",
      "[4, 6, 4]\n",
      "False\n"
     ]
    }
   ],
   "source": [
    "# try some runs -> in testing i did confirm strictly increasing is captured\n",
    "# but didn't set a seed (oops) -> should have an option in class to set a sequence\n",
    "\n",
    "# 1\n",
    "tester = multiDie([4,6,8])\n",
    "output = tester.checkRolls()\n",
    "print(tester.rolls)\n",
    "print(output)\n",
    "\n",
    "# 2\n",
    "tester = multiDie([4,6,8])\n",
    "output = tester.checkRolls()\n",
    "print(tester.rolls)\n",
    "print(output)\n",
    "\n",
    "# 3\n",
    "tester = multiDie([4,6,8])\n",
    "output = tester.checkRolls()\n",
    "print(tester.rolls)\n",
    "print(output)"
   ]
  },
  {
   "cell_type": "code",
   "execution_count": 4,
   "id": "04a57928",
   "metadata": {},
   "outputs": [
    {
     "name": "stdout",
     "output_type": "stream",
     "text": [
      "Sim of 100 got probability of 0.25\n",
      "Total time: 0.002213 seconds\n",
      "Sim of 1000 got probability of 0.251\n",
      "Total time: 0.019030 seconds\n",
      "Sim of 10000 got probability of 0.2488\n",
      "Total time: 0.149845 seconds\n",
      "Sim of 100000 got probability of 0.25171\n",
      "Total time: 1.307051 seconds\n",
      "Sim of 1000000 got probability of 0.250216\n",
      "Total time: 12.916352 seconds\n"
     ]
    }
   ],
   "source": [
    "sim_list = [100, 1_000, 10_000, 100_000, 1_000_000]\n",
    "\n",
    "for sim in sim_list:    \n",
    "    start = time.time()\n",
    "    counter = 0\n",
    "    for _ in range(sim):\n",
    "        tester = multiDie([4,6,8])\n",
    "        counter += tester.checkRolls()\n",
    "    print(f\"Sim of {sim} got probability of {counter/sim}\")\n",
    "    print(f\"Total time: {time.time() - start:2f} seconds\")"
   ]
  },
  {
   "cell_type": "markdown",
   "id": "267f1504",
   "metadata": {},
   "source": [
    "### Numpy Implementation \n",
    "\n",
    "Much faster! `numpy` allows us to get very high sim results without slowing down. \n",
    "\n",
    "Approach:\n",
    "\n",
    "- Build a large n-dim array where `n` = total dies in play\n",
    "- Fill in each dimension of the n-dim array as a different die's sample rolls \n",
    "    - This means a single row would be results of `{4d, 6d, 8d}'\n",
    "    - Also makes it easy to quickly expand to Extra Credit problem\n",
    "- `np.diff`: Calculate the n-th discrete difference along the given axis.\n",
    "    - This will compare each value against the value at the next idx\n",
    "    - E.g. `(4,5,16)` -> `(1,11)`\n",
    "    - A strictly increasing sequence will always have values > 0\n",
    "- find the sum of all rows where `np.diff` had a min > 0"
   ]
  },
  {
   "cell_type": "code",
   "execution_count": 5,
   "id": "2ddd3147",
   "metadata": {},
   "outputs": [
    {
     "data": {
      "text/plain": [
       "32"
      ]
     },
     "execution_count": 5,
     "metadata": {},
     "output_type": "execute_result"
    }
   ],
   "source": [
    "sim = 100\n",
    "die_list = [4,6,8]\n",
    "\n",
    "rolls = np.zeros(shape=(sim,len(die_list))) # build empty np array to store sim x total die\n",
    "\n",
    "# rolls over each die type\n",
    "for i, n in enumerate(die_list):\n",
    "    rolls[:,i] = np.random.choice(n, sim) + 1 # do +1 to account for 0 index\n",
    "\n",
    "# assert we have proper rolls -> max val must be <= sides of die\n",
    "for i, n in enumerate(die_list):\n",
    "    assert(np.max(rolls[:,i]) <= n)\n",
    "    \n",
    "# use np.diff to create array of diffs of 0th -> 1st, 1st -> 2nd, etc.\n",
    "# min for strictly increasing is 1\n",
    "min_diff = np.min(np.diff(rolls), axis = 1) # axis = 1 indicates row\n",
    "np.sum(min_diff > 0 ) # represents strictly increasing"
   ]
  },
  {
   "cell_type": "code",
   "execution_count": 6,
   "id": "3cdbcc20",
   "metadata": {},
   "outputs": [
    {
     "name": "stdout",
     "output_type": "stream",
     "text": [
      "Sim of 100 got probability of 0.21\n",
      "Total time: 0.000706 seconds\n",
      "Sim of 1000 got probability of 0.24\n",
      "Total time: 0.000270 seconds\n",
      "Sim of 10000 got probability of 0.2534\n",
      "Total time: 0.001210 seconds\n",
      "Sim of 100000 got probability of 0.24841\n",
      "Total time: 0.004434 seconds\n",
      "Sim of 1000000 got probability of 0.250445\n",
      "Total time: 0.042883 seconds\n",
      "Sim of 5000000 got probability of 0.2500132\n",
      "Total time: 0.206700 seconds\n"
     ]
    }
   ],
   "source": [
    "# run larger sim: \n",
    "die_list = [4,6,8]\n",
    "sim_list = [100, 1_000, 10_000, 100_000, 1_000_000, 5_000_000]\n",
    "\n",
    "for sim in sim_list:\n",
    "    start = time.time()\n",
    "    rolls = np.zeros(shape=(sim,len(die_list))) # build empty np array to store sim x total die\n",
    "\n",
    "    # rolls over each die type\n",
    "    for i, n in enumerate(die_list):\n",
    "        rolls[:,i] = np.random.choice(n, sim) + 1 # do +1 to account for 0 index\n",
    "\n",
    "    # use np.diff to create array of diffs of 0th -> 1st, 1st -> 2nd, etc.\n",
    "    min_diff = np.min(np.diff(rolls), axis = 1) # axis = 1 indicates row\n",
    "    print(f\"Sim of {sim} got probability of {np.sum(min_diff > 0 )/sim}\")\n",
    "    print(f\"Total time: {time.time() - start:2f} seconds\")"
   ]
  },
  {
   "cell_type": "markdown",
   "id": "25f88196",
   "metadata": {},
   "source": [
    "### Extra Credit: \n",
    "\n",
    "Extra credit: Instead of three dice, I now have six dice: d4, d6, d8, d10, d12 and d20. If I roll all six dice in “numerical” order, what is the probability I’ll get a strictly increasing sequence?\n",
    "\n",
    "Pretty easy to implement with previous approach. Bumping max to 10 million runs."
   ]
  },
  {
   "cell_type": "code",
   "execution_count": 7,
   "id": "514df1b1",
   "metadata": {},
   "outputs": [
    {
     "name": "stdout",
     "output_type": "stream",
     "text": [
      "Sim of 100 got probability of 0.0\n",
      "Total time: 0.002777 seconds\n",
      "Sim of 1000 got probability of 0.008\n",
      "Total time: 0.000760 seconds\n",
      "Sim of 10000 got probability of 0.0116\n",
      "Total time: 0.001625 seconds\n",
      "Sim of 100000 got probability of 0.01246\n",
      "Total time: 0.007756 seconds\n",
      "Sim of 1000000 got probability of 0.011893\n",
      "Total time: 0.083576 seconds\n",
      "Sim of 5000000 got probability of 0.0117234\n",
      "Total time: 0.452892 seconds\n",
      "Sim of 10000000 got probability of 0.0117774\n",
      "Total time: 0.905959 seconds\n"
     ]
    }
   ],
   "source": [
    "# run larger sim: \n",
    "die_list = [4,6,8,10,12,20]\n",
    "sim_list = [100, 1_000, 10_000, 100_000, 1_000_000, 5_000_000, 10_000_000]\n",
    "\n",
    "for sim in sim_list:\n",
    "    start = time.time()\n",
    "    rolls = np.zeros(shape=(sim,len(die_list))) # build empty np array to store sim x total die\n",
    "\n",
    "    # rolls over each die type\n",
    "    for i, n in enumerate(die_list):\n",
    "        rolls[:,i] = np.random.choice(n, sim) + 1 # do +1 to account for 0 index\n",
    "\n",
    "    # use np.diff to create array of diffs of 0th -> 1st, 1st -> 2nd, etc.\n",
    "    min_diff = np.min(np.diff(rolls), axis = 1) # axis = 1 indicates row\n",
    "    print(f\"Sim of {sim} got probability of {np.sum(min_diff > 0 )/sim}\")\n",
    "    print(f\"Total time: {time.time() - start:2f} seconds\")"
   ]
  }
 ],
 "metadata": {
  "kernelspec": {
   "display_name": "ml",
   "language": "python",
   "name": "ml"
  },
  "language_info": {
   "codemirror_mode": {
    "name": "ipython",
    "version": 3
   },
   "file_extension": ".py",
   "mimetype": "text/x-python",
   "name": "python",
   "nbconvert_exporter": "python",
   "pygments_lexer": "ipython3",
   "version": "3.9.2"
  }
 },
 "nbformat": 4,
 "nbformat_minor": 5
}
