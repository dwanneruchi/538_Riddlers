{
 "cells": [
  {
   "cell_type": "markdown",
   "id": "6e9cb7ae",
   "metadata": {},
   "source": [
    "### Riddler Express\n",
    "\n",
    "As of today, The Riddler Social Network is being rebranded as μετα — that’s mu epsilon tau alpha. Those Greek letters really augment the brand, don’t you think?\n",
    "\n",
    "A group of 101 people join μετα, and each person has a random, 50 percent chance of being friends with each of the other 100 people. Friendship is a symmetric relationship on μετα, so if you’re friends with me, then I am also friends with you.\n",
    "\n",
    "I pick a random person among the 101 — let’s suppose her name is Marcia. On average, how many friends would you expect each of Marcia’s friends to have?\n",
    "\n",
    "### Math Approach:\n",
    "\n",
    "- We can think of each potential connection as a bernoulli trial of `p=0.5`, meaning we can use a `binomial distribution` for this problem\n",
    "    - Specifically, out of `n` possible people on the network how many friends does someone have\n",
    "    - Follows `B(n,p)`\n",
    "\n",
    "- mean of a binomial distribution is:\n",
    "$ n * p$\n",
    "\n",
    "- Assumption: \n",
    "    - In our case `p = 0.5` for each friend \n",
    "    - Starting we know that there are `101` total participants. \n",
    "        - We select one participant that has `s` friends\n",
    "        - We already know each of these `s` friends has one friend in Marcia, but we need to now consider the remaining `99`, meaning `n = 99` (instead of 100...I might be off on this)\n",
    "        \n",
    "Final Math:\n",
    "\n",
    "- Since we are limiting to a subset of people that are friends with Marcia, we have a slightly elevated amount:\n",
    "\n",
    "$E(X) = 1 + 99 * (0.5) = 50.5$\n",
    "\n",
    "- If we did it for \"average number of friends for anyone in general\" I think it would be:\n",
    "$E(X) = 100 * (0.5) = 50$\n",
    "\n",
    "### Simulation:\n",
    "\n",
    "- We need to randomly determine an index to be \"Marcia\"\n",
    "- We would then determine who maps to \"Marcia\" \n",
    "- Find the average of this subset"
   ]
  },
  {
   "cell_type": "code",
   "execution_count": 1,
   "id": "bd93c595",
   "metadata": {},
   "outputs": [
    {
     "name": "stdout",
     "output_type": "stream",
     "text": [
      "Ran 100 sims, estimate 50.456492 friends on average for Marcia\n",
      "Ran 1000 sims, estimate 50.509253 friends on average for Marcia\n",
      "Ran 10000 sims, estimate 50.500418 friends on average for Marcia\n",
      "Ran 100000 sims, estimate 50.504577 friends on average for Marcia\n",
      "Ran 1000000 sims, estimate 50.499876 friends on average for Marcia\n",
      "Ran 2000000 sims, estimate 50.499724 friends on average for Marcia\n"
     ]
    }
   ],
   "source": [
    "import numpy as np\n",
    "\n",
    "sim_list = [100, 1_000, 10_000, 100_000, 1_000_000, 2_000_000] # sim sizes\n",
    "\n",
    "for sim in sim_list:\n",
    "\n",
    "    # create a running total \n",
    "    r_sum = 0\n",
    "    r_friends = 0\n",
    "\n",
    "    # run sim\n",
    "    for _ in range(sim):\n",
    "        m = np.random.randint(0,100) # find random marcia: using [0, 100) so i don't have to worry about 100th index next\n",
    "        metaverse = np.random.randint(0, 2, size=(101, 100)) # 101 rows x 100 cols, each row represents a person\n",
    "        metaverse = np.delete(metaverse, (m), axis=0) # delete marcia row from consideration...not friends with self\n",
    "        m_friends = metaverse[np.where(metaverse[:,m] == 1)] # reduce to those that are friends at index \"m\" (marcia)\n",
    "        r_sum += np.sum(m_friends)\n",
    "        r_friends += m_friends.shape[0]\n",
    "\n",
    "    print(f\"Ran {sim} sims, estimate {r_sum / r_friends:2f} friends on average for Marcia\")"
   ]
  }
 ],
 "metadata": {
  "kernelspec": {
   "display_name": "ml",
   "language": "python",
   "name": "ml"
  },
  "language_info": {
   "codemirror_mode": {
    "name": "ipython",
    "version": 3
   },
   "file_extension": ".py",
   "mimetype": "text/x-python",
   "name": "python",
   "nbconvert_exporter": "python",
   "pygments_lexer": "ipython3",
   "version": "3.9.2"
  }
 },
 "nbformat": 4,
 "nbformat_minor": 5
}
