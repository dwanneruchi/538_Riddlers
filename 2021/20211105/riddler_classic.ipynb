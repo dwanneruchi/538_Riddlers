{
 "cells": [
  {
   "cell_type": "markdown",
   "id": "6e8c18bf",
   "metadata": {},
   "source": [
    "### Riddler Classic\n",
    "\n",
    "From Emma Knight comes a unit conversion conundrum:\n",
    "\n",
    "The sum of the factors of 36 — including 36 itself — is 91. Coincidentally, 36 inches rounded to the nearest centimeter is … 91 centimeters!\n",
    "\n",
    "Can you find another whole number like 36, where you can “compute” the sum of its factors by converting from inches to centimeters?\n",
    "\n",
    "### Programmatically:\n",
    "\n",
    "- We know a number is a factor if `original mod n == 0`, so this is used with numpy arrays below. \n",
    "- I worry the value is going to be VERY large, so may need to shift to a process where I skip if a sum of factors already exceeds `original x 2.54`"
   ]
  },
  {
   "cell_type": "code",
   "execution_count": 1,
   "id": "f70e7d30",
   "metadata": {},
   "outputs": [],
   "source": [
    "import numpy as np \n",
    "\n",
    "def findFactors(n):\n",
    "    \"\"\"Output array of factors\"\"\"\n",
    "    arr2 = np.asarray(range(1,n+1)) # build array of 1 -> n\n",
    "    return np.sum(arr2[n % arr2 == 0]) # return indices where 0\n",
    "\n",
    "assert(findFactors(36) == round(2.54 * 36,0))"
   ]
  },
  {
   "cell_type": "code",
   "execution_count": 3,
   "id": "22c3d9c6",
   "metadata": {},
   "outputs": [
    {
     "name": "stdout",
     "output_type": "stream",
     "text": [
      "Found a match: 36\n",
      "Conversion is: 91.0\n",
      "Factors are: [ 1  2  3  4  6  9 12 18 36]\n",
      "Sum of factors: 91\n"
     ]
    }
   ],
   "source": [
    "# Confirm logic works for finding 91\n",
    "n = 1\n",
    "while True:\n",
    "    conv_val = round(2.54 * n, 0)\n",
    "    sum_fact = findFactors(n)\n",
    "    \n",
    "    if conv_val == sum_fact:\n",
    "        print(f\"Found a match: {n}\")\n",
    "        print(f\"Conversion is: {round(2.54 * n,0)}\")\n",
    "        arr = np.asarray(range(1,n+1)) # build array of 1 -> n\n",
    "        print(f\"Factors are: {arr[n % arr == 0]}\")\n",
    "        print(f\"Sum of factors: {sum(arr[n % arr == 0])}\")\n",
    "        break\n",
    "    \n",
    "    n += 1\n",
    "    "
   ]
  },
  {
   "cell_type": "code",
   "execution_count": 10,
   "id": "a1bc342f",
   "metadata": {},
   "outputs": [
    {
     "name": "stdout",
     "output_type": "stream",
     "text": [
      "Found a match: 378\n",
      "Conversion is: 960.0\n",
      "Factors are: [  1   2   3   6   7   9  14  18  21  27  42  54  63 126 189 378]\n",
      "Sum of factors: 960\n",
      "Time: 0.02\n"
     ]
    }
   ],
   "source": [
    "# Start at 92\n",
    "import time\n",
    "s = time.time()\n",
    "n = 92\n",
    "while True:\n",
    "    conv_val = round(2.54 * n, 0)\n",
    "    sum_fact = findFactors(n)\n",
    "    \n",
    "    if conv_val == sum_fact:\n",
    "        print(f\"Found a match: {n}\")\n",
    "        print(f\"Conversion is: {round(2.54 * n,0)}\")\n",
    "        arr = np.asarray(range(1,n+1)) # build array of 1 -> n\n",
    "        print(f\"Factors are: {arr[n % arr == 0]}\")\n",
    "        print(f\"Sum of factors: {sum(arr[n % arr == 0])}\")\n",
    "        break\n",
    "    \n",
    "    n += 1\n",
    "\n",
    "e = time.time()\n",
    "\n",
    "print(f\"Time: {e - s:.2f}\")"
   ]
  },
  {
   "cell_type": "markdown",
   "id": "07fd048b",
   "metadata": {},
   "source": [
    "### Solution: \n",
    "\n",
    "- Factors: `[  1   2   3   6   7   9  14  18  21  27  42  54  63 126 189 378]`, sum to `960`\n",
    "- Conversion: `378 * 2,54 = 960.12`, rounded = `960`"
   ]
  },
  {
   "cell_type": "markdown",
   "id": "61f69255",
   "metadata": {},
   "source": [
    "### Extra Credit:\n",
    "\n",
    "Can we find a third? \n",
    "- My guess is these start getting pretty massive, likely smart to use something like `memoization` here"
   ]
  },
  {
   "cell_type": "code",
   "execution_count": 12,
   "id": "7ddaf8ff",
   "metadata": {},
   "outputs": [
    {
     "name": "stdout",
     "output_type": "stream",
     "text": [
      "Found a match: 49600\n",
      "Conversion is: 125984.0\n",
      "Factors are: [    1     2     4     5     8    10    16    20    25    31    32    40\n",
      "    50    62    64    80   100   124   155   160   200   248   310   320\n",
      "   400   496   620   775   800   992  1240  1550  1600  1984  2480  3100\n",
      "  4960  6200  9920 12400 24800 49600]\n",
      "Sum of factors: 125984\n",
      "Time: 54.19\n"
     ]
    }
   ],
   "source": [
    "from functools import cache\n",
    "\n",
    "@cache\n",
    "def findFactors(n):\n",
    "    \"\"\"Output array of factors\"\"\"\n",
    "    arr2 = np.asarray(range(1,n+1)) # build array of 1 -> n\n",
    "    return np.sum(arr2[n % arr2 == 0]) # return indices where 0\n",
    "\n",
    "# Start at 961\n",
    "s = time.time()\n",
    "n = 961\n",
    "while True:\n",
    "    conv_val = round(2.54 * n, 0)\n",
    "    sum_fact = findFactors(n)\n",
    "    \n",
    "    if conv_val == sum_fact:\n",
    "        print(f\"Found a match: {n}\")\n",
    "        print(f\"Conversion is: {round(2.54 * n,0)}\")\n",
    "        arr = np.asarray(range(1,n+1)) # build array of 1 -> n\n",
    "        print(f\"Factors are: {arr[n % arr == 0]}\")\n",
    "        print(f\"Sum of factors: {sum(arr[n % arr == 0])}\")\n",
    "        break\n",
    "    \n",
    "    n += 1\n",
    "\n",
    "e = time.time()\n",
    "\n",
    "print(f\"Time: {e - s:.2f}\")"
   ]
  },
  {
   "cell_type": "markdown",
   "id": "5986c995",
   "metadata": {},
   "source": [
    "### Can We Make Our Function Faster? \n",
    "\n",
    "Do we typically see that we exceed our initial value with factors or that we can't hit the amount? "
   ]
  },
  {
   "cell_type": "code",
   "execution_count": null,
   "id": "fe6e69b1",
   "metadata": {},
   "outputs": [],
   "source": []
  }
 ],
 "metadata": {
  "kernelspec": {
   "display_name": "ml",
   "language": "python",
   "name": "ml"
  },
  "language_info": {
   "codemirror_mode": {
    "name": "ipython",
    "version": 3
   },
   "file_extension": ".py",
   "mimetype": "text/x-python",
   "name": "python",
   "nbconvert_exporter": "python",
   "pygments_lexer": "ipython3",
   "version": "3.9.2"
  }
 },
 "nbformat": 4,
 "nbformat_minor": 5
}
