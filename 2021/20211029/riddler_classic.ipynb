{
 "cells": [
  {
   "cell_type": "markdown",
   "id": "3a699df0",
   "metadata": {},
   "source": [
    "### Riddler Classic\n",
    "\n",
    "Congratulations, you’ve made it to the fifth round of The Squiddler — a competition that takes place on a remote island. In this round, you are one of the 16 remaining competitors who must cross a bridge made up of 18 pairs of separated glass squares. Here is what the bridge looks like from above:\n",
    "    \n",
    "To cross the bridge, you must jump from one pair of squares to the next. However, you must choose one of the two squares in a pair to land on. Within each pair, one square is made of tempered glass, while the other is made of normal glass. If you jump onto tempered glass, all is well, and you can continue on to the next pair of squares. But if you jump onto normal glass, it will break, and you will be eliminated from the competition.\n",
    "\n",
    "You and your competitors have no knowledge of which square within each pair is made of tempered glass. The only way to figure it out is to take a leap of faith and jump onto a square. Once a pair is revealed — either when someone lands on a tempered square or a normal square — all remaining competitors take notice and will choose the tempered glass when they arrive at that pair.\n",
    "\n",
    "On average, how many of the 16 competitors will survive and make it to the next round of the competition?\n",
    "\n",
    "\n",
    "### Sim Approach: Assumptions\n",
    "- We have participants guess at each step. \n",
    "- Every pair has two options, where 0 or 1 represents the tempered glass and must be matched. \n",
    "\n",
    "\n",
    "### A Note on Solution:\n",
    "\n",
    "It was absolutely unecessary for me to have a `dataclass` here, but tryint to play around with some stuff I am learning in `Fluent Python` (which makes it clear to not overuse classes, but hey here we are). \n",
    "\n",
    "The nice thing about using a dataclass is I could shuffle contestants and determine which survive each round (attempting to justify the decision). \n",
    "\n",
    "There are a lot of slow decisions in the first iteration, this will be cleaned. "
   ]
  },
  {
   "cell_type": "code",
   "execution_count": 3,
   "id": "6deecc5d",
   "metadata": {},
   "outputs": [],
   "source": [
    "from dataclasses import dataclass\n",
    "import random \n",
    "\n",
    "class Bridge():\n",
    "    def __init__(self, size = 18):\n",
    "        self.size = size\n",
    "        \n",
    "    def mapTempered(self):\n",
    "        \"\"\"Function to randomly determine if tempered is 0 or 1\"\"\"\n",
    "        self.bridge = random.choices([0,1], k=self.size)\n",
    "        \n",
    "    def traversal(self, contestants):\n",
    "        \"\"\"\n",
    "        Assuming no shenanigans, it should only take 1 contestant at most to traverse a single step.\n",
    "        If a contestant falls through, the next contests should avoid the window they fell through\n",
    "        \"\"\"\n",
    "        i = 0 # initial contestant\n",
    "        for step in self.bridge:\n",
    "            if contestants[i].choose() != step:\n",
    "                contestants[i].alive = 0\n",
    "                i += 1\n",
    "                if i > 15:\n",
    "                    return contestants\n",
    "            else:\n",
    "                continue\n",
    "        return contestants\n",
    "    \n",
    "@dataclass\n",
    "class Contestant:\n",
    "    \"\"\"class representating a competitor in Squid games\"\"\"\n",
    "    number: int\n",
    "    alive: int = 1 # they all start out alive\n",
    "\n",
    "    def choose(self):\n",
    "        return random.choices([0,1], k=1)[0]"
   ]
  },
  {
   "cell_type": "markdown",
   "id": "55aaac73",
   "metadata": {},
   "source": [
    "### Run Some Sims: \n",
    "\n",
    "We could surely solve this faster in numpy, that is next. "
   ]
  },
  {
   "cell_type": "code",
   "execution_count": 4,
   "id": "21e2c8bb",
   "metadata": {},
   "outputs": [
    {
     "name": "stdout",
     "output_type": "stream",
     "text": [
      "Average survivors for 1000 sims: 7.061\n",
      "Total time: 0.06\n",
      "\n",
      "Average survivors for 10000 sims: 7.0142\n",
      "Total time: 0.21\n",
      "\n",
      "Average survivors for 100000 sims: 6.99966\n",
      "Total time: 2.01\n",
      "\n",
      "Average survivors for 1000000 sims: 7.00005\n",
      "Total time: 20.13\n",
      "\n",
      "Average survivors for 2000000 sims: 6.998921\n",
      "Total time: 40.41\n",
      "\n"
     ]
    }
   ],
   "source": [
    "import time \n",
    "sims = [1_000, 10_000, 100_000, 1_000_000, 2_000_000]\n",
    "for sim in sims:\n",
    "    start = time.time()\n",
    "    tot_alive = 0\n",
    "    for _ in range(sim):\n",
    "        sequence = [Contestant(i+1) for i in range(16)] # our new sequence -> really unecessary (SLOW)\n",
    "        b = Bridge(18)\n",
    "        b.mapTempered()\n",
    "        sequence = [Contestant(i+1) for i in range(16)]\n",
    "        output = b.traversal(sequence)\n",
    "        tot_alive += sum([c.alive for c in output])\n",
    "    end = time.time()\n",
    "    print(f\"Average survivors for {sim} sims: {tot_alive / sim}\")\n",
    "    print(f\"Total time: {end - start:.2f}\\n\")"
   ]
  },
  {
   "cell_type": "markdown",
   "id": "91ce90d2",
   "metadata": {},
   "source": [
    "### Numpy: \n",
    "\n",
    "Still not leveraging numpy in a great way here, but removing a lot of the cruft from the prior simulation. "
   ]
  },
  {
   "cell_type": "code",
   "execution_count": 7,
   "id": "ac55487a",
   "metadata": {},
   "outputs": [],
   "source": [
    "import numpy as np\n",
    "\n",
    "def bridgeGame(size = 18):\n",
    "    \"\"\"Simulate a single bridge game in numpy\"\"\"\n",
    "    arr = np.random.randint(2, size=size) \n",
    "    deaths = 0\n",
    "    for i in range(size):\n",
    "        if random.choice([0, 1]) != arr[i]:\n",
    "            deaths += 1\n",
    "    return 16 - deaths"
   ]
  },
  {
   "cell_type": "code",
   "execution_count": 8,
   "id": "8346368e",
   "metadata": {},
   "outputs": [
    {
     "name": "stdout",
     "output_type": "stream",
     "text": [
      "Average survivors for 1000 sims: 6.999\n",
      "Total time: 0.04\n",
      "\n",
      "Average survivors for 10000 sims: 7.0031\n",
      "Total time: 0.14\n",
      "\n",
      "Average survivors for 100000 sims: 6.99098\n",
      "Total time: 1.17\n",
      "\n",
      "Average survivors for 1000000 sims: 6.998791\n",
      "Total time: 11.60\n",
      "\n",
      "Average survivors for 2000000 sims: 7.001337\n",
      "Total time: 23.35\n",
      "\n"
     ]
    }
   ],
   "source": [
    "sims = [1_000, 10_000, 100_000, 1_000_000, 2_000_000]\n",
    "for sim in sims:\n",
    "    start = time.time()\n",
    "    tot_alive = 0\n",
    "    for _ in range(sim):\n",
    "        tot_alive += bridgeGame(size = 18)\n",
    "    end = time.time()\n",
    "    print(f\"Average survivors for {sim} sims: {tot_alive / sim}\")\n",
    "    print(f\"Total time: {end - start:.2f}\\n\")"
   ]
  },
  {
   "cell_type": "markdown",
   "id": "200f8454",
   "metadata": {},
   "source": [
    "### Analytical Solution\n",
    "\n",
    "We can think of this as solving for the following:\n",
    "\n",
    "$1 - Expected Loss$\n",
    "\n",
    "So really, 1 - (1 * likelihood of 1 death out of 18 + 2 * likelihood of 2 death out of 18....16 * 16 d out of 18 + 16 * 16 d out of 17 + 16 * 16 d out of 16).\n",
    "\n",
    "Each step can be solved using binomial distribution, and thinking of our \"successes\" as deaths in this case.\n",
    "- The probability of observing exactly k deaths in n independent trials, where n is 18 typically\n",
    "- We then have two additional cases to add...the case when all 16 die at the 17th square, and case when all 16 die at the 16th square. These are both extremelyt rare and push us just over an Expected Loss of 9. \n",
    "\n",
    "So we do:\n",
    "\n",
    "$1 - \\sum_{k=1}^{16} k * \\binom{n}{k} p^k (1-p)^{n-k} + 16 * \\binom{17}{16} p^16 (1-p)^{17-16} + 16 * \\binom{16}{16} p^16 (1-p)^{16-16}$\n",
    "\n",
    "where:\n",
    "- `k = total deaths`\n",
    "- `p = likelihood of choosing correct, which is 0.5`\n",
    "- `n = total squares (usually 18, not always)`"
   ]
  },
  {
   "cell_type": "code",
   "execution_count": 8,
   "id": "121390e6",
   "metadata": {},
   "outputs": [
    {
     "name": "stdout",
     "output_type": "stream",
     "text": [
      "Expected survivors: 6.9989166259765625\n"
     ]
    }
   ],
   "source": [
    "from scipy import stats\n",
    "\n",
    "def EV(deaths, decisions):\n",
    "    \"\"\"Simple function yielding expected value as death * likelihood given binomial distribution\"\"\"\n",
    "    # k is discrete event (typically X), n is total trials - returns EV\n",
    "    return deaths * stats.binom.pmf(k = deaths, n = decisions, p = 0.5)\n",
    "\n",
    "# iterate through EVs 1-16 with 18, plus the instances of 17 and 16 (super rare)\n",
    "expected_deaths = sum([EV(d,18) for d in range(1, 17)]) + EV(deaths = 16, decisions = 17) + EV(deaths = 16, decisions = 16)\n",
    "\n",
    "print(f\"Expected survivors: {16 - expected_deaths}\")"
   ]
  }
 ],
 "metadata": {
  "kernelspec": {
   "display_name": "ml",
   "language": "python",
   "name": "ml"
  },
  "language_info": {
   "codemirror_mode": {
    "name": "ipython",
    "version": 3
   },
   "file_extension": ".py",
   "mimetype": "text/x-python",
   "name": "python",
   "nbconvert_exporter": "python",
   "pygments_lexer": "ipython3",
   "version": "3.9.2"
  }
 },
 "nbformat": 4,
 "nbformat_minor": 5
}
