{
 "cells": [
  {
   "cell_type": "markdown",
   "metadata": {},
   "source": [
    "### Riddler Classic\n",
    "\n",
    "Italy defeated England in a heartbreaking (for England) European Championship that came down to a penalty shootout. In a shootout, teams alternate taking shots over the course of five rounds. If, at any point, a team is guaranteed to have outscored its opponent after five rounds, the shootout ends prematurely, even if each side has not yet taken five shots. If teams are tied after five rounds, they continue one round at a time until one team scores and another misses.\n",
    "\n",
    "If each player has a 70 percent chance of making any given penalty shot, then how many total shots will be taken on average?"
   ]
  },
  {
   "cell_type": "code",
   "execution_count": 1,
   "metadata": {},
   "outputs": [],
   "source": [
    "import numpy as np\n",
    "import math"
   ]
  },
  {
   "cell_type": "code",
   "execution_count": 2,
   "metadata": {},
   "outputs": [],
   "source": [
    "\n",
    "def winner(goalsA, goalsB, Akicks, Bkicks):\n",
    "    \"\"\"\n",
    "    Logic: If number of kicks left for team < goal differential relative to other team then winner exists\n",
    "    \n",
    "    Return True indicates winner, False indicates no winner\n",
    "    \"\"\"\n",
    "    if (5 - Akicks) < (goalsB - goalsA):\n",
    "        return True\n",
    "    elif (5 - Bkicks) < (goalsA - goalsB):\n",
    "        return True\n",
    "    else:\n",
    "        return False"
   ]
  },
  {
   "cell_type": "markdown",
   "metadata": {},
   "source": [
    "### Full Simulation:"
   ]
  },
  {
   "cell_type": "code",
   "execution_count": 3,
   "metadata": {},
   "outputs": [
    {
     "name": "stdout",
     "output_type": "stream",
     "text": [
      "Simulation: 100\n",
      "Avg shots: 10.19\n",
      "\n",
      "\n",
      "Simulation: 1000\n",
      "Avg shots: 10.53\n",
      "\n",
      "\n",
      "Simulation: 10000\n",
      "Avg shots: 10.49\n",
      "\n",
      "\n",
      "Simulation: 100000\n",
      "Avg shots: 10.47\n",
      "\n",
      "\n",
      "Simulation: 1000000\n",
      "Avg shots: 10.47\n",
      "\n",
      "\n",
      "Simulation: 2000000\n",
      "Avg shots: 10.47\n",
      "\n",
      "\n"
     ]
    }
   ],
   "source": [
    "for n in [100, 1_000, 10_000, 100_000, 1_000_000, 2_000_000]:\n",
    "    \n",
    "    sim_tot = 0\n",
    "    \n",
    "    for _ in range(n):\n",
    "\n",
    "        # parameters\n",
    "        likelihood = 0.7\n",
    "        i = 1\n",
    "        teamAGoals = 0\n",
    "        teamBGoals = 0\n",
    "\n",
    "        # simulate penalty kicks in single game\n",
    "        while True:\n",
    "\n",
    "            # determine team\n",
    "            if i % 2:\n",
    "                teamAGoals += np.random.binomial(1,likelihood)\n",
    "            else:\n",
    "                teamBGoals += np.random.binomial(1,likelihood)\n",
    "\n",
    "            if i <= 10:\n",
    "                if winner(teamAGoals, teamBGoals, math.ceil(i/2), math.floor(i/2)):\n",
    "                    break\n",
    "\n",
    "            if i > 10:\n",
    "                # if tiebreak then when even is found, determine which is ahead\n",
    "                if i % 2 == 0:\n",
    "                    if teamAGoals != teamBGoals:\n",
    "                        break\n",
    "\n",
    "            i += 1\n",
    "\n",
    "\n",
    "        # total shots\n",
    "        sim_tot += i\n",
    "        \n",
    "    print(f\"Simulation: {n}\")\n",
    "    print(f\"Avg shots: {sim_tot / n:.2f}\")\n",
    "    print(\"\\n\")"
   ]
  }
 ],
 "metadata": {
  "kernelspec": {
   "display_name": "Python 3.8",
   "language": "python",
   "name": "other-env"
  },
  "language_info": {
   "codemirror_mode": {
    "name": "ipython",
    "version": 3
   },
   "file_extension": ".py",
   "mimetype": "text/x-python",
   "name": "python",
   "nbconvert_exporter": "python",
   "pygments_lexer": "ipython3",
   "version": "3.8.5"
  }
 },
 "nbformat": 4,
 "nbformat_minor": 4
}
