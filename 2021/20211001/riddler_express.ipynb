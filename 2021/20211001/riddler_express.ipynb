{
 "cells": [
  {
   "cell_type": "markdown",
   "id": "b7119c34",
   "metadata": {},
   "source": [
    "### Riddler Express:\n",
    "\n",
    "With a little experimentation, I determine that the power (in watts) is equal to the product of the cadence and resistance values divided by 20. For example, if my cadence is 64 and my resistance is 25, then my power output is (64·25)/20, or 80 watts.\n",
    "\n",
    "Whenever I ride, I always make sure that my resistance is between 20 and 60, while my cadence is between 60 and 100. After a particularly grueling 30-minute workout, I notice that my average resistance was 40, while my average cadence was 80. (Note that these averages are computed per unit of time, rather than per unit of distance traveled.)\n",
    "\n",
    "At first, I figure my average power was (40·80)/20, or 160 watts. But I soon realize other values are also possible. What is the maximum average power that I could have produced? What is the minimum?"
   ]
  },
  {
   "cell_type": "markdown",
   "id": "6a48ef04",
   "metadata": {},
   "source": [
    "#### Initial Thoughts:\n",
    "\n",
    "Going to need to consider skewed datasets here for the cadence and resistance data. \n",
    "\n",
    "My thought is to write a function which sums up the max value, considering remaining steps & ensuring its possible to sum up "
   ]
  },
  {
   "cell_type": "code",
   "execution_count": 45,
   "id": "bfe02268",
   "metadata": {},
   "outputs": [
    {
     "name": "stdout",
     "output_type": "stream",
     "text": [
      "Cadence Params - mean: 80, min: 60, max: 100\n",
      "Resistance Params - mean: 40, min: 20, max: 60\n"
     ]
    }
   ],
   "source": [
    "import numpy as np\n",
    "\n",
    "# params:\n",
    "minR = 20\n",
    "maxR = 60\n",
    "minC = 60\n",
    "maxC = 100\n",
    "meanR = 40\n",
    "meanC = 80\n",
    "\n",
    "# let's just consider everything as unit / second\n",
    "total_sec = 60 * 30 \n",
    "\n",
    "# We can solve for the summed amount of cadence & resistance\n",
    "c_sum = meanC * total_sec\n",
    "r_sum = meanR * total_sec \n",
    "\n",
    "print(f\"Cadence Params - mean: {meanC}, min: {minC}, max: {maxC}\")\n",
    "print(f\"Resistance Params - mean: {meanR}, min: {minR}, max: {maxR}\")"
   ]
  },
  {
   "cell_type": "code",
   "execution_count": 50,
   "id": "260431e1",
   "metadata": {},
   "outputs": [
    {
     "name": "stdout",
     "output_type": "stream",
     "text": [
      "900 900 144000\n"
     ]
    },
    {
     "data": {
      "text/plain": [
       "144000"
      ]
     },
     "execution_count": 50,
     "metadata": {},
     "output_type": "execute_result"
    }
   ],
   "source": [
    "# build all combinations of min / max\n",
    "a = total_sec\n",
    "while True:\n",
    "    b = total_sec - a\n",
    "    tot = a * maxC + b * minC\n",
    "    if tot <= c_sum:\n",
    "        break\n",
    "    a -= 1\n",
    "print(a,b, tot)\n",
    "c_sum"
   ]
  },
  {
   "cell_type": "code",
   "execution_count": 40,
   "id": "16e372de",
   "metadata": {},
   "outputs": [
    {
     "data": {
      "image/png": "[encoded data removed]",
      "text/plain": [
       "<Figure size 432x288 with 1 Axes>"
      ]
     },
     "metadata": {
      "needs_background": "light"
     },
     "output_type": "display_data"
    },
    {
     "data": {
      "text/plain": [
       "61.146818425201715"
      ]
     },
     "execution_count": 40,
     "metadata": {},
     "output_type": "execute_result"
    }
   ],
   "source": [
    "from scipy.stats import skewnorm\n",
    "import matplotlib.pyplot as plt\n",
    "\n",
    "numValues = total_sec\n",
    "skewness = -5   #Negative values are left skewed, positive values are right skewed.\n",
    "\n",
    "randomR = skewnorm.rvs(a = skewness,loc=maxR, size=numValues)  #Skewnorm function\n",
    "\n",
    "randomR = randomR - min(randomR)   #Shift the set so the minimum value is equal to zero.\n",
    "randomR = randomR / max(randomR)      #Standadize all the vlues between 0 and 1. \n",
    "randomR = randomR * maxR         #Multiply the standardized values by the maximum value.\n",
    "randomR = randomR + minR\n",
    "\n",
    "#Plot histogram to check skewness\n",
    "plt.hist(randomR,30,density=True, color = 'red', alpha=0.1)\n",
    "plt.show()\n",
    "\n",
    "\n",
    "np.mean(randomR)"
   ]
  },
  {
   "cell_type": "code",
   "execution_count": null,
   "id": "d8c4705a",
   "metadata": {},
   "outputs": [],
   "source": []
  },
  {
   "cell_type": "code",
   "execution_count": null,
   "id": "0639195e",
   "metadata": {},
   "outputs": [],
   "source": []
  }
 ],
 "metadata": {
  "kernelspec": {
   "display_name": "ml",
   "language": "python",
   "name": "ml"
  },
  "language_info": {
   "codemirror_mode": {
    "name": "ipython",
    "version": 3
   },
   "file_extension": ".py",
   "mimetype": "text/x-python",
   "name": "python",
   "nbconvert_exporter": "python",
   "pygments_lexer": "ipython3",
   "version": "3.9.2"
  }
 },
 "nbformat": 4,
 "nbformat_minor": 5
}
