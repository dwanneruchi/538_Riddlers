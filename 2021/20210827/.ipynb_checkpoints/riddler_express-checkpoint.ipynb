{
 "cells": [
  {
   "cell_type": "markdown",
   "id": "a9d89157",
   "metadata": {},
   "source": [
    "### Riddler Express\n",
    "\n",
    "You and your two best friends are in a three-person league, drafting just three positions each for your teams: quarterback, running back and wide receiver. Yes, this is a simplified version of fantasy football.\n",
    "\n",
    "The following table shows the top three athletes in each position, as well as the number of fantasy points they are expected to earn over the course of the season. You and your friends must each select exactly one player from each position.\n",
    "\n",
    "The draft is a “snake draft.” If person A drafts first, B drafts second and C drafts third, then the order of the picks is as follows: A-B-C-C-B-A-A-B-C.\n",
    "\n",
    "Your friends — being the kind people that they are — agree that you can choose your pick number. Which draft position should you choose to maximize your expected fantasy score?\n",
    "\n",
    "### Assumptions:\n",
    "\n",
    "- I will start by assuming everyone will take the top person available on the board. \n",
    "\n",
    "- Assume I am p1"
   ]
  },
  {
   "cell_type": "code",
   "execution_count": 1,
   "id": "fa5a21f2",
   "metadata": {},
   "outputs": [
    {
     "name": "stdout",
     "output_type": "stream",
     "text": [
      "('qb', 400)\n",
      "('qb', 350)\n",
      "('qb', 300)\n",
      "('rb', 300)\n",
      "('wr', 250)\n",
      "('rb', 225)\n",
      "('wr', 225)\n",
      "('rb', 200)\n",
      "('wr', 175)\n"
     ]
    }
   ],
   "source": [
    "from operator import itemgetter\n",
    "\n",
    "# data, inspired by fluent python ch 7\n",
    "data = [\n",
    "    ('qb', 400),\n",
    "    ('qb', 350),\n",
    "    ('qb', 300),\n",
    "    ('rb', 300),\n",
    "    ('rb', 225),\n",
    "    ('rb', 200),\n",
    "    ('wr', 250),\n",
    "    ('wr', 225),\n",
    "    ('wr', 175),\n",
    "]\n",
    "\n",
    "# use itemgetter to sort list of tuples based on points\n",
    "for player in sorted(data, key = itemgetter(1), reverse = True):\n",
    "    print(player)\n"
   ]
  },
  {
   "cell_type": "markdown",
   "id": "b8ea6793",
   "metadata": {},
   "source": [
    "### If I Pick First ..\n",
    "\n",
    "This actually doesn't work...ignores strategy. \n",
    "\n",
    "need to add logic in for \"don't take a position if it is the last unless you have no other choice\""
   ]
  },
  {
   "cell_type": "code",
   "execution_count": 16,
   "id": "8b6da095",
   "metadata": {},
   "outputs": [
    {
     "name": "stdout",
     "output_type": "stream",
     "text": [
      "p1 had a total score of 850\n",
      "Picks were: {'qb': 400, 'rb': 225, 'wr': 225}\n",
      "p2 had a total score of 800\n",
      "Picks were: {'qb': 350, 'wr': 250, 'rb': 200}\n",
      "p3 had a total score of 775\n",
      "Picks were: {'qb': 300, 'rb': 300, 'wr': 175}\n"
     ]
    }
   ],
   "source": [
    "# data, inspired by fluent python ch 7\n",
    "data = [\n",
    "    ('qb', 400),\n",
    "    ('qb', 350),\n",
    "    ('qb', 300),\n",
    "    ('rb', 300),\n",
    "    ('rb', 225),\n",
    "    ('rb', 200),\n",
    "    ('wr', 250),\n",
    "    ('wr', 225),\n",
    "    ('wr', 175),\n",
    "]\n",
    "\n",
    "# dict of picks\n",
    "p1, p2, p3 = {'picker': 'p1'}, {'picker': 'p2'}, {'picker': 'p3'}\n",
    "\n",
    "# build order:\n",
    "picks = [p1,p2,p3]\n",
    "order = picks + picks[::-1] + picks\n",
    "\n",
    "for pick in order:\n",
    "    for player in sorted(data, key = itemgetter(1), reverse = True):\n",
    "        \n",
    "        # if we have this position already, move to the next\n",
    "        if player[0] in pick.keys():\n",
    "            next\n",
    "        \n",
    "        # otherwise, add to dict of picks, remove from data \n",
    "        pick[player[0]] = player[1]\n",
    "        data.remove(player)\n",
    "        \n",
    "        break\n",
    "\n",
    "# Final Scores:\n",
    "for picker in [p1,p2,p3]:\n",
    "    person = picker['picker']\n",
    "    picker.pop('picker', None)\n",
    "    print(f\"{person} had a total score of {sum(picker.values())}\")\n",
    "    print(f\"Picks were: {picker}\")"
   ]
  },
  {
   "cell_type": "markdown",
   "id": "d4298dd4",
   "metadata": {},
   "source": [
    "### Picking 3rd Makes Most Sense:  \n",
    "\n",
    "Able to hold off on taking a QB until last pick. \n",
    "\n",
    "Strategy:\n",
    "\n",
    "- let say we have `p2-p3-p1`\n",
    "- Round 1: \n",
    "    - p2 - qb, 400\n",
    "    - p3 - qb, 350\n",
    "    - p1 - rb, 300 (since p2 and p3 can't take the 300 qb)\n",
    "- round 2:\n",
    "    - p1 - wr, 250\n",
    "    - p3 - wr 225\n",
    "    - p2 - rb, 225\n",
    "- Round 3:\n",
    "    - p2 - wr - 175\n",
    "    - p3 - rb, 200\n",
    "    - p1 - qb, 300\n",
    "    \n",
    "3rd pick -> P1 final score: 850\n",
    "\n",
    "1st pick -> P2 final score: 800\n",
    "\n",
    "2nd pick -> P3 final score: 775"
   ]
  }
 ],
 "metadata": {
  "kernelspec": {
   "display_name": "fte",
   "language": "python",
   "name": "fte"
  },
  "language_info": {
   "codemirror_mode": {
    "name": "ipython",
    "version": 3
   },
   "file_extension": ".py",
   "mimetype": "text/x-python",
   "name": "python",
   "nbconvert_exporter": "python",
   "pygments_lexer": "ipython3",
   "version": "3.8.2"
  }
 },
 "nbformat": 4,
 "nbformat_minor": 5
}
