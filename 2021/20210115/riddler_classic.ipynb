{
 "cells": [
  {
   "cell_type": "markdown",
   "metadata": {},
   "source": [
    "### Riddler Classic: \n",
    "\n",
    "https://fivethirtyeight.com/features/can-you-hunt-for-the-mysterious-numbers/\n",
    "\n",
    "This one is basically an extreme sudoku. \n",
    "\n",
    "#### Overview of the Problem:\n",
    "\n",
    "- There are 24 total squares to fill with digits `1-9`. A brute-force solution would be searching through `9^24` possible matrices. \n",
    "\n",
    "To solve this I am going to avoid brute-force and break the problem into steps.\n",
    "\n",
    "#### Step 1: \n",
    "\n",
    "Find possible combinations for each row. Each row is `9^3` possibilities (`729` combinations). \n",
    "\n",
    "#### Step 2:\n",
    "\n",
    "I can then take the possibilities for each row and build out every corresponding matrix. This should be much less than `9^24` matrices. \n",
    "\n",
    "#### Step 3:\n",
    "\n",
    "Check that the bottom row products of each column for a matric match."
   ]
  },
  {
   "cell_type": "code",
   "execution_count": 1,
   "metadata": {},
   "outputs": [],
   "source": [
    "from collections import defaultdict\n",
    "import itertools as it\n",
    "import numpy as np\n",
    "\n",
    "# input data\n",
    "right_solutions = [294,216,135,98,112,84,245,40]\n",
    "bottom_solutions = [8890560,156800,55566]"
   ]
  },
  {
   "cell_type": "code",
   "execution_count": 2,
   "metadata": {},
   "outputs": [],
   "source": [
    "def columnSolver(solution):\n",
    "    \"\"\"Check all 729 combinations of rows against solution\"\"\"\n",
    "    solList = []\n",
    "    for digits in it.product(range(1,10), range(1,10), range(1,10)):\n",
    "        if np.prod(digits) == solution:\n",
    "            solList.append(list(digits))\n",
    "        \n",
    "    return solList\n",
    "\n",
    "\n",
    "def rowSolver(matrix, row_vals):\n",
    "    \"\"\"Determine if input matrix matches the row values\"\"\"\n",
    "    for i, sol in enumerate(row_vals):\n",
    "        if np.prod(matrix[:,i]) == sol:\n",
    "            continue\n",
    "        else:\n",
    "            return False\n",
    "    return True"
   ]
  },
  {
   "cell_type": "markdown",
   "metadata": {},
   "source": [
    "#### Testing Functions Above: \n",
    "\n",
    "columnSolver:\n",
    "- 294 only has 3 possibilities\n",
    "\n",
    "rowSolver:\n",
    "- test case:\n",
    "``` \n",
    "1  2  3\n",
    "2  3  5\n",
    "3  7  6\n",
    "```\n",
    "- should return `True` for `[6, 42, 90]`"
   ]
  },
  {
   "cell_type": "code",
   "execution_count": 3,
   "metadata": {},
   "outputs": [],
   "source": [
    "input_matrix = np.asarray([[1,2,3], [2,3,5], [3,7,6]])\n",
    "input_row = [6,42,90]\n",
    "assert(rowSolver(input_matrix, input_row) == True)"
   ]
  },
  {
   "cell_type": "markdown",
   "metadata": {},
   "source": [
    "### Solve Problem: \n",
    "\n",
    "#### Step 1: \n",
    "\n",
    "Build out the various matrices. The problem drops from `9^24` combinations to `2,729,376` combinations"
   ]
  },
  {
   "cell_type": "code",
   "execution_count": 4,
   "metadata": {},
   "outputs": [
    {
     "name": "stdout",
     "output_type": "stream",
     "text": [
      "2729376\n"
     ]
    }
   ],
   "source": [
    "# our dict will store list of possible solutions for each row\n",
    "solutionsRow = defaultdict(list)\n",
    "\n",
    "for i, solve in enumerate(right_solutions):\n",
    "    solutionsRow[i+1] = columnSolver(solve)\n",
    "\n",
    "# output total combinations of matrices we expect\n",
    "val = 1\n",
    "for k, v in solutionsRow.items():\n",
    "    val *= len(v)\n",
    "print(val) # total matrices to build out."
   ]
  },
  {
   "cell_type": "markdown",
   "metadata": {},
   "source": [
    "#### Step 2 :Build every matrix possibility\n",
    "\n",
    "Helpful link for this step: https://stackoverflow.com/questions/38721847/how-to-generate-all-combination-from-values-in-dict-of-lists-in-python\n"
   ]
  },
  {
   "cell_type": "code",
   "execution_count": 5,
   "metadata": {},
   "outputs": [],
   "source": [
    "# sort the dictionary\n",
    "rowNames = sorted(solutionsRow)\n",
    "\n",
    "# build out all combinations of dictionaries using the .product() method\n",
    "combinations = it.product(*(solutionsRow[Name] for Name in rowNames))\n",
    "\n",
    "# build a list \n",
    "possible_sols = list(combinations)\n",
    "\n",
    "# assert this matches our calculation above\n",
    "assert(val == len(possible_sols))"
   ]
  },
  {
   "cell_type": "markdown",
   "metadata": {},
   "source": [
    "#### Step 3: Check which matrix matches\n",
    "\n",
    "Check that the product of columns for a matrix match. If they don't then break out of loop and move to the next matrix."
   ]
  },
  {
   "cell_type": "code",
   "execution_count": 6,
   "metadata": {},
   "outputs": [
    {
     "name": "stdout",
     "output_type": "stream",
     "text": [
      "On step 0 with 0 possible solutions found\n",
      "On step 500000 with 0 possible solutions found\n",
      "On step 1000000 with 0 possible solutions found\n",
      "On step 1500000 with 0 possible solutions found\n",
      "On step 2000000 with 0 possible solutions found\n",
      "On step 2500000 with 0 possible solutions found\n",
      "[[7 7 6]\n",
      " [9 8 3]\n",
      " [9 5 3]\n",
      " [7 2 7]\n",
      " [8 2 7]\n",
      " [7 4 3]\n",
      " [5 7 7]\n",
      " [8 5 1]]\n"
     ]
    }
   ],
   "source": [
    "# now jconvert each list of lists into a matrix of size 8 x 3 for each value in the list\n",
    "array_list = []\n",
    "for _ in possible_sols:\n",
    "    array_list.append(np.array(_))\n",
    "\n",
    "# store solutions\n",
    "possible_solutions = []\n",
    "\n",
    "# iterate through each matrix\n",
    "for i, solutions in enumerate(array_list):\n",
    "    if i % 500000 == 0:\n",
    "        print(f'On step {i} with {len(possible_solutions)} possible solutions found')\n",
    "    if rowSolver(solutions, bottom_solutions):\n",
    "        possible_solutions.append(solutions)\n",
    "\n",
    "# Should only be 1 solution\n",
    "assert(len(possible_solutions) == 1)\n",
    "\n",
    "print(possible_solutions[0])"
   ]
  },
  {
   "cell_type": "markdown",
   "metadata": {},
   "source": [
    "### Solution: \n",
    "\n",
    "Solution is below: \n",
    "\n",
    "```\n",
    "7 7 6\n",
    "9 8 3\n",
    "9 5 3\n",
    "7 2 7\n",
    "8 2 7\n",
    "7 4 3\n",
    "5 7 7\n",
    "8 5 1\n",
    "```"
   ]
  }
 ],
 "metadata": {
  "kernelspec": {
   "display_name": "Python 3.8",
   "language": "python",
   "name": "other-env"
  },
  "language_info": {
   "codemirror_mode": {
    "name": "ipython",
    "version": 3
   },
   "file_extension": ".py",
   "mimetype": "text/x-python",
   "name": "python",
   "nbconvert_exporter": "python",
   "pygments_lexer": "ipython3",
   "version": "3.8.5"
  }
 },
 "nbformat": 4,
 "nbformat_minor": 4
}
