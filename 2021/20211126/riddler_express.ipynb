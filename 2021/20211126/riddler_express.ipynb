{
 "cells": [
  {
   "cell_type": "markdown",
   "id": "3dd3be98",
   "metadata": {},
   "source": [
    "### Riddler Express\n",
    "\n",
    "On the Food Network’s latest game show, Cranberries or Bust, you have a choice between two doors: A and B. One door has a lifetime supply of cranberry sauce behind it, while the other door has absolutely nothing behind it. And boy, do you love cranberry sauce.\n",
    "\n",
    "Of course, there’s a twist. The host presents you with a coin with two sides, marked A and B, which correspond to each door. The host tells you that the coin is weighted in favor of the cranberry door — without telling you which door that is — and that door’s letter will turn up 60 percent of the time. For example, if the sauce is behind door A, then the coin will turn up A 60 percent of the time and B the remaining 40 percent of the time.\n",
    "\n",
    "You can flip the coin twice, after which you must make your selection. Assuming you optimize your strategy, what are your chances of choosing the door with the cranberry sauce?\n",
    "\n",
    "### Analytical Solution: \n",
    "\n",
    "We have `2^2` possibilities:`{T-T,T-H,H-T,HH}`\n",
    "\n",
    "Breaking it down: assume `h` indicates the cranberry \n",
    "- `T-T`: 0.16\n",
    "- `T-H`: 0.24\n",
    "- `H-T`: 0.24\n",
    "- `H-H`: 0.36\n",
    "\n",
    "Optimizing strategy makes me think we should be consdidering conditional probability. However, we assume each coin flip is independent of the next (proven below):\n",
    "\n",
    "What is the likelihood of a heads if we already flipped a heads? \n",
    "\n",
    "- `P(H|H) = P(H & H) / P(H) = 0.36 / 0.6 = 0.6`\n",
    "  \n",
    "What is the likelihood of a tails if we already flipped a tails? \n",
    "\n",
    "- `P(T|T) = P(T & T) / P(T) = 0.16 / 0.4 = 0.4`\n",
    "\n",
    "#### Using Conditional Probability: \n",
    "\n",
    "We can determine likelihood that a double flip would indicate a win. \n",
    "\n",
    "- `W` = win\n",
    "- `D` = double-flip\n",
    "\n",
    "- P(W|D) = likelihood that a double flip is a win\n",
    "- P(W and D) = likelihood of win with two flips = flipping two heads = 0.6 * 0.6 = 0.36\n",
    "- P(D) = Likelihood of any double flip (accounting for TT and HH)\n",
    "\n",
    "$P(W | D) = \\frac{P(W and D)}{P(D)} = \\frac{0.36}{0.16 + 0.36} = 0.692 $\n",
    "\n",
    "The above shows that if we flip a double, we have a likelihood of .692 of it being the cranberry side. \n",
    "\n",
    "What about the other? Well if if we flip each side in a sequence we have a 50% chance of choosing the proper side. \n",
    "\n",
    "Finally, we can solve for a win: \n",
    "\n",
    "$P(W) = P(W | D) * P(D) + P(W | S) * P(S)$\n",
    "\n",
    "$P(W) = 0.692 * 0.52 + 0.5 * 0.48 = 0.599$"
   ]
  },
  {
   "cell_type": "markdown",
   "id": "d26d4220",
   "metadata": {},
   "source": [
    "#### Extra credit: Instead of two flips, what if you are allowed three or four flips? Now what are your chances of choosing the door with the cranberry sauce?\n",
    "\n",
    "We have `2^3` possibilities:`{T-T-T,T-H-H,T-T-H, T-H-T, H-T-T, H-H-T, H-T-H, H-H-H}`\n",
    "\n",
    "Breaking it down: assume `h` indicates the cranberry \n",
    "- `T-T-T`\n",
    "- `T-H-H`\n",
    "- `T-T-H`\n",
    "- `T-H-T`\n",
    "- `H-T-T`\n",
    "- `H-H-T`\n",
    "- `H-T-H`\n",
    "- `H-H-H`\n",
    "\n",
    "Just going to solve this analytically in Python"
   ]
  },
  {
   "cell_type": "code",
   "execution_count": 1,
   "id": "de7b82c3",
   "metadata": {},
   "outputs": [
    {
     "name": "stdout",
     "output_type": "stream",
     "text": [
      "1.0\n",
      "Solution with 3 coins: 0.648\n"
     ]
    }
   ],
   "source": [
    "# General Probs\n",
    "p_ttt = 0.4**3\n",
    "p_hhh = 0.6**3\n",
    "p_tth = (0.4**2) * 0.6 # 3 of these\n",
    "p_hht = (0.6**2) * 0.4 # 3 of these\n",
    "\n",
    "print(3*p_hht + 3*p_tth + p_ttt + p_hhh)\n",
    "\n",
    "# Conditionals: \n",
    "p_win_two = 3*p_hht / (3*p_hht + 3*p_tth)\n",
    "p_win_three = p_hhh / (p_hhh + p_ttt)\n",
    "\n",
    "# Solving: Prob win 2 * likelihood of 2 + prob win 3 * likelihood of 3\n",
    "s = round(p_win_two * (3*p_hht + 3*p_tth) + p_win_three * (p_hhh + p_ttt),5)\n",
    "print(f\"Solution with 3 coins: {s}\")"
   ]
  },
  {
   "cell_type": "markdown",
   "id": "46f9b7c6",
   "metadata": {},
   "source": [
    "### Solving with Numpy:\n",
    "\n",
    "The strategy will be to choose the door based on which coin flips the most.\n",
    "\n",
    "Two-sided:\n",
    "- If we flip the same side of coins, then go for it.\n",
    "- If we flip different coins, then we guess.\n",
    "\n",
    "Three-sided:\n",
    "- If we flip 0-0-1, then we would choose door 0. \n",
    "- If we flip 1-0-1, then we choose door 1. "
   ]
  },
  {
   "cell_type": "code",
   "execution_count": 2,
   "id": "d62b92cc",
   "metadata": {},
   "outputs": [],
   "source": [
    "import numpy as np "
   ]
  },
  {
   "cell_type": "code",
   "execution_count": 3,
   "id": "70432571",
   "metadata": {},
   "outputs": [
    {
     "name": "stdout",
     "output_type": "stream",
     "text": [
      "For 10000 games and flipping 2 coins the likelihood was: 0.5999\n",
      "For 100000 games and flipping 2 coins the likelihood was: 0.5980\n",
      "For 1000000 games and flipping 2 coins the likelihood was: 0.6001\n",
      "For 10000000 games and flipping 2 coins the likelihood was: 0.5999\n"
     ]
    }
   ],
   "source": [
    "# 2 coins\n",
    "# door is always 1\n",
    "\n",
    "np.random.seed(42)\n",
    "\n",
    "p = 0.6 # links to 1\n",
    "coins = 2\n",
    "\n",
    "for n in [10_000, 100_000, 1_000_000, 10_000_000]:\n",
    "\n",
    "    # simulate n games\n",
    "    arr = np.random.binomial(1, p, (n,coins))\n",
    "\n",
    "    # if coins are the same then choose door 1, else guess randomly (50%)\n",
    "    # annoyingly, np.where won't \n",
    "    w_choice = np.sum((arr[:,0] == 1) & (arr[:,1] == 1))\n",
    "    l_choice = np.sum((arr[:,0] == 0) & (arr[:,1] == 0))\n",
    "    \n",
    "    # np.random.choice(2, replace = True)\n",
    "    necessary_size = n - np.sum(w_choice) - np.sum(l_choice)\n",
    "    \n",
    "    # randomly guess on H-T, T-H\n",
    "    random_choice = np.random.choice(2, necessary_size)\n",
    "\n",
    "    print(f\"For {n} games and flipping {coins} coins the likelihood was: {(np.sum(w_choice) + np.sum(random_choice)) / n:.4f}\")"
   ]
  },
  {
   "cell_type": "code",
   "execution_count": 4,
   "id": "b38f786b",
   "metadata": {},
   "outputs": [
    {
     "name": "stdout",
     "output_type": "stream",
     "text": [
      "For 10000 games and flipping 3 coins the likelihood was: 0.6504\n",
      "For 100000 games and flipping 3 coins the likelihood was: 0.6461\n",
      "For 1000000 games and flipping 3 coins the likelihood was: 0.6484\n",
      "For 10000000 games and flipping 3 coins the likelihood was: 0.6480\n"
     ]
    }
   ],
   "source": [
    "# 3 coins:\n",
    "# door is always 1\n",
    "np.random.seed(42)\n",
    "p = 0.6 # links to 1\n",
    "coins = 3\n",
    "\n",
    "for n in [10_000, 100_000, 1_000_000, 10_000_000]:\n",
    "\n",
    "    # simulate n games\n",
    "    arr = np.random.binomial(1, p, (n,coins))\n",
    "\n",
    "    # strategy: sum across coins\n",
    "    sum_coins = np.sum(arr, axis = 1)\n",
    "\n",
    "    # if coins >= 2 then choose door 1, else 0\n",
    "    choice = np.where(sum_coins >= (coins-1), 1, 0)\n",
    "\n",
    "    print(f\"For {n} games and flipping {coins} coins the likelihood was: {np.sum(choice) / n:.4f}\")"
   ]
  },
  {
   "cell_type": "markdown",
   "id": "13e22f9f",
   "metadata": {},
   "source": [
    "### Flip 4 coins\n",
    "\n",
    "Logic: \n",
    "- 3 >= of same coins means we guess 1\n",
    "    - We can back into this by finding a sum >= 3, which would be a correct guess (w_choice)\n",
    "    - Or a sum <= 1, which would be an incorrect guess (l_choice)\n",
    "\n",
    "- otherwise we flip to determine which door to choose"
   ]
  },
  {
   "cell_type": "code",
   "execution_count": 5,
   "id": "f59e24af",
   "metadata": {},
   "outputs": [
    {
     "name": "stdout",
     "output_type": "stream",
     "text": [
      "For 10000 games and flipping 4 coins the likelihood was: 0.6447\n",
      "For 100000 games and flipping 4 coins the likelihood was: 0.6469\n",
      "For 1000000 games and flipping 4 coins the likelihood was: 0.6479\n",
      "For 10000000 games and flipping 4 coins the likelihood was: 0.6479\n"
     ]
    }
   ],
   "source": [
    "# 2 coins\n",
    "# door is always 1\n",
    "\n",
    "np.random.seed(42)\n",
    "\n",
    "p = 0.6 # links to 1\n",
    "coins = 4\n",
    "\n",
    "for n in [10_000, 100_000, 1_000_000, 10_000_000]:\n",
    "\n",
    "    # simulate n games\n",
    "    arr = np.random.binomial(1, p, (n,coins))\n",
    "\n",
    "    # if coins are the same then choose door 1\n",
    "    # we are correct when all flips are 1 (w_choice), otherwise we lost (l_choice)\n",
    "    # annoyingly, np.where won't \n",
    "    w_choice = np.sum(np.sum(arr, axis = 1) >= 3)\n",
    "    l_choice = np.sum(np.sum(arr, axis = 1) <= 1)\n",
    "    \n",
    "    # guess randomly (50%)\n",
    "    # np.random.choice(2, replace = True)\n",
    "    necessary_size = n - w_choice - l_choice\n",
    "    \n",
    "    # randomly guess on H-T, T-H\n",
    "    random_choice = np.random.choice(2, necessary_size)\n",
    "\n",
    "    print(f\"For {n} games and flipping {coins} coins the likelihood was: {(w_choice + np.sum(random_choice)) / n:.4f}\")"
   ]
  },
  {
   "cell_type": "markdown",
   "id": "3aa1d640",
   "metadata": {},
   "source": [
    "### 5 Flips\n"
   ]
  },
  {
   "cell_type": "code",
   "execution_count": 8,
   "id": "d2198ea9",
   "metadata": {},
   "outputs": [
    {
     "name": "stdout",
     "output_type": "stream",
     "text": [
      "For 10000 games and flipping 5 coins the likelihood was: 0.6826\n",
      "For 100000 games and flipping 5 coins the likelihood was: 0.6799\n",
      "For 1000000 games and flipping 5 coins the likelihood was: 0.6827\n",
      "For 10000000 games and flipping 5 coins the likelihood was: 0.6826\n"
     ]
    }
   ],
   "source": [
    "# 5 coins:\n",
    "# door is always 1\n",
    "np.random.seed(42)\n",
    "p = 0.6 # links to 1\n",
    "coins = 5\n",
    "\n",
    "for n in [10_000, 100_000, 1_000_000, 10_000_000]:\n",
    "\n",
    "    # simulate n games\n",
    "    arr = np.random.binomial(1, p, (n,coins))\n",
    "\n",
    "    # strategy: sum across coins\n",
    "    sum_coins = np.sum(arr, axis = 1)\n",
    "\n",
    "    # if coins >= 2 then choose door 1, else 0\n",
    "    choice = np.where(sum_coins >= 3, 1, 0)\n",
    "\n",
    "    print(f\"For {n} games and flipping {coins} coins the likelihood was: {np.sum(choice) / n:.4f}\")"
   ]
  }
 ],
 "metadata": {
  "kernelspec": {
   "display_name": "fte",
   "language": "python",
   "name": "fte"
  },
  "language_info": {
   "codemirror_mode": {
    "name": "ipython",
    "version": 3
   },
   "file_extension": ".py",
   "mimetype": "text/x-python",
   "name": "python",
   "nbconvert_exporter": "python",
   "pygments_lexer": "ipython3",
   "version": "3.8.9"
  }
 },
 "nbformat": 4,
 "nbformat_minor": 5
}
