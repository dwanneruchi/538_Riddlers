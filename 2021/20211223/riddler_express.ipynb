{
 "cells": [
  {
   "cell_type": "markdown",
   "id": "346bdd46",
   "metadata": {},
   "source": [
    "### Riddler Express \n",
    "\n",
    "Reader Betts Slingluff enjoys holiday cryptarithms with the family and suggested that now was a good time for such a puzzle on The Riddler. This week’s Express is a spin on a cryptarithm originally by Frank Mrazik:\n",
    "\n",
    "A cryptarithm. \n",
    "```\n",
    "     HAPPY \n",
    "+ HOLIDAYS \n",
    "= HOHOHOHO\n",
    "```\n",
    "\n",
    "As with any cryptarithm, each letter represents one of the digits from 0 to 9, and different letters represent different digits.\n",
    "\n",
    "The catch? This puzzle has two possible solutions — that is, two distinct sets of letter-to-number assignments. Can you find both solutions?\n",
    "\n",
    "\n",
    "### Solve Approach \n",
    "\n",
    "I tried this one by hand, but at the end of the day it was easier to use Python to build an encoder and a decoder with varying sequences of digits. \n",
    "\n",
    "Approach:\n",
    "\n",
    "- find the set of characters (we have 9)\n",
    "- build all permutations of digits 0-9 (this is going to be `10! = 3628800`) using `permutations` from `itertools`.\n",
    "    - This is stored as a generator and won't take up much space. \n",
    "- build a mapping of `char:integer` in `encoder` function based on sequence of digits (chars keep static order)\n",
    "    - Example: `{'S': '0', 'I': '1', 'H': '2', 'D': '3', 'O': '4', 'A': '5', 'L': '6', 'P': '7', 'Y': '8'}`\n",
    "- `decoderCheck` converts a string into its integer representation.\n",
    "    - It then checks for equality of sum of addend strings to the sum string. "
   ]
  },
  {
   "cell_type": "code",
   "execution_count": 1,
   "id": "2ba8ee9c",
   "metadata": {},
   "outputs": [
    {
     "name": "stdout",
     "output_type": "stream",
     "text": [
      "3628800\n",
      "{'S': '0', 'I': '1', 'H': '2', 'D': '3', 'O': '4', 'A': '5', 'L': '6', 'P': '7', 'Y': '8'}\n"
     ]
    },
    {
     "data": {
      "text/plain": [
       "False"
      ]
     },
     "execution_count": 1,
     "metadata": {},
     "output_type": "execute_result"
    }
   ],
   "source": [
    "from itertools import permutations\n",
    "import time\n",
    "\n",
    "def encoder(input_str, input_num):\n",
    "    \"\"\"Zip together & generate an encoder dict\"\"\"\n",
    "    return {s[0]: s[1] for s in zip(input_str, input_num)}\n",
    "\n",
    "\n",
    "def decoderCheck(mapping, add1, add2, sum_tot):\n",
    "    \"\"\"build out the integer representation of a string based on dictionary of char-> int mappings\"\"\"\n",
    "    a1 = int(''.join([mapping[c] for c in add1]))\n",
    "    a2 = int(''.join([mapping[c] for c in add2]))\n",
    "    s = int(''.join([mapping[c] for c in sum_tot]))\n",
    "    return (a1 + a2) == s\n",
    "\n",
    "### A little test: \n",
    "str_v = \"HAPPYHOLIDAYSHOHOHOHO\"\n",
    "order_str = set(str_v)\n",
    "\n",
    "# pass in input number (this will shift until a match is found)\n",
    "num_v = '0123456789'\n",
    "\n",
    "# building all permutations\n",
    "perms = permutations(num_v, 9)\n",
    "print(len(list(perms)))\n",
    "\n",
    "# quick test run on just the num_v\n",
    "mapping = encoder(order_str, num_v)\n",
    "print(mapping)\n",
    "decoderCheck(mapping, 'HAPPY', 'HOLIDAYS', 'HOHOHOHO')"
   ]
  },
  {
   "cell_type": "code",
   "execution_count": 2,
   "id": "bade73ba",
   "metadata": {},
   "outputs": [
    {
     "name": "stdout",
     "output_type": "stream",
     "text": [
      "Found a match!\n",
      "Mapping: {'S': '9', 'I': '2', 'H': '8', 'D': '3', 'O': '0', 'A': '4', 'L': '7', 'P': '6', 'Y': '1'}\n",
      "Found a match!\n",
      "Mapping: {'S': '9', 'I': '4', 'H': '6', 'D': '7', 'O': '1', 'A': '8', 'L': '5', 'P': '3', 'Y': '2'}\n",
      "Exhausted generator\n",
      "Total time: 7.911\n"
     ]
    }
   ],
   "source": [
    "# large while loop -> only 3.6 million checks so run until exhausted for multiple solutions\n",
    "start = time.time()\n",
    "perms = permutations(num_v, 9)\n",
    "matches = []\n",
    "while True:\n",
    "    \n",
    "    # take next sequence of digits from generator\n",
    "    try:\n",
    "        digit_order = next(perms)\n",
    "    except StopIteration:\n",
    "        print(\"Exhausted generator\")\n",
    "        break\n",
    "    \n",
    "    # build char-digit mapping:\n",
    "    mapping = encoder(order_str, digit_order)\n",
    "\n",
    "    # check if we match\n",
    "    if decoderCheck(mapping, 'HAPPY', 'HOLIDAYS', 'HOHOHOHO'):\n",
    "        print(\"Found a match!\")\n",
    "        print(f\"Mapping: {mapping}\")\n",
    "        matches.append(mapping)\n",
    "print(f\"Total time: {time.time() - start:.3f}\")"
   ]
  },
  {
   "cell_type": "code",
   "execution_count": 3,
   "id": "0e7a83ba",
   "metadata": {},
   "outputs": [
    {
     "name": "stdout",
     "output_type": "stream",
     "text": [
      "Proving mapping: {'S': '9', 'I': '2', 'H': '8', 'D': '3', 'O': '0', 'A': '4', 'L': '7', 'P': '6', 'Y': '1'}\n",
      "Happy becomes 84661, Holidays becomes 80723419, summing to 80808080\n",
      "HOHOHOHO becomes 80808080\n",
      "Proving mapping: {'S': '9', 'I': '4', 'H': '6', 'D': '7', 'O': '1', 'A': '8', 'L': '5', 'P': '3', 'Y': '2'}\n",
      "Happy becomes 68332, Holidays becomes 61547829, summing to 61616161\n",
      "HOHOHOHO becomes 61616161\n"
     ]
    }
   ],
   "source": [
    "def decoderProof(mapping, add1, add2, sum_tot):\n",
    "    \"\"\"Output the integer values of string\"\"\"\n",
    "    a1 = int(''.join([mapping[c] for c in add1]))\n",
    "    a2 = int(''.join([mapping[c] for c in add2]))\n",
    "    s = int(''.join([mapping[c] for c in sum_tot]))\n",
    "    return a1,a2,s\n",
    "\n",
    "for mapping in matches:\n",
    "    print(f\"Proving mapping: {mapping}\")\n",
    "    a1,a2,s = decoderProof(mapping, 'HAPPY', 'HOLIDAYS', 'HOHOHOHO')\n",
    "    \n",
    "    print(f\"Happy becomes {a1}, Holidays becomes {a2}, summing to {a1+a2}\")\n",
    "    print(f\"HOHOHOHO becomes {s}\")"
   ]
  }
 ],
 "metadata": {
  "kernelspec": {
   "display_name": "fte",
   "language": "python",
   "name": "fte"
  },
  "language_info": {
   "codemirror_mode": {
    "name": "ipython",
    "version": 3
   },
   "file_extension": ".py",
   "mimetype": "text/x-python",
   "name": "python",
   "nbconvert_exporter": "python",
   "pygments_lexer": "ipython3",
   "version": "3.8.9"
  }
 },
 "nbformat": 4,
 "nbformat_minor": 5
}
