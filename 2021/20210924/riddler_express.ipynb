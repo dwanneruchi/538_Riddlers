{
 "cells": [
  {
   "cell_type": "markdown",
   "id": "7cceb8b5",
   "metadata": {},
   "source": [
    "### Riddler Express - 2021-09-24\n",
    "\n",
    "While watching batter spread out on my waffle iron, and thinking back to a recent conversation I had with Friend-of-The-Riddler™ Benjamin Dickman, I noticed the following sequence of numbers:\n",
    "\n",
    "`1, 4, 4, 0, 4, 8, 0, 0, 4, 4, 8, …`\n",
    "\n",
    "Now, for the actual riddle: Once you’ve determined the pattern, can you figure out the average value of the entire sequence?"
   ]
  },
  {
   "cell_type": "code",
   "execution_count": 8,
   "id": "e956897f",
   "metadata": {},
   "outputs": [
    {
     "name": "stdout",
     "output_type": "stream",
     "text": [
      "Diff: 3\n",
      "Diff: 0\n",
      "Diff: -4\n",
      "Diff: 4\n",
      "Diff: 4\n",
      "Diff: -8\n",
      "Diff: 0\n",
      "Diff: 4\n",
      "Diff: 0\n",
      "Diff: 4\n",
      "End of list\n"
     ]
    }
   ],
   "source": [
    "our_list = [1, 4, 4, 0, 4, 8, 0, 0, 4, 4, 8]\n",
    "\n",
    "for i, step in enumerate(our_list):\n",
    "    #print(f\"Current val: {step}\")\n",
    "    try:\n",
    "        next_val = our_list[i+1]\n",
    "        #print(f\"Next val: {next_val}\")\n",
    "        diff = next_val - step\n",
    "        print(f\"Diff: {diff}\")\n",
    "    except:\n",
    "        print(\"End of list\")"
   ]
  },
  {
   "cell_type": "code",
   "execution_count": null,
   "id": "ccfddbbe",
   "metadata": {},
   "outputs": [],
   "source": []
  },
  {
   "cell_type": "code",
   "execution_count": null,
   "id": "0df7a185",
   "metadata": {},
   "outputs": [],
   "source": []
  }
 ],
 "metadata": {
  "kernelspec": {
   "display_name": "ml",
   "language": "python",
   "name": "ml"
  },
  "language_info": {
   "codemirror_mode": {
    "name": "ipython",
    "version": 3
   },
   "file_extension": ".py",
   "mimetype": "text/x-python",
   "name": "python",
   "nbconvert_exporter": "python",
   "pygments_lexer": "ipython3",
   "version": "3.9.2"
  }
 },
 "nbformat": 4,
 "nbformat_minor": 5
}
