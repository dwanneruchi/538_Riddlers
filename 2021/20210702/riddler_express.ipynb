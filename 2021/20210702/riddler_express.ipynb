{
 "cells": [
  {
   "cell_type": "markdown",
   "metadata": {},
   "source": [
    "### Riddler Express:\n",
    "\n",
    "There are 200 episodes in a season of Riddler Jeopardy!. The first episode of the season features three brand-new contestants. Each subsequent episode includes a returning champion (the winner of the previous episode) as well as two new challengers.\n",
    "\n",
    "Throughout the season, it so happens that the returning champions are particularly strong, with each one winning five consecutive episodes before being dethroned on the sixth.\n",
    "\n",
    "If you pick a contestant at random from the season, what is the probability that they are a Riddler Jeopardy! champion (meaning they won at least one episode)?\n",
    "\n",
    "### Solving: \n",
    "\n",
    "First sequence is different from the remaining: \n",
    "- Game 1: 3 new people, 1 winner\n",
    "- Games 2-5: 2 new people per game, same winner as above. \n",
    "- Outcome: 1 winner out of `3 + 2*4`\n",
    "\n",
    "Sequence 2 - 40 will follow this pattern:\n",
    "- Each sequence is 5 games\n",
    "- In Game 1 of sequence: Only 2 new people since winner will lose this round, 1 winner\n",
    "- Games 2-5: 2 new people per game, same winner as above\n",
    "- Outcome: 1 winner out of `2 + 2*4`\n",
    "\n",
    "Final solution: Assume we randomly pick\n",
    "\n",
    "- 40 winners\n",
    "- `11 + 39 * (2 + 2 * 4)` = `401`\n",
    "\n",
    "$Likelihood = 40 / 401 = 0.09975$"
   ]
  }
 ],
 "metadata": {
  "kernelspec": {
   "display_name": "Python 3.8",
   "language": "python",
   "name": "other-env"
  },
  "language_info": {
   "codemirror_mode": {
    "name": "ipython",
    "version": 3
   },
   "file_extension": ".py",
   "mimetype": "text/x-python",
   "name": "python",
   "nbconvert_exporter": "python",
   "pygments_lexer": "ipython3",
   "version": "3.8.5"
  }
 },
 "nbformat": 4,
 "nbformat_minor": 4
}
