{
 "cells": [
  {
   "cell_type": "markdown",
   "metadata": {},
   "source": [
    "### Riddler Classic: \n",
    "\n",
    "Today marks the beginning of the Summer Olympics! One of the brand-new events this year is sport climbing, in which competitors try their hands (and feet) at lead climbing, speed climbing and bouldering.\n",
    "\n",
    "Suppose the event’s organizers accidentally forgot to place all the climbing holds on and had to do it last-minute for their 10-meter wall (the regulation height for the purposes of this riddle). Climbers won’t have any trouble moving horizontally along the wall. However, climbers can’t move between holds that are more than 1 meter apart vertically.\n",
    "\n",
    "In a rush, the organizers place climbing holds randomly until there are no vertical gaps between climbing holds (including the bottom and top of the wall). Once they are done placing the holds, how many will there be on average (not including the bottom and top of the wall)?\n",
    "\n",
    "### Solution Thoughts\n",
    "\n",
    "- We don't need to care about horizontal here\n",
    "- General process could be to lean on Monte Carlo to do the following:\n",
    "    - Generate a random float between 0-10\n",
    "    - Add to array\n",
    "    - Sort array\n",
    "    - Check for continuous movement:\n",
    "        - Move left to right -> is there a gap that exceeds 1? use np.diff for speed\n",
    "            - If so, repeat\n",
    "            - If not, there is a clean path\n",
    "            \n",
    "### np.diff:\n",
    "\n",
    "This is vectorized, so much faster than doing something iteration over a list. Documentation: https://numpy.org/doc/stable/reference/generated/numpy.diff.html\n",
    "\n",
    "Example: \n",
    "\n",
    "```python\n",
    ">>> arr = np.asarray([1,2,3,4,5])\n",
    ">>> np.diff(arr)\n",
    "array([1, 1, 1, 1]) # this is what we see\n",
    "```\n",
    "\n",
    "Pretty slick, by default it calculates diff of `element i` and `element i + 1`"
   ]
  },
  {
   "cell_type": "code",
   "execution_count": 1,
   "metadata": {},
   "outputs": [],
   "source": [
    "import numpy as np"
   ]
  },
  {
   "cell_type": "code",
   "execution_count": 2,
   "metadata": {},
   "outputs": [
    {
     "name": "stdout",
     "output_type": "stream",
     "text": [
      "Total placements: 38\n"
     ]
    }
   ],
   "source": [
    "# initialize sequence\n",
    "hold_sequence = np.asarray([])\n",
    "\n",
    "while True:\n",
    "    \n",
    "    # Add new hold\n",
    "    hold_sequence = np.append(hold_sequence, np.random.uniform(0,10))\n",
    "\n",
    "    # Sort array\n",
    "    hold_sequence = np.sort(hold_sequence)\n",
    "\n",
    "    # check if first element <= 1; need to be close enough to start of 0\n",
    "    if hold_sequence[0] > 1:\n",
    "        continue\n",
    "\n",
    "    # check if last element >= 9; need to be close to end of 10 (within 1)\n",
    "    if hold_sequence[-1] < 9:\n",
    "        continue\n",
    "\n",
    "    # check if there are any gaps > 1, indicating a need to go again\n",
    "    if np.max(np.diff(hold_sequence)) > 1:\n",
    "        continue\n",
    "    \n",
    "    # Otherwise we are done\n",
    "    print(f\"Total placements: {len(hold_sequence)}\")\n",
    "    break"
   ]
  },
  {
   "cell_type": "markdown",
   "metadata": {},
   "source": [
    "### Run Sim:\n",
    "\n",
    "I feel dirty always leaning on simulation but alas, it gets us towards an approximate solution. "
   ]
  },
  {
   "cell_type": "code",
   "execution_count": 3,
   "metadata": {},
   "outputs": [
    {
     "name": "stdout",
     "output_type": "stream",
     "text": [
      "100 sims had an average of 44.570 holds\n",
      "1000 sims had an average of 42.354 holds\n",
      "10000 sims had an average of 43.272 holds\n",
      "100000 sims had an average of 42.993 holds\n",
      "1000000 sims had an average of 43.058 holds\n"
     ]
    }
   ],
   "source": [
    "from collections import defaultdict\n",
    "\n",
    "result_dict = defaultdict(int)  # start with 0\n",
    "sim_list = [100, 1_000, 10_000, 100_000, 1_000_000]\n",
    "\n",
    "for sim in sim_list:\n",
    "    for _ in range(sim):\n",
    "\n",
    "        # initialize sequence\n",
    "        hold_sequence = np.asarray([])\n",
    "\n",
    "        while True:\n",
    "\n",
    "            # Add new hold\n",
    "            hold_sequence = np.append(hold_sequence, np.random.uniform(0,10))\n",
    "\n",
    "            # Sort array\n",
    "            hold_sequence = np.sort(hold_sequence)\n",
    "\n",
    "            # check if first element <= 1; need to be close enough to start of 0\n",
    "            if hold_sequence[0] > 1:\n",
    "                continue\n",
    "\n",
    "            # check if last element >= 9; need to be close to end of 10 (within 1)\n",
    "            if hold_sequence[-1] < 9:\n",
    "                continue\n",
    "\n",
    "            # check if there are any gaps > 1, indicating a need to go again\n",
    "            if np.max(np.diff(hold_sequence)) > 1:\n",
    "                continue\n",
    "\n",
    "            # Otherwise we are done & can increment list properly\n",
    "            result_dict[sim] += len(hold_sequence)\n",
    "            break\n",
    "    \n",
    "    # print stats\n",
    "    print(f\"{sim} sims had an average of {result_dict[sim] / sim:.3f} holds\")"
   ]
  }
 ],
 "metadata": {
  "kernelspec": {
   "display_name": "Python 3.8",
   "language": "python",
   "name": "other-env"
  },
  "language_info": {
   "codemirror_mode": {
    "name": "ipython",
    "version": 3
   },
   "file_extension": ".py",
   "mimetype": "text/x-python",
   "name": "python",
   "nbconvert_exporter": "python",
   "pygments_lexer": "ipython3",
   "version": "3.8.5"
  }
 },
 "nbformat": 4,
 "nbformat_minor": 4
}
