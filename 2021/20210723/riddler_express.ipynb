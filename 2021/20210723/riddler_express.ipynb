{
 "cells": [
  {
   "cell_type": "markdown",
   "metadata": {},
   "source": [
    "### Riddler Express:\n",
    "\n",
    "The following 8-by-8 grid is covered with a total of 64 chess pieces, with one piece on each square. You should begin this puzzle at the white bishop on the green square. You can then move from white piece to white piece via the following rules:\n",
    "\n",
    "- If you are on a pawn, move up one space diagonally (left or right).\n",
    "- If you are on a knight, move in an “L” shape — two spaces up, down, left or right, and then one space in a perpendicular direction.\n",
    "- If you are on a bishop, move one space in any diagonal direction.\n",
    "- If you are on a rook, move one space up, down, left or right.\n",
    "- If you are on a queen, move one space in any direction (horizontal, vertical or diagonal).\n",
    "\n",
    "\n",
    "### Photo Of Start:\n",
    "\n",
    "### Coding it up:\n",
    "\n",
    "- to simplify I will just call all `black` pieces `BL` since we need to avoid these. \n",
    "- Kings we land on are `K` -> hitting one indicates a win\n",
    "- Since it is a fixed grid it isn't a big deal to just use a nested list, `numpy` would be better for speed but working with characters in `numpy` is a bit weirder and I just want to keep tabs based on characters.\n",
    "\n",
    "### Dictionary of codes:\n",
    "- K -> King\n",
    "- BL -> black piece\n",
    "- b -> bishop, diagonal\n",
    "- r -> rook, horizontal or vertical\n",
    "- n -> knight, 2/1 process\n",
    "- p -> pawn, diagonal upwards\n",
    "- q -> Queen, single move in any direction "
   ]
  },
  {
   "cell_type": "markdown",
   "metadata": {},
   "source": [
    "### Building Main Board:\n",
    "\n",
    "Lists concern me typically but I won't be overriding anything for game board, just keeping track of starting conditions in a tuple"
   ]
  },
  {
   "cell_type": "code",
   "execution_count": null,
   "metadata": {},
   "outputs": [],
   "source": [
    "from itertools import product\n",
    "\n",
    "game_board = [\n",
    "     ['K', 'BL', 'b', 'BL', 'K', 'r', 'b', 'r'],\n",
    "     ['n', 'r', 'n', 'n', 'p', 'n', 'K', 'b'],\n",
    "     ['r', 'BL', 'n', 'BL', 'p', 'r', 'p', 'r'],\n",
    "     ['BL', 'BL', 'p', 'r', 'BL', 'n', 'BL', 'BL'],\n",
    "     ['n', 'n', 'n', 'b', 'BL', 'b', 'r', 'b'],\n",
    "     ['q', 'r', 'n', 'p', 'BL', 'n', 'r', 'q'],\n",
    "     ['BL', 'BL', 'r', 'p', 'b', 'p', 'b', 'q'],\n",
    "     ['K', 'b', 'q', 'n', 'p', 'r', 'n', 'n']\n",
    "]\n",
    "\n",
    "# set boundaries for future ref\n",
    "min_bound = 0\n",
    "max_bound = 7\n",
    "\n",
    "# start\n",
    "start = (6,4)"
   ]
  },
  {
   "cell_type": "markdown",
   "metadata": {},
   "source": [
    "### Building Movement Functions:\n",
    "\n",
    "Lots of testing in here"
   ]
  },
  {
   "cell_type": "code",
   "execution_count": 2,
   "metadata": {},
   "outputs": [
    {
     "name": "stdout",
     "output_type": "stream",
     "text": [
      "[(5, 3), (5, 5), (7, 3), (7, 5)]\n"
     ]
    },
    {
     "data": {
      "text/plain": [
       "[['_', '_', '_', '_', '_', '_', '_', '_'],\n",
       " ['_', '_', '_', '_', '_', '_', '_', '_'],\n",
       " ['_', '_', '_', '_', '_', '_', '_', '_'],\n",
       " ['_', '_', '_', '_', '_', '_', '_', '_'],\n",
       " ['_', '_', '_', '_', '_', '_', '_', '_'],\n",
       " ['_', '_', '_', 'X', '_', 'X', '_', '_'],\n",
       " ['_', '_', '_', '_', 'B', '_', '_', '_'],\n",
       " ['_', '_', '_', 'X', '_', 'X', '_', '_']]"
      ]
     },
     "execution_count": 2,
     "metadata": {},
     "output_type": "execute_result"
    }
   ],
   "source": [
    "def bishopMove(row, col):\n",
    "    \"\"\"Bishop can move diagonal 1 space\"\"\"\n",
    "    return list(product([row-1, row+1],[col-1, col+1]))\n",
    "\n",
    "# test starting point: we expect 4 likely positions of [7][3], [5][3], [5][5], [7][5]\n",
    "\n",
    "output = bishopMove(6,4)\n",
    "print(output)\n",
    "test_board = [['_'] * 8 for i in range(8)]\n",
    "test_board[6][4] = 'B'\n",
    "for row, col in output:\n",
    "    test_board[row][col] = 'X'\n",
    "test_board"
   ]
  },
  {
   "cell_type": "code",
   "execution_count": 3,
   "metadata": {},
   "outputs": [
    {
     "data": {
      "text/plain": [
       "[['_', '_', '_', '_', '_', '_', '_', '_'],\n",
       " ['_', '_', '_', '_', '_', '_', '_', '_'],\n",
       " ['_', '_', '_', 'X', '_', '_', '_', '_'],\n",
       " ['_', '_', 'X', 'R', 'X', '_', '_', '_'],\n",
       " ['_', '_', '_', 'X', '_', '_', '_', '_'],\n",
       " ['_', '_', '_', '_', '_', '_', '_', '_'],\n",
       " ['_', '_', '_', '_', '_', '_', '_', '_'],\n",
       " ['_', '_', '_', '_', '_', '_', '_', '_']]"
      ]
     },
     "execution_count": 3,
     "metadata": {},
     "output_type": "execute_result"
    }
   ],
   "source": [
    "def rookMove(row, col):\n",
    "    \"\"\"Rook can move horiz/vert 1 space\"\"\"\n",
    "    moves = []\n",
    "    for i,j in [(-1,0), (1,0),(0,-1), (0,1)]:\n",
    "        moves.append((row + i, col + j))\n",
    "    \n",
    "    return moves\n",
    "\n",
    "# test for rook in row 3, col 3 (using 0 index of course): [2][3], [4][3], [3][4], [3][2]\n",
    "output = rookMove(3,3)\n",
    "test_board = [['_'] * 8 for i in range(8)]\n",
    "test_board[3][3] = 'R'\n",
    "for row, col in output:\n",
    "    test_board[row][col] = 'X'\n",
    "test_board"
   ]
  },
  {
   "cell_type": "code",
   "execution_count": 4,
   "metadata": {},
   "outputs": [
    {
     "data": {
      "text/plain": [
       "[['_', '_', '_', '_', '_', '_', '_', '_'],\n",
       " ['_', '_', '_', '_', '_', '_', '_', '_'],\n",
       " ['_', '_', '_', 'X', '_', 'X', '_', '_'],\n",
       " ['_', '_', 'X', '_', '_', '_', 'X', '_'],\n",
       " ['_', '_', '_', '_', 'N', '_', '_', '_'],\n",
       " ['_', '_', 'X', '_', '_', '_', 'X', '_'],\n",
       " ['_', '_', '_', 'X', '_', 'X', '_', '_'],\n",
       " ['_', '_', '_', '_', '_', '_', '_', '_']]"
      ]
     },
     "execution_count": 4,
     "metadata": {},
     "output_type": "execute_result"
    }
   ],
   "source": [
    "def knightMove(row, col):\n",
    "    \"\"\"Knight can move 2, 1 per usual (l-shape) -> 8 total moves\n",
    "    Stack tips: https://stackoverflow.com/questions/19372622/how-do-i-generate-all-of-a-knights-moves\n",
    "    \"\"\"\n",
    "    return list(product([row-1, row+1],[col-2, col+2])) + list(product([row-2,row+2],[col-1,col+1]))\n",
    "\n",
    "# test for knight in row 4, col 4 (using 0 index of course): we should have 8 total moves, confirmed visually on board\n",
    "output = knightMove(4,4)\n",
    "test_board = [['_'] * 8 for i in range(8)]\n",
    "test_board[4][4] = 'N'\n",
    "for row, col in output:\n",
    "    test_board[row][col] = 'X'\n",
    "test_board"
   ]
  },
  {
   "cell_type": "code",
   "execution_count": 5,
   "metadata": {},
   "outputs": [
    {
     "data": {
      "text/plain": [
       "[['_', '_', '_', '_', '_', '_', '_', '_'],\n",
       " ['_', '_', '_', '_', '_', '_', '_', '_'],\n",
       " ['_', '_', '_', '_', '_', '_', '_', '_'],\n",
       " ['_', '_', '_', 'X', '_', 'X', '_', '_'],\n",
       " ['_', '_', '_', '_', 'P', '_', '_', '_'],\n",
       " ['_', '_', '_', '_', '_', '_', '_', '_'],\n",
       " ['_', '_', '_', '_', '_', '_', '_', '_'],\n",
       " ['_', '_', '_', '_', '_', '_', '_', '_']]"
      ]
     },
     "execution_count": 5,
     "metadata": {},
     "output_type": "execute_result"
    }
   ],
   "source": [
    "def pawnMove(row, col):\n",
    "    \"\"\"Pawn can only move up-diagonal\"\"\"\n",
    "    moves = []\n",
    "    for i,j in [(-1,-1), (-1,1)]:\n",
    "        moves.append((row + i, col + j))\n",
    "    \n",
    "    return moves\n",
    "\n",
    "# test starting point: we expect 4 likely positions of [7][3], [5][3], [5][5], [7][5]\n",
    "output = pawnMove(4,4)\n",
    "test_board = [['_'] * 8 for i in range(8)]\n",
    "test_board[4][4] = 'P'\n",
    "for row, col in output:\n",
    "    test_board[row][col] = 'X'\n",
    "test_board"
   ]
  },
  {
   "cell_type": "code",
   "execution_count": 6,
   "metadata": {},
   "outputs": [
    {
     "name": "stdout",
     "output_type": "stream",
     "text": [
      "[(3, 3), (3, 5), (3, 4), (5, 3), (5, 5), (5, 4), (4, 3), (4, 5)]\n"
     ]
    },
    {
     "data": {
      "text/plain": [
       "[['_', '_', '_', '_', '_', '_', '_', '_'],\n",
       " ['_', '_', '_', '_', '_', '_', '_', '_'],\n",
       " ['_', '_', '_', '_', '_', '_', '_', '_'],\n",
       " ['_', '_', '_', 'X', 'X', 'X', '_', '_'],\n",
       " ['_', '_', '_', 'X', 'Q', 'X', '_', '_'],\n",
       " ['_', '_', '_', 'X', 'X', 'X', '_', '_'],\n",
       " ['_', '_', '_', '_', '_', '_', '_', '_'],\n",
       " ['_', '_', '_', '_', '_', '_', '_', '_']]"
      ]
     },
     "execution_count": 6,
     "metadata": {},
     "output_type": "execute_result"
    }
   ],
   "source": [
    "def queenMove(row, col):\n",
    "    \"\"\"Queen can move one space in any direction\"\"\"\n",
    "    all_moves = list(product([row-1, row+1, row],[col-1, col+1, col]))\n",
    "    \n",
    "    return [move for move in all_moves if (move[0] != row or move[1] != col)] # need to ensure some move occurred\n",
    "\n",
    "output = queenMove(4,4)\n",
    "print(output)\n",
    "test_board = [['_'] * 8 for i in range(8)]\n",
    "test_board[4][4] = 'Q'\n",
    "for row, col in output:\n",
    "    test_board[row][col] = 'X'\n",
    "test_board"
   ]
  },
  {
   "cell_type": "markdown",
   "metadata": {},
   "source": [
    "### Moving & Checking Boundaries"
   ]
  },
  {
   "cell_type": "code",
   "execution_count": 39,
   "metadata": {},
   "outputs": [],
   "source": [
    "def move(p, row, col):\n",
    "    \"\"\"Determine current piece & return list of moves (not yet filtered)\"\"\"\n",
    "    if p == 'b':\n",
    "        return bishopMove(row, col)\n",
    "    elif p == 'r':\n",
    "        return rookMove(row, col)\n",
    "    elif p == 'n':\n",
    "        return knightMove(row, col)\n",
    "    elif p == 'p':\n",
    "        return pawnMove(row, col)\n",
    "    elif p == 'q':\n",
    "        return queenMove(row, col)\n",
    "    else:\n",
    "        raise TypeError(\"Not correct piece\")\n",
    "\n",
    "def checkMoveBoundary(moveList):\n",
    "    \"\"\"Check if any move goes outside boundary, if so pass\"\"\"\n",
    "    return [(x,y) for x,y in moveList if x >= 0 and y >= 0 and x < 8 and y < 8]\n",
    "    \n",
    "def checkMoveBlack(moveList, gameBoard):\n",
    "    \"\"\"Check if any move leads to a black piece; remove as option\"\"\"\n",
    "    return [(x,y) for x,y in moveList if gameBoard[x][y] != 'BL']\n",
    "    \n",
    "def checkMoveKing(moveList, gameBoard):\n",
    "    \"\"\"Check if we can move to a king (which results in a win)\"\"\"\n",
    "    try:\n",
    "        return [(x,y) for x,y in moveList if gameBoard[x][y] == 'K'][0]\n",
    "    except:\n",
    "        return False"
   ]
  },
  {
   "cell_type": "code",
   "execution_count": 22,
   "metadata": {},
   "outputs": [],
   "source": [
    "# testing move output\n",
    "assert(move('b', 6, 4) == [(5, 3), (5, 5), (7, 3), (7, 5)])\n",
    "assert(move('q', 4,4) == [(3, 3), (3, 5), (3, 4), (5, 3), (5, 5), (5, 4), (4, 3), (4, 5)])"
   ]
  },
  {
   "cell_type": "code",
   "execution_count": 23,
   "metadata": {},
   "outputs": [
    {
     "name": "stdout",
     "output_type": "stream",
     "text": [
      "[(6, 5), (8, 5), (7, 4), (7, 6)]\n"
     ]
    }
   ],
   "source": [
    "# check boundary for rook at bottom: should only have 3 moves available after passing through boundary\n",
    "rook_moves = move('r', 7, 5)\n",
    "print(rook_moves)\n",
    "assert(checkMoveBoundary(rook_moves) == [(6, 5), (7, 4), (7, 6)])"
   ]
  },
  {
   "cell_type": "code",
   "execution_count": 24,
   "metadata": {},
   "outputs": [
    {
     "name": "stdout",
     "output_type": "stream",
     "text": [
      "[(3, 4), (5, 4), (4, 3), (4, 5)]\n"
     ]
    }
   ],
   "source": [
    "# check boundary for black \n",
    "# let's say we started on rook row 4, col 4. (even though this is a black rook, its a good test)\n",
    "# we expect[(3, 4), (5, 4), (4, 3), (4, 5)]\n",
    "# however, (3, 4) & (5, 4)are both BL on gameboard, so must be removed from consideration\n",
    "rook_moves = move('r', 4, 4)\n",
    "print(rook_moves)\n",
    "assert(checkMoveBlack(rook_moves,game_board) == [(4, 3), (4, 5)])"
   ]
  },
  {
   "cell_type": "code",
   "execution_count": 25,
   "metadata": {},
   "outputs": [
    {
     "name": "stdout",
     "output_type": "stream",
     "text": [
      "[(0, 0), (0, 4), (2, 0), (2, 4), (-1, 1), (-1, 3), (3, 1), (3, 3)]\n"
     ]
    },
    {
     "data": {
      "text/plain": [
       "(0, 0)"
      ]
     },
     "execution_count": 25,
     "metadata": {},
     "output_type": "execute_result"
    }
   ],
   "source": [
    "# Check for King \n",
    "# from the knight in row 1, col 2 we should be able to get to king in two spots; we just need the first \n",
    "knight_moves = move('n', 1, 2)\n",
    "print(knight_moves)\n",
    "checkMoveKing(knight_moves,game_board)"
   ]
  },
  {
   "cell_type": "code",
   "execution_count": 26,
   "metadata": {},
   "outputs": [
    {
     "name": "stdout",
     "output_type": "stream",
     "text": [
      "[(1, 0), (1, 4), (3, 0), (3, 4), (0, 1), (0, 3), (4, 1), (4, 3)]\n"
     ]
    },
    {
     "data": {
      "text/plain": [
       "False"
      ]
     },
     "execution_count": 26,
     "metadata": {},
     "output_type": "execute_result"
    }
   ],
   "source": [
    "# from the knight in row 2, col 2 we should NOT be able to get to king in two spots; we just need the first \n",
    "knight_moves = move('n', 2, 2)\n",
    "print(knight_moves)\n",
    "checkMoveKing(knight_moves,game_board)"
   ]
  },
  {
   "cell_type": "markdown",
   "metadata": {},
   "source": [
    "### Running a Full Game - success\n",
    "\n",
    "- Each move we determine what piece we are on\n",
    "- We then determine eligible moves \n",
    "    - Remove those with boundary issues\n",
    "    - Remove those with black piece\n",
    "- If a King move exists, then we win \n",
    "- If we hit a repeated sequence, then go to the next one?"
   ]
  },
  {
   "cell_type": "code",
   "execution_count": 53,
   "metadata": {},
   "outputs": [
    {
     "name": "stdout",
     "output_type": "stream",
     "text": [
      "Game over - found king at (0, 0)\n"
     ]
    }
   ],
   "source": [
    "import random\n",
    "\n",
    "\n",
    "winner = False\n",
    "\n",
    "for _ in range(1000):\n",
    "    \n",
    "    # before we overwrite sequence let's look at winner\n",
    "    if winner:\n",
    "        break\n",
    "    \n",
    "    sequence = [] # keep track of order\n",
    "    pos = (6,4)\n",
    "    i = 1\n",
    "\n",
    "    while True:\n",
    "        # add move location \n",
    "        sequence.append(pos)\n",
    "\n",
    "        # determine piece & moves\n",
    "        piece = game_board[pos[0]][pos[1]]\n",
    "        pos_moves = move(piece, pos[0], pos[1])\n",
    "        #print(f\"On move {i} starting on {piece} at position {pos}\")\n",
    "\n",
    "        # filter out incorrect moves \n",
    "        pos_moves = checkMoveBoundary(pos_moves)\n",
    "        pos_moves = checkMoveBlack(pos_moves,game_board)\n",
    "\n",
    "        # ensure we have moves left - if not we end in failure\n",
    "        if len(pos_moves) == 0:\n",
    "            break\n",
    "\n",
    "        # Any kings? If so end\n",
    "        finish = checkMoveKing(pos_moves,game_board)\n",
    "\n",
    "        # Check if game\n",
    "        if finish != False:\n",
    "            print(f\"Game over - found king at {finish}\")\n",
    "            winner = True\n",
    "            break\n",
    "\n",
    "        # If not, we need to choose a move from candidate moves: shuffle & confirm we haven't gone yet (maybe?)\n",
    "        random.shuffle(pos_moves)\n",
    "\n",
    "        pos = pos_moves[0]\n",
    "        i += 1"
   ]
  },
  {
   "cell_type": "code",
   "execution_count": 55,
   "metadata": {},
   "outputs": [
    {
     "data": {
      "text/plain": [
       "[(6, 4),\n",
       " (5, 3),\n",
       " (4, 2),\n",
       " (5, 0),\n",
       " (4, 1),\n",
       " (2, 0),\n",
       " (1, 0),\n",
       " (2, 2),\n",
       " (1, 0),\n",
       " (0, 2),\n",
       " (1, 1),\n",
       " (1, 2)]"
      ]
     },
     "execution_count": 55,
     "metadata": {},
     "output_type": "execute_result"
    }
   ],
   "source": [
    "sequence"
   ]
  },
  {
   "cell_type": "markdown",
   "metadata": {},
   "source": [
    "### Winning Sequence: \n",
    "\n",
    "We can prune the `(1,0) -> (2,2) -> (1,0) -> (0,2)` to just `(1,0) -> (0,2)`\n",
    "\n",
    "```\n",
    "[(6, 4), \n",
    " (5, 3),\n",
    " (4, 2),\n",
    " (5, 0),\n",
    " (4, 1),\n",
    " (2, 0),\n",
    " (1, 0),\n",
    " (0, 2),\n",
    " (1, 1),\n",
    " (1, 2),\n",
    " (0,0)]\n",
    "```\n",
    "\n",
    "This becomes: \n",
    "\n",
    "`Bishop -> Pawn -> Knight -> Queen -> Knight -> Rook -> Knight -> Bishop -> Rook -> Knight -> KING at (0,0)`"
   ]
  }
 ],
 "metadata": {
  "kernelspec": {
   "display_name": "Python 3.8",
   "language": "python",
   "name": "other-env"
  },
  "language_info": {
   "codemirror_mode": {
    "name": "ipython",
    "version": 3
   },
   "file_extension": ".py",
   "mimetype": "text/x-python",
   "name": "python",
   "nbconvert_exporter": "python",
   "pygments_lexer": "ipython3",
   "version": "3.8.5"
  }
 },
 "nbformat": 4,
 "nbformat_minor": 4
}
