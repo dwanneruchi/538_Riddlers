{
 "cells": [
  {
   "cell_type": "markdown",
   "metadata": {},
   "source": [
    "### Riddler Classic: \n",
    "\n",
    "Extra credit: Martina and Olivia change the rules so that they stop when Olivia first says that she agrees with Martina. That is, if Martina says on her turn that she agrees with Olivia, that is not a condition for stopping. Again, if they play to maximizing their chances, what is the probability that the person they agree on really does have the bigger number?\n"
   ]
  },
  {
   "cell_type": "code",
   "execution_count": 1,
   "metadata": {},
   "outputs": [],
   "source": [
    "import numpy as np\n",
    "from random import random"
   ]
  },
  {
   "cell_type": "code",
   "execution_count": 2,
   "metadata": {},
   "outputs": [],
   "source": [
    "def confidenceSeq(floatVal, precision = 1):\n",
    "    \"\"\"Input users float & expected precision, return sequence at which they lose confidence\"\"\"\n",
    "    return round(floatVal * 10**precision, 0)"
   ]
  },
  {
   "cell_type": "markdown",
   "metadata": {},
   "source": [
    "### But, The Inner-Game Simulations Aren't Actually Needed:\n",
    "\n",
    "- We can very quickly establish the winner each game based on the min value\n",
    "- This allows us to quickly increase precision & game size\n",
    "\n",
    "\n",
    "Logically, it makes sense that this is 50%: \n",
    "- Martina can't end the game, only Olivia can. \n",
    "- This means that 50% of the games where M < O the game continues until O thinks she has lost, which she has not. "
   ]
  },
  {
   "cell_type": "code",
   "execution_count": 5,
   "metadata": {},
   "outputs": [
    {
     "name": "stdout",
     "output_type": "stream",
     "text": [
      "For 100000 games with precision 0 there was an accuracy of 49.847%\n",
      "For 100000 games with precision 1 there was an accuracy of 50.075%\n",
      "For 100000 games with precision 2 there was an accuracy of 49.644%\n",
      "For 100000 games with precision 3 there was an accuracy of 50.168%\n",
      "For 100000 games with precision 4 there was an accuracy of 49.869%\n"
     ]
    }
   ],
   "source": [
    "for precision in [0, 1,2,3,4]:\n",
    "    win = 0\n",
    "    games = 100_000 \n",
    "\n",
    "    for game in range(games):\n",
    "\n",
    "        # new game run\n",
    "        m_val = random() # m goes first\n",
    "        o_val = random()\n",
    "        game_vals = [m_val, o_val]\n",
    "        conf_vals = [confidenceSeq(i, precision) for i in game_vals]\n",
    "        true_winner_idx = game_vals.index(max(game_vals))\n",
    "        start_step = min(conf_vals) - 2 # allow for build-up\n",
    "\n",
    "        while True:\n",
    "\n",
    "            start_step += 1\n",
    "\n",
    "            if start_step % 2 == 0:\n",
    "                if start_step > conf_vals[1]:\n",
    "                    pred_winner_idx = 0 \n",
    "                    break\n",
    "\n",
    "        # Determine performance: Store off misses for review \n",
    "        if pred_winner_idx == true_winner_idx:\n",
    "            win += 1\n",
    "\n",
    "    ### Performance metrics\n",
    "    print(f\"For {games} games with precision {precision} there was an accuracy of {100 * win / games:.3f}%\")"
   ]
  }
 ],
 "metadata": {
  "kernelspec": {
   "display_name": "Python 3.8",
   "language": "python",
   "name": "other-env"
  },
  "language_info": {
   "codemirror_mode": {
    "name": "ipython",
    "version": 3
   },
   "file_extension": ".py",
   "mimetype": "text/x-python",
   "name": "python",
   "nbconvert_exporter": "python",
   "pygments_lexer": "ipython3",
   "version": "3.8.5"
  }
 },
 "nbformat": 4,
 "nbformat_minor": 4
}
