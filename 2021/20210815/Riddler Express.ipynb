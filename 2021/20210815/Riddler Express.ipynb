{
 "cells": [
  {
   "cell_type": "markdown",
   "metadata": {},
   "source": [
    "### Express:\n",
    "\n",
    "You are very clever when it comes to solving Riddler Express puzzles. You are so clever, in fact, that you are in the top 10 percent of solvers in Riddler Nation (which, as you know, has a very large population). You don’t know where in the top 10 percent you are — in fact, you realize that you are equally likely to be anywhere in the topmost decile. Also, no two people in Riddler Nation are equally clever.\n",
    "\n",
    "One Friday morning, you walk into a room with nine members randomly selected from Riddler Nation. What is the probability that you are the cleverest solver in the room?\n"
   ]
  },
  {
   "cell_type": "markdown",
   "metadata": {},
   "source": [
    "### Simulation\n",
    "\n",
    "- I want to try out some new objects, like `dataclass`"
   ]
  },
  {
   "cell_type": "code",
   "execution_count": 1,
   "metadata": {},
   "outputs": [],
   "source": [
    "from dataclasses import dataclass\n",
    "import numpy as np"
   ]
  },
  {
   "cell_type": "code",
   "execution_count": 2,
   "metadata": {},
   "outputs": [],
   "source": [
    "@dataclass(frozen=False) # we want immutability \n",
    "class riddler:\n",
    "    loss: int\n",
    "    ties: int\n",
    "    total: int\n",
    "        \n",
    "    def __str__(self):\n",
    "        return f'likelihood of winning after {self.total}: {(self.total - self.loss - self.ties) / self.total - self.ties:.3f}'"
   ]
  },
  {
   "cell_type": "code",
   "execution_count": 3,
   "metadata": {},
   "outputs": [
    {
     "name": "stdout",
     "output_type": "stream",
     "text": [
      "likelihood of winning after 100: 0.600\n",
      "likelihood of winning after 1000: 0.647\n",
      "likelihood of winning after 10000: 0.651\n",
      "likelihood of winning after 100000: 0.653\n",
      "likelihood of winning after 1000000: 0.650\n"
     ]
    }
   ],
   "source": [
    "# Establish sim amounts and separate data classes \n",
    "sim_vals = [100, 1_000, 10_000, 100_000, 1_000_000]\n",
    "sim_class = [riddler(0,0,sim) for sim in sim_vals]\n",
    "\n",
    "\n",
    "for sim in sim_class:\n",
    "\n",
    "    for _ in range(sim.total):\n",
    "\n",
    "        me = np.random.uniform(0.9,1)\n",
    "        others = [np.random.uniform(0,1) for x in range(9)]\n",
    "\n",
    "        # check equality\n",
    "        tie = sum([1 for o in others if o == me])\n",
    "        if tie > 0:\n",
    "            sim.ties += 1\n",
    "            continue\n",
    "\n",
    "        # check for loss\n",
    "        loss = sum([1 for o in others if o > me])\n",
    "        if loss > 0:\n",
    "            sim.loss += 1\n",
    "\n",
    "    print(sim)"
   ]
  }
 ],
 "metadata": {
  "kernelspec": {
   "display_name": "Python 3.8",
   "language": "python",
   "name": "other-env"
  },
  "language_info": {
   "codemirror_mode": {
    "name": "ipython",
    "version": 3
   },
   "file_extension": ".py",
   "mimetype": "text/x-python",
   "name": "python",
   "nbconvert_exporter": "python",
   "pygments_lexer": "ipython3",
   "version": "3.8.5"
  }
 },
 "nbformat": 4,
 "nbformat_minor": 4
}
