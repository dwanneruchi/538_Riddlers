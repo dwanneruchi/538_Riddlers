{
 "cells": [
  {
   "cell_type": "markdown",
   "metadata": {},
   "source": [
    "### Riddler Classic: \n",
    "\n",
    "From Oliver Ruebenacker comes a “classic” indeed:\n",
    "\n",
    "You have four standard dice, and your goal is simple: Maximize the sum of your rolls. So you roll all four dice at once, hoping to achieve a high score.\n",
    "\n",
    "But wait, there’s more! If you’re not happy with your roll, you can choose to reroll zero, one, two or three of the dice. In other words, you must “freeze” one or more dice and set them aside, never to be rerolled.\n",
    "\n",
    "You repeat this process with the remaining dice — you roll them all and then freeze at least one. You repeat this process until all the dice are frozen.\n",
    "\n",
    "If you play strategically, what score can you expect to achieve on average?"
   ]
  },
  {
   "cell_type": "markdown",
   "metadata": {},
   "source": [
    "### Solution Thoughts:\n",
    "\n",
    "Strategy is always a bit tough, my assumption to start is that we need to lean on likelihood to dictate how we make a decision. \n",
    "\n",
    "**Strategy**:\n",
    "- For each roll we need to freeze at least one of our dice, so we will take the highest and freeze. \n",
    "- For each other dice we can determine likelihood of getting the same value or greater over the next `n` rolls. \n",
    "    - Depending on the above, we make a decision:\n",
    "        - If `P(Greater roll) >= 0.5`, then don't freeze\n",
    "        - Otherwise, freeze"
   ]
  },
  {
   "cell_type": "code",
   "execution_count": 1,
   "metadata": {},
   "outputs": [],
   "source": [
    "def greaterVal(rolls, current, sides = 6):\n",
    "    \"\"\"\n",
    "    After n rolls, what is likelihood we roll less than or equal to current?\n",
    "    \n",
    "    rolls: Remaining rolls \n",
    "    current: Current value of roll\n",
    "    \"\"\"\n",
    "    pr = (current)/sides\n",
    "    return 1 - (pr** rolls)"
   ]
  },
  {
   "cell_type": "code",
   "execution_count": 2,
   "metadata": {},
   "outputs": [
    {
     "data": {
      "text/plain": [
       "0.875"
      ]
     },
     "execution_count": 2,
     "metadata": {},
     "output_type": "execute_result"
    }
   ],
   "source": [
    "### Testing: \n",
    "\n",
    "### If we roll a 6, we shouldn't be able to roll anything higher:\n",
    "assert(greaterVal(4,6) == 0)\n",
    "\n",
    "### If we roll a 5 we can think of this as:\n",
    "### Likelihood of rolling a 5 or less each time\n",
    "### Or, likelihood of not rolling a six... 5/6 ** 3\n",
    "### So likelihood of rolling at least one six is just 1 - (5/6) ** 3\n",
    "assert(round(greaterVal(3, 5),3) == 0.421)\n",
    "\n",
    "### If we roll a 3 we should see pretty high likelihood here\n",
    "greaterVal(3,3)"
   ]
  },
  {
   "cell_type": "code",
   "execution_count": 3,
   "metadata": {},
   "outputs": [
    {
     "data": {
      "text/plain": [
       "0.42129629629629617"
      ]
     },
     "execution_count": 3,
     "metadata": {},
     "output_type": "execute_result"
    }
   ],
   "source": [
    "from scipy import stats\n",
    "\n",
    "# k is discrete event (typically X), n is total trials\n",
    "X = stats.binom(3, 1/6)\n",
    "1 - X.cdf(0)"
   ]
  },
  {
   "cell_type": "code",
   "execution_count": 4,
   "metadata": {},
   "outputs": [
    {
     "data": {
      "text/plain": [
       "0.42129629629629617"
      ]
     },
     "execution_count": 4,
     "metadata": {},
     "output_type": "execute_result"
    }
   ],
   "source": [
    "X = stats.binom(3, 1/6)\n",
    "1 - X.cdf(0)"
   ]
  },
  {
   "cell_type": "markdown",
   "metadata": {},
   "source": [
    "### Single Game: \n",
    "\n",
    "- We start with 4 random rolls\n",
    "- Our highest dice needs to be stored off "
   ]
  },
  {
   "cell_type": "code",
   "execution_count": 5,
   "metadata": {},
   "outputs": [],
   "source": [
    "from dataclasses import dataclass\n",
    "import random"
   ]
  },
  {
   "cell_type": "code",
   "execution_count": 6,
   "metadata": {},
   "outputs": [],
   "source": [
    "@dataclass(frozen=False) # we want immutability \n",
    "class die:\n",
    "    n: int\n",
    "        \n",
    "    def roll(self):\n",
    "        return [random.randint(1,6) for x in range(self.n)]\n",
    "        \n",
    "    def __str__(self):\n",
    "        return f\"Remaining dice: {self.n}\""
   ]
  },
  {
   "cell_type": "code",
   "execution_count": 7,
   "metadata": {},
   "outputs": [
    {
     "data": {
      "text/plain": [
       "[2, 2, 5, 1]"
      ]
     },
     "execution_count": 7,
     "metadata": {},
     "output_type": "execute_result"
    }
   ],
   "source": [
    "test = die(4)\n",
    "test.roll()"
   ]
  },
  {
   "cell_type": "code",
   "execution_count": 8,
   "metadata": {},
   "outputs": [
    {
     "name": "stdout",
     "output_type": "stream",
     "text": [
      "On roll 1 we rolled [5, 2, 2, 3]\n",
      "After roll 1 we have frozen set of [5]\n",
      "On roll 2 we rolled [1, 3, 2]\n",
      "After roll 2 we have frozen set of [5, 3]\n",
      "On roll 3 we rolled [1, 1]\n",
      "After roll 3 we have frozen set of [5, 3, 1]\n",
      "On roll 4 we rolled [1]\n",
      "After roll 4 we have frozen set of [5, 3, 1, 1]\n",
      "Total score: 10\n"
     ]
    }
   ],
   "source": [
    "n = 4\n",
    "frozen = []\n",
    "i = 0\n",
    "\n",
    "#### entering rolls ####\n",
    "while True:\n",
    "    # build out starting list\n",
    "    die_obj = die(n)\n",
    "    i += 1\n",
    "\n",
    "    # Roll all dice\n",
    "    roll_out = die_obj.roll()\n",
    "    \n",
    "    # Debugging:\n",
    "    print(f\"On roll {i} we rolled {roll_out}\")\n",
    "\n",
    "    # Find max roll by sorting & popping last element\n",
    "    roll_out.sort()\n",
    "    frozen.append(roll_out.pop(-1))\n",
    "\n",
    "    # Determine max remaining rolls (this might be incorrect given we won't reroll some)\n",
    "    max_rolls = len(roll_out)\n",
    "\n",
    "    # For each of the remaining die, determine if we max out rolls if likelihood of greater > 0.5\n",
    "    probs = [greaterVal(max_rolls, die_val) > 0.5 for die_val in roll_out]\n",
    "\n",
    "    # if any probs are True, then we will try rerolling those. \n",
    "    # if False, then we append to frozen list \n",
    "    combined = zip(probs, roll_out)\n",
    "    n = 0 # reset n\n",
    "    for p, roll in combined:\n",
    "        if p:\n",
    "            n += 1\n",
    "        else:\n",
    "            frozen.append(roll)\n",
    "            \n",
    "    # Debugging:\n",
    "    print(f\"After roll {i} we have frozen set of {frozen}\")\n",
    "    \n",
    "    if n == 0:\n",
    "        final_val = sum(frozen)\n",
    "        print(f\"Total score: {final_val}\")\n",
    "        break"
   ]
  },
  {
   "cell_type": "markdown",
   "metadata": {},
   "source": [
    "### Move Into Simulation: \n",
    "\n",
    "Doing a bit of clean-up"
   ]
  },
  {
   "cell_type": "code",
   "execution_count": 9,
   "metadata": {},
   "outputs": [
    {
     "name": "stdout",
     "output_type": "stream",
     "text": [
      "For sim of 100: 18.390\n"
     ]
    }
   ],
   "source": [
    "sim = 100\n",
    "final_val = 0 \n",
    "\n",
    "for _ in range(sim):\n",
    "    n = 4\n",
    "    frozen = []\n",
    "\n",
    "    while True:\n",
    "        # build out starting list\n",
    "        die_obj = die(n)\n",
    "\n",
    "        # Roll all dice\n",
    "        roll_out = die_obj.roll()\n",
    "\n",
    "        # Find max roll by sorting & popping last element\n",
    "        roll_out.sort()\n",
    "        frozen.append(roll_out.pop(-1))\n",
    "\n",
    "        # Determine max remaining rolls (this might be incorrect given we won't reroll some)\n",
    "        max_rolls = len(roll_out)\n",
    "\n",
    "        # For each of the remaining die, determine if we max out rolls if likelihood of greater > 0.5\n",
    "        probs = [greaterVal(max_rolls, die_val) > 0.5 for die_val in roll_out]\n",
    "\n",
    "        # if any probs are True, then we will try rerolling those. \n",
    "        # if False, then we append to frozen list \n",
    "        combined = zip(probs, roll_out)\n",
    "        n = 0 # reset n\n",
    "        for p, roll in combined:\n",
    "            if p:\n",
    "                n += 1\n",
    "            else:\n",
    "                frozen.append(roll)\n",
    "\n",
    "        if n == 0:\n",
    "            final_val+= sum(frozen)\n",
    "            break\n",
    "\n",
    "print(f\"For sim of {sim}: {final_val / sim:.3f}\")"
   ]
  },
  {
   "cell_type": "markdown",
   "metadata": {},
   "source": [
    "### Cleaner Simulation - Larger Ranges"
   ]
  },
  {
   "cell_type": "code",
   "execution_count": 13,
   "metadata": {},
   "outputs": [
    {
     "name": "stdout",
     "output_type": "stream",
     "text": [
      "For sim of 100: 19.100\n",
      "For sim of 1000: 18.637\n",
      "For sim of 10000: 18.691\n",
      "For sim of 100000: 18.712\n",
      "For sim of 1000000: 18.701\n",
      "For sim of 2000000: 18.701\n"
     ]
    }
   ],
   "source": [
    "sim_list = [100, 1_000, 10_000, 100_000, 1_000_000, 2_000_000]\n",
    "\n",
    "for sim in sim_list:\n",
    "    final_val = 0 \n",
    "\n",
    "    for _ in range(sim):\n",
    "        n = 4\n",
    "        frozen = []\n",
    "\n",
    "        while True:\n",
    "            # build out starting list\n",
    "            die_obj = die(n)\n",
    "\n",
    "            # Roll all dice\n",
    "            roll_out = die_obj.roll()\n",
    "\n",
    "            # Find max roll by sorting & popping last element\n",
    "            roll_out.sort()\n",
    "            frozen.append(roll_out.pop(-1))\n",
    "\n",
    "            # Determine max remaining rolls (this might be incorrect given we won't reroll some)\n",
    "            max_rolls = len(roll_out)\n",
    "\n",
    "            # For each of the remaining die, determine if we max out rolls if likelihood of greater > 0.5\n",
    "            probs = [greaterVal(max_rolls, die_val) > 0.5 for die_val in roll_out]\n",
    "\n",
    "            # if any probs are True, then we will try rerolling those. \n",
    "            # if False, then we append to frozen list \n",
    "            combined = zip(probs, roll_out)\n",
    "            n = 0 # reset n\n",
    "            for p, roll in combined:\n",
    "                if p:\n",
    "                    n += 1\n",
    "                else:\n",
    "                    frozen.append(roll)\n",
    "\n",
    "            if n == 0:\n",
    "                final_val+= sum(frozen)\n",
    "                break\n",
    "\n",
    "    print(f\"For sim of {sim}: {final_val / sim:.3f}\")"
   ]
  },
  {
   "cell_type": "markdown",
   "metadata": {},
   "source": [
    "### Riddler Classic: \n",
    "\n",
    "Extra credit: Instead of four dice, what if you start with five dice? What if you start with six dice? What if you start with N dice?\n",
    "\n",
    "#### N = 5"
   ]
  },
  {
   "cell_type": "code",
   "execution_count": 14,
   "metadata": {},
   "outputs": [
    {
     "name": "stdout",
     "output_type": "stream",
     "text": [
      "For sim of 100: 24.590\n",
      "For sim of 1000: 24.215\n",
      "For sim of 10000: 24.277\n",
      "For sim of 100000: 24.289\n",
      "For sim of 1000000: 24.285\n",
      "For sim of 2000000: 24.289\n"
     ]
    }
   ],
   "source": [
    "sim_list = [100, 1_000, 10_000, 100_000, 1_000_000, 2_000_000]\n",
    "\n",
    "for sim in sim_list:\n",
    "    final_val = 0 \n",
    "\n",
    "    for _ in range(sim):\n",
    "        n = 5\n",
    "        frozen = []\n",
    "\n",
    "        while True:\n",
    "            # build out starting list\n",
    "            die_obj = die(n)\n",
    "\n",
    "            # Roll all dice\n",
    "            roll_out = die_obj.roll()\n",
    "\n",
    "            # Find max roll by sorting & popping last element\n",
    "            roll_out.sort()\n",
    "            frozen.append(roll_out.pop(-1))\n",
    "\n",
    "            # Determine max remaining rolls (this might be incorrect given we won't reroll some)\n",
    "            max_rolls = len(roll_out)\n",
    "\n",
    "            # For each of the remaining die, determine if we max out rolls if likelihood of greater > 0.5\n",
    "            probs = [greaterVal(max_rolls, die_val) > 0.5 for die_val in roll_out]\n",
    "\n",
    "            # if any probs are True, then we will try rerolling those. \n",
    "            # if False, then we append to frozen list \n",
    "            combined = zip(probs, roll_out)\n",
    "            n = 0 # reset n\n",
    "            for p, roll in combined:\n",
    "                if p:\n",
    "                    n += 1\n",
    "                else:\n",
    "                    frozen.append(roll)\n",
    "\n",
    "            if n == 0:\n",
    "                final_val+= sum(frozen)\n",
    "                break\n",
    "\n",
    "    print(f\"For sim of {sim}: {final_val / sim:.3f}\")"
   ]
  },
  {
   "cell_type": "markdown",
   "metadata": {},
   "source": [
    "#### Iterate Through Various N"
   ]
  },
  {
   "cell_type": "code",
   "execution_count": 18,
   "metadata": {},
   "outputs": [
    {
     "name": "stdout",
     "output_type": "stream",
     "text": [
      "For N = 4: 18.716\n",
      "For N = 5: 24.284\n",
      "For N = 6: 30.003\n",
      "For N = 7: 35.809\n",
      "For N = 8: 41.660\n",
      "For N = 9: 47.550\n",
      "For N = 10: 53.480\n",
      "For N = 11: 59.438\n",
      "For N = 12: 65.377\n",
      "For N = 13: 71.354\n",
      "For N = 14: 77.342\n"
     ]
    }
   ],
   "source": [
    "N_list = [n for n in range(4,15)]\n",
    "sim = 100_000\n",
    "for n_val in N_list:\n",
    "    \n",
    "    final_val = 0\n",
    "\n",
    "    for _ in range(sim):\n",
    "\n",
    "        frozen = []\n",
    "        n = n_val\n",
    "        \n",
    "        while True:\n",
    "            # build out starting list\n",
    "            die_obj = die(n)\n",
    "\n",
    "            # Roll all dice\n",
    "            roll_out = die_obj.roll()\n",
    "\n",
    "            # Find max roll by sorting & popping last element\n",
    "            roll_out.sort()\n",
    "            frozen.append(roll_out.pop(-1))\n",
    "\n",
    "            # Determine max remaining rolls (this might be incorrect given we won't reroll some)\n",
    "            max_rolls = len(roll_out)\n",
    "\n",
    "            # For each of the remaining die, determine if we max out rolls if likelihood of greater > 0.5\n",
    "            probs = [greaterVal(max_rolls, die_val) > 0.5 for die_val in roll_out]\n",
    "\n",
    "            # if any probs are True, then we will try rerolling those. \n",
    "            # if False, then we append to frozen list \n",
    "            combined = zip(probs, roll_out)\n",
    "            n = 0 # reset n\n",
    "            for p, roll in combined:\n",
    "                if p:\n",
    "                    n += 1\n",
    "                else:\n",
    "                    frozen.append(roll)\n",
    "\n",
    "            if n == 0:\n",
    "                final_val+= sum(frozen)\n",
    "                break\n",
    "\n",
    "    print(f\"For N = {n_val}: {final_val / sim:.3f}\")"
   ]
  }
 ],
 "metadata": {
  "kernelspec": {
   "display_name": "Python 3.8",
   "language": "python",
   "name": "other-env"
  },
  "language_info": {
   "codemirror_mode": {
    "name": "ipython",
    "version": 3
   },
   "file_extension": ".py",
   "mimetype": "text/x-python",
   "name": "python",
   "nbconvert_exporter": "python",
   "pygments_lexer": "ipython3",
   "version": "3.8.5"
  }
 },
 "nbformat": 4,
 "nbformat_minor": 4
}
