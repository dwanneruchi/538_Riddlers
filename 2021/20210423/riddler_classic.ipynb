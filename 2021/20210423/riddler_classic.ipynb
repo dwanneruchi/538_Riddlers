{
 "cells": [
  {
   "cell_type": "markdown",
   "metadata": {},
   "source": [
    "### Classic:\n",
    "\n",
    "Riddler Nation’s neighbor to the west, Enigmerica, is holding an election between two candidates, A and B. Assume every person in Enigmerica votes randomly and independently, and that the number of voters is very, very large. Moreover, due to health precautions, 20 percent of the population decides to vote early by mail.\n",
    "\n",
    "On election night, the results of the 80 percent who voted on Election Day are reported out. Over the next several days, the remaining 20 percent of the votes are then tallied.\n",
    "\n",
    "What is the probability that the candidate who had fewer votes tallied on election night ultimately wins the race?\n",
    "\n",
    "### The Attempt With Code Math\n",
    "\n",
    "1) Determine range of % of vote where it is feasible for a candidate to be behind & then take the lead\n",
    "- The only way a candidate can come back after losing assuming 20% of vote is left is if they can exceed 50%. \n",
    "- This means the mininum is going to be 30% of total, which translates to 3/8 = .375 of the day of vote (+1 vote)\n",
    "- The max will be the halfway point of the vote on Election day, or 40% of total (4/8 = 0.5) (-1 vote)\n",
    "\n",
    "2) Once range is established can sum up the likelihood of discrete vote counts (e.g. P(Win | 30% Day of), P(Win | 30.1% Day of), ....)\n",
    "- For each vote amount in the range established can solve the following: \n",
    "    - Likelihood of that vote amount ---> P(X = x)\n",
    "    - Likelihood of enough votes out of those from mail-in  ---> P(X >= x)\n",
    "- Summing up the values will yield the solution\n"
   ]
  },
  {
   "cell_type": "code",
   "execution_count": 1,
   "metadata": {},
   "outputs": [],
   "source": [
    "import numpy as np\n",
    "from scipy.stats import binom"
   ]
  },
  {
   "cell_type": "code",
   "execution_count": 2,
   "metadata": {},
   "outputs": [
    {
     "data": {
      "text/plain": [
       "0.828125"
      ]
     },
     "execution_count": 2,
     "metadata": {},
     "output_type": "execute_result"
    }
   ],
   "source": [
    "# Example of P(X >= 4)\n",
    "1 - binom.cdf(4 - 1, 10, 0.5)"
   ]
  },
  {
   "cell_type": "code",
   "execution_count": 3,
   "metadata": {},
   "outputs": [
    {
     "data": {
      "text/plain": [
       "0.20507812500000022"
      ]
     },
     "execution_count": 3,
     "metadata": {},
     "output_type": "execute_result"
    }
   ],
   "source": [
    "# Example of P(X = 4)\n",
    "binom.pmf(4,10,0.5)"
   ]
  },
  {
   "cell_type": "code",
   "execution_count": 4,
   "metadata": {},
   "outputs": [],
   "source": [
    "def conditionalProb(election_day_count, n, prob = 0.5):\n",
    "    \"\"\"Take in election day count, generate a likelihood of this, and generate a likelihood of getting atleast the mininum required to win\"\"\"\n",
    "    \n",
    "    # likelihood of election day getting exact success of X = election day count\n",
    "    likelihood = binom.pmf(election_day_count, n * 0.8, prob)\n",
    "    \n",
    "    # min raw votes needed from mailin\n",
    "    need = n - election_day_count - (n/2) + 1\n",
    "    \n",
    "    # total mail in votes\n",
    "    tot_mail = n * 0.2\n",
    "    \n",
    "    # calculate likelihood of getting ATLEAST need (binom.cdf does X < x)\n",
    "    # need to solve: 1 - binom.cdf, which gives X > x, so subtract 1 to get proper result \n",
    "    likelihood_need = 1 - binom.cdf(need - 1, tot_mail, prob)\n",
    "    \n",
    "    return likelihood * likelihood_need"
   ]
  },
  {
   "cell_type": "code",
   "execution_count": 5,
   "metadata": {},
   "outputs": [
    {
     "name": "stdout",
     "output_type": "stream",
     "text": [
      "With a total vote count of 100, a candidate is in range\n",
      " of possibility if they have 31.0 to 39.0 of the Election Day Votes\n",
      "Likelihood of Candidate losing Election Day but winning after mail-in votes counted: 0.038120\n",
      "\n",
      "With a total vote count of 1000, a candidate is in range\n",
      " of possibility if they have 301.0 to 399.0 of the Election Day Votes\n",
      "Likelihood of Candidate losing Election Day but winning after mail-in votes counted: 0.061091\n",
      "\n",
      "With a total vote count of 10000, a candidate is in range\n",
      " of possibility if they have 3001.0 to 3999.0 of the Election Day Votes\n",
      "Likelihood of Candidate losing Election Day but winning after mail-in votes counted: 0.069633\n",
      "\n",
      "With a total vote count of 100000, a candidate is in range\n",
      " of possibility if they have 30001.0 to 39999.0 of the Election Day Votes\n",
      "Likelihood of Candidate losing Election Day but winning after mail-in votes counted: 0.072462\n",
      "\n",
      "With a total vote count of 1000000, a candidate is in range\n",
      " of possibility if they have 300001.0 to 399999.0 of the Election Day Votes\n",
      "Likelihood of Candidate losing Election Day but winning after mail-in votes counted: 0.073370\n",
      "\n",
      "With a total vote count of 10000000, a candidate is in range\n",
      " of possibility if they have 3000001.0 to 3999999.0 of the Election Day Votes\n",
      "Likelihood of Candidate losing Election Day but winning after mail-in votes counted: 0.073658\n",
      "\n"
     ]
    }
   ],
   "source": [
    "total_votes = 10000\n",
    "\n",
    "vote_list = [100,1_000,10_000,100_000, 1_000_000, 10_000_000]\n",
    "\n",
    "for total_votes in vote_list:\n",
    "    \n",
    "    election_day_votes = total_votes * 0.8\n",
    "    min_votes = .3 * total_votes + 1\n",
    "    max_votes = .4 * total_votes\n",
    "    election_day = np.arange(min_votes, max_votes) # vote possibilities where losing but can still win\n",
    "    print(f\"With a total vote count of {total_votes}, a candidate is in range\\n of possibility if they have {min(election_day)} to {max(election_day)} of the Election Day Votes\")\n",
    "    solution = sum(np.array([conditionalProb(xi, total_votes) for xi in election_day]))\n",
    "    print(f\"Likelihood of Candidate losing Election Day but winning after mail-in votes counted: {solution:.6f}\\n\")"
   ]
  }
 ],
 "metadata": {
  "kernelspec": {
   "display_name": "Python 3.8",
   "language": "python",
   "name": "other-env"
  },
  "language_info": {
   "codemirror_mode": {
    "name": "ipython",
    "version": 3
   },
   "file_extension": ".py",
   "mimetype": "text/x-python",
   "name": "python",
   "nbconvert_exporter": "python",
   "pygments_lexer": "ipython3",
   "version": "3.8.5"
  }
 },
 "nbformat": 4,
 "nbformat_minor": 4
}
