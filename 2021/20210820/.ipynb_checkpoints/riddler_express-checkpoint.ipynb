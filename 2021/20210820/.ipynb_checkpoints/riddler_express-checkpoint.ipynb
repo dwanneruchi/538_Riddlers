{
 "cells": [
  {
   "cell_type": "markdown",
   "id": "e6aae13d",
   "metadata": {},
   "source": [
    "### Riddler Express\n",
    "\n",
    "Help, there’s a cricket on my floor! I want to trap it with a cup so that I can safely move it outside. But every time I get close, it hops exactly 1 foot in a random direction.\n",
    "\n",
    "I take note of its starting position and come closer. Boom — it hops in a random direction. I get close again. Boom — it takes another hop in a random direction, independent of the direction of the first hop.\n",
    "\n",
    "What is the most probable distance between the cricket’s current position after two random jumps and its starting position? (Note: This puzzle is not asking for the expected distance, but rather the most probable distance. In other words, if you consider the probability distribution over all possible distances, where is the peak of this distribution?)"
   ]
  },
  {
   "cell_type": "code",
   "execution_count": 1,
   "id": "7e43d70c",
   "metadata": {},
   "outputs": [],
   "source": [
    "import random\n",
    "import math"
   ]
  },
  {
   "cell_type": "code",
   "execution_count": 2,
   "id": "0b50c6bb",
   "metadata": {},
   "outputs": [
    {
     "name": "stdout",
     "output_type": "stream",
     "text": [
      "Degrees of 88 convert to radians of 1.53588974175501\n"
     ]
    }
   ],
   "source": [
    "degree = random.randrange(0.0,360.0)\n",
    "print(f\"Degrees of {degree} convert to radians of {math.radians(degree)}\")"
   ]
  },
  {
   "cell_type": "code",
   "execution_count": 3,
   "id": "408a8ead",
   "metadata": {},
   "outputs": [
    {
     "name": "stdout",
     "output_type": "stream",
     "text": [
      "Radian of 3.141592653589793 has x-val of -1.000 and y-val of 0.000\n"
     ]
    }
   ],
   "source": [
    "degree = 180\n",
    "rad = math.radians(degree)\n",
    "x_val = math.cos(rad)\n",
    "y_val = math.sin(rad)\n",
    "print(f\"Radian of {rad} has x-val of {x_val:.3f} and y-val of {y_val:.3f}\")"
   ]
  },
  {
   "cell_type": "code",
   "execution_count": 4,
   "id": "487c2edf",
   "metadata": {},
   "outputs": [
    {
     "name": "stdout",
     "output_type": "stream",
     "text": [
      "Radian of 1.5707963267948966 has x-val of 0.000 and y-val of 1.000\n"
     ]
    }
   ],
   "source": [
    "degree = 90\n",
    "rad = math.radians(degree)\n",
    "x_val = math.cos(rad)\n",
    "y_val = math.sin(rad)\n",
    "print(f\"Radian of {rad} has x-val of {x_val:.3f} and y-val of {y_val:.3f}\")"
   ]
  },
  {
   "cell_type": "markdown",
   "id": "aece550b",
   "metadata": {},
   "source": [
    "### Building A Class\n",
    "\n",
    "Not necessary, but fun and get to use the default factory here. "
   ]
  },
  {
   "cell_type": "code",
   "execution_count": 6,
   "id": "6c1ba255",
   "metadata": {},
   "outputs": [],
   "source": [
    "from dataclasses import dataclass, field"
   ]
  },
  {
   "cell_type": "code",
   "execution_count": 37,
   "id": "2ff4774c",
   "metadata": {},
   "outputs": [],
   "source": [
    "\n",
    "@dataclass(frozen=False) # we want immutability \n",
    "class cricket:\n",
    "    coord: list = field(default_factory=lambda: [0, 0])\n",
    "    degree: int = 180\n",
    "        \n",
    "    def random_jump(self):\n",
    "        self.degree = random.randrange(0.0,360.0)\n",
    "    \n",
    "    def update_location(self):\n",
    "        \"\"\"Random degree to update coordinate\"\"\"\n",
    "        rad = math.radians(self.degree)\n",
    "        x_val = round(math.cos(rad),2)\n",
    "        y_val = round(math.sin(rad),2)\n",
    "\n",
    "        self.coord[0] += x_val\n",
    "        self.coord[1] += y_val\n",
    "    \n",
    "    def get_distance(self):\n",
    "        \"\"\"Return euclidean distance from start\"\"\"\n",
    "        a = (self.coord[0])**2\n",
    "        b = (self.coord[1])**2\n",
    "        return round((a + b) ** 0.5,2)\n",
    "    \n",
    "    def run(self):\n",
    "        \"\"\"Run sequence\"\"\"\n",
    "        self.random_jump()\n",
    "        self.update_location()\n",
    "        self.random_jump()\n",
    "        self.update_location()\n",
    "        return self.get_distance()\n",
    "        \n",
    "    def __str__(self):\n",
    "        return f\"Cricket is at position {self.coord}\" "
   ]
  },
  {
   "cell_type": "code",
   "execution_count": 38,
   "id": "45313b1a",
   "metadata": {},
   "outputs": [
    {
     "name": "stdout",
     "output_type": "stream",
     "text": [
      "Cricket is at position [0, 0]\n",
      "136\n",
      "Cricket is at position [-0.72, 0.69]\n",
      "333\n",
      "Cricket is at position [0.17000000000000004, 0.23999999999999994]\n"
     ]
    },
    {
     "data": {
      "text/plain": [
       "0.29"
      ]
     },
     "execution_count": 38,
     "metadata": {},
     "output_type": "execute_result"
    }
   ],
   "source": [
    "my_cricket = cricket()\n",
    "print(my_cricket)\n",
    "my_cricket.random_jump()\n",
    "print(my_cricket.degree)\n",
    "my_cricket.update_location()\n",
    "print(my_cricket)\n",
    "my_cricket.random_jump()\n",
    "print(my_cricket.degree)\n",
    "my_cricket.update_location()\n",
    "print(my_cricket)\n",
    "my_cricket.get_distance()"
   ]
  },
  {
   "cell_type": "code",
   "execution_count": 39,
   "id": "392953fc",
   "metadata": {},
   "outputs": [
    {
     "data": {
      "text/plain": [
       "0.35"
      ]
     },
     "execution_count": 39,
     "metadata": {},
     "output_type": "execute_result"
    }
   ],
   "source": [
    "my_cricket = cricket()\n",
    "my_cricket.run()"
   ]
  },
  {
   "cell_type": "code",
   "execution_count": 40,
   "id": "883b729d",
   "metadata": {},
   "outputs": [
    {
     "name": "stdout",
     "output_type": "stream",
     "text": [
      "Cricket is at position [0.08999999999999997, -0.33999999999999997]\n"
     ]
    }
   ],
   "source": [
    "print(my_cricket)"
   ]
  },
  {
   "cell_type": "markdown",
   "id": "01e2f97f",
   "metadata": {},
   "source": [
    "### Running A Simple Simulation\n",
    "\n",
    "Over a variety of distances"
   ]
  },
  {
   "cell_type": "code",
   "execution_count": 41,
   "id": "3939a64b",
   "metadata": {},
   "outputs": [],
   "source": [
    "from collections import defaultdict\n",
    "from collections import Counter\n",
    "\n",
    "sim_output = defaultdict(list) # store results from each sim\n",
    "sim_size = [100, 1_000, 10_000, 100_000, 500_000]\n",
    "\n",
    "for sim in sim_size:\n",
    "    for _ in range(sim):\n",
    "        my_cricket = cricket()\n",
    "        sim_output[sim].append(my_cricket.run())"
   ]
  },
  {
   "cell_type": "code",
   "execution_count": 49,
   "id": "fa8db1f5",
   "metadata": {},
   "outputs": [
    {
     "name": "stdout",
     "output_type": "stream",
     "text": [
      "Top 3 most common: [(1.99, 4), (1.98, 4), (1.84, 4)]\n",
      "Top 3 most common: [(2.0, 38), (1.99, 35), (1.98, 21)]\n",
      "Top 3 most common: [(1.99, 367), (2.0, 338), (1.98, 252)]\n",
      "Top 3 most common: [(1.99, 3888), (2.0, 3591), (1.98, 2441)]\n",
      "Top 3 most common: [(1.99, 19326), (2.0, 18434), (1.98, 11735)]\n"
     ]
    }
   ],
   "source": [
    "for sim in sim_size:\n",
    "    data = Counter(sim_output[sim])\n",
    "    print(f\"Top 3 most common: {data.most_common(3)}\")"
   ]
  },
  {
   "cell_type": "code",
   "execution_count": null,
   "id": "eeba2db2",
   "metadata": {},
   "outputs": [],
   "source": []
  }
 ],
 "metadata": {
  "kernelspec": {
   "display_name": "fte",
   "language": "python",
   "name": "fte"
  },
  "language_info": {
   "codemirror_mode": {
    "name": "ipython",
    "version": 3
   },
   "file_extension": ".py",
   "mimetype": "text/x-python",
   "name": "python",
   "nbconvert_exporter": "python",
   "pygments_lexer": "ipython3",
   "version": "3.8.2"
  }
 },
 "nbformat": 4,
 "nbformat_minor": 5
}
