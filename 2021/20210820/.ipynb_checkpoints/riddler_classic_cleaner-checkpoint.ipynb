{
 "cells": [
  {
   "cell_type": "markdown",
   "id": "2eecd451",
   "metadata": {},
   "source": [
    "### Riddler Classic\n",
    "\n",
    "Another week, another dice-y Classic!\n",
    "\n",
    "When you roll a pair of fair dice, the most likely outcome is 7 (which occurs 1/6 of the time) and the least likely outcomes are 2 and 12 (which each occur 1/36 of the time).\n",
    "\n",
    "Annoyed by the variance of these probabilities, I set out to create a pair of “uniform dice.” These dice still have sides that are uniquely numbered from 1 to 6, and they are identical to each other. However, they are weighted so that their sum is more uniformly distributed between 2 and 12 than that of fair dice.\n",
    "\n",
    "Unfortunately, it is impossible to create a pair of such dice so that the probabilities of all 11 sums from 2 to 12 are identical (i.e., they are all 1/11). But I bet we can get pretty close.\n",
    "\n",
    "The variance of the 11 probabilities is the average value of the squared difference between each probability and the average probability (which is, again, 1/11). One way to make my dice as uniform as possible is to minimize this variance.\n",
    "\n",
    "So how should I make my dice as uniform as possible? In other words, which specific weighting of the dice minimizes the variance among the 11 probabilities? That is, what should the probabilities be for rolling 1, 2, 3, 4, 5 or 6 with one of the dice?"
   ]
  },
  {
   "cell_type": "markdown",
   "id": "9a6d5125",
   "metadata": {},
   "source": [
    "### Approach:\n",
    "\n",
    "I am producing an approximation here rather than analytical solution. Approach is:\n",
    "    \n",
    "    - build a class that calculates probabilities of rolling specific values\n",
    "    - generate a function to randomly generate probabilities for each face, ensuring:\n",
    "        - 1 == 6, 2 == 5, 3 == 4 since there is symmetry in impact (e.g. 1-1 should occur same rate as 6-6 for optimal solution, which means P(X=1) must equal P(X = 6))\n",
    "        - individual probs sum to 1"
   ]
  },
  {
   "cell_type": "code",
   "execution_count": 1,
   "id": "f63b44fa",
   "metadata": {},
   "outputs": [],
   "source": [
    "from dataclasses import dataclass, field\n",
    "from itertools import permutations, combinations, groupby\n",
    "import numpy as np\n",
    "import time"
   ]
  },
  {
   "cell_type": "code",
   "execution_count": 2,
   "id": "6f48a68e",
   "metadata": {},
   "outputs": [],
   "source": [
    "@dataclass(frozen=True)\n",
    "class proper_die:\n",
    "    sides = [n + 1 for n in range(6)]\n",
    "    prob: list = field(default_factory=lambda: [1/6 for n in range(6)])\n",
    "        \n",
    "    def build(self):\n",
    "        return [(s, p) for (s,p) in zip(self.sides, self.prob)]\n",
    "        \n",
    "    def build_distribution(self):\n",
    "        \"\"\"Build out all possible scores\"\"\"\n",
    "        c = self.build()\n",
    "        \n",
    "        return [(x[0] + y[0], x[1] * y[1]) for x in c for y in c]\n",
    "    \n",
    "    def build_final(self):\n",
    "        \"\"\"Sum up probabilities\"\"\"\n",
    "        output = self.build_distribution()\n",
    "        output.sort(key = lambda x: x[0]) # sort by value from double roll\n",
    "        final_dict = {}\n",
    "        for key, rows in groupby(output, lambda x: x[0]): # groupby first element of tuple & sum\n",
    "            final_dict[key] = sum(r[1] for r in rows)\n",
    "        return final_dict"
   ]
  },
  {
   "cell_type": "code",
   "execution_count": 3,
   "id": "f0bf3cca",
   "metadata": {},
   "outputs": [],
   "source": [
    "def random_probs(n=3):\n",
    "    a = np.random.random(n)\n",
    "    a /= a.sum() * 2\n",
    "    return list(a) + list(a[::-1])\n",
    "\n",
    "def variance(my_dict):\n",
    "    \"\"\"Pass in vector of 11 & solve for variance\"\"\"\n",
    "    return sum([(x - (1/11))**2 for x in my_dict.values()]) / len(my_dict.values())\n"
   ]
  },
  {
   "cell_type": "code",
   "execution_count": null,
   "id": "e229a95f",
   "metadata": {},
   "outputs": [],
   "source": [
    "min_var = 0.25\n",
    "min_prob = [1/6 for n in range(6)]\n",
    "\n",
    "start = time.time()\n",
    "for _ in range(3_000_000):\n",
    "    \n",
    "    # run random prob\n",
    "    prob_v = random_probs()\n",
    "    outcome = proper_die(prob_v).build_final()\n",
    "    var = variance(outcome)\n",
    "    \n",
    "    # see if its less\n",
    "    if var < min_var:\n",
    "        min_var = var\n",
    "        min_prob = prob_v\n",
    "        \n",
    "end = time.time()\n",
    "\n",
    "print(f\"Smallest variance was {min_var:.8f}\")\n",
    "print(f\"Using the following probs: {min_prob}\")\n",
    "print(f\"Total time: {end - start:.2f} seconds\")"
   ]
  },
  {
   "cell_type": "markdown",
   "id": "c49645cf",
   "metadata": {},
   "source": [
    "### Make It A Bit Faster?"
   ]
  },
  {
   "cell_type": "code",
   "execution_count": null,
   "id": "92b354df",
   "metadata": {},
   "outputs": [],
   "source": [
    "min_var = 0.25\n",
    "min_prob = [1/6 for n in range(6)]\n",
    "\n",
    "start = time.time()\n",
    "for _ in range(3_000_000):\n",
    "    \n",
    "    # run random prob\n",
    "    prob_v = random_probs()\n",
    "    c = list(zip(range(1,7), prob_v))\n",
    "    vals = [(x[0] + y[0], x[1] * y[1]) for x in c for y in c]\n",
    "    vals.sort(key = lambda x: x[0])\n",
    "    c_prob = []\n",
    "    for key, rows in groupby(vals, lambda x: x[0]): # groupby first element of tuple & sum\n",
    "        c_prob.append(sum(r[1] for r in rows))\n",
    "    var = sum([(x - (1/11))**2 for x in c_prob]) / len(c_prob)\n",
    "    \n",
    "    # see if its less\n",
    "    if var < min_var:\n",
    "        min_var = var\n",
    "        min_prob = prob_v\n",
    "        \n",
    "end = time.time()\n",
    "\n",
    "print(f\"Smallest variance was {min_var:.8f}\")\n",
    "print(f\"Using the following probs: {min_prob}\")\n",
    "print(f\"Total time: {end - start:.2f} seconds\")"
   ]
  }
 ],
 "metadata": {
  "kernelspec": {
   "display_name": "fte",
   "language": "python",
   "name": "fte"
  },
  "language_info": {
   "codemirror_mode": {
    "name": "ipython",
    "version": 3
   },
   "file_extension": ".py",
   "mimetype": "text/x-python",
   "name": "python",
   "nbconvert_exporter": "python",
   "pygments_lexer": "ipython3",
   "version": "3.8.2"
  }
 },
 "nbformat": 4,
 "nbformat_minor": 5
}
