{
 "cells": [
  {
   "cell_type": "markdown",
   "id": "55491fdd",
   "metadata": {},
   "source": [
    "### Riddler Classic\n",
    "\n",
    "Another week, another dice-y Classic!\n",
    "\n",
    "When you roll a pair of fair dice, the most likely outcome is 7 (which occurs 1/6 of the time) and the least likely outcomes are 2 and 12 (which each occur 1/36 of the time).\n",
    "\n",
    "Annoyed by the variance of these probabilities, I set out to create a pair of “uniform dice.” These dice still have sides that are uniquely numbered from 1 to 6, and they are identical to each other. However, they are weighted so that their sum is more uniformly distributed between 2 and 12 than that of fair dice.\n",
    "\n",
    "Unfortunately, it is impossible to create a pair of such dice so that the probabilities of all 11 sums from 2 to 12 are identical (i.e., they are all 1/11). But I bet we can get pretty close.\n",
    "\n",
    "The variance of the 11 probabilities is the average value of the squared difference between each probability and the average probability (which is, again, 1/11). One way to make my dice as uniform as possible is to minimize this variance.\n",
    "\n",
    "So how should I make my dice as uniform as possible? In other words, which specific weighting of the dice minimizes the variance among the 11 probabilities? That is, what should the probabilities be for rolling 1, 2, 3, 4, 5 or 6 with one of the dice?"
   ]
  },
  {
   "cell_type": "code",
   "execution_count": 43,
   "id": "611643a6",
   "metadata": {},
   "outputs": [],
   "source": [
    "from dataclasses import dataclass, field\n",
    "from itertools import permutations, combinations, groupby"
   ]
  },
  {
   "cell_type": "code",
   "execution_count": 53,
   "id": "c2384c45",
   "metadata": {},
   "outputs": [],
   "source": [
    "@dataclass(frozen=True)\n",
    "class proper_die:\n",
    "    sides = [n + 1 for n in range(6)]\n",
    "    prob: list = field(default_factory=lambda: [1/6 for n in range(6)])\n",
    "        \n",
    "    def build(self):\n",
    "        return [(s, p) for (s,p) in zip(self.sides, self.prob)]\n",
    "        \n",
    "    def build_distribution(self):\n",
    "        \"\"\"Build out all possible scores\"\"\"\n",
    "        c = self.build()\n",
    "        \n",
    "        return [(x[0] + y[0], x[1] * y[1]) for x in c for y in c]\n",
    "    \n",
    "    def build_final(self):\n",
    "        \"\"\"Sum up probabilities\"\"\"\n",
    "        output = self.build_distribution()\n",
    "        output.sort(key = lambda x: x[0]) # sort by value from double roll\n",
    "        final_dict = {}\n",
    "        for key, rows in groupby(output, lambda x: x[0]): # groupby first element of tuple & sum\n",
    "            final_dict[key] = sum(r[1] for r in rows)\n",
    "        return final_dict"
   ]
  },
  {
   "cell_type": "code",
   "execution_count": 55,
   "id": "0b334bf3",
   "metadata": {},
   "outputs": [
    {
     "data": {
      "text/plain": [
       "{2: 0.027777777777777776,\n",
       " 3: 0.05555555555555555,\n",
       " 4: 0.08333333333333333,\n",
       " 5: 0.1111111111111111,\n",
       " 6: 0.1388888888888889,\n",
       " 7: 0.16666666666666669,\n",
       " 8: 0.1388888888888889,\n",
       " 9: 0.1111111111111111,\n",
       " 10: 0.08333333333333333,\n",
       " 11: 0.05555555555555555,\n",
       " 12: 0.027777777777777776}"
      ]
     },
     "execution_count": 55,
     "metadata": {},
     "output_type": "execute_result"
    }
   ],
   "source": [
    "proper_die([1/6 for n in range(6)]).build_final()"
   ]
  },
  {
   "cell_type": "markdown",
   "id": "1ccf8533",
   "metadata": {},
   "source": [
    "### Process of Solving: \n",
    "\n",
    "We now have a nice class where we can pass in an ordered vector representing probabilities of different rolls. \n",
    "\n",
    "Next we can start experimenting. "
   ]
  },
  {
   "cell_type": "code",
   "execution_count": 63,
   "id": "e3beec1f",
   "metadata": {},
   "outputs": [
    {
     "data": {
      "text/plain": [
       "{2: 0.04000000000000001,\n",
       " 3: 0.06,\n",
       " 4: 0.08249999999999999,\n",
       " 5: 0.105,\n",
       " 6: 0.1275,\n",
       " 7: 0.16999999999999998,\n",
       " 8: 0.1275,\n",
       " 9: 0.105,\n",
       " 10: 0.08249999999999999,\n",
       " 11: 0.06,\n",
       " 12: 0.04000000000000001}"
      ]
     },
     "execution_count": 63,
     "metadata": {},
     "output_type": "execute_result"
    }
   ],
   "source": [
    "new_prob = [1/5] + [.15] * 4 + [1/5]\n",
    "assert(sum(new_prob) == 1)\n",
    "proper_die(new_prob).build_final()"
   ]
  },
  {
   "cell_type": "markdown",
   "id": "1f435d0b",
   "metadata": {},
   "source": [
    "### Above Is Tedious\n",
    "\n",
    "We can instead calculate random numbers by the following:\n",
    "\n",
    "- choose 3 random numbers (1,5,7)\n",
    "- sum up (13)\n",
    "- divide each number by sum * 2 ([0.23304853 0.10251759 0.16443388]) -> sums to 0.5\n",
    "\n",
    "We then just reverse and add up\n",
    "\n",
    "We can then calculate variance & return lowest possible"
   ]
  },
  {
   "cell_type": "code",
   "execution_count": 110,
   "id": "bb71f00a",
   "metadata": {},
   "outputs": [
    {
     "name": "stdout",
     "output_type": "stream",
     "text": [
      "[0.18102947 0.29055204 0.02841849]\n"
     ]
    },
    {
     "data": {
      "text/plain": [
       "0.5"
      ]
     },
     "execution_count": 110,
     "metadata": {},
     "output_type": "execute_result"
    }
   ],
   "source": [
    "import numpy as np\n",
    "a = np.random.random(3)\n",
    "a /= a.sum() * 2\n",
    "print(a)\n",
    "sum(a)"
   ]
  },
  {
   "cell_type": "code",
   "execution_count": 117,
   "id": "56db4bb0",
   "metadata": {},
   "outputs": [
    {
     "data": {
      "text/plain": [
       "[0.18102947310995912,\n",
       " 0.29055203937959523,\n",
       " 0.028418487510445605,\n",
       " 0.028418487510445605,\n",
       " 0.29055203937959523,\n",
       " 0.18102947310995912]"
      ]
     },
     "execution_count": 117,
     "metadata": {},
     "output_type": "execute_result"
    }
   ],
   "source": [
    "list(a) + list(a[::-1])"
   ]
  },
  {
   "cell_type": "code",
   "execution_count": 118,
   "id": "e7e7923e",
   "metadata": {},
   "outputs": [
    {
     "data": {
      "text/plain": [
       "[0.1306918782128836,\n",
       " 0.15258928346530978,\n",
       " 0.21671883832180663,\n",
       " 0.21671883832180663,\n",
       " 0.15258928346530978,\n",
       " 0.1306918782128836]"
      ]
     },
     "execution_count": 118,
     "metadata": {},
     "output_type": "execute_result"
    }
   ],
   "source": [
    "def random_probs(n=3):\n",
    "    a = np.random.random(n)\n",
    "    a /= a.sum() * 2\n",
    "    return list(a) + list(a[::-1])\n",
    "\n",
    "assert(sum(random_probs()) == 1)\n",
    "\n",
    "random_probs()"
   ]
  },
  {
   "cell_type": "code",
   "execution_count": 119,
   "id": "e99cecbd",
   "metadata": {},
   "outputs": [],
   "source": [
    "def variance(my_dict):\n",
    "    \"\"\"Pass in vector of 11 & solve for variance\"\"\"\n",
    "    return sum([(x - (1/11))**2 for x in my_dict.values()]) / len(my_dict.values())"
   ]
  },
  {
   "cell_type": "code",
   "execution_count": 120,
   "id": "4cb494a8",
   "metadata": {},
   "outputs": [
    {
     "data": {
      "text/plain": [
       "0.0019768390980512197"
      ]
     },
     "execution_count": 120,
     "metadata": {},
     "output_type": "execute_result"
    }
   ],
   "source": [
    "test = proper_die([1/6 for n in range(6)]).build_final()\n",
    "variance(test)"
   ]
  },
  {
   "cell_type": "markdown",
   "id": "4b0cc093",
   "metadata": {},
   "source": [
    "### Big Sim\n",
    "\n",
    "Should have written it all in numpy for speed. Next time. "
   ]
  },
  {
   "cell_type": "code",
   "execution_count": 121,
   "id": "c78513f9",
   "metadata": {},
   "outputs": [],
   "source": [
    "min_var = variance(test)\n",
    "min_prob = [1/6 for n in range(6)]\n",
    "for _ in range(1_000_000):\n",
    "    \n",
    "    # run random prob\n",
    "    prob_v = random_probs()\n",
    "    outcome = proper_die(prob_v).build_final()\n",
    "    var = variance(outcome)\n",
    "    \n",
    "    # see if its less\n",
    "    if var < min_var:\n",
    "        #print(f\"Found a lower var on step {_}\")\n",
    "        min_var = var\n",
    "        min_prob = prob_v"
   ]
  },
  {
   "cell_type": "code",
   "execution_count": 122,
   "id": "6746053c",
   "metadata": {},
   "outputs": [
    {
     "name": "stdout",
     "output_type": "stream",
     "text": [
      "Smallest variance was 0.00121758\n",
      "Using the following probs: [0.2439617982989915, 0.1374006655382974, 0.11863753616271105, 0.11863753616271105, 0.1374006655382974, 0.2439617982989915]\n"
     ]
    }
   ],
   "source": [
    "print(f\"Smallest variance was {min_var:.8f}\")\n",
    "print(f\"Using the following probs: {min_prob}\")"
   ]
  }
 ],
 "metadata": {
  "kernelspec": {
   "display_name": "fte",
   "language": "python",
   "name": "fte"
  },
  "language_info": {
   "codemirror_mode": {
    "name": "ipython",
    "version": 3
   },
   "file_extension": ".py",
   "mimetype": "text/x-python",
   "name": "python",
   "nbconvert_exporter": "python",
   "pygments_lexer": "ipython3",
   "version": "3.8.2"
  }
 },
 "nbformat": 4,
 "nbformat_minor": 5
}
