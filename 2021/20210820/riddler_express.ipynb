{
 "cells": [
  {
   "cell_type": "markdown",
   "id": "e6aae13d",
   "metadata": {},
   "source": [
    "### Riddler Express\n",
    "\n",
    "Help, there’s a cricket on my floor! I want to trap it with a cup so that I can safely move it outside. But every time I get close, it hops exactly 1 foot in a random direction.\n",
    "\n",
    "I take note of its starting position and come closer. Boom — it hops in a random direction. I get close again. Boom — it takes another hop in a random direction, independent of the direction of the first hop.\n",
    "\n",
    "What is the most probable distance between the cricket’s current position after two random jumps and its starting position? (Note: This puzzle is not asking for the expected distance, but rather the most probable distance. In other words, if you consider the probability distribution over all possible distances, where is the peak of this distribution?)"
   ]
  },
  {
   "cell_type": "code",
   "execution_count": 1,
   "id": "7e43d70c",
   "metadata": {},
   "outputs": [],
   "source": [
    "import random\n",
    "import math"
   ]
  },
  {
   "cell_type": "code",
   "execution_count": 2,
   "id": "0b50c6bb",
   "metadata": {},
   "outputs": [
    {
     "name": "stdout",
     "output_type": "stream",
     "text": [
      "Degrees of 122 convert to radians of 2.129301687433082\n"
     ]
    }
   ],
   "source": [
    "degree = random.randrange(0.0,361)\n",
    "print(f\"Degrees of {degree} convert to radians of {math.radians(degree)}\")"
   ]
  },
  {
   "cell_type": "code",
   "execution_count": 3,
   "id": "408a8ead",
   "metadata": {},
   "outputs": [
    {
     "name": "stdout",
     "output_type": "stream",
     "text": [
      "Radian of 3.141592653589793 has x-val of -1.000 and y-val of 0.000\n"
     ]
    }
   ],
   "source": [
    "degree = 180\n",
    "rad = math.radians(degree)\n",
    "x_val = math.cos(rad)\n",
    "y_val = math.sin(rad)\n",
    "print(f\"Radian of {rad} has x-val of {x_val:.3f} and y-val of {y_val:.3f}\")"
   ]
  },
  {
   "cell_type": "code",
   "execution_count": 4,
   "id": "487c2edf",
   "metadata": {},
   "outputs": [
    {
     "name": "stdout",
     "output_type": "stream",
     "text": [
      "Radian of 1.5707963267948966 has x-val of 0.000 and y-val of 1.000\n"
     ]
    }
   ],
   "source": [
    "degree = 90\n",
    "rad = math.radians(degree)\n",
    "x_val = math.cos(rad)\n",
    "y_val = math.sin(rad)\n",
    "print(f\"Radian of {rad} has x-val of {x_val:.3f} and y-val of {y_val:.3f}\")"
   ]
  },
  {
   "cell_type": "markdown",
   "id": "aece550b",
   "metadata": {},
   "source": [
    "### Building A Class\n",
    "\n",
    "Not necessary, but fun and get to use the default factory here. "
   ]
  },
  {
   "cell_type": "code",
   "execution_count": 5,
   "id": "6c1ba255",
   "metadata": {},
   "outputs": [],
   "source": [
    "from dataclasses import dataclass, field"
   ]
  },
  {
   "cell_type": "code",
   "execution_count": 6,
   "id": "2ff4774c",
   "metadata": {},
   "outputs": [],
   "source": [
    "\n",
    "@dataclass(frozen=False) # we want immutability \n",
    "class cricket:\n",
    "    coord: list = field(default_factory=lambda: [0, 0])\n",
    "    degree: int = 180\n",
    "        \n",
    "    def random_jump(self):\n",
    "        self.degree = random.randrange(0.0,361.0)\n",
    "    \n",
    "    def update_location(self):\n",
    "        \"\"\"Random degree to update coordinate\"\"\"\n",
    "        rad = math.radians(self.degree)\n",
    "        x_val = round(math.cos(rad),2)\n",
    "        y_val = round(math.sin(rad),2)\n",
    "\n",
    "        self.coord[0] += x_val\n",
    "        self.coord[1] += y_val\n",
    "    \n",
    "    def get_distance(self):\n",
    "        \"\"\"Return euclidean distance from start\"\"\"\n",
    "        a = (self.coord[0])**2\n",
    "        b = (self.coord[1])**2\n",
    "        return round((a + b) ** 0.5,2)\n",
    "    \n",
    "    def run(self):\n",
    "        \"\"\"Run sequence\"\"\"\n",
    "        self.random_jump()\n",
    "        self.update_location()\n",
    "        self.random_jump()\n",
    "        self.update_location()\n",
    "        return self.get_distance()\n",
    "        \n",
    "    def __str__(self):\n",
    "        return f\"Cricket is at position {self.coord}\" "
   ]
  },
  {
   "cell_type": "code",
   "execution_count": 7,
   "id": "45313b1a",
   "metadata": {},
   "outputs": [
    {
     "name": "stdout",
     "output_type": "stream",
     "text": [
      "Cricket is at position [0, 0]\n",
      "217\n",
      "Cricket is at position [-0.8, -0.6]\n",
      "151\n",
      "Cricket is at position [-1.67, -0.12]\n"
     ]
    },
    {
     "data": {
      "text/plain": [
       "1.67"
      ]
     },
     "execution_count": 7,
     "metadata": {},
     "output_type": "execute_result"
    }
   ],
   "source": [
    "my_cricket = cricket()\n",
    "print(my_cricket)\n",
    "my_cricket.random_jump()\n",
    "print(my_cricket.degree)\n",
    "my_cricket.update_location()\n",
    "print(my_cricket)\n",
    "my_cricket.random_jump()\n",
    "print(my_cricket.degree)\n",
    "my_cricket.update_location()\n",
    "print(my_cricket)\n",
    "my_cricket.get_distance()"
   ]
  },
  {
   "cell_type": "code",
   "execution_count": 8,
   "id": "392953fc",
   "metadata": {},
   "outputs": [
    {
     "data": {
      "text/plain": [
       "1.13"
      ]
     },
     "execution_count": 8,
     "metadata": {},
     "output_type": "execute_result"
    }
   ],
   "source": [
    "my_cricket = cricket()\n",
    "my_cricket.run()"
   ]
  },
  {
   "cell_type": "code",
   "execution_count": 9,
   "id": "883b729d",
   "metadata": {},
   "outputs": [
    {
     "name": "stdout",
     "output_type": "stream",
     "text": [
      "Cricket is at position [-0.54, 0.99]\n"
     ]
    }
   ],
   "source": [
    "print(my_cricket)"
   ]
  },
  {
   "cell_type": "markdown",
   "id": "01e2f97f",
   "metadata": {},
   "source": [
    "### Running A Simple Simulation\n",
    "\n",
    "Over a variety of distances"
   ]
  },
  {
   "cell_type": "code",
   "execution_count": 10,
   "id": "3939a64b",
   "metadata": {},
   "outputs": [
    {
     "name": "stdout",
     "output_type": "stream",
     "text": [
      "Total time: 12.421 seconds\n"
     ]
    }
   ],
   "source": [
    "from collections import defaultdict\n",
    "from collections import Counter\n",
    "import time\n",
    "\n",
    "start = time.time()\n",
    "sim_output = defaultdict(list) # store results from each sim\n",
    "sim_size = [100, 1_000, 10_000, 100_000, 500_000, 1_000_000, 2_000_000]\n",
    "\n",
    "for sim in sim_size:\n",
    "    for _ in range(sim):\n",
    "        my_cricket = cricket()\n",
    "        sim_output[sim].append(my_cricket.run())\n",
    "end = time.time()\n",
    "print(f\"Total time: {end - start:.3f} seconds\")"
   ]
  },
  {
   "cell_type": "code",
   "execution_count": 11,
   "id": "2c7382ac",
   "metadata": {},
   "outputs": [
    {
     "name": "stdout",
     "output_type": "stream",
     "text": [
      "Top 3 most common: [(1.75, 3), (1.78, 3), (1.74, 3)]\n",
      "Top 3 most common: [(1.99, 47), (2.0, 38), (1.98, 29)]\n",
      "Top 3 most common: [(1.99, 412), (2.0, 341), (1.98, 252)]\n",
      "Top 3 most common: [(1.99, 3837), (2.0, 3604), (1.98, 2415)]\n",
      "Top 3 most common: [(1.99, 19048), (2.0, 18147), (1.98, 11835)]\n",
      "Top 3 most common: [(1.99, 38058), (2.0, 36567), (1.98, 23640)]\n",
      "Top 3 most common: [(1.99, 76328), (2.0, 73390), (1.98, 47533)]\n"
     ]
    }
   ],
   "source": [
    "for sim in sim_size:\n",
    "    data = Counter(sim_output[sim])\n",
    "    print(f\"Top 3 most common: {data.most_common(3)}\")"
   ]
  },
  {
   "cell_type": "markdown",
   "id": "85713eba",
   "metadata": {},
   "source": [
    "### That Was Super Slow Though - We Can Speed Through In Numpy\n",
    "\n",
    "Since each operation is independent we see a massive speed-up using numpy (and this was a first pass, I bet we could make it EVEN FASTER!)"
   ]
  },
  {
   "cell_type": "code",
   "execution_count": 12,
   "id": "d8a168a0",
   "metadata": {},
   "outputs": [
    {
     "name": "stdout",
     "output_type": "stream",
     "text": [
      "Total time: 0.168 seconds\n"
     ]
    }
   ],
   "source": [
    "import numpy as np\n",
    "\n",
    "start2 = time.time()\n",
    "sim_output_np = {} # store results from each sim\n",
    "sim_size = [100, 1_000, 10_000, 100_000, 500_000, 1_000_000, 2_000_000]\n",
    "\n",
    "for sim in sim_size:\n",
    "    # randomly determine radians\n",
    "    arr = np.random.uniform(0, high=math.pi, size=sim)\n",
    "    arr2 = np.random.uniform(0, high=math.pi, size=sim)\n",
    "\n",
    "    # use radians to calculate total movement in x & y dir\n",
    "    x_arr = np.cos(arr) + np.cos(arr2)\n",
    "    y_arr = np.sin(arr) + np.sin(arr2)\n",
    "\n",
    "    # euclidean distance\n",
    "    sim_output_np[sim] = np.round((x_arr**2 + y_arr**2)**0.5,2)\n",
    "    \n",
    "end2 = time.time()\n",
    "print(f\"Total time: {end2 - start2:.3f} seconds\")"
   ]
  },
  {
   "cell_type": "code",
   "execution_count": 14,
   "id": "20d3968c",
   "metadata": {},
   "outputs": [
    {
     "name": "stdout",
     "output_type": "stream",
     "text": [
      "Numpy is 74 times faster than the class approach\n"
     ]
    }
   ],
   "source": [
    "print(f\"Numpy is {(end - start) / (end2 - start2):.0f} times faster than the class approach\")"
   ]
  },
  {
   "cell_type": "code",
   "execution_count": 15,
   "id": "753ae944",
   "metadata": {},
   "outputs": [
    {
     "name": "stdout",
     "output_type": "stream",
     "text": [
      "Top 3 most common for sim of 100: [(2.0, 9), (1.96, 7), (1.95, 5)]\n",
      "Top 3 most common for sim of 1000: [(2.0, 94), (1.99, 72), (1.96, 36)]\n",
      "Top 3 most common for sim of 10000: [(2.0, 824), (1.99, 593), (1.98, 426)]\n",
      "Top 3 most common for sim of 100000: [(2.0, 8809), (1.99, 6290), (1.98, 4073)]\n",
      "Top 3 most common for sim of 500000: [(2.0, 44311), (1.99, 30823), (1.98, 20815)]\n",
      "Top 3 most common for sim of 1000000: [(2.0, 88163), (1.99, 62098), (1.98, 41490)]\n",
      "Top 3 most common for sim of 2000000: [(2.0, 176526), (1.99, 123545), (1.98, 82703)]\n"
     ]
    }
   ],
   "source": [
    "for sim in sim_size:\n",
    "    as_list = list(sim_output_np[sim])\n",
    "    data = Counter(as_list)\n",
    "    print(f\"Top 3 most common for sim of {sim}: {data.most_common(3)}\")"
   ]
  },
  {
   "cell_type": "markdown",
   "id": "eb8b3e1c",
   "metadata": {},
   "source": [
    "### Final Solution\n",
    "\n",
    "The most likely solution is 2.0"
   ]
  }
 ],
 "metadata": {
  "kernelspec": {
   "display_name": "fte",
   "language": "python",
   "name": "fte"
  },
  "language_info": {
   "codemirror_mode": {
    "name": "ipython",
    "version": 3
   },
   "file_extension": ".py",
   "mimetype": "text/x-python",
   "name": "python",
   "nbconvert_exporter": "python",
   "pygments_lexer": "ipython3",
   "version": "3.8.2"
  }
 },
 "nbformat": 4,
 "nbformat_minor": 5
}
