{
 "cells": [
  {
   "cell_type": "markdown",
   "id": "cb3f012f",
   "metadata": {},
   "source": [
    "### Riddler Express\n",
    "\n",
    "I recently came across a rather peculiar recipe for something called Babylonian radish pie. Intrigued, I began to follow the directions, which said I could start with any number of cups of flour.\n",
    "\n",
    "Any number? I mean, I had to start with some flour, so zero cups wasn’t an option. But according to the recipe, any positive value was fair game. Next, I needed a second amount of flour that was 3 divided by my original number. For example, if I had started with two cups of flour, then the recipe told me I now needed 3 divided by 2, or 1.5, cups at this point.\n",
    "\n",
    "I was then instructed to combine these amounts of flour and discard half. Apparently, this was my new starting amount of flour. I was to repeat the process, combining this amount with 3 divided by it and then discarding half.\n",
    "\n",
    "The recipe told me to keep doing this, over and over. Eventually, I’d have the proper number of cups of flour for my radish pie.\n",
    "\n",
    "How many cups of flour does the recipe ultimately call for?"
   ]
  },
  {
   "cell_type": "code",
   "execution_count": 1,
   "id": "05339119",
   "metadata": {},
   "outputs": [],
   "source": [
    "# build function to decorate & run simulations\n",
    "def outer(func):\n",
    "    sim = 0\n",
    "    stop = 100\n",
    "    def inner(*args):\n",
    "        nonlocal sim\n",
    "        while sim < stop:\n",
    "            sim += 1\n",
    "            result = func(sim)\n",
    "\n",
    "            if sim % 10 == 0:\n",
    "                print(f\"On step {sim} the result was: {result}\")\n",
    "        return result            \n",
    "    return inner"
   ]
  },
  {
   "cell_type": "code",
   "execution_count": 2,
   "id": "80b123cf",
   "metadata": {},
   "outputs": [],
   "source": [
    "@outer\n",
    "def basic_addition(n):\n",
    "    \"\"\"An example of how to solve this\"\"\"\n",
    "    return 5 + n"
   ]
  },
  {
   "cell_type": "code",
   "execution_count": 3,
   "id": "a9a92019",
   "metadata": {},
   "outputs": [
    {
     "name": "stdout",
     "output_type": "stream",
     "text": [
      "On step 10 the result was: 15\n",
      "On step 20 the result was: 25\n",
      "On step 30 the result was: 35\n",
      "On step 40 the result was: 45\n",
      "On step 50 the result was: 55\n",
      "On step 60 the result was: 65\n",
      "On step 70 the result was: 75\n",
      "On step 80 the result was: 85\n",
      "On step 90 the result was: 95\n",
      "On step 100 the result was: 105\n"
     ]
    },
    {
     "data": {
      "text/plain": [
       "105"
      ]
     },
     "execution_count": 3,
     "metadata": {},
     "output_type": "execute_result"
    }
   ],
   "source": [
    "basic_addition(10)"
   ]
  },
  {
   "cell_type": "markdown",
   "id": "45109dfe",
   "metadata": {},
   "source": [
    "### Moving into Problem"
   ]
  },
  {
   "cell_type": "code",
   "execution_count": 4,
   "id": "0f5ab588",
   "metadata": {},
   "outputs": [],
   "source": [
    "# build function to decorate & run simulations\n",
    "from random import randint\n",
    "\n",
    "def outer(func):\n",
    "\n",
    "    def inner(*args):\n",
    "        sim = 0\n",
    "        stop = 10_000\n",
    "        start_val = randint(1,100)\n",
    "        print(f\"Starting Val is: {start_val}\")\n",
    "        while sim < stop:\n",
    "            sim += 1\n",
    "            start_val = func(start_val)\n",
    "\n",
    "            if sim % 2_500 == 0:\n",
    "                print(f\"On step {sim} the result was: {start_val}\")\n",
    "        return start_val            \n",
    "    return inner"
   ]
  },
  {
   "cell_type": "code",
   "execution_count": 5,
   "id": "e71cbc7f",
   "metadata": {},
   "outputs": [],
   "source": [
    "@outer\n",
    "def flour_pour(n):\n",
    "    result =  (3 / n) + n\n",
    "    return result / 2"
   ]
  },
  {
   "cell_type": "code",
   "execution_count": 6,
   "id": "3a782c3b",
   "metadata": {},
   "outputs": [
    {
     "name": "stdout",
     "output_type": "stream",
     "text": [
      "Starting Val is: 71\n",
      "On step 2500 the result was: 1.7320508075688772\n",
      "On step 5000 the result was: 1.7320508075688772\n",
      "On step 7500 the result was: 1.7320508075688772\n",
      "On step 10000 the result was: 1.7320508075688772\n",
      "Starting Val is: 69\n",
      "On step 2500 the result was: 1.7320508075688772\n",
      "On step 5000 the result was: 1.7320508075688772\n",
      "On step 7500 the result was: 1.7320508075688772\n",
      "On step 10000 the result was: 1.7320508075688772\n",
      "Starting Val is: 2\n",
      "On step 2500 the result was: 1.7320508075688772\n",
      "On step 5000 the result was: 1.7320508075688772\n",
      "On step 7500 the result was: 1.7320508075688772\n",
      "On step 10000 the result was: 1.7320508075688772\n",
      "Starting Val is: 56\n",
      "On step 2500 the result was: 1.7320508075688772\n",
      "On step 5000 the result was: 1.7320508075688772\n",
      "On step 7500 the result was: 1.7320508075688772\n",
      "On step 10000 the result was: 1.7320508075688772\n",
      "Starting Val is: 87\n",
      "On step 2500 the result was: 1.7320508075688772\n",
      "On step 5000 the result was: 1.7320508075688772\n",
      "On step 7500 the result was: 1.7320508075688772\n",
      "On step 10000 the result was: 1.7320508075688772\n",
      "Starting Val is: 42\n",
      "On step 2500 the result was: 1.7320508075688772\n",
      "On step 5000 the result was: 1.7320508075688772\n",
      "On step 7500 the result was: 1.7320508075688772\n",
      "On step 10000 the result was: 1.7320508075688772\n",
      "Starting Val is: 95\n",
      "On step 2500 the result was: 1.7320508075688772\n",
      "On step 5000 the result was: 1.7320508075688772\n",
      "On step 7500 the result was: 1.7320508075688772\n",
      "On step 10000 the result was: 1.7320508075688772\n",
      "Starting Val is: 29\n",
      "On step 2500 the result was: 1.7320508075688772\n",
      "On step 5000 the result was: 1.7320508075688772\n",
      "On step 7500 the result was: 1.7320508075688772\n",
      "On step 10000 the result was: 1.7320508075688772\n",
      "Starting Val is: 92\n",
      "On step 2500 the result was: 1.7320508075688772\n",
      "On step 5000 the result was: 1.7320508075688772\n",
      "On step 7500 the result was: 1.7320508075688772\n",
      "On step 10000 the result was: 1.7320508075688772\n",
      "Starting Val is: 98\n",
      "On step 2500 the result was: 1.7320508075688772\n",
      "On step 5000 the result was: 1.7320508075688772\n",
      "On step 7500 the result was: 1.7320508075688772\n",
      "On step 10000 the result was: 1.7320508075688772\n"
     ]
    }
   ],
   "source": [
    "for _ in range(10):\n",
    "    flour_pour(10)"
   ]
  }
 ],
 "metadata": {
  "kernelspec": {
   "display_name": "ml",
   "language": "python",
   "name": "ml"
  },
  "language_info": {
   "codemirror_mode": {
    "name": "ipython",
    "version": 3
   },
   "file_extension": ".py",
   "mimetype": "text/x-python",
   "name": "python",
   "nbconvert_exporter": "python",
   "pygments_lexer": "ipython3",
   "version": "3.9.2"
  }
 },
 "nbformat": 4,
 "nbformat_minor": 5
}
