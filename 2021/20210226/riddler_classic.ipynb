{
 "cells": [
  {
   "cell_type": "markdown",
   "metadata": {},
   "source": [
    "### Classic: \n",
    "\n",
    "From Jesse Nicholas comes a puzzle that is four small steps for a human, one giant leap for humankind:\n",
    "\n",
    "Advertisement\n",
    "You have 10 blocks with which to build four steps against a wall. The first step is one block high, the second is two blocks high, the third is three blocks high and the fourth is four blocks high.\n",
    "\n",
    "However, the ground ever-so-slightly slopes down toward the wall, and both the floor and the blocks are a little bit slippery. As a result, whenever you place a block at ground level, it slides toward the wall until it hits the wall or another block. And when you place a block atop another block, it will similarly slide toward the wall until it hits the wall or another block.\n",
    "\n",
    "Suppose the four blocks in the bottom row are labeled A, the three blocks in the second row are labeled B, the two blocks in the next row are labeled C and the topmost block is labeled D. One way to build the steps would be to place the blocks in the following order, one row at a time: A-A-A-A-B-B-B-C-C-D. You could alternatively place the blocks one column at a time: A-B-C-D-A-B-C-A-B-A. But you could not place them in the order A-B-B-A-A-A-B-C-C-D because that would mean at one point you have more blocks in the second row, B, than in the bottom row, A — a physical impossibility!\n",
    "\n",
    "How many distinct ways are there to build these four steps using the 10 blocks?"
   ]
  },
  {
   "cell_type": "markdown",
   "metadata": {},
   "source": [
    "#### Logic:\n",
    "\n",
    "I went through a few iterations. Initially I was going to do the following:\n",
    "- Confirm a block has a proper block to be stacked on (Example: To use a B there must be an A)\n",
    "- Confirm a block has enough blocks in the row beneath to support it (Example: We can't have two Bs with only 1 A)\n",
    "\n",
    "However, these can just be combined into logic that looks like:\n",
    "- For every column, confirm proper placement order. \n",
    "- Then need to confirm row stuff....but I think row gets handled from this process? "
   ]
  },
  {
   "cell_type": "code",
   "execution_count": 3,
   "metadata": {},
   "outputs": [
    {
     "name": "stdout",
     "output_type": "stream",
     "text": [
      "['A', 'A', 'A', 'A', 'B', 'B', 'B', 'C', 'C', 'D']\n",
      "{'A': 1, 'B': 2, 'C': 3, 'D': 4}\n",
      "Total permutations: 3628800\n",
      "Total combinations: 12600\n"
     ]
    }
   ],
   "source": [
    "import itertools\n",
    "\n",
    "from random import randint\n",
    "\n",
    "# my blocks\n",
    "my_blocks = [['A']*4, ['B']*3, ['C']*2, ['D']]\n",
    "my_blocks = [item for sublist in my_blocks for item in sublist]\n",
    "print(my_blocks)\n",
    "\n",
    "# generate dict mapping values to blocks\n",
    "block_dict = {'A': 1, 'B': 2, 'C': 3, 'D': 4}\n",
    "print(block_dict)\n",
    "\n",
    "# building a large list of possibilities\n",
    "brute_force_list = list(itertools.permutations(my_blocks, 10))\n",
    "print(f\"Total permutations: {len(brute_force_list)}\")\n",
    "brute_force_list = list(map(list, set(map(lambda i: tuple(i), brute_force_list)))) # remove duplicates\n",
    "print(f\"Total combinations: {len(brute_force_list)}\")"
   ]
  },
  {
   "cell_type": "markdown",
   "metadata": {},
   "source": [
    "### Functions: \n"
   ]
  },
  {
   "cell_type": "code",
   "execution_count": 2,
   "metadata": {},
   "outputs": [],
   "source": [
    "def colSolver(inputString):\n",
    "    \"\"\"Builds out general order inputs, representing each column\"\"\"\n",
    "    lists = {1: [], 2: [], 3: [], 4: []}\n",
    "    for c in inputString:\n",
    "        go = True\n",
    "        i = 1\n",
    "        while go:\n",
    "            if c in lists[i]:\n",
    "                i += 1\n",
    "            else:\n",
    "                lists[i].append(block_dict[c])\n",
    "                lists[i].append(c)\n",
    "                go = False\n",
    "    return lists\n",
    "\n",
    "def reduceInt(inputList):\n",
    "    \"\"\"Reduce list of alphanumeric to numeric only\"\"\"\n",
    "    return [num for num in inputList if isinstance(num, (int,float))]\n",
    "\n",
    "def solver(inputString):\n",
    "    \"\"\"Pass string through various checks\"\"\"\n",
    "    orderCol = colSolver(inputString)\n",
    "    for col in orderCol.values():\n",
    "        reduced = reduceInt(col)\n",
    "        if sorted(reduced) != reduced:\n",
    "            return False\n",
    "    return True"
   ]
  },
  {
   "cell_type": "code",
   "execution_count": 12,
   "metadata": {},
   "outputs": [
    {
     "name": "stdout",
     "output_type": "stream",
     "text": [
      "Test 1: ['B', 'A', 'C', 'A', 'A', 'B', 'A', 'D', 'C', 'B']\n",
      "Acceptable: False\n",
      "\n",
      "Test 2: ['B', 'A', 'B', 'A', 'C', 'A', 'A', 'D', 'C', 'B']\n",
      "Acceptable: False\n",
      "\n",
      "Test 3: ['B', 'A', 'A', 'A', 'D', 'B', 'C', 'A', 'C', 'B']\n",
      "Acceptable: False\n",
      "\n",
      "Test 4: ['B', 'C', 'A', 'B', 'A', 'A', 'A', 'C', 'B', 'D']\n",
      "Acceptable: False\n",
      "\n",
      "Test 5: ['C', 'B', 'D', 'B', 'B', 'A', 'A', 'A', 'C', 'A']\n",
      "Acceptable: False\n",
      "\n",
      "Test 6: ['D', 'B', 'A', 'A', 'A', 'A', 'C', 'C', 'B', 'B']\n",
      "Acceptable: False\n",
      "\n",
      "Test 7: ['C', 'D', 'A', 'B', 'A', 'B', 'A', 'A', 'C', 'B']\n",
      "Acceptable: False\n",
      "\n",
      "Test 8: ['B', 'A', 'B', 'A', 'A', 'A', 'C', 'C', 'B', 'D']\n",
      "Acceptable: False\n",
      "\n",
      "Test 9: ['C', 'C', 'A', 'A', 'A', 'B', 'B', 'D', 'A', 'B']\n",
      "Acceptable: False\n",
      "\n",
      "Test 10: ['A', 'A', 'C', 'A', 'C', 'B', 'D', 'B', 'A', 'B']\n",
      "Acceptable: False\n",
      "\n",
      "Test 11: ['A', 'C', 'D', 'A', 'C', 'A', 'A', 'B', 'B', 'B']\n",
      "Acceptable: False\n",
      "\n",
      "Test 12: ['C', 'B', 'B', 'A', 'C', 'B', 'A', 'A', 'A', 'D']\n",
      "Acceptable: False\n",
      "\n",
      "Test 13: ['B', 'B', 'C', 'A', 'A', 'A', 'A', 'D', 'C', 'B']\n",
      "Acceptable: False\n",
      "\n",
      "Test 14: ['A', 'A', 'C', 'B', 'B', 'A', 'D', 'B', 'A', 'C']\n",
      "Acceptable: False\n",
      "\n",
      "Test 15: ['A', 'A', 'B', 'D', 'B', 'C', 'B', 'A', 'C', 'A']\n",
      "Acceptable: False\n",
      "\n",
      "Test 16: ['A', 'A', 'C', 'C', 'B', 'A', 'D', 'B', 'A', 'B']\n",
      "Acceptable: False\n",
      "\n",
      "Test 17: ['A', 'A', 'C', 'C', 'B', 'B', 'A', 'A', 'B', 'D']\n",
      "Acceptable: False\n",
      "\n",
      "Test 18: ['C', 'A', 'A', 'B', 'A', 'B', 'B', 'D', 'A', 'C']\n",
      "Acceptable: False\n",
      "\n",
      "Test 19: ['A', 'B', 'A', 'C', 'A', 'B', 'A', 'C', 'D', 'B']\n",
      "Acceptable: True\n",
      "\n",
      "Test 20: ['C', 'B', 'C', 'A', 'D', 'A', 'A', 'A', 'B', 'B']\n",
      "Acceptable: False\n",
      "\n"
     ]
    }
   ],
   "source": [
    "#### Testing:\n",
    "for i in range(20):\n",
    "    test = brute_force_list[randint(0,len(brute_force_list))]\n",
    "    print(f\"Test {i+1}: {test}\")\n",
    "    print(f\"Acceptable: {solver(test)}\")\n",
    "    print(\"\")"
   ]
  },
  {
   "cell_type": "markdown",
   "metadata": {},
   "source": [
    "### Brute-Force Test:\n",
    "\n",
    "Store off those sequences that are possible. Take a peek at a few to confirm things look okay. "
   ]
  },
  {
   "cell_type": "code",
   "execution_count": 13,
   "metadata": {},
   "outputs": [
    {
     "name": "stdout",
     "output_type": "stream",
     "text": [
      "Possible Options: 768\n"
     ]
    }
   ],
   "source": [
    "good_list = []\n",
    "for _ in brute_force_list:\n",
    "    if solver(_):\n",
    "        good_list.append(_)\n",
    "print(f\"Possible Options: {len(good_list)}\")"
   ]
  },
  {
   "cell_type": "code",
   "execution_count": null,
   "metadata": {},
   "outputs": [],
   "source": [
    "for i in range(20):\n",
    "    test = good_list[randint(0,len(good_list))]\n",
    "    print(f\"Test {i+1}: {test}\")\n",
    "    print(f\"Acceptable: {solver(test)}\")\n",
    "    print(\"\")"
   ]
  }
 ],
 "metadata": {
  "kernelspec": {
   "display_name": "Python 3.8",
   "language": "python",
   "name": "other-env"
  },
  "language_info": {
   "codemirror_mode": {
    "name": "ipython",
    "version": 3
   },
   "file_extension": ".py",
   "mimetype": "text/x-python",
   "name": "python",
   "nbconvert_exporter": "python",
   "pygments_lexer": "ipython3",
   "version": "3.8.5"
  }
 },
 "nbformat": 4,
 "nbformat_minor": 4
}
