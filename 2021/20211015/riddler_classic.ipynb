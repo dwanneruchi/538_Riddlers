{
 "cells": [
  {
   "cell_type": "markdown",
   "id": "d6b29c10",
   "metadata": {},
   "source": [
    "### classic \n",
    "\n",
    "From Eric Thompson-Martin comes a puzzle involving two more teams from Riddler League Baseball:\n",
    "\n",
    "Over in the National League Championship Series, the Washington Rationals and the St. Louis Ordinals (known as the “Ords” for short) are also evenly matched. Again, both teams are equally likely to win each game of the best-of-seven series.\n",
    "\n",
    "You enter a competition in which you must predict the winner of each of the seven games before the series begins. If any or all of the fifth, sixth or seventh game are not played, you are not credited with predicting a winner.\n",
    "\n",
    "You win the competition if you predict at least two games correctly. If you optimize your strategy for picking winners, what is the probability you will win the competition?\n",
    "\n",
    "### Initial Thoughts: \n",
    "\n",
    "- It probably makes sense to look through combinations at `5-6-7` games to see if there is any shift in likelihood for specific guesses \n",
    "- curious if always choosing one team makes the most sense"
   ]
  },
  {
   "cell_type": "code",
   "execution_count": 39,
   "id": "e4abed1f",
   "metadata": {},
   "outputs": [],
   "source": [
    "# Build a sample of 5-6-7 games out\n",
    "import numpy as np\n",
    "import random\n",
    "def playSeries(r = 4):\n",
    "    \"\"\"We play series until team as Wins = R or Losses = R\"\"\"\n",
    "    arr = [0] * 7 # switch to list for lazy\n",
    "    for i in range(7):\n",
    "        arr[i] = random.choice([0, 1])\n",
    "        \n",
    "        # we can check for 4 1s or a sequence of 1s that would indicate 4 0s\n",
    "        # spit out distinct string of vals for easier comparison \n",
    "        if (sum(arr) == r) or (sum(arr) == i + 1 - r):\n",
    "            return i + 1, ''.join([str(a) for a in arr[:i+1]])"
   ]
  },
  {
   "cell_type": "code",
   "execution_count": 51,
   "id": "eb6b710d",
   "metadata": {},
   "outputs": [],
   "source": [
    "from collections import defaultdict\n",
    "d_list = defaultdict(set)\n",
    "\n",
    "# we can gather all possible combinations & use for a strategy\n",
    "for _ in range(1_000_000):\n",
    "    i, arr = playSeries()\n",
    "    d_list[i].add(arr)"
   ]
  },
  {
   "cell_type": "code",
   "execution_count": 58,
   "id": "5461cf55",
   "metadata": {},
   "outputs": [],
   "source": [
    "from math import factorial as f\n",
    "def comb(n, r):\n",
    "    try:\n",
    "        return f(n) / (f(n-r) * f(r))\n",
    "    except:\n",
    "        return 0 # this is for negative case \n",
    "# confirm we have all forms of 5-6-7\n",
    "assert(2 * (comb(5,4) - comb(4,4)) == len(d_list[5]))\n",
    "assert(2 * (comb(6,4) - comb(5,4)) == len(d_list[6]))\n",
    "assert(2 * (comb(7,4) - comb(6,4)) == len(d_list[7]))"
   ]
  },
  {
   "cell_type": "markdown",
   "id": "63c5c094",
   "metadata": {},
   "source": [
    "### We Now Have A List of All Possibilities We Care About (5-6-7)\n"
   ]
  },
  {
   "cell_type": "code",
   "execution_count": 62,
   "id": "f568962f",
   "metadata": {},
   "outputs": [
    {
     "data": {
      "text/plain": [
       "['01000',\n",
       " '00010',\n",
       " '01111',\n",
       " '11011',\n",
       " '00100',\n",
       " '11101',\n",
       " '10000',\n",
       " '10111',\n",
       " '011011',\n",
       " '011101',\n",
       " '101101',\n",
       " '101011',\n",
       " '100010',\n",
       " '001111',\n",
       " '001100',\n",
       " '001010',\n",
       " '110000',\n",
       " '010100',\n",
       " '101000',\n",
       " '010010',\n",
       " '100100',\n",
       " '100111',\n",
       " '110011',\n",
       " '110101',\n",
       " '000110',\n",
       " '010111',\n",
       " '111001',\n",
       " '011000',\n",
       " '0100111',\n",
       " '0111000',\n",
       " '1100011',\n",
       " '1101001',\n",
       " '0110011',\n",
       " '0111001',\n",
       " '1001010',\n",
       " '1010100',\n",
       " '1110001',\n",
       " '0100110',\n",
       " '0011100',\n",
       " '0101011',\n",
       " '0011010',\n",
       " '1011001',\n",
       " '0101010',\n",
       " '1001101',\n",
       " '1000111',\n",
       " '1001100',\n",
       " '1010010',\n",
       " '1011000',\n",
       " '0001111',\n",
       " '1010101',\n",
       " '0110100',\n",
       " '0101101',\n",
       " '1101000',\n",
       " '1001011',\n",
       " '1000110',\n",
       " '0101100',\n",
       " '1110000',\n",
       " '1100100',\n",
       " '0010110',\n",
       " '1100101',\n",
       " '0001110',\n",
       " '0110101',\n",
       " '0010111',\n",
       " '0110010',\n",
       " '0011101',\n",
       " '1010011',\n",
       " '1100010',\n",
       " '0011011']"
      ]
     },
     "execution_count": 62,
     "metadata": {},
     "output_type": "execute_result"
    }
   ],
   "source": [
    "list(d_list[5]) + list(d_list[6]) + list(d_list[7])"
   ]
  },
  {
   "cell_type": "code",
   "execution_count": null,
   "id": "af44a4c2",
   "metadata": {},
   "outputs": [],
   "source": []
  }
 ],
 "metadata": {
  "kernelspec": {
   "display_name": "Python 3 (ipykernel)",
   "language": "python",
   "name": "python3"
  },
  "language_info": {
   "codemirror_mode": {
    "name": "ipython",
    "version": 3
   },
   "file_extension": ".py",
   "mimetype": "text/x-python",
   "name": "python",
   "nbconvert_exporter": "python",
   "pygments_lexer": "ipython3",
   "version": "3.9.2"
  }
 },
 "nbformat": 4,
 "nbformat_minor": 5
}
