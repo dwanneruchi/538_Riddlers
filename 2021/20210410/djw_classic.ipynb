{
 "cells": [
  {
   "cell_type": "markdown",
   "metadata": {},
   "source": [
    "### Classic:\n",
    "In Riddler City, all the streets are currently two-way streets. But in an effort to make the metropolis friendlier for pedestrians and cyclists, the mayor has decreed that all streets should be one-way. Meanwhile, the civil engineer overseeing this transition is not particularly invested in the project and will be randomly assigning every block of each street a random direction.\n",
    "\n",
    "For your daily commute to work, you drive a car two blocks east and two blocks south, as shown in the diagram below. What is the probability that, after each block is randomly assigned a one-way direction, there will still be a way for you to commute to work while staying within this two-by-two block region (i.e., sticking to the 12 streets you see in the diagram)? \n",
    "\n",
    "#### Solution:\n",
    "\n",
    "- Convert to a graph\n",
    "- Edges have direction\n",
    "- Traversal from upper-left vertex to bottom-right vertex \n",
    "\n",
    "#### Graph Vertex:\n",
    "\n",
    "```\n",
    "0 1 2 \n",
    "\n",
    "3 4 5\n",
    "\n",
    "6 7 8\n",
    "\n",
    "```\n",
    "\n",
    "#### Combinations of Edges:\n",
    "\n",
    "Helpful to store as a dictionary. But to get randomness of edges it makes more sense to store as tuples, apply randomness, and then convert to graph. \n",
    "\n",
    "#### Solving\n",
    "\n",
    "- Direction is determined by randomly flipping, but if we have (0,1) we go 0 -> 1. (1, 0) means 1 -> 0. \n",
    "- Goal is to check if its possible to go from start to end with current layout\n",
    "\n",
    "#### Example below: \n",
    "\n",
    "- Can use recursion. Leaning on my AoC solution: https://github.com/dwanneruchi/AdventOfCode/blob/c0be3a87cace0228eb6852f33a611298220ed526/2020/day07/day07solution_part2.ipynb"
   ]
  },
  {
   "cell_type": "code",
   "execution_count": 2,
   "metadata": {},
   "outputs": [],
   "source": [
    "l_tuples = [(0,1), (0,3),\n",
    "            (1,2), (1,4),\n",
    "            (2,5),\n",
    "            (3,4), (3,6),\n",
    "            (4,5), (4,7),\n",
    "            (5,8),\n",
    "            (6,7),\n",
    "            (7,8)\n",
    "           ]"
   ]
  },
  {
   "cell_type": "code",
   "execution_count": 3,
   "metadata": {},
   "outputs": [],
   "source": [
    "from collections import defaultdict\n",
    "routes = defaultdict( list )\n",
    "\n",
    "for k,v in l_tuples:\n",
    "    routes[k].append(v)"
   ]
  },
  {
   "cell_type": "code",
   "execution_count": 4,
   "metadata": {},
   "outputs": [
    {
     "data": {
      "text/plain": [
       "defaultdict(list,\n",
       "            {0: [1, 3],\n",
       "             1: [2, 4],\n",
       "             2: [5],\n",
       "             3: [4, 6],\n",
       "             4: [5, 7],\n",
       "             5: [8],\n",
       "             6: [7],\n",
       "             7: [8]})"
      ]
     },
     "execution_count": 4,
     "metadata": {},
     "output_type": "execute_result"
    }
   ],
   "source": [
    "routes"
   ]
  },
  {
   "cell_type": "code",
   "execution_count": 5,
   "metadata": {},
   "outputs": [],
   "source": [
    "def graphSolver(d,k):\n",
    "    \"\"\"Iterate over values in key, adding all edges (needs to be cleaned up)\"\"\"\n",
    "    verts = list(d[k])\n",
    "    \n",
    "    # iterate over each vert\n",
    "    for k in verts:\n",
    "        verts = verts + graphSolver(d, k)\n",
    "    else:\n",
    "        pass\n",
    "    return verts"
   ]
  },
  {
   "cell_type": "code",
   "execution_count": 6,
   "metadata": {},
   "outputs": [
    {
     "name": "stdout",
     "output_type": "stream",
     "text": [
      "[1, 3, 2, 4, 5, 8, 5, 7, 8, 8, 4, 6, 5, 7, 8, 8, 7, 8]\n",
      "True\n"
     ]
    }
   ],
   "source": [
    "all_paths = graphSolver(routes, 0)\n",
    "print(all_paths)\n",
    "\n",
    "if 8 in all_paths:\n",
    "    print(True)"
   ]
  },
  {
   "cell_type": "code",
   "execution_count": 7,
   "metadata": {},
   "outputs": [
    {
     "name": "stdout",
     "output_type": "stream",
     "text": [
      "[1]\n"
     ]
    }
   ],
   "source": [
    "# check an impossible example now \n",
    "# 0 - 1 exists, but then 1 is flipped to go backwards\n",
    "# 0 - 3 no longer exists (only goes up)\n",
    "\n",
    "l_tuples = [(0,1), (3,0),\n",
    "            (2,1), (4,1),\n",
    "            (2,5),\n",
    "            (3,4), (3,6),\n",
    "            (4,5), (4,7),\n",
    "            (5,8),\n",
    "            (6,7),\n",
    "            (7,8)\n",
    "           ]\n",
    "\n",
    "\n",
    "routes = defaultdict( list )\n",
    "\n",
    "for k,v in l_tuples:\n",
    "    routes[k].append(v)\n",
    "\n",
    "# trapped at 1\n",
    "all_paths = graphSolver(routes, 0)\n",
    "print(all_paths)\n",
    "\n",
    "if 8 in all_paths:\n",
    "    print(True)"
   ]
  },
  {
   "cell_type": "markdown",
   "metadata": {},
   "source": [
    "### Error to Solve:\n",
    "\n",
    "- I can get stuck in an infinite loop. How to avoid? \n",
    "\n",
    "- Right now it frustratingly breaks everything...so may avoid recursive func\n",
    "\n",
    "- Graph Traversal likely makes sense here\n",
    "    - https://www.python.org/doc/essays/graphs/"
   ]
  },
  {
   "cell_type": "code",
   "execution_count": 27,
   "metadata": {},
   "outputs": [
    {
     "data": {
      "text/plain": [
       "defaultdict(list,\n",
       "            {0: [1],\n",
       "             3: [0],\n",
       "             2: [1, 5],\n",
       "             1: [4],\n",
       "             4: [3],\n",
       "             6: [3, 7],\n",
       "             5: [4, 8],\n",
       "             7: [4, 8]})"
      ]
     },
     "execution_count": 27,
     "metadata": {},
     "output_type": "execute_result"
    }
   ],
   "source": [
    "# check an infinite loop example now \n",
    "# 0 - 1 , 1 -4 , 4 - 3, 3 - 0\n",
    "\n",
    "# each tuple represents a graph arc\n",
    "l_tuples = [(0,1), (3,0),\n",
    "            (2,1), (1,4),\n",
    "            (2,5),\n",
    "            (4, 3), (6,3),\n",
    "            (5,4), (7,4),\n",
    "            (5,8),\n",
    "            (6,7),\n",
    "            (7,8)\n",
    "           ]\n",
    "\n",
    "\n",
    "# build a default dict \n",
    "routes = defaultdict( list )\n",
    "\n",
    "# store each arc into a dictionary \n",
    "for k,v in l_tuples:\n",
    "    routes[k].append(v)\n",
    "    \n",
    "    \n",
    "routes"
   ]
  },
  {
   "cell_type": "code",
   "execution_count": 28,
   "metadata": {},
   "outputs": [],
   "source": [
    "# utilize the path function from documentation\n",
    "def find_path(graph, start, end, path=[]):\n",
    "        path = path + [start]\n",
    "        if start == end:\n",
    "            return path\n",
    "        if start not in graph:\n",
    "            return None\n",
    "        for node in graph[start]:\n",
    "            if node not in path:\n",
    "                newpath = find_path(graph, node, end, path)\n",
    "                if newpath: return newpath\n",
    "        return None"
   ]
  },
  {
   "cell_type": "code",
   "execution_count": 30,
   "metadata": {},
   "outputs": [],
   "source": [
    "assert(find_path(routes, 0, 8) == None)"
   ]
  },
  {
   "cell_type": "markdown",
   "metadata": {},
   "source": [
    "### Simulation Test: \n",
    "\n",
    "Steps: \n",
    "- randomly flip edges (they will now shift into arcs)\n",
    "- convert to dictionary graph\n",
    "- determine if a viable route from 0 - 8 exists (not None)"
   ]
  },
  {
   "cell_type": "code",
   "execution_count": 32,
   "metadata": {},
   "outputs": [],
   "source": [
    "from random import randint\n",
    "\n",
    "def randomRoute(l_tup):\n",
    "    \"\"\"Randomly flip edges to generate list of of arcs\"\"\"\n",
    "    out_tup = []\n",
    "    for edge in l_tup:\n",
    "        if randint(0,1) == 1:\n",
    "            edge = (edge[1], edge[0])\n",
    "        out_tup.append(edge)\n",
    "    return out_tup"
   ]
  },
  {
   "cell_type": "code",
   "execution_count": 33,
   "metadata": {},
   "outputs": [
    {
     "name": "stdout",
     "output_type": "stream",
     "text": [
      "defaultdict(<class 'list'>, {0: [1], 3: [0], 2: [1], 4: [1, 3, 7], 5: [2, 4, 8], 6: [3], 7: [6], 8: [7]})\n",
      "None\n",
      "defaultdict(<class 'list'>, {1: [0, 2], 0: [3], 4: [1, 7], 5: [2, 4], 3: [4, 6], 8: [5, 7], 7: [6]})\n",
      "None\n",
      "defaultdict(<class 'list'>, {0: [1, 3], 1: [2, 4], 5: [2, 4, 8], 3: [4, 6], 7: [4], 6: [7], 8: [7]})\n",
      "None\n",
      "defaultdict(<class 'list'>, {0: [1], 3: [0, 4], 1: [2], 4: [1, 7], 5: [2, 4, 8], 6: [3, 7], 8: [7]})\n",
      "None\n",
      "defaultdict(<class 'list'>, {1: [0, 4], 0: [3], 2: [1, 5], 3: [4], 6: [3, 7], 4: [5], 7: [4, 8], 8: [5]})\n",
      "None\n",
      "defaultdict(<class 'list'>, {1: [0], 3: [0, 4], 2: [1], 4: [1, 5], 5: [2, 8], 6: [3], 7: [4, 6], 8: [7]})\n",
      "None\n",
      "defaultdict(<class 'list'>, {1: [0], 0: [3], 2: [1], 4: [1, 5, 7], 5: [2], 3: [4], 6: [3, 7], 8: [5, 7]})\n",
      "None\n",
      "defaultdict(<class 'list'>, {0: [1], 3: [0, 6], 1: [2, 4], 5: [2, 8], 4: [3, 5, 7], 6: [7], 8: [7]})\n",
      "[0, 1, 4, 5, 8]\n",
      "defaultdict(<class 'list'>, {0: [1, 3], 1: [2], 4: [1], 2: [5], 3: [4, 6], 5: [4], 7: [4, 6, 8], 8: [5]})\n",
      "None\n",
      "defaultdict(<class 'list'>, {0: [1], 3: [0, 4], 1: [2], 4: [1], 5: [2, 4, 8], 6: [3], 7: [4, 6, 8]})\n",
      "None\n"
     ]
    }
   ],
   "source": [
    "# original list of edges all east / south\n",
    "l_tuples = [(0,1), (0,3),\n",
    "            (1,2), (1,4),\n",
    "            (2,5),\n",
    "            (3,4), (3,6),\n",
    "            (4,5), (4,7),\n",
    "            (5,8),\n",
    "            (6,7),\n",
    "            (7,8)\n",
    "           ]\n",
    "\n",
    "success = 0\n",
    "sims = 10\n",
    "    \n",
    "for _ in range(sims):\n",
    "\n",
    "    # randomize route\n",
    "    out = randomRoute(l_tuples)\n",
    "    \n",
    "    # convert to graph \n",
    "    routes = defaultdict( list )\n",
    "    for k,v in out:\n",
    "        routes[k].append(v)\n",
    "        \n",
    "    print(routes)\n",
    "\n",
    "    # paths\n",
    "    try:\n",
    "        all_paths = find_path(routes, 0,8)\n",
    "        print(all_paths)\n",
    "    except:\n",
    "        print(\"Error\")\n",
    "\n",
    "    #if 8 in all_paths:\n",
    "    #    print(True)"
   ]
  },
  {
   "cell_type": "markdown",
   "metadata": {},
   "source": [
    "#### Large Sim: "
   ]
  },
  {
   "cell_type": "code",
   "execution_count": 36,
   "metadata": {},
   "outputs": [
    {
     "name": "stdout",
     "output_type": "stream",
     "text": [
      "Probability of success: 0.2750\n"
     ]
    }
   ],
   "source": [
    "# original list of edges all east / south\n",
    "l_tuples = [(0,1), (0,3),\n",
    "            (1,2), (1,4),\n",
    "            (2,5),\n",
    "            (3,4), (3,6),\n",
    "            (4,5), (4,7),\n",
    "            (5,8),\n",
    "            (6,7),\n",
    "            (7,8)\n",
    "           ]\n",
    "\n",
    "success = 0\n",
    "sims = 10000\n",
    "    \n",
    "for _ in range(sims):\n",
    "\n",
    "    # randomize route\n",
    "    out = randomRoute(l_tuples)\n",
    "    \n",
    "    # convert to graph \n",
    "    routes = defaultdict( list )\n",
    "    for k,v in out:\n",
    "        routes[k].append(v)\n",
    "        \n",
    "    # paths\n",
    "    try:\n",
    "        all_paths = find_path(routes, 0,8)\n",
    "        if all_paths != None:\n",
    "            #print(all_paths)\n",
    "            success += 1\n",
    "    except:\n",
    "        print(\"Error\")\n",
    "\n",
    "\n",
    "print(f\"Probability of success: {success/sims:.4f}\")"
   ]
  },
  {
   "cell_type": "markdown",
   "metadata": {},
   "source": [
    "#### Sim Progression: \n",
    "\n",
    "- see how the prob of success shifts over time "
   ]
  },
  {
   "cell_type": "code",
   "execution_count": 38,
   "metadata": {},
   "outputs": [
    {
     "name": "stdout",
     "output_type": "stream",
     "text": [
      "Probability of success for sim size 100: 0.2000\n",
      "Probability of success for sim size 1000: 0.2590\n",
      "Probability of success for sim size 10000: 0.2712\n",
      "Probability of success for sim size 100000: 0.2757\n",
      "Probability of success for sim size 250000: 0.2779\n",
      "Probability of success for sim size 500000: 0.2781\n",
      "Probability of success for sim size 1000000: 0.2772\n",
      "Probability of success for sim size 2000000: 0.2767\n"
     ]
    }
   ],
   "source": [
    "# original list of edges all east / south\n",
    "l_tuples = [(0,1), (0,3),\n",
    "            (1,2), (1,4),\n",
    "            (2,5),\n",
    "            (3,4), (3,6),\n",
    "            (4,5), (4,7),\n",
    "            (5,8),\n",
    "            (6,7),\n",
    "            (7,8)\n",
    "           ]\n",
    "\n",
    "sim_list = [100,1_000,10_000, 100_000, 250_000, 500_000, 1_000_000, 2_000_000]\n",
    "\n",
    "for sims in sim_list:\n",
    "\n",
    "    success = 0\n",
    "\n",
    "    for _ in range(sims):\n",
    "\n",
    "        # randomize route\n",
    "        out = randomRoute(l_tuples)\n",
    "\n",
    "        # convert to graph \n",
    "        routes = defaultdict( list )\n",
    "        for k,v in out:\n",
    "            routes[k].append(v)\n",
    "\n",
    "        # paths\n",
    "        try:\n",
    "            all_paths = find_path(routes, 0,8)\n",
    "            if all_paths != None:\n",
    "                #print(all_paths)\n",
    "                success += 1\n",
    "        except:\n",
    "            print(\"Error\")\n",
    "\n",
    "\n",
    "    print(f\"Probability of success for sim size {sims}: {success/sims:.4f}\")"
   ]
  },
  {
   "cell_type": "markdown",
   "metadata": {},
   "source": [
    "#### Analytical Solution:\n",
    "\n",
    "- Determine all possible combinations of routes (think of them as + vs -)\n",
    "- Determine total routes that allow for Start -> Finish "
   ]
  },
  {
   "cell_type": "code",
   "execution_count": null,
   "metadata": {},
   "outputs": [],
   "source": []
  }
 ],
 "metadata": {
  "kernelspec": {
   "display_name": "Python 3.8",
   "language": "python",
   "name": "other-env"
  },
  "language_info": {
   "codemirror_mode": {
    "name": "ipython",
    "version": 3
   },
   "file_extension": ".py",
   "mimetype": "text/x-python",
   "name": "python",
   "nbconvert_exporter": "python",
   "pygments_lexer": "ipython3",
   "version": "3.8.5"
  }
 },
 "nbformat": 4,
 "nbformat_minor": 4
}
