{
 "cells": [
  {
   "cell_type": "markdown",
   "metadata": {},
   "source": [
    "### Riddler Express: 2021-06-05\n",
    "\n",
    "Max the Mathemagician is calling for volunteers. He has a magic wand of length 10 that can be broken anywhere along its length (fractional and decimal lengths are allowed). After the volunteer chooses these breakpoints, Max will multiply the lengths of the resulting pieces. For example, if they break the wand near its midpoint and nowhere else, the resulting product is 5×5, or 25. If the product is the largest possible, they will win a free backstage pass to his next show. (Amazing, right?)\n",
    "\n",
    "You raise your hand to volunteer, and you and Max briefly make eye contact. As he calls you up to the stage, you know you have this in the bag. What is the maximum product you can achieve?"
   ]
  },
  {
   "cell_type": "code",
   "execution_count": 1,
   "metadata": {},
   "outputs": [
    {
     "name": "stdout",
     "output_type": "stream",
     "text": [
      "After 0 the max value found was: 0.14646611997709857\n",
      "Split sequence is: [ 0.          7.36186882  7.72756195  7.8690663   9.8009912  10.        ]\n",
      "\n",
      "\n",
      "After 100000 the max value found was: 38.926959560324256\n",
      "Split sequence is: [ 0.          2.35970273  4.95658962  7.55930815 10.        ]\n",
      "\n",
      "\n",
      "After 200000 the max value found was: 38.926959560324256\n",
      "Split sequence is: [ 0.          2.35970273  4.95658962  7.55930815 10.        ]\n",
      "\n",
      "\n",
      "After 300000 the max value found was: 38.995020128512245\n",
      "Split sequence is: [ 0.          2.57431785  4.97094852  7.53467512 10.        ]\n",
      "\n",
      "\n",
      "After 400000 the max value found was: 38.995020128512245\n",
      "Split sequence is: [ 0.          2.57431785  4.97094852  7.53467512 10.        ]\n",
      "\n",
      "\n",
      "After 500000 the max value found was: 38.995020128512245\n",
      "Split sequence is: [ 0.          2.57431785  4.97094852  7.53467512 10.        ]\n",
      "\n",
      "\n",
      "After 600000 the max value found was: 38.995020128512245\n",
      "Split sequence is: [ 0.          2.57431785  4.97094852  7.53467512 10.        ]\n",
      "\n",
      "\n",
      "After 700000 the max value found was: 39.020013852065304\n",
      "Split sequence is: [ 0.          2.49359489  5.06398216  7.47514184 10.        ]\n",
      "\n",
      "\n",
      "After 800000 the max value found was: 39.020013852065304\n",
      "Split sequence is: [ 0.          2.49359489  5.06398216  7.47514184 10.        ]\n",
      "\n",
      "\n",
      "After 900000 the max value found was: 39.020013852065304\n",
      "Split sequence is: [ 0.          2.49359489  5.06398216  7.47514184 10.        ]\n",
      "\n",
      "\n"
     ]
    }
   ],
   "source": [
    "import numpy as np \n",
    "\n",
    "# iterate over various starting split points\n",
    "init_len = 10\n",
    "#step_size = 0.25\n",
    "max_val = 0\n",
    "num_steps = 1_000_000 \n",
    "print_step = 100_000\n",
    "\n",
    "for _ in range(num_steps):\n",
    "    # for each split, randomly determine num of splits - max of 10 splits\n",
    "    num_splits = np.random.randint(1, 10)\n",
    "    #num_splits = 3\n",
    "    stt_idx = 0\n",
    "    end_idx = init_len\n",
    "    split_points = np.zeros(num_splits + 2)\n",
    "    split_points[0] = 0\n",
    "    split_points[-1] = init_len\n",
    "\n",
    "    # break into varying size based on split\n",
    "    for seq in range(1,num_splits + 1):\n",
    "        split_points[seq] = np.random.uniform(stt_idx, end_idx)\n",
    "        stt_idx = split_points[seq]\n",
    "\n",
    "    val = np.prod(np.diff(split_points))\n",
    "\n",
    "    if val > max_val:\n",
    "        max_val = val\n",
    "        max_splits = split_points\n",
    "    \n",
    "    # updates:\n",
    "    if _ % print_step == 0:\n",
    "        print(f\"After {_} the max value found was: {max_val}\")\n",
    "        print(f\"Split sequence is: {max_splits}\")\n",
    "        print(f\"\\n\")"
   ]
  },
  {
   "cell_type": "code",
   "execution_count": 2,
   "metadata": {},
   "outputs": [
    {
     "data": {
      "text/plain": [
       "39.0625"
      ]
     },
     "execution_count": 2,
     "metadata": {},
     "output_type": "execute_result"
    }
   ],
   "source": [
    "2.5 ** 4"
   ]
  },
  {
   "cell_type": "markdown",
   "metadata": {},
   "source": [
    "### Bonus:\n",
    "\n",
    "Size increases to 100 - going to approach by thinking about even splits & identifying proper exponent. "
   ]
  },
  {
   "cell_type": "code",
   "execution_count": 3,
   "metadata": {},
   "outputs": [
    {
     "name": "stdout",
     "output_type": "stream",
     "text": [
      "[1.00000000e+00 1.12589991e+15 8.01755271e+15 1.12589991e+15\n",
      " 9.53674316e+13]\n",
      "[1 2 3 4 5]\n"
     ]
    }
   ],
   "source": [
    "# build array of 1 - 99\n",
    "arr = np.arange(1,100)\n",
    "\n",
    "# determine even split - to power of 100 / val\n",
    "max_vals = arr ** (100 / arr)\n",
    "\n",
    "# makes sense to hone in a bit closer on splitting in some sequence from 2 - 4\n",
    "print(max_vals[:5])\n",
    "print(arr[:5])"
   ]
  },
  {
   "cell_type": "code",
   "execution_count": 4,
   "metadata": {},
   "outputs": [
    {
     "name": "stdout",
     "output_type": "stream",
     "text": [
      "2.7199999999999847\n",
      "9479773097477728.0\n"
     ]
    }
   ],
   "source": [
    "# build array of 2-4, in increments\n",
    "arr = np.arange(2,4,0.01)\n",
    "\n",
    "# determine even split - to power of 100 / val\n",
    "max_vals = arr ** (100 / arr)\n",
    "\n",
    "# find max\n",
    "print(arr[np.argmax(max_vals)])\n",
    "\n",
    "# find max val\n",
    "print(max_vals[np.argmax(max_vals)])"
   ]
  },
  {
   "cell_type": "code",
   "execution_count": 16,
   "metadata": {},
   "outputs": [
    {
     "data": {
      "text/plain": [
       "9467897357863656.0"
      ]
     },
     "execution_count": 16,
     "metadata": {},
     "output_type": "execute_result"
    }
   ],
   "source": [
    "# here is the reality of it: \n",
    "2.8 * 2.7 ** 36"
   ]
  },
  {
   "cell_type": "code",
   "execution_count": 17,
   "metadata": {},
   "outputs": [
    {
     "data": {
      "text/plain": [
       "100.0"
      ]
     },
     "execution_count": 17,
     "metadata": {},
     "output_type": "execute_result"
    }
   ],
   "source": [
    "36 * 2.7 + 2.8"
   ]
  },
  {
   "cell_type": "markdown",
   "metadata": {},
   "source": [
    "### Real-World Solution:\n",
    "\n",
    "- We need an integer for exponent, so split 37 times into size of 2.7 + (.1/37)"
   ]
  },
  {
   "cell_type": "code",
   "execution_count": 23,
   "metadata": {},
   "outputs": [
    {
     "data": {
      "text/plain": [
       "2.702702702702703"
      ]
     },
     "execution_count": 23,
     "metadata": {},
     "output_type": "execute_result"
    }
   ],
   "source": [
    "(2.7 + (.1/37)) "
   ]
  },
  {
   "cell_type": "code",
   "execution_count": 24,
   "metadata": {},
   "outputs": [
    {
     "data": {
      "text/plain": [
       "100.00000000000001"
      ]
     },
     "execution_count": 24,
     "metadata": {},
     "output_type": "execute_result"
    }
   ],
   "source": [
    "(2.7 + (.1/37)) * 37"
   ]
  },
  {
   "cell_type": "code",
   "execution_count": 25,
   "metadata": {},
   "outputs": [
    {
     "data": {
      "text/plain": [
       "9474061716781880.0"
      ]
     },
     "execution_count": 25,
     "metadata": {},
     "output_type": "execute_result"
    }
   ],
   "source": [
    "(2.7 + (.1/37))  ** 37"
   ]
  }
 ],
 "metadata": {
  "kernelspec": {
   "display_name": "Python 3.8",
   "language": "python",
   "name": "other-env"
  },
  "language_info": {
   "codemirror_mode": {
    "name": "ipython",
    "version": 3
   },
   "file_extension": ".py",
   "mimetype": "text/x-python",
   "name": "python",
   "nbconvert_exporter": "python",
   "pygments_lexer": "ipython3",
   "version": "3.8.5"
  }
 },
 "nbformat": 4,
 "nbformat_minor": 4
}
