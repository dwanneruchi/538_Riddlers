{
 "cells": [
  {
   "cell_type": "markdown",
   "metadata": {},
   "source": [
    "### Express:\n",
    "\n",
    "As of this week, there have already been six no-hitters this MLB season, well on pace to break the record for no-hitters for a season in the modern era, which stands at nine in 1990.\n",
    "\n",
    "To achieve a no-hitter, a pitcher must pitch a complete game (recording 27 outs over nine innings) without allowing a hit (i.e., walks and other means of reaching base are allowed). However, to achieve a perfect game, a pitcher must record 27 consecutive outs without allowing anyone from the opposing team on base. There have been only 23 perfect games in MLB history. Two were thrown in 2010, and three were thrown in 2012.\n",
    "\n",
    "In 2009, the leaguewide on-base percentage was 0.333. That figure has fallen over the past decade, and this year, it’s all the way down to 0.313, which helps explain the surge in no-hitters.\n",
    "\n",
    "How low would a batter’s chances of reaching base have to be for you to expect one perfect game per season? (You can make the following simplifying assumptions: All batters have the same chances of reaching base; at-bats are independent from each other; there are 30 MLB teams, and each club plays 162 games; and no games go into extra innings.)"
   ]
  },
  {
   "cell_type": "markdown",
   "metadata": {},
   "source": [
    "### Solution: \n",
    "\n",
    "Given the assumptions we can treat each batter's attempt at getting on base as a bernoulli process or we can just treat each game as being a binomial problem where we want to estimate the follow:\n",
    "- In `n` attempts at bat, batters get on base `k` times per game. \n",
    "\n",
    "Specifically, we care about the probability mass function:\n",
    "\n",
    "$\\binom{N = 27}{k = 0} p^{k} * (1-p)^{n-k}$\n",
    "\n",
    "We can solve for this as follows:\n",
    "\n",
    "$\\binom{N = 27}{k = 0} = 1$\n",
    "\n",
    "$p^{0} * (1-p)^{27} = (1-p)^{27}$\n",
    "\n",
    "And we would want this multiplied by `game` * `teams` to be equal to 1:\n",
    "\n",
    "$ 1 = (162 * 30) * (1-p)^{27}$\n",
    "\n",
    "$ \\frac{1}{(162 * 30)} =  (1-p)^{27}$\n",
    "\n",
    "$ (\\frac{1}{(162 * 30)})^{1/27} =  (1-p)$\n",
    "\n",
    "$ p = 1 - (\\frac{1}{(162 * 30)})^{1/27}$\n",
    "\n",
    "$ p = 0.269883$"
   ]
  },
  {
   "cell_type": "code",
   "execution_count": 2,
   "metadata": {},
   "outputs": [
    {
     "name": "stdout",
     "output_type": "stream",
     "text": [
      "0.2697729510887368\n"
     ]
    }
   ],
   "source": [
    "# python confirmation \n",
    "np = 162 * 30\n",
    "p = 1 - (1/np)**(1/27)\n",
    "print(p)"
   ]
  },
  {
   "cell_type": "code",
   "execution_count": 3,
   "metadata": {},
   "outputs": [],
   "source": [
    "# Check work:\n",
    "from scipy import stats"
   ]
  },
  {
   "cell_type": "code",
   "execution_count": 4,
   "metadata": {},
   "outputs": [
    {
     "data": {
      "text/plain": [
       "0.9999999999999998"
      ]
     },
     "execution_count": 4,
     "metadata": {},
     "output_type": "execute_result"
    }
   ],
   "source": [
    "# determine likelihood of seeing 0 players successfully get to base in 27 tries given their on base success is p\n",
    "no_base = stats.binom.pmf(0,27,p)\n",
    "\n",
    "# multiply that likelihood by total games * teams (each game has 2 teams that can experience a perfect game)\n",
    "no_base * 162 * 30"
   ]
  }
 ],
 "metadata": {
  "kernelspec": {
   "display_name": "Python 3.8",
   "language": "python",
   "name": "other-env"
  },
  "language_info": {
   "codemirror_mode": {
    "name": "ipython",
    "version": 3
   },
   "file_extension": ".py",
   "mimetype": "text/x-python",
   "name": "python",
   "nbconvert_exporter": "python",
   "pygments_lexer": "ipython3",
   "version": "3.8.5"
  }
 },
 "nbformat": 4,
 "nbformat_minor": 4
}
