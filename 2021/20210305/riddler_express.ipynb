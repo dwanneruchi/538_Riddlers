{
 "cells": [
  {
   "cell_type": "markdown",
   "metadata": {},
   "source": [
    "### Riddler Express:\n",
    "\n",
    "You have three coins in your pocket, each of which can be a penny, nickel, dime or quarter with equal probability. You might have three different coins, three of the same coin or two coins that are the same and one that is different.\n",
    "\n",
    "Each of these coins can buy you a string whose length in centimeters equals the value of the coin in cents, i.e., the penny buys 1 cm of string, the nickel buys 5 cm of string, etc. After purchasing your three lengths of string, what is the probability that they can be the side lengths of a triangle?\n",
    "\n",
    "#### Initial Thoughts:\n",
    "\n",
    "- Should have 4^3 possibilities, so easy enough to list out. "
   ]
  },
  {
   "cell_type": "code",
   "execution_count": 1,
   "metadata": {},
   "outputs": [],
   "source": [
    "import numpy as np \n",
    "import time \n",
    "\n",
    "def triangleInequalityTheorem(a,b,c):\n",
    "    \"\"\"Rule is that two sides combined must always exceed the third side\"\"\"\n",
    "    if (a+b > c) and (a+c > b) and (b+c > a):\n",
    "        return True\n",
    "    else:\n",
    "        return False\n",
    "\n",
    "# check some triangles:\n",
    "\n",
    "# test 1: should work -> 3,4,5\n",
    "assert(triangleInequalityTheorem(3,4,5) == True)\n",
    "\n",
    "# test 2: should not work -> 4,8,15\n",
    "assert(triangleInequalityTheorem(4,8,15) == False)"
   ]
  },
  {
   "cell_type": "code",
   "execution_count": 6,
   "metadata": {},
   "outputs": [
    {
     "name": "stdout",
     "output_type": "stream",
     "text": [
      "Likelihood triangle: 0.34375\n"
     ]
    }
   ],
   "source": [
    "coin_options = np.array([1,5,10,25]) # our coin options\n",
    "\n",
    "total_list = []\n",
    "triangle_list = []\n",
    "\n",
    "for l1 in coin_options:\n",
    "    for l2 in coin_options:\n",
    "        for l3 in coin_options:\n",
    "            total_list.append([l1,l2,l3])\n",
    "            if triangleInequalityTheorem(a=l1, b = l2, c = l3):\n",
    "                triangle_list.append([l1,l2,l3])\n",
    "            \n",
    "print(f\"Likelihood triangle: {len(triangle_list) / len(total_list):.5f}\")"
   ]
  },
  {
   "cell_type": "code",
   "execution_count": 3,
   "metadata": {},
   "outputs": [
    {
     "data": {
      "text/plain": [
       "[[1, 1, 1],\n",
       " [1, 5, 5],\n",
       " [1, 10, 10],\n",
       " [1, 25, 25],\n",
       " [5, 1, 5],\n",
       " [5, 5, 1],\n",
       " [5, 5, 5],\n",
       " [5, 10, 10],\n",
       " [5, 25, 25],\n",
       " [10, 1, 10],\n",
       " [10, 5, 10],\n",
       " [10, 10, 1],\n",
       " [10, 10, 5],\n",
       " [10, 10, 10],\n",
       " [10, 25, 25],\n",
       " [25, 1, 25],\n",
       " [25, 5, 25],\n",
       " [25, 10, 25],\n",
       " [25, 25, 1],\n",
       " [25, 25, 5],\n",
       " [25, 25, 10],\n",
       " [25, 25, 25]]"
      ]
     },
     "execution_count": 3,
     "metadata": {},
     "output_type": "execute_result"
    }
   ],
   "source": [
    "triangle_list # print to review"
   ]
  },
  {
   "cell_type": "code",
   "execution_count": 4,
   "metadata": {},
   "outputs": [
    {
     "data": {
      "text/plain": [
       "64"
      ]
     },
     "execution_count": 4,
     "metadata": {},
     "output_type": "execute_result"
    }
   ],
   "source": [
    "len(total_list)"
   ]
  },
  {
   "cell_type": "markdown",
   "metadata": {},
   "source": [
    "### Via Simulation: "
   ]
  },
  {
   "cell_type": "code",
   "execution_count": 5,
   "metadata": {},
   "outputs": [
    {
     "name": "stdout",
     "output_type": "stream",
     "text": [
      "Time to run 1000 simulations: 0.15\n",
      "Prob of valid triangle: 0.34\n",
      "Time to run 10000 simulations: 0.42\n",
      "Prob of valid triangle: 0.34\n",
      "Time to run 100000 simulations: 4.18\n",
      "Prob of valid triangle: 0.34\n",
      "Time to run 1000000 simulations: 72.57\n",
      "Prob of valid triangle: 0.34\n",
      "Time to run 2000000 simulations: 148.28\n",
      "Prob of valid triangle: 0.34\n"
     ]
    }
   ],
   "source": [
    "# iterate over various sizes:\n",
    "for sims in [1_000,10_000,100_000,1_000_000, 2_000_000]:\n",
    "    \n",
    "    valid = 0\n",
    "    start = time.time() # measure time \n",
    "    \n",
    "    for i in range(sims):\n",
    "\n",
    "        # randomly pick 3 coins\n",
    "        a,b,c = np.random.choice(coin_options, 3, p=[0.25,0.25,0.25,0.25])\n",
    "\n",
    "        # determine if we pass Tri Inequ Theorem:\n",
    "        if triangleInequalityTheorem(a,b,c):\n",
    "            valid += 1\n",
    "    \n",
    "    end = time.time()\n",
    "    \n",
    "    print(f\"Time to run {sims} simulations: {end - start:.2f}\")\n",
    "    print(f\"Prob of valid triangle: {valid / sims:.2f}\")"
   ]
  }
 ],
 "metadata": {
  "kernelspec": {
   "display_name": "Python 3.8",
   "language": "python",
   "name": "other-env"
  },
  "language_info": {
   "codemirror_mode": {
    "name": "ipython",
    "version": 3
   },
   "file_extension": ".py",
   "mimetype": "text/x-python",
   "name": "python",
   "nbconvert_exporter": "python",
   "pygments_lexer": "ipython3",
   "version": "3.8.5"
  }
 },
 "nbformat": 4,
 "nbformat_minor": 4
}
