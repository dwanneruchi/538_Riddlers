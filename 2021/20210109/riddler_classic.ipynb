{
 "cells": [
  {
   "cell_type": "markdown",
   "metadata": {},
   "source": [
    "### Riddler Classic \n",
    "\n",
    "Robin of Foxley has entered the FiveThirtyEight archery tournament. Her aim is excellent (relatively speaking), as she is guaranteed to hit the circular target, which has no subdivisions — it’s just one big circle. However, her arrows are equally likely to hit each location within the target.\n",
    "\n",
    "Her true love, Marian, has issued a challenge. Robin must fire as many arrows as she can, such that each arrow is closer to the center of the target than the previous arrow. For example, if Robin fires three arrows, each closer to the center than the previous, but the fourth arrow is farther than the third, then she is done with the challenge and her score is four.\n",
    "\n",
    "On average, what score can Robin expect to achieve in this archery challenge?\n",
    "\n",
    "### Assumptions:\n",
    "- There is no aiming it seems -> just random shots each time given the line `However, her arrows are equally likely to hit each location within the target.`\n",
    "- Assume if an arrow hits the same spot then we would end it? Should be possible though \n",
    "- Should be as simple as running simulations & ending when an arrow isn't as close. \n",
    "\n",
    "*note:*\n",
    "- method to calculate random coordinates from circle came from stack: https://stackoverflow.com/questions/46996866/sampling-uniformly-within-the-unit-circle"
   ]
  },
  {
   "cell_type": "code",
   "execution_count": 1,
   "metadata": {},
   "outputs": [],
   "source": [
    "import numpy as np\n",
    "from collections import defaultdict\n",
    "import matplotlib.pyplot as plt\n",
    "\n",
    "def coords():\n",
    "    \"\"\"Return random coordinates from a circle\"\"\"\n",
    "    length = np.sqrt(np.random.uniform(0, 1))\n",
    "    angle = np.pi * np.random.uniform(0, 2)\n",
    "\n",
    "    x = length * np.cos(angle)\n",
    "    y = length * np.sin(angle)\n",
    "    \n",
    "    return (x,y)\n",
    "\n",
    "def distance(x,y):\n",
    "    \"Calculate distance of arrow shot from center, assumes center is (0,0)\"\n",
    "    return np.sqrt(np.sum([(x-0.00)**2, (y-0.00)**2]))"
   ]
  },
  {
   "cell_type": "code",
   "execution_count": 2,
   "metadata": {},
   "outputs": [
    {
     "name": "stdout",
     "output_type": "stream",
     "text": [
      "Coords: (0.6213687886059311, -0.16629916376963305)\n",
      "Distance: 0.6432375792225463\n",
      "Coords: (-0.28027765751690187, 0.6170729718262516)\n",
      "Distance: 0.6777422945793213\n",
      "Coords: (-0.5739490188021488, -0.7242404804876892)\n",
      "Distance: 0.9240896870764159\n",
      "Coords: (-0.22815207345104158, 0.08137811322720381)\n",
      "Distance: 0.24223081127806403\n",
      "Coords: (0.13475464859995456, -0.3545373414132118)\n",
      "Distance: 0.3792829310365094\n"
     ]
    }
   ],
   "source": [
    "for _ in range(5):\n",
    "    x,y = coords()\n",
    "    print(f\"Coords: {x,y}\")\n",
    "    print(f\"Distance: {distance(x,y)}\")"
   ]
  },
  {
   "cell_type": "code",
   "execution_count": 3,
   "metadata": {},
   "outputs": [
    {
     "data": {
      "image/png": "[encoded data removed]",
      "text/plain": [
       "<Figure size 432x288 with 1 Axes>"
      ]
     },
     "metadata": {
      "needs_background": "light"
     },
     "output_type": "display_data"
    }
   ],
   "source": [
    "# ensure over a number of runs we would plot a circle when sampling\n",
    "circle_list = []\n",
    "for _ in range(10000):\n",
    "    circle_list.append(coords())\n",
    "    \n",
    "# plot\n",
    "plt.scatter(*zip(*circle_list))\n",
    "plt.show()"
   ]
  },
  {
   "cell_type": "markdown",
   "metadata": {},
   "source": [
    "### Run Simulation:\n",
    "\n",
    "- Shoot arrows until new distance > old distance\n",
    "- Keep track of arrows show"
   ]
  },
  {
   "cell_type": "code",
   "execution_count": 4,
   "metadata": {},
   "outputs": [
    {
     "name": "stdout",
     "output_type": "stream",
     "text": [
      "598 ms ± 9.95 ms per loop (mean ± std. dev. of 7 runs, 1 loop each)\n"
     ]
    }
   ],
   "source": [
    "%%timeit\n",
    "\n",
    "shotCount = defaultdict(lambda: 0) # all keys start at 0 -> makes it easier to update counts\n",
    "\n",
    "for _ in range(10000):\n",
    "    shots = 0\n",
    "    old_distance = 9999 # start real high\n",
    "    while True:\n",
    "        shots += 1\n",
    "        x,y = coords()\n",
    "        new_distance = distance(x,y)\n",
    "        if new_distance < old_distance:\n",
    "            old_distance = new_distance\n",
    "        else:\n",
    "            shotCount[shots] += 1\n",
    "            break"
   ]
  },
  {
   "cell_type": "markdown",
   "metadata": {},
   "source": [
    "### Bigger SImulation\n",
    "\n",
    "622 ms for 10K runs. Let's bump to 1 million (should be < 100 seconds)\n"
   ]
  },
  {
   "cell_type": "code",
   "execution_count": 5,
   "metadata": {},
   "outputs": [
    {
     "name": "stdout",
     "output_type": "stream",
     "text": [
      "Ran 10 simulations in 0.0 seconds\n",
      "Expected score: 2.8\n",
      "\n",
      "\n",
      "Ran 100 simulations in 0.01599597930908203 seconds\n",
      "Expected score: 2.72\n",
      "\n",
      "\n",
      "Ran 1000 simulations in 0.0613560676574707 seconds\n",
      "Expected score: 2.71\n",
      "\n",
      "\n",
      "Ran 10000 simulations in 0.6547563076019287 seconds\n",
      "Expected score: 2.7133\n",
      "\n",
      "\n",
      "Ran 100000 simulations in 6.308211803436279 seconds\n",
      "Expected score: 2.71681\n",
      "\n",
      "\n",
      "Ran 1000000 simulations in 58.44832944869995 seconds\n",
      "Expected score: 2.718265\n",
      "\n",
      "\n",
      "Ran 2000000 simulations in 112.18716788291931 seconds\n",
      "Expected score: 2.7181165\n",
      "\n",
      "\n",
      "Ran 5000000 simulations in 325.42606019973755 seconds\n",
      "Expected score: 2.7183372\n",
      "\n",
      "\n"
     ]
    }
   ],
   "source": [
    "import time\n",
    "\n",
    "for n in [10,100,1000,10000,100000,1000000,2000000, 5000000]:\n",
    "    start = time.time()\n",
    "    shotCount = defaultdict(lambda: 0) # all keys start at 0 -> makes it easier to update counts\n",
    "\n",
    "    for _ in range(n):\n",
    "        shots = 0\n",
    "        old_distance = 9999 # start real high\n",
    "        while True:\n",
    "            shots += 1\n",
    "            x,y = coords()\n",
    "            new_distance = distance(x,y)\n",
    "            if new_distance < old_distance:\n",
    "                old_distance = new_distance\n",
    "            else:\n",
    "                shotCount[shots] += 1\n",
    "                break\n",
    "\n",
    "    end = time.time()\n",
    "\n",
    "    total_shots = 0\n",
    "    sims = 0\n",
    "    for k,v in shotCount.items():\n",
    "        total_shots += k*v\n",
    "        sims += v\n",
    "\n",
    "    print(f\"Ran {sims} simulations in {end - start} seconds\")\n",
    "    print(f\"Expected score: {total_shots / sims}\")\n",
    "    print(\"\\n\")"
   ]
  },
  {
   "cell_type": "code",
   "execution_count": 7,
   "metadata": {},
   "outputs": [
    {
     "data": {
      "text/plain": [
       "2.718281828459045"
      ]
     },
     "execution_count": 7,
     "metadata": {},
     "output_type": "execute_result"
    }
   ],
   "source": [
    "np.exp(1) # looks pretty similar. "
   ]
  },
  {
   "cell_type": "markdown",
   "metadata": {},
   "source": [
    "### Solution:\n",
    "\n",
    "Expected score is `e`, or `2.7183`"
   ]
  }
 ],
 "metadata": {
  "kernelspec": {
   "display_name": "Python 3.8",
   "language": "python",
   "name": "other-env"
  },
  "language_info": {
   "codemirror_mode": {
    "name": "ipython",
    "version": 3
   },
   "file_extension": ".py",
   "mimetype": "text/x-python",
   "name": "python",
   "nbconvert_exporter": "python",
   "pygments_lexer": "ipython3",
   "version": "3.8.5"
  }
 },
 "nbformat": 4,
 "nbformat_minor": 4
}
