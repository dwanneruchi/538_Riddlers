{
 "cells": [
  {
   "cell_type": "markdown",
   "metadata": {},
   "source": [
    "### Ridder Express: \n",
    "\n",
    "There are many ways to slice a big square into smaller squares (not necessarily of equal size), so that the smaller squares don’t overlap, while still making up the entire area of the big square.\n",
    "\n",
    "For example, you can slice the big square into four smaller squares, each a quarter of the area of the big square. Or you could slice it into seven squares, if you take one of those four squares and slice it into four yet smaller squares.\n",
    "\n",
    "What whole numbers of squares can you not slice the big square into?\n",
    "\n",
    "#### Patterns I know Below:"
   ]
  },
  {
   "cell_type": "code",
   "execution_count": 40,
   "metadata": {},
   "outputs": [],
   "source": [
    "# any number squared\n",
    "def square(n):\n",
    "    \"\"\"n just represents rows / cols\"\"\"\n",
    "    return n**2"
   ]
  },
  {
   "cell_type": "code",
   "execution_count": null,
   "metadata": {},
   "outputs": [],
   "source": [
    "# Add image"
   ]
  },
  {
   "cell_type": "code",
   "execution_count": 41,
   "metadata": {},
   "outputs": [],
   "source": [
    "# ability to chunk into 2n + 2 for n > 1\n",
    "def colRowSeq(n):\n",
    "    \"\"\"n just represents total rows -1 / cols - 1\"\"\"\n",
    "    return 2*n + 2"
   ]
  },
  {
   "cell_type": "code",
   "execution_count": null,
   "metadata": {},
   "outputs": [],
   "source": [
    "# Add Image"
   ]
  },
  {
   "cell_type": "code",
   "execution_count": 42,
   "metadata": {},
   "outputs": [],
   "source": [
    "# sequence of 3n+1 -> everytime we split its possible to split by squared value - 1 (so limit to 4-1)\n",
    "def splitSquare(n):\n",
    "    \"\"\"n indicates total splits\"\"\"\n",
    "    return 3*n + 1"
   ]
  },
  {
   "cell_type": "code",
   "execution_count": 43,
   "metadata": {},
   "outputs": [],
   "source": [
    "# Add Image"
   ]
  },
  {
   "cell_type": "code",
   "execution_count": 53,
   "metadata": {},
   "outputs": [
    {
     "data": {
      "text/plain": [
       "{1, 4, 6, 7, 8, 9, 10, 12, 13, 14, 16, 18, 19, 20, 22, 25}"
      ]
     },
     "execution_count": 53,
     "metadata": {},
     "output_type": "execute_result"
    }
   ],
   "source": [
    "fin_list = []\n",
    "for _ in range(1,6):\n",
    "    fin_list.append(square(_))\n",
    "\n",
    "for _ in range(1,10):\n",
    "    fin_list.append(colRowSeq(_))\n",
    "\n",
    "for _ in range(8):\n",
    "    fin_list.append(splitSquare(_))\n",
    "\n",
    "set(fin_list)"
   ]
  },
  {
   "cell_type": "markdown",
   "metadata": {},
   "source": [
    "### Solution:\n",
    "\n",
    "For the above there are a few that didn't get built out like `[45, 47, 48]`\n",
    "\n",
    "These could all be built though: \n",
    "- Take a square of 42 -> take one of its smallest & split into 4. This yields 42 + 4 - 1 = 45\n",
    "- Take a square of 44 -> take one of its smallest & split into 4. This yields 44 + 4 - 1 = 47\n",
    "- Take a square of 40 -> take one of its smallest & split into 9. This yields 40 + 9 - 1 = 48\n",
    "\n",
    "Seems safe to expand this out that we can build every number...\n",
    "\n",
    "\n",
    "### Actual proof\n",
    "- Able to build out values based on `val + n*val - n*1` where `val` represents one of the square values. \n",
    "- Every value is possible (given enough computation time)"
   ]
  },
  {
   "cell_type": "code",
   "execution_count": 122,
   "metadata": {},
   "outputs": [],
   "source": [
    "fin_list = []\n",
    "for _ in range(1,5):\n",
    "    fin_list.append(square(_))\n",
    "\n",
    "for _ in range(1,10):\n",
    "    fin_list.append(colRowSeq(_))\n",
    "\n",
    "for _ in range(9):\n",
    "    fin_list.append(splitSquare(_))\n",
    "\n",
    "fin_list = list(set(fin_list))\n",
    "fin_list.sort()"
   ]
  },
  {
   "cell_type": "code",
   "execution_count": 123,
   "metadata": {},
   "outputs": [
    {
     "data": {
      "text/plain": [
       "[1, 4, 6, 7, 8, 9, 10, 12, 13, 14, 16, 18, 19, 20, 22, 25]"
      ]
     },
     "execution_count": 123,
     "metadata": {},
     "output_type": "execute_result"
    }
   ],
   "source": [
    "# build out starter squares for 1 - 25\n",
    "fin_list"
   ]
  },
  {
   "cell_type": "code",
   "execution_count": 130,
   "metadata": {},
   "outputs": [],
   "source": [
    "# iterate through each value in square list.\n",
    "# everytime we split one of the current squares into one of the prior squares, but subtract off 1 per split. \n",
    "# works out to be val + n*val - n*1\n",
    "new_solve = []\n",
    "for a in fin_list:\n",
    "    for b in fin_list:\n",
    "        for n in range(1,100000):\n",
    "            new_solve.append(a + n*b - n*1)\n",
    "\n",
    "new_solve = set(new_solve)"
   ]
  },
  {
   "cell_type": "code",
   "execution_count": 131,
   "metadata": {},
   "outputs": [
    {
     "name": "stdout",
     "output_type": "stream",
     "text": [
      "2\n",
      "3\n",
      "5\n"
     ]
    }
   ],
   "source": [
    "# check what numbers aren't accounted for through 1,000,000\n",
    "for i in range(1,100000):\n",
    "    if i not in new_solve:\n",
    "        print(i)"
   ]
  },
  {
   "cell_type": "markdown",
   "metadata": {},
   "source": [
    "### Final Solution: \n",
    "- 2,3 and 5 can't be turned into a square. "
   ]
  }
 ],
 "metadata": {
  "kernelspec": {
   "display_name": "Python 3.8",
   "language": "python",
   "name": "other-env"
  },
  "language_info": {
   "codemirror_mode": {
    "name": "ipython",
    "version": 3
   },
   "file_extension": ".py",
   "mimetype": "text/x-python",
   "name": "python",
   "nbconvert_exporter": "python",
   "pygments_lexer": "ipython3",
   "version": "3.8.5"
  }
 },
 "nbformat": 4,
 "nbformat_minor": 4
}
