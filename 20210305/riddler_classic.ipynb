{
 "cells": [
  {
   "cell_type": "markdown",
   "metadata": {},
   "source": [
    "### Riddler Classic: \n",
    "\n",
    "Suppose a baseball player has four at-bats per game (not including walks), so their batting average is the number of hits they got divided by four times the number of games they played. For many games, it’s possible to have a corresponding batting average that, when rounded to three digits, equals the number of games divided by 1,000. For example, if a player typically gets one hit per game in their at-bats, then they could very well have a .250 average over 250 games.\n",
    "\n",
    "What is the greatest number of games for which it is not possible to have a matching rounded batting average? Again, assume four at-bats per game.\n",
    "\n",
    "#### Start with a test case:\n",
    "- write a function to determine if `round(HITS / 1000)` == `GAMES / 1000`\n",
    "- sounds like a fairly constrained space \n",
    "    - we want greatest games where it is not possible to have a matching rounded batting average:\n",
    "        - example would be 1 game since 1/1000 = 0.001, which means 1 hit out of 1000 attempts (can't occur until 250 games if we force 4 bats/game)\n",
    "    - 1000 games would be our upper limit (1000 / 1000 = 1.0, can't have a BA over 1.0....right?)"
   ]
  },
  {
   "cell_type": "code",
   "execution_count": 1,
   "metadata": {},
   "outputs": [],
   "source": [
    "import numpy as np"
   ]
  },
  {
   "cell_type": "code",
   "execution_count": 2,
   "metadata": {},
   "outputs": [],
   "source": [
    "def possible(g):\n",
    "    \"\"\"Check against every possible hit combination. Produce True more than 1 possibility\"\"\"\n",
    "    solution = round(g / 1000, 3) # batting average we want\n",
    "    max_hits = 4 * g # if we got a hit every game, this is max\n",
    "    hit_vector = np.arange(1,max_hits + 1,1) # vector of all possible hits over g games\n",
    "    res =np.around(hit_vector / max_hits,3) # faster solve\n",
    "    #return res, solution\n",
    "    return np.any(res == solution) # returns True if any value matches solution, otherwise False"
   ]
  },
  {
   "cell_type": "code",
   "execution_count": 3,
   "metadata": {},
   "outputs": [],
   "source": [
    "# some quick tests:\n",
    "\n",
    "# we know 250 games is possible with 250 hits \n",
    "assert(possible(250) == True)\n",
    "\n",
    "# if I play 1 game its not possible for my BA to match 1/1000 due to only getting 4 hit attempts. \n",
    "assert(possible(1) == False)"
   ]
  },
  {
   "cell_type": "code",
   "execution_count": 4,
   "metadata": {},
   "outputs": [],
   "source": [
    "# And just iterate through all scenarios, storing the last false as the obvious \"last-false\"\n",
    "last_false = 1\n",
    "for g in range(1,1001):\n",
    "    if possible(g) == False:\n",
    "        last_false = g"
   ]
  },
  {
   "cell_type": "code",
   "execution_count": 5,
   "metadata": {},
   "outputs": [
    {
     "name": "stdout",
     "output_type": "stream",
     "text": [
      "Greatest number of games for which it is not possible to have a matching rounded batting average: 239\n"
     ]
    }
   ],
   "source": [
    "print(f\"Greatest number of games for which it is not possible to have a matching rounded batting average: {last_false}\")"
   ]
  },
  {
   "cell_type": "markdown",
   "metadata": {},
   "source": [
    "### Thought of a much cleaner solution:\n",
    "\n",
    "- We really just need to solve the following:\n",
    "\n",
    "$ \\frac{x}{4g} = \\frac{g}{1000} $\n",
    "\n",
    "- The fun part is that we won't get an integer (likely), so need to solve for `floor` and `ceiling` of solution to `x`"
   ]
  },
  {
   "cell_type": "code",
   "execution_count": 6,
   "metadata": {},
   "outputs": [],
   "source": [
    "import math\n",
    "\n",
    "def quickSolve(g):\n",
    "    solution = round(g/1000,3)\n",
    "    max_hits = 4 * g\n",
    "    low, high = math.floor(solution * max_hits), math.ceil(solution * max_hits)\n",
    "    \n",
    "    if round(low/max_hits,3) == solution or round(high/max_hits,3) == solution:\n",
    "        return True\n",
    "    return False"
   ]
  },
  {
   "cell_type": "code",
   "execution_count": 7,
   "metadata": {},
   "outputs": [],
   "source": [
    "# our tests again\n",
    "assert(quickSolve(250) == True)\n",
    "assert(quickSolve(1) == False)"
   ]
  },
  {
   "cell_type": "code",
   "execution_count": 8,
   "metadata": {},
   "outputs": [
    {
     "name": "stdout",
     "output_type": "stream",
     "text": [
      "Greatest number of games for which it is not possible to have a matching rounded batting average: 239\n"
     ]
    }
   ],
   "source": [
    "# And just iterate through all scenarios, storing the last false as the obvious \"last-false\"\n",
    "last_false = 1\n",
    "for g in range(1,1001):\n",
    "    if quickSolve(g) == False:\n",
    "        last_false = g\n",
    "\n",
    "print(f\"Greatest number of games for which it is not possible to have a matching rounded batting average: {last_false}\")"
   ]
  },
  {
   "cell_type": "markdown",
   "metadata": {},
   "source": [
    "### Which Was Faster?\n",
    "\n",
    "`numpy` is really fast, but the `quickSolve` avoids lots of unecessary calculations for each game, allowing for a much quicker solution. "
   ]
  },
  {
   "cell_type": "code",
   "execution_count": 9,
   "metadata": {},
   "outputs": [
    {
     "name": "stdout",
     "output_type": "stream",
     "text": [
      "190 ms ± 29.5 ms per loop (mean ± std. dev. of 7 runs, 1 loop each)\n"
     ]
    }
   ],
   "source": [
    "%%timeit\n",
    "last_false = 1\n",
    "for g in range(1,1001):\n",
    "    if possible(g) == False:\n",
    "        last_false = g"
   ]
  },
  {
   "cell_type": "code",
   "execution_count": 10,
   "metadata": {},
   "outputs": [
    {
     "name": "stdout",
     "output_type": "stream",
     "text": [
      "2.46 ms ± 306 µs per loop (mean ± std. dev. of 7 runs, 100 loops each)\n"
     ]
    }
   ],
   "source": [
    "%%timeit\n",
    "last_false = 1\n",
    "for g in range(1,1001):\n",
    "    if quickSolve(g) == False:\n",
    "        last_false = g"
   ]
  }
 ],
 "metadata": {
  "kernelspec": {
   "display_name": "Python 3.8",
   "language": "python",
   "name": "other-env"
  },
  "language_info": {
   "codemirror_mode": {
    "name": "ipython",
    "version": 3
   },
   "file_extension": ".py",
   "mimetype": "text/x-python",
   "name": "python",
   "nbconvert_exporter": "python",
   "pygments_lexer": "ipython3",
   "version": "3.8.5"
  }
 },
 "nbformat": 4,
 "nbformat_minor": 4
}
