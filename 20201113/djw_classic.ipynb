{
 "cells": [
  {
   "cell_type": "code",
   "execution_count": 1,
   "metadata": {},
   "outputs": [],
   "source": [
    "import numpy as np \n",
    "from scipy.stats import binom"
   ]
  },
  {
   "cell_type": "code",
   "execution_count": 2,
   "metadata": {},
   "outputs": [
    {
     "data": {
      "text/plain": [
       "0.75"
      ]
     },
     "execution_count": 2,
     "metadata": {},
     "output_type": "execute_result"
    }
   ],
   "source": [
    "# likelihood of getting up to 1 heads out of 2 flips \n",
    "binom.cdf(1,2,0.5)"
   ]
  },
  {
   "cell_type": "code",
   "execution_count": 3,
   "metadata": {},
   "outputs": [
    {
     "data": {
      "text/plain": [
       "0.07299804687500001"
      ]
     },
     "execution_count": 3,
     "metadata": {},
     "output_type": "execute_result"
    }
   ],
   "source": [
    "# likelihood of getting up to 3 heads out of 12 flips \n",
    "binom.cdf(3,12,0.5)"
   ]
  },
  {
   "cell_type": "markdown",
   "metadata": {},
   "source": [
    "### Notes:\n",
    "\n",
    "- We can solve for the CDF which tells us likelihood of getting up to `k` heads out of `n` attempts with likelihood `p`\n",
    "- For our problem, we want likelihood of `k` through `n` heads out of `n` attempts. This just means we can take 1 - CDF(`k-1`,`n`,0.5)"
   ]
  },
  {
   "cell_type": "code",
   "execution_count": 4,
   "metadata": {},
   "outputs": [
    {
     "data": {
      "text/plain": [
       "0.927001953125"
      ]
     },
     "execution_count": 4,
     "metadata": {},
     "output_type": "execute_result"
    }
   ],
   "source": [
    "# let's say we have 12 flips left & we need 4 flips or more to break 51. \n",
    "# we can just solve 1 - CDF(3,12,0.5)\n",
    "1 - binom.cdf(3,12,0.5)"
   ]
  },
  {
   "cell_type": "code",
   "execution_count": 13,
   "metadata": {},
   "outputs": [
    {
     "name": "stdout",
     "output_type": "stream",
     "text": [
      "Total games played: 10000\n",
      "Super loser games: 24\n",
      "Percent: 0.24\n",
      "Total games played: 20000\n",
      "Super loser games: 45\n",
      "Percent: 0.23\n",
      "Total games played: 30000\n",
      "Super loser games: 59\n",
      "Percent: 0.20\n",
      "Total games played: 40000\n",
      "Super loser games: 88\n",
      "Percent: 0.22\n",
      "Total games played: 50000\n",
      "Super loser games: 105\n",
      "Percent: 0.21\n",
      "Total games played: 60000\n",
      "Super loser games: 130\n",
      "Percent: 0.22\n",
      "Total games played: 70000\n",
      "Super loser games: 158\n",
      "Percent: 0.23\n",
      "Total games played: 80000\n",
      "Super loser games: 178\n",
      "Percent: 0.22\n",
      "Total games played: 90000\n",
      "Super loser games: 201\n",
      "Percent: 0.22\n",
      "Total games played: 100000\n",
      "Super loser games: 217\n",
      "Percent: 0.22\n"
     ]
    }
   ],
   "source": [
    "tot_games = 0\n",
    "super_loser = 0\n",
    "\n",
    "for _ in range(100000):\n",
    "    \n",
    "    # total heads:\n",
    "    heads = 0\n",
    "    heads_winner = 51\n",
    "    tot_flips = 101\n",
    "    turns_left = 101\n",
    "    flips = 0\n",
    "    exceeds = False\n",
    "    winner = False\n",
    "\n",
    "\n",
    "    for i in range(tot_flips):\n",
    "        #print(\"*****\")\n",
    "        # flip coin once\n",
    "        coin = np.random.binomial(1,0.5)\n",
    "\n",
    "        # update heads count & flips taken\n",
    "        heads += coin\n",
    "        flips += 1\n",
    "\n",
    "        # needed to win:\n",
    "        needed_heads = heads_winner - heads\n",
    "        turns_left -= 1\n",
    "\n",
    "        # solve for likelihood of getting needed_heads or more based on remaining turns\n",
    "        k, n = max(0, needed_heads - 1), turns_left\n",
    "\n",
    "        # binom.cdf calculates P(X <= k)\n",
    "        p = 1 - binom.cdf(k,n,0.5)\n",
    "        #print(f\"Total flips: {flips}, Total heads: {heads}, Turns left: {turns_left}\")\n",
    "        #print(f\"Needed heads: {needed_heads}, values for k: {k}, Value for n: {n}\")\n",
    "        #print(f\"Likelihood: {p}\")\n",
    "        if p >= 0.99:\n",
    "            exceeds = True\n",
    "\n",
    "        if heads >= 51:\n",
    "            winner = True\n",
    "\n",
    "    # end loop & track:\n",
    "    tot_games += 1\n",
    "\n",
    "    if (exceeds) and (not winner):\n",
    "        super_loser += 1\n",
    "        \n",
    "    if tot_games % 10000 == 0:\n",
    "        print(f\"Total games played: {tot_games}\")\n",
    "        print(f\"Super loser games: {super_loser}\")\n",
    "        print(f\"Percent: {100 * super_loser / tot_games:.2f}\")"
   ]
  },
  {
   "cell_type": "code",
   "execution_count": 14,
   "metadata": {},
   "outputs": [
    {
     "name": "stdout",
     "output_type": "stream",
     "text": [
      "Total games played: 100000\n",
      "Super loser games: 217\n",
      "Percent: 0.22\n"
     ]
    }
   ],
   "source": [
    "print(f\"Total games played: {tot_games}\")\n",
    "print(f\"Super loser games: {super_loser}\")\n",
    "print(f\"Percent: {100 * super_loser / tot_games:.2f}\")"
   ]
  },
  {
   "cell_type": "code",
   "execution_count": null,
   "metadata": {},
   "outputs": [],
   "source": []
  }
 ],
 "metadata": {
  "kernelspec": {
   "display_name": "Python 3.8",
   "language": "python",
   "name": "other-env"
  },
  "language_info": {
   "codemirror_mode": {
    "name": "ipython",
    "version": 3
   },
   "file_extension": ".py",
   "mimetype": "text/x-python",
   "name": "python",
   "nbconvert_exporter": "python",
   "pygments_lexer": "ipython3",
   "version": "3.8.5"
  }
 },
 "nbformat": 4,
 "nbformat_minor": 4
}
