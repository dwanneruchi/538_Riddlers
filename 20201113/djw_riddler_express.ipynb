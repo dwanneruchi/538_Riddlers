{
 "cells": [
  {
   "cell_type": "markdown",
   "metadata": {},
   "source": [
    "### Riddler Express: \n",
    "\n",
    "Last Sunday we lost Alex Trebek, a giant in the world of game shows and trivia. The show he hosted over the course of four decades — Jeopardy! — has previously appeared in this column. Today, it makes a return.\n",
    "\n",
    "You’re playing the (single) Jeopardy! Round, and your opponents are simply no match for you. You choose first and never relinquish control, working your way horizontally across the board by first selecting all six 200 clues, then all six 400 clues, and so on, until you finally select all the 1,000 clues. You respond to each clue correctly before either of your opponents can.\n",
    "\n",
    "One randomly selected clue is a Daily Double. Rather than award you the prize money associated with that clue, it instead allows you to double your current winnings or wager up to 1,000 should you have less than that. Being the aggressive player you are, you always bet the most you can. (In reality, the Daily Double is more likely to appear in certain locations on the board than others, but for this problem assume it has an equal chance of appearing anywhere on the board.)\n",
    "\n",
    "How much money do you expect to win during the Jeopardy! round?\n",
    "\n",
    "Extra credit: Suppose you change your strategy. Instead of working your way horizontally across the board, you select random clues from anywhere on the board, one at a time. Now how much money do you expect to win during the Jeopardy! round?"
   ]
  },
  {
   "cell_type": "code",
   "execution_count": 2,
   "metadata": {},
   "outputs": [
    {
     "name": "stdout",
     "output_type": "stream",
     "text": [
      "Expected value: 23800.0\n"
     ]
    }
   ],
   "source": [
    "## Code:\n",
    "\n",
    "import numpy as np\n",
    "\n",
    "# Building our jeopardy board\n",
    "x = np.array([200,400,600,800,1000])\n",
    "board = np.repeat(x,6)\n",
    "board_list = [x for x in board]\n",
    "\n",
    "# List for expected value based on where double-jeopardy is found\n",
    "ev_board = []\n",
    "\n",
    "# iterate through all possible games\n",
    "# where a distinct game just means double-jeo is in a distinct location\n",
    "for i in range(len(board_list)):    \n",
    "\n",
    "    # make a copy of the board that we can mess with\n",
    "    temp_board = board_list.copy()\n",
    "    total_so_far = sum(temp_board[:i]) # total winnings so far summed\n",
    "    dd = temp_board.pop(i) # remove daily double val\n",
    "   \n",
    "    # assume we hit daily double at i\n",
    "    # we can either double what we already have or add 1000 if we are under <1000 at this point \n",
    "    dd_val = total_so_far +  max(total_so_far, 1000)\n",
    "   \n",
    "    # sum all other values from i - end (since we removed i can just do list[i:])\n",
    "    rest = sum(temp_board[i:])\n",
    "   \n",
    "    # total assuming we get daily double at i\n",
    "    val = dd_val + rest\n",
    "\n",
    "    # add to board\n",
    "    ev_board.append(val)\n",
    "    \n",
    "print(f\"Expected value: {sum(ev_board) / len(ev_board)}\")"
   ]
  }
 ],
 "metadata": {
  "kernelspec": {
   "display_name": "Python 3.8",
   "language": "python",
   "name": "other-env"
  },
  "language_info": {
   "codemirror_mode": {
    "name": "ipython",
    "version": 3
   },
   "file_extension": ".py",
   "mimetype": "text/x-python",
   "name": "python",
   "nbconvert_exporter": "python",
   "pygments_lexer": "ipython3",
   "version": "3.8.5"
  }
 },
 "nbformat": 4,
 "nbformat_minor": 4
}
