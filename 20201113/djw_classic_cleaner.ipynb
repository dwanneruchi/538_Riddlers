{
 "cells": [
  {
   "cell_type": "code",
   "execution_count": 1,
   "metadata": {},
   "outputs": [
    {
     "name": "stdout",
     "output_type": "stream",
     "text": [
      "Total games played: 3184\n",
      "Super loser games: 21\n",
      "Percent: 0.66\n",
      "Total games played: 6294\n",
      "Super loser games: 42\n",
      "Percent: 0.67\n",
      "Total games played: 9463\n",
      "Super loser games: 64\n",
      "Percent: 0.68\n",
      "Total games played: 12641\n",
      "Super loser games: 92\n",
      "Percent: 0.73\n",
      "Total games played: 15827\n",
      "Super loser games: 118\n",
      "Percent: 0.75\n",
      "Total games played: 18931\n",
      "Super loser games: 147\n",
      "Percent: 0.78\n",
      "Total games played: 22163\n",
      "Super loser games: 164\n",
      "Percent: 0.74\n",
      "Total games played: 25347\n",
      "Super loser games: 189\n",
      "Percent: 0.75\n",
      "Total games played: 28491\n",
      "Super loser games: 213\n",
      "Percent: 0.75\n",
      "Total games played: 31708\n",
      "Super loser games: 240\n",
      "Percent: 0.76\n"
     ]
    }
   ],
   "source": [
    "import numpy as np \n",
    "from scipy.stats import binom\n",
    "\n",
    "tot_games = 0\n",
    "super_loser = 0\n",
    "\n",
    "for j in range(100000):\n",
    "    \n",
    "    # total heads:\n",
    "    heads = 0\n",
    "    heads_winner = 51\n",
    "    tot_flips = 101\n",
    "    turns_left = 101\n",
    "    flips = 0\n",
    "    exceeds = False\n",
    "    winner = False\n",
    "\n",
    "\n",
    "    for i in range(tot_flips):\n",
    "        #print(\"*****\")\n",
    "        # flip coin once\n",
    "        coin = np.random.binomial(1,0.5)\n",
    "\n",
    "        # update heads count & flips taken\n",
    "        heads += coin\n",
    "        flips += 1\n",
    "\n",
    "        # needed to win:\n",
    "        needed_heads = heads_winner - heads\n",
    "        turns_left -= 1\n",
    "\n",
    "        # solve for likelihood of getting needed_heads or more based on remaining turns\n",
    "        \n",
    "        # k represents tails. so if we have 90 turns left and need 40, then we want to know up to 50 tails\n",
    "        k = needed_heads - 1\n",
    "        n = turns_left\n",
    "        \n",
    "        if k >= 0:\n",
    "\n",
    "            # binom.cdf calculates P(X <= k)\n",
    "            p = 1 - binom.cdf(k,n,0.5)\n",
    "            #print(f\"Total flips: {flips}, Total heads: {heads}, Turns left: {turns_left}\")\n",
    "            #print(f\"Needed heads: {needed_heads}, values for k: {k}, Value for n: {n}\")\n",
    "            #print(f\"Likelihood: {p}\")\n",
    "            if p >= 0.99:\n",
    "                exceeds = True\n",
    "\n",
    "        if heads >= 51:\n",
    "            winner = True\n",
    "\n",
    "    \n",
    "    # out of loop\n",
    "    if exceeds:\n",
    "        tot_games += 1\n",
    "\n",
    "        if winner == False:\n",
    "            super_loser += 1\n",
    "     \n",
    "    if (j+1) % 10000 == 0:\n",
    "        print(f\"Total games played: {tot_games}\")\n",
    "        print(f\"Super loser games: {super_loser}\")\n",
    "        print(f\"Percent: {100 * super_loser / tot_games:.2f}\")"
   ]
  },
  {
   "cell_type": "code",
   "execution_count": 2,
   "metadata": {},
   "outputs": [
    {
     "data": {
      "text/plain": [
       "0.00881057268722467"
      ]
     },
     "execution_count": 2,
     "metadata": {},
     "output_type": "execute_result"
    }
   ],
   "source": [
    "28 / (12641 - 9463)"
   ]
  },
  {
   "cell_type": "code",
   "execution_count": null,
   "metadata": {},
   "outputs": [],
   "source": []
  }
 ],
 "metadata": {
  "kernelspec": {
   "display_name": "Python 3.8",
   "language": "python",
   "name": "other-env"
  },
  "language_info": {
   "codemirror_mode": {
    "name": "ipython",
    "version": 3
   },
   "file_extension": ".py",
   "mimetype": "text/x-python",
   "name": "python",
   "nbconvert_exporter": "python",
   "pygments_lexer": "ipython3",
   "version": "3.8.5"
  }
 },
 "nbformat": 4,
 "nbformat_minor": 4
}
