{
 "cells": [
  {
   "cell_type": "markdown",
   "metadata": {},
   "source": [
    "### General Approach:\n",
    "\n",
    "- We can solve for the binomial CDF which tells us likelihood of getting up to `x` successes (`P(X <= x)`) out of `n` attempts with likelihood `p`\n",
    "    - Scipy's binom.cdf func is `P(X <= x)` so will need to solve for `k - 1`\n",
    "    - For our problem, we want likelihood of `k` through `n` heads out of `n` remaining trials. This means we can take 1 - CDF(`k-1`,`n`,0.5)\n",
    "    \n",
    "    - Tangible example: \n",
    "        - We have run 15 trials, with 8 heads thus far.\n",
    "\t\t  - 51 - 8 = 43 heads left\n",
    "\t\t  - We can solve for 1 - (X <= 42), which tells us likelihood of getting > 42 heads (43+)\n",
    "          - *In scipy, this will need to be written as 1 - (X <= x), where x is 43 - 1*\n",
    "\n",
    "- We only count a trial when p > 0.99, then determine if person lost or not. \n",
    "\n",
    "#### let's say we have 12 flips left & we need 4 flips or more to break 51. \n",
    "- What we want is `P(X >= x)` where x = 4. \n",
    "    - `P(X >= x)` = `1 - P(X < x)`, so we can just solve 1 - CDF(x - 1,flips_left,0.5)\n",
    "    - `P(X >= 4) = 0.92700195`\n",
    "\n",
    "```python\n",
    "p = 1 - binom.cdf(3,12,0.5) # 0.927001953125\n",
    "```\n",
    "\n",
    "#### Speeding things up:\n",
    "- My initial runs were calculating the CDF 101 times per iteration. So my 100K test loop was doing many CDF calls  (100K & 101 = `10,100,000`)\n",
    "- Given there are only so many combinations of `k` & `n` for cdf, can solve for each of those and then pass in as a dictionary. \n",
    "    - Note: Solving for `1 - binom.cdf(k - 1, n,  0.5)`\n",
    "- A single run speeds up from `11.5 ms` to `0.338 ms` with this switch - about a 30x speedup. "
   ]
  },
  {
   "cell_type": "code",
   "execution_count": 1,
   "metadata": {},
   "outputs": [],
   "source": [
    "import numpy as np \n",
    "from scipy.stats import binom"
   ]
  },
  {
   "cell_type": "code",
   "execution_count": 2,
   "metadata": {},
   "outputs": [],
   "source": [
    "# build cdf dictionary for possible turns left, heads we need.\n",
    "# max heads is 51, max turns left is 101\n",
    "# store off the actual p value to reduce operations \n",
    "tot_turns = 101\n",
    "max_heads = 51\n",
    "bin_cdf = {}\n",
    "\n",
    "for n in range(tot_turns+1):\n",
    "    for k in range(max_heads + 1):\n",
    "        \n",
    "        # using k-1 still .cdf func seems to be <= x\n",
    "        bin_cdf[k,n] = 1 - binom.cdf(k-1,n,0.5)"
   ]
  },
  {
   "cell_type": "code",
   "execution_count": 3,
   "metadata": {},
   "outputs": [
    {
     "name": "stdout",
     "output_type": "stream",
     "text": [
      "0.9999875479846878\n",
      "0.03947034684074424\n"
     ]
    }
   ],
   "source": [
    "# check a few: https://stattrek.com/online-calculator/binomial.aspx\n",
    "# 1) P(X >= 10) when we have 47 flips left is 0.9999875479846878\n",
    "print(bin_cdf.get((10,47))) # pretty good matching\n",
    "\n",
    "# 2) P(X >= 30) when we have 47 flips left is 0.03947034684\n",
    "print(bin_cdf.get((30,47))) # pretty good matching"
   ]
  },
  {
   "cell_type": "code",
   "execution_count": 4,
   "metadata": {},
   "outputs": [],
   "source": [
    "def faster_game():\n",
    "    \n",
    "    # General game params:\n",
    "    heads = 0\n",
    "    winning_flips = 51\n",
    "    tot_flips = 101\n",
    "    flips = 0\n",
    "    exceeds = False\n",
    "    winner = False\n",
    "\n",
    "    # Run 101 flips. If a clear winner arises, end game\n",
    "    for _ in range(tot_flips):\n",
    "\n",
    "        # flip coin once\n",
    "        coin = np.random.binomial(1,0.5)\n",
    "\n",
    "        # update heads count, flips, and tails \n",
    "        heads += coin\n",
    "        flips += 1\n",
    "        tails = flips - heads   \n",
    "\n",
    "        # needed to win:\n",
    "        needed_heads = winning_flips - heads\n",
    "        turns_left = tot_flips - flips\n",
    "        \n",
    "        #### STOP GAME IF WINNER IS FOUND: \n",
    "        \n",
    "        # check if game is over for either person\n",
    "        if heads >= winning_flips:\n",
    "            winner = True\n",
    "            return exceeds, winner\n",
    "        \n",
    "        # check if game is over for either person\n",
    "        if tails >= winning_flips:\n",
    "            winner = False\n",
    "            return exceeds, winner\n",
    "        \n",
    "        ### Solve for likelihood of getting needed_heads or more based on remaining turns\n",
    "\n",
    "        # solving for a scenario where heads is less than k. \n",
    "        # if we have 90 turns left and need 40 heads\n",
    "        # then we want to know up to 40 heads, which is going to be X < x (already solved for )\n",
    "        k = needed_heads # whats the likelihood of getting up to needed heads but not over; \n",
    "        n = turns_left\n",
    "\n",
    "        if k >= 0:\n",
    "\n",
    "            # binom.cdf calculates P(X <= k)\n",
    "            p = bin_cdf.get((k,n))\n",
    "            \n",
    "            if p >= 0.99:\n",
    "                exceeds = True\n",
    "            \n",
    "    return exceeds, winner"
   ]
  },
  {
   "cell_type": "markdown",
   "metadata": {},
   "source": [
    "### Rerun with New Function: 30x faster"
   ]
  },
  {
   "cell_type": "code",
   "execution_count": 5,
   "metadata": {},
   "outputs": [
    {
     "name": "stdout",
     "output_type": "stream",
     "text": [
      "Iteration 200000:\n",
      "\tTotal games with > 0.99: 63204\n",
      "\tSuper loser games: 439\n",
      "\tPercent: 0.69\n",
      "Iteration 400000:\n",
      "\tTotal games with > 0.99: 126246\n",
      "\tSuper loser games: 912\n",
      "\tPercent: 0.72\n",
      "Iteration 600000:\n",
      "\tTotal games with > 0.99: 189519\n",
      "\tSuper loser games: 1359\n",
      "\tPercent: 0.72\n",
      "Iteration 800000:\n",
      "\tTotal games with > 0.99: 252336\n",
      "\tSuper loser games: 1760\n",
      "\tPercent: 0.70\n",
      "Iteration 1000000:\n",
      "\tTotal games with > 0.99: 315418\n",
      "\tSuper loser games: 2190\n",
      "\tPercent: 0.69\n",
      "Iteration 1200000:\n",
      "\tTotal games with > 0.99: 378853\n",
      "\tSuper loser games: 2598\n",
      "\tPercent: 0.69\n",
      "Iteration 1400000:\n",
      "\tTotal games with > 0.99: 442127\n",
      "\tSuper loser games: 3032\n",
      "\tPercent: 0.69\n",
      "Iteration 1600000:\n",
      "\tTotal games with > 0.99: 505253\n",
      "\tSuper loser games: 3437\n",
      "\tPercent: 0.68\n",
      "Iteration 1800000:\n",
      "\tTotal games with > 0.99: 568678\n",
      "\tSuper loser games: 3836\n",
      "\tPercent: 0.67\n",
      "Iteration 2000000:\n",
      "\tTotal games with > 0.99: 632022\n",
      "\tSuper loser games: 4270\n",
      "\tPercent: 0.68\n"
     ]
    }
   ],
   "source": [
    "tot_games = 0\n",
    "super_loser = 0\n",
    "\n",
    "for j in range(2000000):\n",
    "    \n",
    "    exceeds, winner = faster_game()\n",
    "    \n",
    "    # out of loop\n",
    "    if exceeds:\n",
    "        tot_games += 1\n",
    "\n",
    "        if winner == False:\n",
    "            super_loser += 1\n",
    "     \n",
    "    if (j+1) % 200000 == 0:\n",
    "        print(f\"Iteration {j+1}:\")\n",
    "        print(f\"\\tTotal games with > 0.99: {tot_games}\")\n",
    "        print(f\"\\tSuper loser games: {super_loser}\")\n",
    "        print(f\"\\tPercent: {100 * super_loser / tot_games:.2f}\")"
   ]
  }
 ],
 "metadata": {
  "kernelspec": {
   "display_name": "Python 3.8",
   "language": "python",
   "name": "other-env"
  },
  "language_info": {
   "codemirror_mode": {
    "name": "ipython",
    "version": 3
   },
   "file_extension": ".py",
   "mimetype": "text/x-python",
   "name": "python",
   "nbconvert_exporter": "python",
   "pygments_lexer": "ipython3",
   "version": "3.8.5"
  }
 },
 "nbformat": 4,
 "nbformat_minor": 4
}
