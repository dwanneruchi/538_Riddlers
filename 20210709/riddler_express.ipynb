{
 "cells": [
  {
   "cell_type": "markdown",
   "metadata": {},
   "source": [
    "### Riddler Express\n",
    "\n",
    "Earlier this year, a new generation of Brood X cicadas had emerged in many parts of the U.S. This particular brood emerges every 17 years, while some other cicada broods emerge every 13 years. Both 13 and 17 are prime numbers — and relatively prime with one another — which means these broods are rarely in phase with other predators or each other. In fact, cicadas following a 13-year cycle and cicadas following a 17-year cycle will only emerge in the same season once every 221 (i.e., 13 times 17) years!\n",
    "\n",
    "Now, suppose there are two broods of cicadas, with periods of A and B years, that have just emerged in the same season. However, these two broods can also interfere with each other one year after they emerge due to a resulting lack of available food. For example, if A is 5 and B is 7, then B’s emergence in year 14 (i.e., 2 times 7) means that when A emerges in year 15 (i.e., 3 times 5) there won’t be enough food to go around.\n",
    "\n",
    "If both A and B are relatively prime and are both less than or equal to 20, what is the longest stretch these two broods can go without interfering with one another’s cycle? (Remember, both broods just emerged this year.) For example, if A is 5 and B is 7, then the interference would occur in year 15."
   ]
  },
  {
   "cell_type": "code",
   "execution_count": 1,
   "metadata": {},
   "outputs": [],
   "source": [
    "import numpy as np\n",
    "from itertools import combinations"
   ]
  },
  {
   "cell_type": "code",
   "execution_count": 2,
   "metadata": {},
   "outputs": [],
   "source": [
    "def findMaxSeq(max_val, prime_a, prime_b):\n",
    "    \n",
    "    # build seqs\n",
    "    seq1 = np.arange(prime_a,max_val,prime_a)\n",
    "    seq2 = np.arange(prime_b,max_val,prime_b)\n",
    "    \n",
    "    for val in seq2:\n",
    "\n",
    "        # check if under\n",
    "        try:\n",
    "            first = np.where(seq1 - 1 == val)[0][0]\n",
    "            return seq1[first] - 1\n",
    "        except:\n",
    "            pass\n",
    "\n",
    "        # check if equal, need to take one step back to find longest sequence\n",
    "        # take max between the val - each prime \n",
    "        # could not quickly find a test case - will need to think through this  \n",
    "        try:\n",
    "            first = np.where(seq1 == val)[0][0]\n",
    "            print(f\"Tie - Longest Sequence for {prime_a}\")\n",
    "            return max(val - prime_a, val - prime_b)\n",
    "        except:\n",
    "            pass  \n",
    "\n",
    "\n",
    "        # check if over, in which case we need to drop one off as this represents the prior max (since we added one) \n",
    "        try:\n",
    "            first = np.where(seq1 + 1 == val)[0][0]\n",
    "            return seq1[first]\n",
    "        except:\n",
    "            pass"
   ]
  },
  {
   "cell_type": "markdown",
   "metadata": {},
   "source": [
    "### test cases"
   ]
  },
  {
   "cell_type": "code",
   "execution_count": 3,
   "metadata": {},
   "outputs": [],
   "source": [
    "# should yield 14\n",
    "assert(findMaxSeq(100, 5, 7) == 14)"
   ]
  },
  {
   "cell_type": "code",
   "execution_count": 4,
   "metadata": {},
   "outputs": [],
   "source": [
    "# should yield 14\n",
    "assert(findMaxSeq(100, 7, 5) == 14)"
   ]
  },
  {
   "cell_type": "code",
   "execution_count": 5,
   "metadata": {},
   "outputs": [],
   "source": [
    "# should yield 12...\n",
    "assert(findMaxSeq(100, 13, 3) == 12)"
   ]
  },
  {
   "cell_type": "markdown",
   "metadata": {},
   "source": [
    "### Put It Alltogether: \n",
    "\n",
    "Get all combinations, but no repeats. "
   ]
  },
  {
   "cell_type": "code",
   "execution_count": 6,
   "metadata": {},
   "outputs": [
    {
     "name": "stdout",
     "output_type": "stream",
     "text": [
      "Max sequence is: 152, stemming from (17, 19)\n"
     ]
    }
   ],
   "source": [
    "\n",
    "prime_list = [2,3,5,7,11,13,17,19]\n",
    "max_val = 10_000\n",
    "\n",
    "max_seq = 0\n",
    "\n",
    "# build all prime combinations of size 2 & iterate over\n",
    "for prime_a,prime_b in combinations(prime_list,2):\n",
    "    \n",
    "    # find longest sequence\n",
    "    longest_seq = findMaxSeq(max_val, prime_a, prime_b)\n",
    "    \n",
    "    # determine if longer than current max\n",
    "    if longest_seq > max_seq:\n",
    "        max_seq = longest_seq\n",
    "        \n",
    "        # store info as a tuple (just overriding)\n",
    "        max_primes = (prime_a, prime_b)\n",
    "    \n",
    "# Print solution:\n",
    "print(f\"Max sequence is: {max_seq}, stemming from {max_primes}\")"
   ]
  }
 ],
 "metadata": {
  "kernelspec": {
   "display_name": "Python 3.8",
   "language": "python",
   "name": "other-env"
  },
  "language_info": {
   "codemirror_mode": {
    "name": "ipython",
    "version": 3
   },
   "file_extension": ".py",
   "mimetype": "text/x-python",
   "name": "python",
   "nbconvert_exporter": "python",
   "pygments_lexer": "ipython3",
   "version": "3.8.5"
  }
 },
 "nbformat": 4,
 "nbformat_minor": 4
}
