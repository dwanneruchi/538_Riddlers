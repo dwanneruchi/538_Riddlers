{
 "cells": [
  {
   "cell_type": "markdown",
   "metadata": {},
   "source": [
    "### Riddler Express: \n",
    "\n",
    "In NCAA men’s basketball, when a team has committed between six and eight fouls in a half, the opposing team is “in the bonus.” This means that the next time they are fouled while not in the act of shooting, they get to shoot at least one free throw. If the player makes that first free throw, they get to shoot a second.\n",
    "\n",
    "If either free throw is missed, one team will rebound the ball, and play will continue with the rebounding team in possession.\n",
    "\n",
    "Assume that an average team scores exactly 1 point per offensive possession, a figure that accounts for multiple shots if the team rebounds its own miss (or misses) on a single trip, and that it rebounds 15 percent of its own missed free throws.\n",
    "\n",
    "Now suppose you are the coach of a team playing an average opponent that’s in the bonus. The other team has the ball, the game is tight, and you want to minimize the expected number of points your opponent will earn on this particular possession. How low does the ball-handler’s free throw shooting percentage need to be for you to instruct your team to foul that player (when they are not in the act of shooting)?\n",
    "\n",
    "#### Assumptions for Analytical:\n",
    "\n",
    "- Team is in the bonus\n",
    "- Expected points each trip: 1\n",
    "- Rebound % = 15%\n",
    "- Equation for expected points when shooting: `p` = free throw percentage\n",
    "    - make both (2 pts): `2*p*p` \n",
    "    - make first, miss second & miss rebound (1 pt): `1*p*(1-p)(1-r)`\n",
    "    - make first, miss second & get rebound (2 pts given expected val): `2*p*(1-p)*r`\n",
    "    - miss first, miss rebound (0 pts): `(1-p)(1-r)`\n",
    "    - miss first, get reboudn(1 pt): `(1-p)*r`\n",
    "    \n",
    "- We want to determine what `p` drops expected points below 1:\n",
    "    - `expts(P) = 2p^2 + 1*p*(1-p)(1-r) + 2*p*(1-p)*r + (1-p)(1-r) + p*r`"
   ]
  },
  {
   "cell_type": "code",
   "execution_count": 1,
   "metadata": {},
   "outputs": [],
   "source": [
    "import numpy as np \n",
    "from matplotlib import pyplot as plt\n",
    "\n",
    "def expected_value(p, r):\n",
    "    \"\"\"Solve for expected value based on p & r\"\"\"\n",
    "    return 2*(p*p) + 1*p*(1-p)*(1-r) + 2*p*(1-p)*r + 0*(1-p)*(1-r) + (1-p)*r\n",
    "\n",
    "def fastApply(x, r):\n",
    "    \"\"\"Apply function to vector of values\"\"\"\n",
    "    return np.array([expected_value(xi, r) for xi in x])"
   ]
  },
  {
   "cell_type": "code",
   "execution_count": 2,
   "metadata": {},
   "outputs": [
    {
     "name": "stdout",
     "output_type": "stream",
     "text": [
      "Once an opponent shoots below 57.19%, start fouling.\n",
      "When they shot 57.20%, their expected pts were 1.0001064000000002.\n"
     ]
    }
   ],
   "source": [
    "# array of FT %\n",
    "p_array = np.arange(0,1,0.0001)\n",
    "p_array = np.flip(p_array)\n",
    "\n",
    "# apply func\n",
    "exp_vals = fastApply(p_array, .15)\n",
    "\n",
    "# find the first time we dip below 1 (much faster than sifting through list)\n",
    "idx = np.argmax(exp_vals < 1)\n",
    "\n",
    "# check solution...look at the step prior also to confirm it is >= 1:\n",
    "print(f\"Once an opponent shoots below {100 * p_array[idx]:.2f}%, start fouling.\")\n",
    "print(f\"When they shot {100 * p_array[idx-1]:.2f}%, their expected pts were {exp_vals[idx-1]}.\")"
   ]
  },
  {
   "cell_type": "code",
   "execution_count": 3,
   "metadata": {},
   "outputs": [
    {
     "data": {
      "image/png": "[encoded data removed]",
      "text/plain": [
       "<Figure size 432x288 with 1 Axes>"
      ]
     },
     "metadata": {
      "needs_background": "light"
     },
     "output_type": "display_data"
    }
   ],
   "source": [
    "### plot it out, for fun. \n",
    "plt.plot(p_array, exp_vals, label = 'Exp Pts from Free-Throw')\n",
    "plt.plot(p_array, np.array([1 for i in range(len(p_array))]), label = 'Exp Pts Off Poss', ls = ':')\n",
    "plt.axvline(x=p_array[idx], ls = '--', color = 'black')\n",
    "plt.xlabel(\"Free-throw Percentage\")\n",
    "plt.ylabel(\"Expected Points\")\n",
    "plt.legend()\n",
    "plt.show()"
   ]
  },
  {
   "cell_type": "markdown",
   "metadata": {},
   "source": [
    "#### My code is slower than it could be\n",
    "\n",
    "My operation wasn't vectorized, was still using a list comprehension in `fastApply`, which means iterating through all values even when an answer is found.\n",
    "\n",
    "Another option to try is using some of the tools in itertools."
   ]
  },
  {
   "cell_type": "code",
   "execution_count": 11,
   "metadata": {},
   "outputs": [
    {
     "name": "stdout",
     "output_type": "stream",
     "text": [
      "0.05971050262451172\n"
     ]
    }
   ],
   "source": [
    "import time\n",
    "start = time.time()\n",
    "p_array = np.arange(0,1,0.0001)\n",
    "p_array = np.flip(p_array)\n",
    "exp_vals = fastApply(p_array, .15)\n",
    "idx = np.argmax(exp_vals < 1)\n",
    "end = time.time()\n",
    "print(end - start)"
   ]
  },
  {
   "cell_type": "code",
   "execution_count": 12,
   "metadata": {},
   "outputs": [
    {
     "name": "stdout",
     "output_type": "stream",
     "text": [
      "0.5719000000000001\n",
      "0.024012088775634766\n"
     ]
    }
   ],
   "source": [
    "start = time.time()\n",
    "p_array = np.arange(0,1,0.0001)\n",
    "p_array = np.flip(p_array)\n",
    "for p in p_array:\n",
    "    if expected_value(p=p, r=0.15) < 1:\n",
    "        print(p)\n",
    "        break\n",
    "\n",
    "end = time.time()\n",
    "print(end - start)"
   ]
  }
 ],
 "metadata": {
  "kernelspec": {
   "display_name": "Python 3.8",
   "language": "python",
   "name": "other-env"
  },
  "language_info": {
   "codemirror_mode": {
    "name": "ipython",
    "version": 3
   },
   "file_extension": ".py",
   "mimetype": "text/x-python",
   "name": "python",
   "nbconvert_exporter": "python",
   "pygments_lexer": "ipython3",
   "version": "3.8.5"
  }
 },
 "nbformat": 4,
 "nbformat_minor": 4
}
