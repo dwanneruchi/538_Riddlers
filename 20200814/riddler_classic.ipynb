{
 "cells": [
  {
   "cell_type": "markdown",
   "metadata": {},
   "source": [
    "### Riddler Classic\n",
    "\n",
    "From Angela Zhou comes one riddle to rule them all:\n",
    "\n",
    "The Riddler Manufacturing Company makes all sorts of mathematical tools: compasses, protractors, slide rules — you name it!\n",
    "    \n",
    "    Recently, there was an issue with the production of foot-long rulers. It seems that each ruler was accidentally sliced at three random points along the ruler, resulting in four pieces. Looking on the bright side, that means there are now four times as many rulers — they just happen to have different lengths.\n",
    "\n",
    "On average, how long are the pieces that contain the 6-inch mark?"
   ]
  },
  {
   "cell_type": "markdown",
   "metadata": {},
   "source": [
    "#### Ruler class:\n",
    "\n",
    "Numpy should keep things kind of fast\n",
    "\n",
    "Generating a simple ruler class that when instantiated will:\n",
    "- generate 3 random values between 0 - 12\n",
    "\n",
    "Methods include:\n",
    "- random_vals(): Generate 3 random floats between 0-12; return order np array\"\n",
    "- find_six_size(): Determine size of 6; return float\n",
    "\n",
    "Note: Class not really necessary here, might have slowed things down. But trying to live that OOP life. "
   ]
  },
  {
   "cell_type": "code",
   "execution_count": 85,
   "metadata": {},
   "outputs": [],
   "source": [
    "import numpy as np\n",
    "import statistics"
   ]
  },
  {
   "cell_type": "code",
   "execution_count": 51,
   "metadata": {},
   "outputs": [],
   "source": [
    "# define a ruler class\n",
    "class ruler():\n",
    "    def __init__(self, num):\n",
    "        self.random = self.random_vals(num) # random cuts\n",
    "        self.num = num # total cuts\n",
    "        \n",
    "    def random_vals(self, num_ran):\n",
    "        \"\"\"Generate 3 random floats between 0-12; return order np array\"\"\"\n",
    "        \n",
    "        # generate 3 random floats between 0 - 12 (ignoring )\n",
    "        # The below is probably unecessary.\n",
    "        temp_arr = np.random.uniform(low=0.0000001, high=11.999999, size=(3,))\n",
    "        \n",
    "        # return sorted array\n",
    "        return np.sort(temp_arr)\n",
    "        \n",
    "    def find_six_size(self):\n",
    "        \"\"\"Determine size of 6; return float\"\"\"\n",
    "        \n",
    "        # there are 4 options; just generating them all & breaking if a 6 exists in range\n",
    "        for i in range(self.num+1):\n",
    "            if i == 0:\n",
    "                if (6 < self.random[i]):\n",
    "                    size = self.random[i]\n",
    "                    break\n",
    "            elif i != num:\n",
    "                if (6.0 >= self.random[i-1]) and (6.0 < self.random[i]):\n",
    "                    size = self.random[i] - self.random[i-1]\n",
    "                    break\n",
    "            else:\n",
    "                if 6.0 > self.random[i-1]:\n",
    "                    size = 12 - self.random[i-1]\n",
    "                    break\n",
    "        \n",
    "        # return size\n",
    "        return size"
   ]
  },
  {
   "cell_type": "code",
   "execution_count": 52,
   "metadata": {},
   "outputs": [],
   "source": [
    "test_1 = ruler(3)\n",
    "test_2 = ruler(3)"
   ]
  },
  {
   "cell_type": "code",
   "execution_count": 53,
   "metadata": {},
   "outputs": [
    {
     "name": "stdout",
     "output_type": "stream",
     "text": [
      "[0.5111764  1.44545229 6.26252274]\n",
      "4.817070444041198\n"
     ]
    }
   ],
   "source": [
    "print(test_1.random)\n",
    "print(test_1.find_six_size())"
   ]
  },
  {
   "cell_type": "code",
   "execution_count": 55,
   "metadata": {},
   "outputs": [
    {
     "data": {
      "text/plain": [
       "4.817070449999999"
      ]
     },
     "execution_count": 55,
     "metadata": {},
     "output_type": "execute_result"
    }
   ],
   "source": [
    "# confirm:\n",
    "6.26252274 - 1.44545229 "
   ]
  },
  {
   "cell_type": "code",
   "execution_count": 54,
   "metadata": {},
   "outputs": [
    {
     "name": "stdout",
     "output_type": "stream",
     "text": [
      "[ 0.76753223  5.96490843 10.87652789]\n",
      "4.911619460466888\n"
     ]
    }
   ],
   "source": [
    "print(test_2.random)\n",
    "print(test_2.find_six_size())"
   ]
  },
  {
   "cell_type": "code",
   "execution_count": 56,
   "metadata": {},
   "outputs": [
    {
     "data": {
      "text/plain": [
       "4.91161946"
      ]
     },
     "execution_count": 56,
     "metadata": {},
     "output_type": "execute_result"
    }
   ],
   "source": [
    "# confirm:\n",
    "10.87652789 - 5.96490843 "
   ]
  },
  {
   "cell_type": "code",
   "execution_count": 64,
   "metadata": {},
   "outputs": [
    {
     "name": "stdout",
     "output_type": "stream",
     "text": [
      "[ 8.01376731  8.14577688 10.94878914]\n",
      "8.013767308153493\n"
     ]
    }
   ],
   "source": [
    "test_3 = ruler(3)\n",
    "print(test_3.random)\n",
    "print(test_3.find_six_size())"
   ]
  },
  {
   "cell_type": "markdown",
   "metadata": {},
   "source": [
    "### Run lots of iterations of this\n",
    "\n",
    "store output & calculate mean"
   ]
  },
  {
   "cell_type": "code",
   "execution_count": 95,
   "metadata": {},
   "outputs": [
    {
     "name": "stdout",
     "output_type": "stream",
     "text": [
      "***************************************\n",
      "Ran 10 iterations\n",
      "Took 0.80732 seconds to run.\n",
      "Average length is 5.25553 inches.\n",
      "***************************************\n",
      "Ran 100 iterations\n",
      "Took 0.00202 seconds to run.\n",
      "Average length is 5.84311 inches.\n",
      "***************************************\n",
      "Ran 1000 iterations\n",
      "Took 0.01393 seconds to run.\n",
      "Average length is 5.51813 inches.\n",
      "***************************************\n",
      "Ran 10000 iterations\n",
      "Took 0.11473 seconds to run.\n",
      "Average length is 5.63220 inches.\n",
      "***************************************\n",
      "Ran 100000 iterations\n",
      "Took 1.27011 seconds to run.\n",
      "Average length is 5.62261 inches.\n",
      "***************************************\n",
      "Ran 1000000 iterations\n",
      "Took 13.45143 seconds to run.\n",
      "Average length is 5.62369 inches.\n",
      "***************************************\n",
      "Ran 2000000 iterations\n",
      "Took 31.60234 seconds to run.\n",
      "Average length is 5.62479 inches.\n",
      "***************************************\n",
      "Ran 10000000 iterations\n",
      "Took 135.34307 seconds to run.\n",
      "Average length is 5.62494 inches.\n",
      "***************************************\n"
     ]
    }
   ],
   "source": [
    "import time\n",
    "\n",
    "# going to generate a dictionary to store mean across various iterations\n",
    "final_dict = {}\n",
    "\n",
    "# various iteration lengths\n",
    "total_its = [10,100,1000,10000,100000,1000000, 2000000, 10000000]\n",
    "\n",
    "print('***************************************')\n",
    "\n",
    "# loop through iteration size:\n",
    "for its in total_its:\n",
    "    \n",
    "    # calculate a time \n",
    "    start = time.time()\n",
    "    res_arr = [] # result array must be new\n",
    "\n",
    "    # instantiate a bunch of rulers w/ 3 random nums\n",
    "    objs = [ruler(3) for i in range(its)]\n",
    "    \n",
    "    # find length of the piece w/ 6\n",
    "    for obj in objs:\n",
    "        # find size of 6\n",
    "        res_arr.append(obj.find_six_size())\n",
    "\n",
    "    end = time.time()\n",
    "    \n",
    "    # find mean & total time - add to dictionary \n",
    "    temp_mean = statistics.mean(res_arr)\n",
    "    temp_time = end - start\n",
    "    final_dict[its] = {'time': temp_time, 'mean_len': temp_mean}\n",
    "    \n",
    "    # print info\n",
    "    print(f'Ran {its} iterations')\n",
    "    print(f'Took {temp_time:.5f} seconds to run.')\n",
    "    print(f'Average length is {temp_mean:.5f} inches.')\n",
    "    print('***************************************')"
   ]
  },
  {
   "cell_type": "code",
   "execution_count": null,
   "metadata": {},
   "outputs": [],
   "source": []
  }
 ],
 "metadata": {
  "kernelspec": {
   "display_name": "Python 3.8",
   "language": "python",
   "name": "other-env"
  },
  "language_info": {
   "codemirror_mode": {
    "name": "ipython",
    "version": 3
   },
   "file_extension": ".py",
   "mimetype": "text/x-python",
   "name": "python",
   "nbconvert_exporter": "python",
   "pygments_lexer": "ipython3",
   "version": "3.8.5"
  }
 },
 "nbformat": 4,
 "nbformat_minor": 4
}
