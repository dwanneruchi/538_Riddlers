{
 "cells": [
  {
   "cell_type": "markdown",
   "id": "3a699df0",
   "metadata": {},
   "source": [
    "### Riddler Classic\n",
    "\n",
    "Congratulations, you’ve made it to the fifth round of The Squiddler — a competition that takes place on a remote island. In this round, you are one of the 16 remaining competitors who must cross a bridge made up of 18 pairs of separated glass squares. Here is what the bridge looks like from above:\n",
    "    \n",
    "To cross the bridge, you must jump from one pair of squares to the next. However, you must choose one of the two squares in a pair to land on. Within each pair, one square is made of tempered glass, while the other is made of normal glass. If you jump onto tempered glass, all is well, and you can continue on to the next pair of squares. But if you jump onto normal glass, it will break, and you will be eliminated from the competition.\n",
    "\n",
    "You and your competitors have no knowledge of which square within each pair is made of tempered glass. The only way to figure it out is to take a leap of faith and jump onto a square. Once a pair is revealed — either when someone lands on a tempered square or a normal square — all remaining competitors take notice and will choose the tempered glass when they arrive at that pair.\n",
    "\n",
    "On average, how many of the 16 competitors will survive and make it to the next round of the competition?\n",
    "\n",
    "\n",
    "### Sim Approach: Assumptions\n",
    "- We have participants guess at each step. \n",
    "- Every pair has two options, where 0 or 1 represents the tempered glass and must be matched. \n",
    "\n",
    "\n",
    "### A Note on Solution:\n",
    "\n",
    "It was absolutely unecessary for me to have a `dataclass` here, but tryint to play around with some stuff I am learning in `Fluent Python` (which makes it clear to not overuse classes, but hey here we are). \n",
    "\n",
    "The nice thing about using a dataclass is I could shuffle contestants and determine which survive each round (attempting to justify the decision). \n",
    "\n",
    "There are a lot of slow decisions in the first iteration, this will be cleaned. "
   ]
  },
  {
   "cell_type": "code",
   "execution_count": 3,
   "id": "6deecc5d",
   "metadata": {},
   "outputs": [],
   "source": [
    "from dataclasses import dataclass\n",
    "import random \n",
    "\n",
    "class Bridge():\n",
    "    def __init__(self, size = 16):\n",
    "        self.size = size\n",
    "        \n",
    "    def mapTempered(self):\n",
    "        \"\"\"Function to randomly determine if tempered is 0 or 1\"\"\"\n",
    "        self.bridge = random.choices([0,1], k=self.size)\n",
    "        \n",
    "    def traversal(self, contestants):\n",
    "        \"\"\"\n",
    "        Assuming no shenanigans, it should only take 1 contestant at most to traverse a single step.\n",
    "        If a contestant falls through, the next contests should avoid the window they fell through\n",
    "        \"\"\"\n",
    "        i = 0 # initial contestant\n",
    "        for step in self.bridge:\n",
    "            if contestants[i].choose() != step:\n",
    "                contestants[i].alive = 0\n",
    "                i += 1\n",
    "            else:\n",
    "                continue\n",
    "        return contestants\n",
    "    \n",
    "@dataclass\n",
    "class Contestant:\n",
    "    \"\"\"class representating a competitor in Squid games\"\"\"\n",
    "    number: int\n",
    "    alive: int = 1 # they all start out alive\n",
    "\n",
    "    def choose(self):\n",
    "        return random.choices([0,1], k=1)[0]"
   ]
  },
  {
   "cell_type": "markdown",
   "id": "55aaac73",
   "metadata": {},
   "source": [
    "### Run Some Sims: \n",
    "\n",
    "We could surely solve this faster in numpy, that is next. "
   ]
  },
  {
   "cell_type": "code",
   "execution_count": 4,
   "id": "21e2c8bb",
   "metadata": {},
   "outputs": [
    {
     "name": "stdout",
     "output_type": "stream",
     "text": [
      "Average survivors for 1000 sims: 7.876\n",
      "Total time: 0.05\n",
      "\n",
      "Average survivors for 10000 sims: 7.9949\n",
      "Total time: 0.20\n",
      "\n",
      "Average survivors for 100000 sims: 7.99934\n",
      "Total time: 1.88\n",
      "\n",
      "Average survivors for 1000000 sims: 7.998777\n",
      "Total time: 18.81\n",
      "\n",
      "Average survivors for 2000000 sims: 8.0013275\n",
      "Total time: 37.73\n",
      "\n"
     ]
    }
   ],
   "source": [
    "import time \n",
    "sims = [1_000, 10_000, 100_000, 1_000_000, 2_000_000]\n",
    "for sim in sims:\n",
    "    start = time.time()\n",
    "    tot_alive = 0\n",
    "    for _ in range(sim):\n",
    "        sequence = [Contestant(i+1) for i in range(16)] # our new sequence -> really unecessary (SLOW)\n",
    "        b = Bridge(16)\n",
    "        b.mapTempered()\n",
    "        sequence = [Contestant(i+1) for i in range(16)]\n",
    "        output = b.traversal(sequence)\n",
    "        tot_alive += sum([c.alive for c in output])\n",
    "    end = time.time()\n",
    "    print(f\"Average survivors for {sim} sims: {tot_alive / sim}\")\n",
    "    print(f\"Total time: {end - start:.2f}\\n\")"
   ]
  },
  {
   "cell_type": "markdown",
   "id": "55c9409e",
   "metadata": {},
   "source": [
    "### Analytical Solution\n",
    "\n",
    "Is this just the expected value of the binomial distribution? I think that makes sense since we are basically looking at `expected value at each step * total steps`\n",
    "\n",
    "$E[X] = np$\n",
    "\n",
    "Where n = 1 and p = 0.5, so:\n",
    "\n",
    "$E[X] = 0.5$ \n",
    "\n",
    "We expect 0.5 competitors per step, which is also: \n",
    "\n",
    "$ size * E[X] = 16 * 0.5 = 8$"
   ]
  },
  {
   "cell_type": "markdown",
   "id": "91ce90d2",
   "metadata": {},
   "source": [
    "### Numpy: \n",
    "\n",
    "Still not leveraging numpy in a great way here, but removing a lot of the cruft from the prior simulation. "
   ]
  },
  {
   "cell_type": "code",
   "execution_count": 7,
   "id": "ac55487a",
   "metadata": {},
   "outputs": [],
   "source": [
    "import numpy as np\n",
    "\n",
    "def bridgeGame(size = 16):\n",
    "    \"\"\"Simulate a single bridge game in numpy\"\"\"\n",
    "    arr = np.random.randint(2, size=size) \n",
    "    deaths = 0\n",
    "    for i in range(size):\n",
    "        if random.choice([0, 1]) != arr[i]:\n",
    "            deaths += 1\n",
    "    return size - deaths"
   ]
  },
  {
   "cell_type": "code",
   "execution_count": 8,
   "id": "8346368e",
   "metadata": {},
   "outputs": [
    {
     "name": "stdout",
     "output_type": "stream",
     "text": [
      "Average survivors for 1000 sims: 7.97\n",
      "Total time: 0.03\n",
      "\n",
      "Average survivors for 10000 sims: 7.9897\n",
      "Total time: 0.13\n",
      "\n",
      "Average survivors for 100000 sims: 7.99269\n",
      "Total time: 1.10\n",
      "\n",
      "Average survivors for 1000000 sims: 8.002944\n",
      "Total time: 10.83\n",
      "\n",
      "Average survivors for 2000000 sims: 7.998742\n",
      "Total time: 21.46\n",
      "\n"
     ]
    }
   ],
   "source": [
    "sims = [1_000, 10_000, 100_000, 1_000_000, 2_000_000]\n",
    "for sim in sims:\n",
    "    start = time.time()\n",
    "    tot_alive = 0\n",
    "    for _ in range(sim):\n",
    "        tot_alive += bridgeGame(size = 16)\n",
    "    end = time.time()\n",
    "    print(f\"Average survivors for {sim} sims: {tot_alive / sim}\")\n",
    "    print(f\"Total time: {end - start:.2f}\\n\")"
   ]
  }
 ],
 "metadata": {
  "kernelspec": {
   "display_name": "ml",
   "language": "python",
   "name": "ml"
  },
  "language_info": {
   "codemirror_mode": {
    "name": "ipython",
    "version": 3
   },
   "file_extension": ".py",
   "mimetype": "text/x-python",
   "name": "python",
   "nbconvert_exporter": "python",
   "pygments_lexer": "ipython3",
   "version": "3.9.2"
  }
 },
 "nbformat": 4,
 "nbformat_minor": 5
}
