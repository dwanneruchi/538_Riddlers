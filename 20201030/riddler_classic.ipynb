{
 "cells": [
  {
   "cell_type": "markdown",
   "metadata": {},
   "source": [
    "### Riddler Classic\n",
    "\n",
    "From Ricky Jacobson comes a party game that’s just in time for Halloween:\n",
    "\n",
    "Instead of playing hot potato, you and 60 of your closest friends decide to play a socially distanced game of hot pumpkin.\n",
    "\n",
    "Before the game starts, you all sit in a circle and agree on a positive integer N. Once the number has been chosen, you (the leader of the group) start the game by counting “1” and passing the pumpkin to the person sitting directly to your left. She then declares “2” and passes the pumpkin one space to her left. This continues with each player saying the next number in the sequence, wrapping around the circle as many times as necessary, until the group has collectively counted up to N. At that point, the player who counted “N” is eliminated, and the player directly to his or her left starts the next round, again proceeding to the same value of N. The game continues until just one player remains, who is declared the victor.\n",
    "\n",
    "In the game’s first round, the player 18 spaces to your left is the first to be eliminated. Ricky, the next player in the sequence, begins the next round. The second round sees the elimination of the player 31 spaces to Ricky’s left. Zach begins the third round, only to find himself eliminated in a cruel twist of fate. (Woe is Zach.)\n",
    "\n",
    "What was the smallest value of N the group could have used for this game?"
   ]
  },
  {
   "cell_type": "markdown",
   "metadata": {},
   "source": [
    "### Things We Know\n",
    "\n",
    "- Player list starts with 61 total; we lose 1 player each `N` moves\n",
    "- first out: index is 19 and we have 61 total players. \n",
    "- second out: index is 31 from start, but we only have 60 total players\n",
    "- third out: index is 1st from start, we only have 59 players\n",
    "\n",
    "### General Solution Approach: \n",
    "\n",
    "- Identify all possible values for `N` across the three scenarios above. Find overlapping values and identify mininum. "
   ]
  },
  {
   "cell_type": "code",
   "execution_count": 1,
   "metadata": {},
   "outputs": [],
   "source": [
    "def index_solver(M, N, T):\n",
    "\n",
    "    \"\"\"Find the index values for person M based on total N. T represents total rounds of game\"\"\"\n",
    "\n",
    "    output_list = []\n",
    "\n",
    "    for round in range(T):\n",
    "        output_list.append(M + N*round)\n",
    "\n",
    "    return output_list"
   ]
  },
  {
   "cell_type": "code",
   "execution_count": 3,
   "metadata": {},
   "outputs": [
    {
     "name": "stdout",
     "output_type": "stream",
     "text": [
      "[19, 80, 141, 202, 263, 324, 385, 446, 507, 568]\n",
      "[31, 91, 151, 211, 271, 331, 391, 451, 511, 571]\n",
      "[1, 60, 119, 178, 237, 296, 355, 414, 473, 532]\n"
     ]
    }
   ],
   "source": [
    "# 19th index with 61 total\n",
    "first_out = index_solver(19,61,100000)\n",
    "print(first_out[:10])\n",
    "\n",
    "# 31st index from start with 60 total\n",
    "second_out = index_solver(31,60,100000)\n",
    "print(second_out[:10])\n",
    "\n",
    "# 1st from start with 59 total\n",
    "third_out = index_solver(1,59,100000)\n",
    "print(third_out[:10])"
   ]
  },
  {
   "cell_type": "code",
   "execution_count": 6,
   "metadata": {},
   "outputs": [
    {
     "data": {
      "text/plain": [
       "{139831,\n",
       " 355771,\n",
       " 571711,\n",
       " 787651,\n",
       " 1003591,\n",
       " 1219531,\n",
       " 1435471,\n",
       " 1651411,\n",
       " 1867351,\n",
       " 2083291,\n",
       " 2299231,\n",
       " 2515171,\n",
       " 2731111,\n",
       " 2947051,\n",
       " 3162991,\n",
       " 3378931,\n",
       " 3594871,\n",
       " 3810811,\n",
       " 4026751,\n",
       " 4242691,\n",
       " 4458631,\n",
       " 4674571,\n",
       " 4890511,\n",
       " 5106451,\n",
       " 5322391,\n",
       " 5538331,\n",
       " 5754271}"
      ]
     },
     "execution_count": 6,
     "metadata": {},
     "output_type": "execute_result"
    }
   ],
   "source": [
    "# minimal value\n",
    "possible_n = set(first_out) & set(second_out) & set(third_out)\n",
    "possible_n"
   ]
  },
  {
   "cell_type": "markdown",
   "metadata": {},
   "source": [
    "### Solution: 139831\n",
    "\n",
    "Will prove this out by simulating the game below with an `N` = 139831"
   ]
  },
  {
   "cell_type": "code",
   "execution_count": 7,
   "metadata": {},
   "outputs": [],
   "source": [
    "# play game\n",
    "\n",
    "def play_game(input_list, n):\n",
    "    \"\"\"Depending on input list & n remove a player\"\"\"\n",
    "    not_finished = True\n",
    "    moves = 1 #start at value 1\n",
    "\n",
    "    while not_finished:\n",
    "        for i in range(len(input_list)):\n",
    "\n",
    "            # identify when n is met\n",
    "            if moves == n:\n",
    "                not_finished = False\n",
    "\n",
    "                # remove the ith element\n",
    "                del input_list[i]\n",
    "\n",
    "                break\n",
    "\n",
    "            # update moves\n",
    "            moves += 1\n",
    "\n",
    "    # return updated list\n",
    "    return input_list"
   ]
  },
  {
   "cell_type": "code",
   "execution_count": 8,
   "metadata": {},
   "outputs": [
    {
     "data": {
      "text/plain": [
       "[18]"
      ]
     },
     "execution_count": 8,
     "metadata": {},
     "output_type": "execute_result"
    }
   ],
   "source": [
    "# Round 1:\n",
    "# we remove 18th element for the first round, which is 19th player\n",
    "output_list = play_game(list(range(61)), 139831)\n",
    "\n",
    "# find diff\n",
    "[x for x in list(range(61)) if x not in output_list]"
   ]
  },
  {
   "cell_type": "code",
   "execution_count": 9,
   "metadata": {},
   "outputs": [
    {
     "data": {
      "text/plain": [
       "[30]"
      ]
     },
     "execution_count": 9,
     "metadata": {},
     "output_type": "execute_result"
    }
   ],
   "source": [
    "# Round 2:\n",
    "# we should remove the 31st player, which is 30th index\n",
    "# down to 60 total players\n",
    "output_list = play_game(list(range(60)), 139831)\n",
    "\n",
    "# find diff\n",
    "[x for x in list(range(60)) if x not in output_list]"
   ]
  },
  {
   "cell_type": "code",
   "execution_count": 10,
   "metadata": {},
   "outputs": [
    {
     "data": {
      "text/plain": [
       "[0]"
      ]
     },
     "execution_count": 10,
     "metadata": {},
     "output_type": "execute_result"
    }
   ],
   "source": [
    "# Round 3:\n",
    "# we should remove the 1st player, which is 0th index\n",
    "# down to 59 total players\n",
    "output_list = play_game(list(range(59)), 139831)\n",
    "\n",
    "# find diff\n",
    "[x for x in list(range(59)) if x not in output_list]"
   ]
  }
 ],
 "metadata": {
  "kernelspec": {
   "display_name": "Python 3.8",
   "language": "python",
   "name": "other-env"
  },
  "language_info": {
   "codemirror_mode": {
    "name": "ipython",
    "version": 3
   },
   "file_extension": ".py",
   "mimetype": "text/x-python",
   "name": "python",
   "nbconvert_exporter": "python",
   "pygments_lexer": "ipython3",
   "version": "3.8.5"
  }
 },
 "nbformat": 4,
 "nbformat_minor": 4
}
