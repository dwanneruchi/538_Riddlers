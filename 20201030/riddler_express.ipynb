{
 "cells": [
  {
   "cell_type": "markdown",
   "metadata": {},
   "source": [
    "### Riddler Express\n",
    "While waiting in line to vote early last week, I overheard a discussion between election officials. Apparently, there may have been a political sign that was within 100 feet of the polling place, against New York State law.\n",
    "\n",
    "This got me thinking. Suppose a polling site is a square building whose sides are 100 feet in length. An election official takes a string that is also 100 feet long and ties one end to a door located in the middle of one of the building’s sides. She then holds the other end of the string in her hand.\n",
    "\n",
    "What’s the area of the region outside of the building she can reach while holding the string?"
   ]
  },
  {
   "cell_type": "markdown",
   "metadata": {},
   "source": [
    "### Draw the problem"
   ]
  },
  {
   "cell_type": "code",
   "execution_count": 50,
   "metadata": {},
   "outputs": [
    {
     "data": {
      "image/png": "[encoded data removed]",
      "text/plain": [
       "<PIL.Image.Image image mode=RGB size=500x500 at 0x249D0179EB0>"
      ]
     },
     "metadata": {},
     "output_type": "display_data"
    }
   ],
   "source": [
    "from PIL import Image, ImageDraw\n",
    "from IPython.display import display # to display images in notebook\n",
    "\n",
    "# radius of circle is 100\n",
    "radius = 100\n",
    "\n",
    "# Image object represents large background image\n",
    "im = Image.new('RGB', (500, 500), (128, 128, 128))\n",
    "draw = ImageDraw.Draw(im)\n",
    "\n",
    "# call draw method from Draw object to make a figure \n",
    "# make our voting square building\n",
    "# upper left x coord, upper left 7 coord,\n",
    "draw.rectangle((300, 300, 200, 200), fill=(0, 192, 192), outline=(255, 255, 255))\n",
    "\n",
    "# add in our circular voting area: \n",
    "# find point x1, y1 which represents middle of wall \n",
    "# x1 - radius, y1 - radius, x1 + radius, y1 + radius\n",
    "draw.ellipse((250 - radius, 200 - radius, 250 + radius, 200 + radius), fill=(0, 0, 255), outline=(255, 255, 255))\n",
    "draw.rectangle((300, 300, 200, 200), fill=(0, 192, 192), outline=(0, 0, 0))\n",
    "\n",
    "display(im)"
   ]
  },
  {
   "cell_type": "markdown",
   "metadata": {},
   "source": [
    "### Solving the Problem:\n",
    "\n",
    "It becomes a basic geometry problem: \n",
    "    \n",
    "- Solve for the semi-circle coverage (`SC`)\n",
    "- Solve for each of the partial segments  (`PS`)\n",
    "- Solve: `SC` + 2*`PS`\n",
    "\n",
    "#### Finding Partial Segment\n",
    "\n",
    "- harder to visualize this in python, shown below:\n",
    "\n",
    "![PS](ps_ex.jpg)\n",
    "\n",
    "- it becomes a right triangle with the following information: \n",
    "    - leg a has side of 50\n",
    "    - hypotenuse is going to be 100 since thats where circle and square overlap \n",
    "    - interior angle is going to be 60 degrees (cos x = 0.5)\n",
    "    - can solve for leg b then. \n",
    "- Can then solve the partial segment as: \n",
    "    - 1/6 of circle area - right triangle describe above"
   ]
  },
  {
   "cell_type": "code",
   "execution_count": 64,
   "metadata": {},
   "outputs": [],
   "source": [
    "from math import pi\n",
    "\n",
    "# calculate PS:\n",
    "\n",
    "# start by finding other leg of triangle using Pyth Theor\n",
    "leg_a = 50\n",
    "hyp = 100\n",
    "leg_b = (hyp**2 - leg_a**2)**0.5\n",
    "\n",
    "# then calculate area of right triangle\n",
    "rt_area = 0.5 * (leg_a*leg_b)\n",
    "\n",
    "# PS will be the following: the 60-degree sector of circle - the right triangle \n",
    "PS = (1/6) * pi * (radius ** 2) - rt_area"
   ]
  },
  {
   "cell_type": "code",
   "execution_count": 65,
   "metadata": {},
   "outputs": [],
   "source": [
    "# semi-circle is easy to solve for \n",
    "SC = 0.5 * pi * (radius **2)"
   ]
  },
  {
   "cell_type": "code",
   "execution_count": 66,
   "metadata": {},
   "outputs": [
    {
     "name": "stdout",
     "output_type": "stream",
     "text": [
      "Coverage is approximately: 21849.81\n"
     ]
    }
   ],
   "source": [
    "# final answer\n",
    "solution = SC + 2*PS\n",
    "print(f\"Coverage is approximately: {solution:.2f}\")"
   ]
  }
 ],
 "metadata": {
  "kernelspec": {
   "display_name": "Python 3.8",
   "language": "python",
   "name": "other-env"
  },
  "language_info": {
   "codemirror_mode": {
    "name": "ipython",
    "version": 3
   },
   "file_extension": ".py",
   "mimetype": "text/x-python",
   "name": "python",
   "nbconvert_exporter": "python",
   "pygments_lexer": "ipython3",
   "version": "3.8.5"
  }
 },
 "nbformat": 4,
 "nbformat_minor": 4
}
