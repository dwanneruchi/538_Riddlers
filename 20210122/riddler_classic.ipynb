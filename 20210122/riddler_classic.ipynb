{
 "cells": [
  {
   "cell_type": "markdown",
   "metadata": {},
   "source": [
    "### Riddler Classic\n",
    "\n",
    "Congratulations, you’ve made it to the finals of the Riddler Ski Federation’s winter championship! There’s just one opponent left to beat, and then the gold medal will be yours.\n",
    "\n",
    "Each of you will complete two runs down the mountain, and the times of your runs will be added together. Whoever skis in the least overall time is the winner. Also, this being the Riddler Ski Federation, you have been presented detailed data on both you and your opponent. You are evenly matched, and both have the same normal probability distribution of finishing times for each run. And for both of you, your time on the first run is completely independent of your time on the second run.\n",
    "\n",
    "For the first runs, your opponent goes first. Then, it’s your turn. As you cross the finish line, your coach excitedly signals to you that you were faster than your opponent. Without knowing either exact time, what’s the probability that you will still be ahead after the second run and earn your gold medal?\n",
    "\n",
    "### General Assumptions:\n",
    "\n",
    "- The mean of normal distribution doesn't really matter, but going to use something a bit more positive to be safe (really should not matter)\n"
   ]
  },
  {
   "cell_type": "code",
   "execution_count": 1,
   "metadata": {},
   "outputs": [],
   "source": [
    "import numpy as np"
   ]
  },
  {
   "cell_type": "code",
   "execution_count": 7,
   "metadata": {},
   "outputs": [
    {
     "data": {
      "text/plain": [
       "101.43961984856661"
      ]
     },
     "execution_count": 7,
     "metadata": {},
     "output_type": "execute_result"
    }
   ],
   "source": [
    "# Generate normal distribution parameters: \n",
    "mean = 100\n",
    "std = 10 # this makes it very unlikely we dip into negative, which again doesn't matter\n"
   ]
  },
  {
   "cell_type": "code",
   "execution_count": 14,
   "metadata": {},
   "outputs": [],
   "source": [
    "def firstRun():\n",
    "    \"\"\"Sample from normal distribution until my time is less than opponent time\"\"\"\n",
    "    me, opp = 1, 0\n",
    "    while me > opp:\n",
    "        me, opp = np.random.normal(loc=mean, scale=std, size=2)\n",
    "    \n",
    "    return (me, opp)\n",
    "\n",
    "def secondRun():\n",
    "    return np.random.normal(loc=mean, scale=std, size=2)"
   ]
  },
  {
   "cell_type": "code",
   "execution_count": 19,
   "metadata": {},
   "outputs": [
    {
     "name": "stdout",
     "output_type": "stream",
     "text": [
      "104.25583667300691 106.12022194701484\n",
      "82.75288575178612 122.90158925633071\n",
      "187.00872242479304 229.02181120334555\n",
      "True\n"
     ]
    }
   ],
   "source": [
    "# Sample Run\n",
    "me, opp = firstRun()\n",
    "assert(me < opp) # ensure my time is less than opponents for first run\n",
    "me2, opp2 = secondRun()\n",
    "\n",
    "print(me, opp)\n",
    "print(me2, opp2)\n",
    "me += me2\n",
    "opp += opp2\n",
    "print(me, opp)\n",
    "print(me < opp)"
   ]
  },
  {
   "cell_type": "markdown",
   "metadata": {},
   "source": [
    "### Simulate\n",
    "\n"
   ]
  },
  {
   "cell_type": "code",
   "execution_count": 26,
   "metadata": {},
   "outputs": [
    {
     "name": "stdout",
     "output_type": "stream",
     "text": [
      "Ran 100 simulations\n",
      "Likelihood of being faster: 0.710\n",
      "Total seconds to run: 0.013\n",
      "\n",
      "Ran 1000 simulations\n",
      "Likelihood of being faster: 0.738\n",
      "Total seconds to run: 0.035\n",
      "\n",
      "Ran 10000 simulations\n",
      "Likelihood of being faster: 0.744\n",
      "Total seconds to run: 0.415\n",
      "\n",
      "Ran 100000 simulations\n",
      "Likelihood of being faster: 0.750\n",
      "Total seconds to run: 3.627\n",
      "\n",
      "Ran 1000000 simulations\n",
      "Likelihood of being faster: 0.750\n",
      "Total seconds to run: 36.240\n",
      "\n"
     ]
    }
   ],
   "source": [
    "import time\n",
    "\n",
    "for n in [100, 1000, 10000, 100000, 1000000]:\n",
    "    faster = 0 # keep tracks on when i am faster than opp\n",
    "    start = time.time()\n",
    "    for _ in range(n):\n",
    "        me, opp = firstRun()\n",
    "        me2, opp2 = secondRun()\n",
    "        me += me2\n",
    "        opp += opp2\n",
    "        if me < opp:\n",
    "            faster += 1\n",
    "    end = time.time()\n",
    "    print(f\"Ran {n} simulations\")\n",
    "    print(f\"Likelihood of being faster: {faster/n:.3f}\")\n",
    "    print(f\"Total seconds to run: {end - start:.3f}\")\n",
    "    print(\"\")"
   ]
  },
  {
   "cell_type": "markdown",
   "metadata": {},
   "source": [
    "### Analytical Solution\n",
    "\n",
    "Things to consider when solving: \n",
    "- What is the expected difference when I have a faster time in the first trial?\n",
    "- What is the expectation that, accounting for that, my time will still be less. My assumption is I need to consider where those summed values fall on distribution\n",
    "\n",
    "Math: \n",
    "\n"
   ]
  },
  {
   "cell_type": "code",
   "execution_count": null,
   "metadata": {},
   "outputs": [],
   "source": []
  }
 ],
 "metadata": {
  "kernelspec": {
   "display_name": "Python 3.8",
   "language": "python",
   "name": "other-env"
  },
  "language_info": {
   "codemirror_mode": {
    "name": "ipython",
    "version": 3
   },
   "file_extension": ".py",
   "mimetype": "text/x-python",
   "name": "python",
   "nbconvert_exporter": "python",
   "pygments_lexer": "ipython3",
   "version": "3.8.5"
  }
 },
 "nbformat": 4,
 "nbformat_minor": 4
}
