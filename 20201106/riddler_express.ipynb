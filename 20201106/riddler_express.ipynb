{
 "cells": [
  {
   "cell_type": "markdown",
   "metadata": {},
   "source": [
    "Last weekend’s New York City Marathon was canceled. But runners from Des Linden — one of the top American marathoners — to FiveThirtyEight’s own Santul Nerkar — my number one editor — still went out there and braved the course. Santul finished in a time of 3:41:43 (3 hours, 41 minutes, 43 seconds), which averaged to 8 minutes, 27 seconds per mile.\n",
    "\n",
    "Suppose, while training, Santul completed two 20-mile runs on a treadmill. For the first run, he set the treadmill to a constant speed so that he ran every mile in 9 minutes.\n",
    "\n",
    "The second run was a little different. He started at a 10 minute-per-mile pace and accelerated continuously until he was running at an 8-minute-per mile pace at the end. Moreover, Santul’s minutes-per-mile pace (i.e., not his speed) changed linearly over time. So a quarter of the way through the duration (in time, not distance) of the run, his pace was 9 minutes, 30 seconds per mile, halfway through it was 9 minutes per mile, etc.\n",
    "\n",
    "Which training run was faster (i.e., took less time) overall? And what were Santul’s times for the two runs?"
   ]
  },
  {
   "cell_type": "code",
   "execution_count": 3,
   "metadata": {},
   "outputs": [
    {
     "name": "stdout",
     "output_type": "stream",
     "text": [
      "Total minutes for training run #1: 180\n"
     ]
    }
   ],
   "source": [
    "### training run 1: \n",
    "min_mi_one = 9 \n",
    "run_1 = 20 * min_mi_one\n",
    "print(f\"Total minutes for training run #1: {run_1}\")"
   ]
  },
  {
   "cell_type": "code",
   "execution_count": 9,
   "metadata": {},
   "outputs": [
    {
     "name": "stdout",
     "output_type": "stream",
     "text": [
      "Acceleration expected: 0.50625\n",
      "Total minutes for training run #2: 177.7777777777778\n"
     ]
    }
   ],
   "source": [
    "### training run 2: velocity changes linearly (uniform slope)\n",
    "\n",
    "# Part 1: Solve for acceleration: \n",
    "# Can use our classic 1D motion kinematic equation: vf^2 = vi^2 + 2*a*d\n",
    "v_start = 6 # 10 min / mile == 6 miles /hr\n",
    "v_end = 7.5    # 8 min / mile == 7.5 miles / hr\n",
    "dist = 20\n",
    "\n",
    "# define a\n",
    "a = (v_end**2 - v_start**2) / (2*dist)\n",
    "\n",
    "print(f\"Acceleration expected: {a}\")\n",
    "\n",
    "# Part 2: Solve for t with other kinematic equation: vf = vi + a*t\n",
    "run_2_hrs = (v_end - v_start) / (a)\n",
    "\n",
    "# convert to minutes\n",
    "run_2 = run_2_hrs * 60\n",
    "\n",
    "print(f\"Total minutes for training run #2: {run_2}\")"
   ]
  },
  {
   "cell_type": "code",
   "execution_count": 10,
   "metadata": {},
   "outputs": [
    {
     "name": "stdout",
     "output_type": "stream",
     "text": [
      "Total minutes for training run #1: 180\n",
      "Total minutes for training run #2: 177.7777777777778\n"
     ]
    }
   ],
   "source": [
    "### Final Solution: \n",
    "print(f\"Total minutes for training run #1: {run_1}\")\n",
    "print(f\"Total minutes for training run #2: {run_2}\")"
   ]
  },
  {
   "cell_type": "markdown",
   "metadata": {},
   "source": [
    "### Show plot of velocity over time: "
   ]
  },
  {
   "cell_type": "code",
   "execution_count": 11,
   "metadata": {},
   "outputs": [],
   "source": [
    "%matplotlib inline\n",
    "import matplotlib.pyplot as plt\n",
    "plt.style.use('seaborn-whitegrid')\n",
    "import numpy as np"
   ]
  },
  {
   "cell_type": "code",
   "execution_count": 16,
   "metadata": {},
   "outputs": [
    {
     "data": {
      "image/png": "[encoded data removed]",
      "text/plain": [
       "<Figure size 432x288 with 1 Axes>"
      ]
     },
     "metadata": {},
     "output_type": "display_data"
    }
   ],
   "source": [
    "fig = plt.figure()\n",
    "ax = plt.axes()\n",
    "\n",
    "# time axis\n",
    "t = np.linspace(0, run_1 / 60, 1000)\n",
    "\n",
    "run_1_velocity = 60 / 9\n",
    "ax.plot(t, run_1_velocity + 0*t, label = \"training run 1\"); # training run 1 in mi / hr\n",
    "ax.plot(t, v_start + a*t, label = \"training run 2\") # training run 2\n",
    "\n",
    "# clean up plot a bit \n",
    "ax.set(xlabel='time(hr)', ylabel='velocity(mi/hr)',\n",
    "       title='Velocity over Time')\n",
    "plt.legend();"
   ]
  }
 ],
 "metadata": {
  "kernelspec": {
   "display_name": "Python 3.8",
   "language": "python",
   "name": "other-env"
  },
  "language_info": {
   "codemirror_mode": {
    "name": "ipython",
    "version": 3
   },
   "file_extension": ".py",
   "mimetype": "text/x-python",
   "name": "python",
   "nbconvert_exporter": "python",
   "pygments_lexer": "ipython3",
   "version": "3.8.5"
  }
 },
 "nbformat": 4,
 "nbformat_minor": 4
}
