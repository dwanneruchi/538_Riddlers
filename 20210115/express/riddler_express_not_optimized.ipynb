{
 "cells": [
  {
   "cell_type": "markdown",
   "metadata": {},
   "source": [
    "### Riddler Express:\n",
    "\n",
    "From Lucas Jaeger comes a “flute-iful” challenge:\n",
    "\n",
    "You’re a contestant on the hit new game show, “You Bet Your Fife.” On the show, a random real number (i.e., decimals are allowed) is chosen between 0 and 100. Your job is to guess a value that is less than this randomly chosen number. Your reward for winning is a novelty fife that is valued precisely at your guess. For example, if the number is 75 and you guess 5, you’d win a 5-dollar fife, but if you’d guessed 60, you’d win a 60-dollar fife. Meanwhile, a guess of 80 would win you nothing.\n",
    "\n",
    "What number should you guess to maximize the average value of your fifing winnings?\n",
    "\n",
    "### Process:\n",
    "\n",
    "- Search over a series of games for the expecting earnings of values 0 - 100 in increments of 0,01 (10K total)\n",
    "- Run `N` simulations (will see how timing goes) & determine avg cost at each guess over `N` runs. "
   ]
  },
  {
   "cell_type": "code",
   "execution_count": 1,
   "metadata": {},
   "outputs": [
    {
     "name": "stdout",
     "output_type": "stream",
     "text": [
      "Range of guesses: 0.0-100.0\n"
     ]
    }
   ],
   "source": [
    "import random \n",
    "from collections import defaultdict\n",
    "import matplotlib.pyplot as plt\n",
    "\n",
    "# params\n",
    "min_g = 0\n",
    "max_g = 100\n",
    "guess_list = [x/100 for x in range(min_g,max_g * 100 + 1)]\n",
    "print(f\"Range of guesses: {guess_list[0]}-{guess_list[-1]}\")\n",
    "\n",
    "# default dict will default to a value of 0\n",
    "solution_dict = defaultdict(lambda:0)\n",
    "\n",
    "# total sims\n",
    "n = 1000"
   ]
  },
  {
   "cell_type": "code",
   "execution_count": 2,
   "metadata": {},
   "outputs": [
    {
     "name": "stdout",
     "output_type": "stream",
     "text": [
      "3.3606679439544678\n"
     ]
    }
   ],
   "source": [
    "import time\n",
    "\n",
    "# Do a quick timing test\n",
    "start = time.time()\n",
    "\n",
    "for _ in range(n):\n",
    "    \n",
    "    # randomly choose a float between 0 - 100\n",
    "    chosen_num = round(random.uniform(0,100),2)\n",
    "\n",
    "    # determine winnings across each guess\n",
    "    for guess in guess_list:\n",
    "        if guess < chosen_num:\n",
    "            solution_dict[guess] += guess\n",
    "        else:\n",
    "            solution_dict[guess] += 0\n",
    "\n",
    "end = time.time()\n",
    "print(end - start)"
   ]
  },
  {
   "cell_type": "code",
   "execution_count": 3,
   "metadata": {},
   "outputs": [
    {
     "name": "stdout",
     "output_type": "stream",
     "text": [
      "Highest winnings occur at 54.37 with a total of 26315.07999999992\n"
     ]
    }
   ],
   "source": [
    "max_val = [0,0]\n",
    "for k,v in solution_dict.items():\n",
    "    if v > max_val[0]:\n",
    "        max_val[0] = v\n",
    "        max_val[1] = k\n",
    "print(f\"Highest winnings occur at {max_val[1]} with a total of {max_val[0]}\")"
   ]
  },
  {
   "cell_type": "markdown",
   "metadata": {},
   "source": [
    "### Iterate Through Varying Sample Sizes:\n",
    "\n",
    "Too slow to exceed this"
   ]
  },
  {
   "cell_type": "code",
   "execution_count": 4,
   "metadata": {},
   "outputs": [
    {
     "name": "stdout",
     "output_type": "stream",
     "text": [
      "Total simulations: 10\n",
      "Highest winnings occur at 55.37 with an average of 27.68\n",
      "\n",
      "\n",
      "Total simulations: 100\n",
      "Highest winnings occur at 49.0 with an average of 26.95\n",
      "\n",
      "\n",
      "Total simulations: 1000\n",
      "Highest winnings occur at 49.71 with an average of 24.46\n",
      "\n",
      "\n",
      "Total simulations: 10000\n",
      "Highest winnings occur at 50.82 with an average of 25.14\n",
      "\n",
      "\n"
     ]
    }
   ],
   "source": [
    "sample_list = [10,100,1000,10000]\n",
    "\n",
    "for n in sample_list:\n",
    "    # default dict will default to a value of 0\n",
    "    solution_dict = defaultdict(lambda:0)  \n",
    "    \n",
    "    for _ in range(n):\n",
    "\n",
    "        # randomly choose a float between 0 - 100\n",
    "        chosen_num = round(random.uniform(0,100),2)\n",
    "\n",
    "        # determine winnings across each guess\n",
    "        for guess in guess_list:\n",
    "            if guess < chosen_num:\n",
    "                solution_dict[guess] += guess\n",
    "            else:\n",
    "                solution_dict[guess] += 0\n",
    "                \n",
    "    # Output winnings based on sims: \n",
    "    max_val = [0,0]\n",
    "    for k,v in solution_dict.items():\n",
    "        if v > max_val[0]:\n",
    "            max_val[0] = v\n",
    "            max_val[1] = k\n",
    "    print(f\"Total simulations: {n}\")\n",
    "    print(f\"Highest winnings occur at {max_val[1]} with an average of {max_val[0] / n:.2f}\")\n",
    "    print(\"\\n\")"
   ]
  },
  {
   "cell_type": "markdown",
   "metadata": {},
   "source": [
    "### Visualization: \n",
    "\n",
    "Solution seems to be right around 50. "
   ]
  },
  {
   "cell_type": "code",
   "execution_count": 5,
   "metadata": {},
   "outputs": [],
   "source": [
    "solution_list = []\n",
    "for k,v in solution_dict.items():\n",
    "    solution_list.append(v)"
   ]
  },
  {
   "cell_type": "code",
   "execution_count": 6,
   "metadata": {},
   "outputs": [
    {
     "data": {
      "image/png": "[encoded data removed]",
      "text/plain": [
       "<Figure size 432x288 with 1 Axes>"
      ]
     },
     "metadata": {
      "needs_background": "light"
     },
     "output_type": "display_data"
    }
   ],
   "source": [
    "fig = plt.figure()\n",
    "ax = fig.add_axes([0,0,1,1])\n",
    "ax.bar(guess_list,solution_list)\n",
    "plt.show()"
   ]
  }
 ],
 "metadata": {
  "kernelspec": {
   "display_name": "Python 3.8",
   "language": "python",
   "name": "other-env"
  },
  "language_info": {
   "codemirror_mode": {
    "name": "ipython",
    "version": 3
   },
   "file_extension": ".py",
   "mimetype": "text/x-python",
   "name": "python",
   "nbconvert_exporter": "python",
   "pygments_lexer": "ipython3",
   "version": "3.8.5"
  }
 },
 "nbformat": 4,
 "nbformat_minor": 4
}
