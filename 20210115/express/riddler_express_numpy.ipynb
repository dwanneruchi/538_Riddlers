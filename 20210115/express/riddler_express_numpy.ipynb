{
 "cells": [
  {
   "cell_type": "markdown",
   "metadata": {},
   "source": [
    "### Riddler Express:\n",
    "\n",
    "From Lucas Jaeger comes a “flute-iful” challenge:\n",
    "\n",
    "You’re a contestant on the hit new game show, “You Bet Your Fife.” On the show, a random real number (i.e., decimals are allowed) is chosen between 0 and 100. Your job is to guess a value that is less than this randomly chosen number. Your reward for winning is a novelty fife that is valued precisely at your guess. For example, if the number is 75 and you guess 5, you’d win a \\\\$5 fife, but if you’d guessed 60, you’d win a \\\\$60 fife. Meanwhile, a guess of 80 would win you nothing.\n",
    "\n",
    "What number should you guess to maximize the average value of your fifing winnings?\n",
    "\n",
    "### Process:\n",
    "\n",
    "- Search over a series of games for the expecting earnings of values 0 - 100 in increments of 0,01 (10K total)\n",
    "- Using `numpy array` allows for speed-ups:\n",
    "    - `np.where()` can be used for vectorized operation to see if guessed value is less than chosen number\n",
    "    - speed up fluctuates, but tends to be 80-100x "
   ]
  },
  {
   "cell_type": "code",
   "execution_count": 1,
   "metadata": {},
   "outputs": [
    {
     "name": "stdout",
     "output_type": "stream",
     "text": [
      "Range of guesses: 0.0-100.0\n"
     ]
    }
   ],
   "source": [
    "import random \n",
    "from collections import defaultdict\n",
    "import matplotlib.pyplot as plt\n",
    "import numpy as np\n",
    "\n",
    "# params\n",
    "min_g = 0\n",
    "max_g = 100\n",
    "\n",
    "# let's limit to decimal\n",
    "guess_arr = np.arange(0,100.01, 0.01)\n",
    "print(f\"Range of guesses: {guess_arr[0]}-{guess_arr[-1]}\")\n",
    "\n",
    "# total sims\n",
    "n = 1000"
   ]
  },
  {
   "cell_type": "code",
   "execution_count": 2,
   "metadata": {},
   "outputs": [
    {
     "name": "stdout",
     "output_type": "stream",
     "text": [
      "Total simulations: 1000\n",
      "Total time: 0.026868820190429688\n",
      "Highest winnings occur at 50.69 with an average of 25.55\n",
      "\n",
      "\n"
     ]
    }
   ],
   "source": [
    "import time\n",
    "\n",
    "# Do a quick timing test\n",
    "start = time.time()\n",
    "\n",
    "# build out a solution set size of guess_arr, but all 0s to start\n",
    "solution_set = np.zeros(guess_arr.size)\n",
    "\n",
    "for _ in range(n):\n",
    "    \n",
    "    # randomly choose a float between 0 - 100\n",
    "    chosen_num = round(random.uniform(0,100),1)\n",
    "\n",
    "    # determine winnings across each guess\n",
    "    int_solution = np.where(guess_arr < chosen_num, guess_arr, 0)\n",
    "    \n",
    "    # add solution to final solution\n",
    "    solution_set = solution_set + int_solution\n",
    "\n",
    "end = time.time()\n",
    "\n",
    "# confirm size of solution & search array are the same\n",
    "assert(solution_set.size == guess_arr.size)\n",
    "\n",
    "# go through & determine highest winnings \n",
    "max_val = [0,0]\n",
    "for index, val in np.ndenumerate(solution_set):\n",
    "    if val > max_val[0]:\n",
    "        max_val[0] = val\n",
    "        max_val[1] = guess_arr[index]  # can map back to original guess_array\n",
    "print(f\"Total simulations: {n}\")\n",
    "print(f\"Total time: {end - start}\")\n",
    "print(f\"Highest winnings occur at {max_val[1]} with an average of {max_val[0] / n:.2f}\")\n",
    "print(\"\\n\")"
   ]
  },
  {
   "cell_type": "markdown",
   "metadata": {},
   "source": [
    "### Iterate Through Varying Sample Sizes:\n",
    "\n",
    "Try various amounts from 10,000 - 10,000,000"
   ]
  },
  {
   "cell_type": "code",
   "execution_count": 3,
   "metadata": {},
   "outputs": [
    {
     "name": "stdout",
     "output_type": "stream",
     "text": [
      "Total simulations: 10000\n",
      "Total time: 0.2675015926361084\n",
      "Highest winnings occur at 49.89 with an average of 25.19\n",
      "\n",
      "\n",
      "Total simulations: 100000\n",
      "Total time: 3.8821604251861572\n",
      "Highest winnings occur at 50.69 with an average of 25.08\n",
      "\n",
      "\n",
      "Total simulations: 1000000\n",
      "Total time: 30.39916491508484\n",
      "Highest winnings occur at 49.99 with an average of 25.00\n",
      "\n",
      "\n",
      "Total simulations: 2000000\n",
      "Total time: 56.3519024848938\n",
      "Highest winnings occur at 50.09 with an average of 25.02\n",
      "\n",
      "\n",
      "Total simulations: 5000000\n",
      "Total time: 139.09955406188965\n",
      "Highest winnings occur at 49.99 with an average of 25.02\n",
      "\n",
      "\n",
      "Total simulations: 10000000\n",
      "Total time: 276.00557351112366\n",
      "Highest winnings occur at 50.09 with an average of 25.03\n",
      "\n",
      "\n"
     ]
    }
   ],
   "source": [
    "sample_list = [10000,100000,1000000,2000000,5000000,10000000]\n",
    "\n",
    "for n in sample_list:\n",
    "    # Do a quick timing test\n",
    "    start = time.time()\n",
    "\n",
    "    # build out a solution set size of guess_arr, but all 0s to start\n",
    "    solution_set = np.zeros(guess_arr.size)\n",
    "\n",
    "    for _ in range(n):\n",
    "\n",
    "        # randomly choose a float between 0 - 100\n",
    "        chosen_num = round(random.uniform(0,100),1)\n",
    "\n",
    "        # determine winnings across each guess\n",
    "        int_solution = np.where(guess_arr < chosen_num, guess_arr, 0)\n",
    "\n",
    "        # add solution to final solution\n",
    "        solution_set = solution_set + int_solution\n",
    "\n",
    "    end = time.time()\n",
    "\n",
    "    # confirm size of solution & search array are the same\n",
    "    assert(solution_set.size == guess_arr.size)\n",
    "\n",
    "    # go through & determine highest winnings \n",
    "    max_val = [0,0]\n",
    "    for index, val in np.ndenumerate(solution_set):\n",
    "        if val > max_val[0]:\n",
    "            max_val[0] = val\n",
    "            max_val[1] = guess_arr[index]  # can map back to original guess_array\n",
    "    print(f\"Total simulations: {n}\")\n",
    "    print(f\"Total time: {end - start}\")\n",
    "    print(f\"Highest winnings occur at {max_val[1]} with an average of {max_val[0] / n:.2f}\")\n",
    "    print(\"\\n\")"
   ]
  },
  {
   "cell_type": "markdown",
   "metadata": {},
   "source": [
    "### Visualization: "
   ]
  },
  {
   "cell_type": "code",
   "execution_count": 4,
   "metadata": {},
   "outputs": [
    {
     "data": {
      "image/png": "[encoded data removed]",
      "text/plain": [
       "<Figure size 432x288 with 1 Axes>"
      ]
     },
     "metadata": {
      "needs_background": "light"
     },
     "output_type": "display_data"
    }
   ],
   "source": [
    "fig = plt.figure()\n",
    "ax = fig.add_axes([0,0,1,1])\n",
    "ax.bar(guess_arr,solution_set / n)\n",
    "plt.title(\"Simulated Expected Value\")\n",
    "plt.ylabel(\"Expected Winnings ($)\")\n",
    "plt.xlabel(\"Guess (float value)\")\n",
    "plt.show()"
   ]
  },
  {
   "cell_type": "markdown",
   "metadata": {},
   "source": [
    "### Simulation Solution:\n",
    "\n",
    "The answer would be 50. I should bet \\\\$50.\n",
    "\n",
    "### Analytical Solution: \n",
    "\n"
   ]
  },
  {
   "cell_type": "code",
   "execution_count": null,
   "metadata": {},
   "outputs": [],
   "source": []
  }
 ],
 "metadata": {
  "kernelspec": {
   "display_name": "Python 3.8",
   "language": "python",
   "name": "other-env"
  },
  "language_info": {
   "codemirror_mode": {
    "name": "ipython",
    "version": 3
   },
   "file_extension": ".py",
   "mimetype": "text/x-python",
   "name": "python",
   "nbconvert_exporter": "python",
   "pygments_lexer": "ipython3",
   "version": "3.8.5"
  }
 },
 "nbformat": 4,
 "nbformat_minor": 4
}
