{
 "cells": [
  {
   "cell_type": "markdown",
   "metadata": {},
   "source": [
    "### Ridder Express: \n",
    "\n",
    "There are many ways to slice a big square into smaller squares (not necessarily of equal size), so that the smaller squares don’t overlap, while still making up the entire area of the big square.\n",
    "\n",
    "For example, you can slice the big square into four smaller squares, each a quarter of the area of the big square. Or you could slice it into seven squares, if you take one of those four squares and slice it into four yet smaller squares.\n",
    "\n",
    "What whole numbers of squares can you not slice the big square into?\n",
    "\n",
    "#### Patterns I know Below:"
   ]
  },
  {
   "cell_type": "code",
   "execution_count": 40,
   "metadata": {},
   "outputs": [],
   "source": [
    "# any number squared\n",
    "def square(n):\n",
    "    \"\"\"n just represents rows / cols\"\"\"\n",
    "    return n**2"
   ]
  },
  {
   "cell_type": "code",
   "execution_count": null,
   "metadata": {},
   "outputs": [],
   "source": [
    "# Add image"
   ]
  },
  {
   "cell_type": "code",
   "execution_count": 41,
   "metadata": {},
   "outputs": [],
   "source": [
    "# ability to chunk into 2n + 2 for n > 1\n",
    "def colRowSeq(n):\n",
    "    \"\"\"n just represents total rows -1 / cols - 1\"\"\"\n",
    "    return 2*n + 2"
   ]
  },
  {
   "cell_type": "code",
   "execution_count": null,
   "metadata": {},
   "outputs": [],
   "source": [
    "# Add Image"
   ]
  },
  {
   "cell_type": "code",
   "execution_count": 42,
   "metadata": {},
   "outputs": [],
   "source": [
    "# sequence of 3n+1 -> everytime we split its possible to split by squared value - 1 (so limit to 4-1)\n",
    "def splitSquare(n):\n",
    "    \"\"\"n indicates total splits\"\"\"\n",
    "    return 3*n + 1"
   ]
  },
  {
   "cell_type": "code",
   "execution_count": 43,
   "metadata": {},
   "outputs": [],
   "source": [
    "# Add Image"
   ]
  },
  {
   "cell_type": "code",
   "execution_count": 53,
   "metadata": {},
   "outputs": [
    {
     "data": {
      "text/plain": [
       "{1, 4, 6, 7, 8, 9, 10, 12, 13, 14, 16, 18, 19, 20, 22, 25}"
      ]
     },
     "execution_count": 53,
     "metadata": {},
     "output_type": "execute_result"
    }
   ],
   "source": [
    "fin_list = []\n",
    "for _ in range(1,6):\n",
    "    fin_list.append(square(_))\n",
    "\n",
    "for _ in range(1,10):\n",
    "    fin_list.append(colRowSeq(_))\n",
    "\n",
    "for _ in range(8):\n",
    "    fin_list.append(splitSquare(_))\n",
    "\n",
    "set(fin_list)"
   ]
  },
  {
   "cell_type": "markdown",
   "metadata": {},
   "source": [
    "### Solution:\n",
    "\n",
    "Ability to turn any totals above into another. Each time this is done its `total - 1`\n",
    "\n",
    "Examples:\n",
    "- If we have a square of 8 we can take one of the squares and convert into a 4. This would be `8 - 1 + 4 = 11`\n",
    "\n",
    "Can just loop across the initial & add them to one another, subtracting 1 each time...."
   ]
  },
  {
   "cell_type": "code",
   "execution_count": 59,
   "metadata": {
    "scrolled": true
   },
   "outputs": [
    {
     "data": {
      "text/plain": [
       "{1,\n",
       " 4,\n",
       " 6,\n",
       " 7,\n",
       " 8,\n",
       " 9,\n",
       " 10,\n",
       " 11,\n",
       " 12,\n",
       " 13,\n",
       " 14,\n",
       " 15,\n",
       " 16,\n",
       " 17,\n",
       " 18,\n",
       " 19,\n",
       " 20,\n",
       " 21,\n",
       " 22,\n",
       " 23,\n",
       " 24,\n",
       " 25,\n",
       " 26,\n",
       " 27,\n",
       " 28,\n",
       " 29,\n",
       " 30,\n",
       " 31,\n",
       " 32,\n",
       " 33,\n",
       " 34,\n",
       " 35,\n",
       " 36,\n",
       " 37,\n",
       " 38,\n",
       " 39,\n",
       " 40,\n",
       " 41,\n",
       " 42,\n",
       " 43,\n",
       " 44,\n",
       " 46,\n",
       " 49}"
      ]
     },
     "execution_count": 59,
     "metadata": {},
     "output_type": "execute_result"
    }
   ],
   "source": [
    "real_fin = []\n",
    "for a in fin_list:\n",
    "    for b in fin_list[1:]:\n",
    "        real_fin.append(a + b - 1)\n",
    "        \n",
    "set(real_fin)"
   ]
  },
  {
   "cell_type": "markdown",
   "metadata": {},
   "source": [
    "### Solution:\n",
    "\n",
    "For the above there are a few that didn't get built out like `[45, 47, 48]`\n",
    "\n",
    "These could all be built though: \n",
    "- Take a square of 42 -> take one of its smallest & split into 4. This yields 42 + 4 - 1 = 45\n",
    "- Take a square of 44 -> take one of its smallest & split into 4. This yields 44 + 4 - 1 = 47\n",
    "- Take a square of 40 -> take one of its smallest & split into 9. This yields 40 + 9 - 1 = 48\n",
    "\n",
    "Seems safe to expand this out that we can build every number...\n",
    "\n",
    "### Final Solution: \n",
    "- 2,3 and 5 can't be turned into a square. "
   ]
  }
 ],
 "metadata": {
  "kernelspec": {
   "display_name": "Python 3.8",
   "language": "python",
   "name": "other-env"
  },
  "language_info": {
   "codemirror_mode": {
    "name": "ipython",
    "version": 3
   },
   "file_extension": ".py",
   "mimetype": "text/x-python",
   "name": "python",
   "nbconvert_exporter": "python",
   "pygments_lexer": "ipython3",
   "version": "3.8.5"
  }
 },
 "nbformat": 4,
 "nbformat_minor": 4
}
