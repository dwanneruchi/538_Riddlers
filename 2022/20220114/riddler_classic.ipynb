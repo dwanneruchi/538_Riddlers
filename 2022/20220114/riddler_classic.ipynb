{
 "cells": [
  {
   "cell_type": "markdown",
   "id": "4a1a9158",
   "metadata": {},
   "source": [
    "### Riddler Classic: \n",
    "\n",
    "Ahh, all about wordle! <add notes> \n",
    "    \n",
    "    \n",
    "### General Approach: \n",
    "    \n",
    "- Build process that can play the game\n",
    "- Determine optimal start word based on win-probability across all \"mystery\" words (thankfully sorted in alphabetical order so that there aren't too many spoilers)"
   ]
  },
  {
   "cell_type": "code",
   "execution_count": 115,
   "id": "7e91b995",
   "metadata": {},
   "outputs": [],
   "source": [
    "import numpy as np\n",
    "import pandas as pd\n",
    "#from collections.abc import str\n",
    "from collections import defaultdict"
   ]
  },
  {
   "cell_type": "code",
   "execution_count": 20,
   "id": "6bae496f",
   "metadata": {},
   "outputs": [
    {
     "name": "stdout",
     "output_type": "stream",
     "text": [
      "['aahed', 'aalii', 'aargh', 'aarti', 'abaca']\n",
      "apery\n",
      "gnome\n"
     ]
    }
   ],
   "source": [
    "# read in myster words\n",
    "mystery_corpus = pd.read_csv(\"data/mystery_words.csv\", header = None)\n",
    "mystery_list = [w[0] for w in mystery_corpus.values]\n",
    "\n",
    "# read in eligible guess words\n",
    "guess_corpus = pd.read_csv(\"data/guess_words.csv\", header = None)\n",
    "guess_list = [w[0] for w in guess_corpus.values]\n",
    "assert(len(guess_list) == 12972)\n",
    "print(guess_list[:5]) # examples\n",
    "\n",
    "# randomly create a start\n",
    "guess = guess_list[456]\n",
    "mystery_word = mystery_list[877]\n",
    "print(guess)\n",
    "print(mystery_word)"
   ]
  },
  {
   "cell_type": "code",
   "execution_count": 113,
   "id": "936414c0",
   "metadata": {},
   "outputs": [],
   "source": [
    "# Functions\n",
    "from collections import defaultdict\n",
    "\n",
    "\n",
    "def excludeChars(guess, mystery_word):\n",
    "    \"\"\"Determine which chars should not be guessed again\n",
    "       Return set of these chars\n",
    "    \"\"\"\n",
    "    exclude_chars = set()\n",
    "    for letter in guess:\n",
    "        if letter not in mystery_word:\n",
    "            exclude_chars.update(letter)\n",
    "    return exclude_chars\n",
    "\n",
    "\n",
    "def includeChars(guess, mystery_word):\n",
    "    \"\"\"Determine which chars should be guessed again\n",
    "       Return set of these chars\n",
    "    \"\"\"\n",
    "    include_chars = set()\n",
    "    for letter in guess:\n",
    "        if letter in mystery_word:\n",
    "            include_chars.update(letter)\n",
    "    return include_chars\n",
    "\n",
    "def properPos(guess, mystery_word):\n",
    "    \"\"\"Determine if any chars properly guessed are in the proper index for the mystery word\n",
    "        Return dict with index\n",
    "    \"\"\"\n",
    "    pos_dict = defaultdict(list)\n",
    "    for i, char in enumerate(guess):\n",
    "        if char == mystery_word[i]:\n",
    "            pos_dict[char].append(i)\n",
    "    return pos_dict\n",
    "    \n",
    "def improperPos(guess, mystery_word, pos_dict):\n",
    "    \"\"\"Determine if any chars properly guessed are eligible but in the improper index for the mystery word\n",
    "        Return dict with index\n",
    "        \n",
    "        Note: Minor bug - if a mystery word has 2 chars that are the same there could be issues in return\n",
    "    \"\"\"\n",
    "    impos_dict = defaultdict(list)\n",
    "    for i, char in enumerate(guess):\n",
    "        if (char in mystery_word) and (char != mystery_word[i]) and (i not in pos_dict[char]):\n",
    "            impos_dict[char].append(i)     \n",
    "    return impos_dict"
   ]
  },
  {
   "cell_type": "code",
   "execution_count": 114,
   "id": "5d3d8296",
   "metadata": {},
   "outputs": [
    {
     "name": "stdout",
     "output_type": "stream",
     "text": [
      "My guess is tatoo\n",
      "My mystery word is apdoo\n",
      "After my guess, my exclusion list is: {'t'}\n",
      "After my guess, my inclusion list is: {'o', 'a'}\n",
      "After my guess, my proper indices are: defaultdict(<class 'list'>, {'o': [3, 4]})\n",
      "After my guess, my improper indices are: defaultdict(<class 'list'>, {'a': [1]})\n"
     ]
    }
   ],
   "source": [
    "# sample process:\n",
    "\n",
    "# we make a guess and start to collection information\n",
    "guess = 'tatoo'\n",
    "mystery_word = 'apdoo'\n",
    "print(f\"My guess is {guess}\")\n",
    "print(f\"My mystery word is {mystery_word}\")\n",
    "\n",
    "\n",
    "# at initial guess we need the following:\n",
    "exclude_chars = set() # words can't include these \n",
    "include_chars = set() # words need to include these\n",
    "proper_pos = defaultdict(list) # dictionary that stores the proper indices for a letter...note it needs to be val of list for multiple letters\n",
    "improper_pos = defaultdict(list) # dictionary that stores the improper indices for a letter...note it needs to be val of list for multiple letters\n",
    "\n",
    "### We can now figure out which chars are accepted and which are not\n",
    "\n",
    "# not accepted:\n",
    "exclude_chars.update(excludeChars(guess, mystery_word))\n",
    "print(f\"After my guess, my exclusion list is: {exclude_chars}\")\n",
    "\n",
    "# accepted:\n",
    "include_chars.update(includeChars(guess, mystery_word))\n",
    "print(f\"After my guess, my inclusion list is: {include_chars}\")\n",
    "\n",
    "#### We can now think through positions: \n",
    "\n",
    "# proper pos\n",
    "temp_dict = properPos(guess,mystery_word)\n",
    "for k, v in temp_dict.items():\n",
    "    proper_pos[k].extend(v)\n",
    "    \n",
    "print(f\"After my guess, my proper indices are: {proper_pos}\")\n",
    "\n",
    "# improper pos\n",
    "temp_dict = improperPos(guess,mystery_word, proper_pos)\n",
    "for k, v in temp_dict.items():\n",
    "    improper_pos[k].extend(v)\n",
    "    \n",
    "print(f\"After my guess, my improper indices are: {improper_pos}\")"
   ]
  },
  {
   "cell_type": "code",
   "execution_count": null,
   "id": "123c38ce",
   "metadata": {},
   "outputs": [],
   "source": [
    "# functions for search\n",
    "\n",
    "def removeWords(ex_set, ):\n",
    "    \"\"\"\"\"\""
   ]
  }
 ],
 "metadata": {
  "kernelspec": {
   "display_name": "ml",
   "language": "python",
   "name": "ml"
  },
  "language_info": {
   "codemirror_mode": {
    "name": "ipython",
    "version": 3
   },
   "file_extension": ".py",
   "mimetype": "text/x-python",
   "name": "python",
   "nbconvert_exporter": "python",
   "pygments_lexer": "ipython3",
   "version": "3.9.2"
  }
 },
 "nbformat": 4,
 "nbformat_minor": 5
}
