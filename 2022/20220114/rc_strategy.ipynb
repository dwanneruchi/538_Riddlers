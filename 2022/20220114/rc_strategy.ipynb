{
 "cells": [
  {
   "cell_type": "markdown",
   "id": "c9912345",
   "metadata": {},
   "source": [
    "### Riddler Classic: Built After Seeing Other Solutions\n",
    "\n",
    "Solution can be found [here](https://fivethirtyeight.com/features/can-you-design-the-perfect-wedding/)\n",
    "\n",
    "### Goal\n",
    "\n",
    "We want to maximize our chances of winning wordle in <= guesses. \n",
    "\n",
    "### General Concept \n",
    "\n",
    "Zach (the riddler writer) provides a really intuitive strategy that I will restate in Python below.\n",
    "\n",
    "Let's say we have 10 words that our mystery word might be. Each step we want to whittle down our possible list as much as possible. \n",
    "\n",
    "Say after our first guess we have 3 possible buckets of words"
   ]
  },
  {
   "cell_type": "code",
   "execution_count": 1,
   "id": "8f92d3a8",
   "metadata": {},
   "outputs": [],
   "source": [
    "sample_words = ['at', 'ab', 'ad', 'bb', 'bd', 'cb', 'cd', 'eb', 'te', 'pe']\n",
    "\n",
    "mystery_guess = ['az'] # set 1: a*, set 2: remaining (no a and no z)\n",
    "mystery_guess2 = ['be'] # set 1: b*, set 2: *b, set 3: e* , set 4: *e"
   ]
  },
  {
   "cell_type": "markdown",
   "id": "8422d5a1",
   "metadata": {},
   "source": [
    "The above is a weird example, but we can see that the first guess only separates us into two sets:\n",
    "- `['at', 'ab', 'ad'` and `'bb', 'bd', 'cb', 'cd', 'eb', 'te', 'pe']`\n",
    "- in other words we aren't leveraging enough information. The guess of a `z` is actually a wasted guess. \n",
    "\n",
    "Our second guess better differentiates, and builds 4 sets:\n",
    "- set 1: b*, set 2: *b, set 3: e* , set 4: *e\n",
    "\n",
    "We can actually calculate probabilities for each set:\n",
    "\n",
    "#### Guessing `az`:\n",
    "- 3/10 for first set, and guess likelihood is 1/3 -> EV = $\\frac{3}{10} * \\frac{1}{3} = \\frac{1}{10}$\n",
    "- 7/10 for second set, and guess likelihood is 1/7 -> EV = $\\frac{7}{10} * \\frac{1}{7} = \\frac{1}{10}$\n",
    "\n",
    "- Tota likelihood: $\\frac{3}{10} * \\frac{1}{3} + \\frac{7}{10} * \\frac{1}{7} = \\frac{2}{10} $\n",
    "\n",
    "#### Guessing `be`:\n",
    "- 3/10 for first set, and guess likelihood is 1/3 -> EV = $\\frac{3}{10} * \\frac{1}{3} = \\frac{1}{10}$\n",
    "- 7/10 for second set, and guess likelihood is 1/7 -> EV = $\\frac{7}{10} * \\frac{1}{7} = \\frac{1}{10}$\n",
    "\n",
    "- Tota likelihood: $\\frac{3}{10} * \\frac{1}{3} + \\frac{7}{10} * \\frac{1}{7} = \\frac{2}{10} $\n",
    "\n",
    "\n",
    "#### Takeaway\n",
    "\n",
    "As explained in the RC solution, our probability of being correct in a step is $\\frac{1}{n}$ where `n` is the number of distinct sets of words we can make based on character (incorrect, correct but wrong position, correct).\n",
    "\n",
    "So, with 5-letter words we have options of each character being `{incorrect, correct, correct but wrong position}`, which means our theorical max is `3^{5} = 243` distinct sets. \n",
    "\n",
    "The goal is to find which words maximize the `n` at each step, which would effectively reduce the total guess size.\n",
    "\n",
    "\n",
    "### Code: \n",
    "\n",
    "#### Part 1: Find the Top Word To Start With\n",
    "\n",
    "We need the word that maximizes the number of distinct sets of words.\n",
    "\n",
    "Solution: `TRACE`"
   ]
  },
  {
   "cell_type": "code",
   "execution_count": 21,
   "id": "359e9e01",
   "metadata": {},
   "outputs": [],
   "source": [
    "import pandas as pd\n",
    "import random\n",
    "import time\n",
    "from collections import defaultdict\n",
    "\n",
    "# read in mystery words\n",
    "mystery_corpus = pd.read_csv(\"data/mystery_words.csv\", header=None)\n",
    "mystery_list = [w[0] for w in mystery_corpus.values]\n",
    "mystery_words = set(mystery_list)\n",
    "\n",
    "# read in eligible guess words\n",
    "guess_corpus = pd.read_csv(\"data/guess_words.csv\", header=None)\n",
    "guess_list = [w[0] for w in guess_corpus.values]"
   ]
  },
  {
   "cell_type": "code",
   "execution_count": 16,
   "id": "2a42b673",
   "metadata": {},
   "outputs": [],
   "source": [
    "def indexStatus(idx: str, guess: str, actual:str) -> str:\n",
    "    \"\"\"\n",
    "    Return status representing the following relative to actual mystery word:\n",
    "    - '0': char not in word\n",
    "    - '1': char in word but not in proper position\n",
    "    - '2': char in proper pos\n",
    "    \"\"\"\n",
    "    # see if we have a clean match\n",
    "    if guess[idx] == actual[idx]:\n",
    "        return '2'\n",
    "\n",
    "    # if not, check if char even exists\n",
    "    for idx2, char in enumerate(actual):\n",
    "        if (idx != idx2) and (guess[idx] == char):\n",
    "            return '1'\n",
    "    return '0'\n",
    "\n",
    "assert(indexStatus(1, 'dog', 'ogl') == '1')\n",
    "assert(indexStatus(0, 'dog', 'dogl') == '2')\n",
    "assert(indexStatus(2, 'dog', 'eat') == '0')"
   ]
  },
  {
   "cell_type": "code",
   "execution_count": 23,
   "id": "7d25c70a",
   "metadata": {},
   "outputs": [
    {
     "name": "stdout",
     "output_type": "stream",
     "text": [
      "Reviewing 1000 words so far\n",
      "Reviewing 2000 words so far\n",
      "Reviewing 3000 words so far\n",
      "Reviewing 4000 words so far\n",
      "Reviewing 5000 words so far\n",
      "Reviewing 6000 words so far\n",
      "Reviewing 7000 words so far\n",
      "Reviewing 8000 words so far\n",
      "Reviewing 9000 words so far\n",
      "Reviewing 10000 words so far\n",
      "Reviewing 11000 words so far\n",
      "Reviewing 12000 words so far\n"
     ]
    }
   ],
   "source": [
    "# Step 1: Find the initial word that has largest `n`\n",
    "initial_dict = {}\n",
    "i = 1\n",
    "for guess in guess_list:\n",
    "    distinct_keys = set()\n",
    "    for mystery in mystery_words:\n",
    "        key = ''\n",
    "        for idx, char in enumerate(guess):\n",
    "            key = key + indexStatus(idx, guess, mystery)\n",
    "\n",
    "        distinct_keys.add(key)\n",
    "    \n",
    "    # add len of set back to dict\n",
    "    initial_dict[guess] = len(distinct_keys)\n",
    "    \n",
    "    if i % 1000 == 0:\n",
    "        print(f\"Reviewing {i} words so far\")\n",
    "    i += 1\n",
    "    \n",
    "# Now we can find the best starter word:\n",
    "top_word = max(initial_dict, key=initial_dict.get)\n",
    "win_p = initial_dict[top_word] / len(mystery_list)\n",
    "print(f\"Win prob in AT MOST TWO GUESSES is: {100 * win_p:.5f} with top word {top_word}\")"
   ]
  },
  {
   "cell_type": "markdown",
   "id": "f534dccf",
   "metadata": {},
   "source": [
    "#### Part 2: Depending on Information Received, Maximize Chance\n",
    "\n",
    "Depending on feedback, we then run a very similar process:\n",
    "\n",
    "1) our initiual guess will be `TRACE`\n",
    "2) We then receive feedback on this, in our case in the form of `0,1,2` concatenated as a string if ints. \n",
    "    - `00101` means all chars are wrong position, but `A` and `E` both exist in our mystery word\n",
    "3) Based on feedback, we run a similar `maximize n` process as below:\n",
    "    - We iterate through all possible guesses based on feedback received (example above whittles us down from `12K+ guesses to 457 possible guesses`\n",
    "    - We look at how each of the possible guesses separates remaining eligible `mystery words`. \n",
    "        - We are effectively rerunning Part 1, but on a subset of guesses and over a subset of mystery words.\n",
    "4) Finally, we determine the new `max n` and guess. \n",
    "5) Note: After this guess we get feedback and are in the smallest set of eligible words, and it is a totally random guess from this point. \n",
    "\n",
    "The below is an example for a single word of the process:"
   ]
  },
  {
   "cell_type": "code",
   "execution_count": 157,
   "id": "64c54c32",
   "metadata": {},
   "outputs": [
    {
     "name": "stdout",
     "output_type": "stream",
     "text": [
      "abbey\n",
      "00101\n",
      "457\n",
      "Total wins: 27\n",
      "Win prob in THREE STEPS when mystery word is abbey is: 56.25000 with top word genal\n"
     ]
    }
   ],
   "source": [
    "guess = 'trace'\n",
    "mystery = mystery_list[3] # testing 3\n",
    "#mystery = 'taxis' -> confirmed noily\n",
    "#mystery = 'shack'\n",
    "print(mystery)\n",
    "feedback = ''\n",
    "for idx, char in enumerate(guess):\n",
    "    feedback = feedback + indexStatus(idx, guess, mystery)\n",
    "print(feedback)\n",
    "\n",
    "#feedback = '01000'\n",
    "\n",
    "# set of words are those in 00101\n",
    "step_two_remains = defaultdict(list)\n",
    "for mystery in guess_list:\n",
    "    key = ''\n",
    "    for idx, char in enumerate(guess):\n",
    "        key = key + indexStatus(idx, guess, mystery)\n",
    "    step_two_remains[key].append(mystery)\n",
    "    \n",
    "# remaining:\n",
    "print(len(step_two_remains[feedback]))\n",
    "\n",
    "# we now rerun process above to find next best guess based on feedback\n",
    "# Step 2: Find the next guess with highest n\n",
    "second_dict = {}\n",
    "i = 1\n",
    "new_mystery = [x for x in mystery_words if x in step_two_remains[feedback]]\n",
    "for guess in guess_list:\n",
    "    distinct_keys = set()\n",
    "    for mystery in new_mystery:\n",
    "        key = ''\n",
    "        for idx, char in enumerate(guess):\n",
    "            key = key + indexStatus(idx, guess, mystery)\n",
    "        distinct_keys.add(key)\n",
    "    \n",
    "    # add len of set back to dict\n",
    "    second_dict[guess] = len(distinct_keys)\n",
    "    \n",
    "# Now we can find the best starter word:\n",
    "top_word = max(second_dict, key=second_dict.get)\n",
    "print(f\"Total wins: {second_dict[top_word]}\")\n",
    "win_p = second_dict[top_word] / len(new_mystery)\n",
    "print(f\"Win prob in THREE STEPS when mystery word is {mystery_list[3]} is: {100 * win_p:.5f} with top word {top_word}\")"
   ]
  },
  {
   "cell_type": "markdown",
   "id": "72af88b1",
   "metadata": {},
   "source": [
    "### Build out Necessary Dictionary:\n",
    "\n",
    "Running the above over all `mystery words`, storing a dictionary of feedback with top word. "
   ]
  },
  {
   "cell_type": "code",
   "execution_count": 130,
   "id": "9e6c4623",
   "metadata": {},
   "outputs": [
    {
     "name": "stdout",
     "output_type": "stream",
     "text": [
      "['troll', 'troop', 'trout', 'truly', 'trump', 'trunk', 'truss', 'trust', 'truth', 'tryst']\n"
     ]
    }
   ],
   "source": [
    "# let's find subset of mystery words that are '22000' -> FTE got LOUTS as besdt\n",
    "test = []\n",
    "guess = 'trace'\n",
    "for mystery in mystery_list:\n",
    "    feedback = ''\n",
    "    for idx, char in enumerate(guess):\n",
    "        feedback = feedback + indexStatus(idx, guess, mystery)\n",
    "    #print(feedback)\n",
    "    if feedback == '22000':\n",
    "        test.append(mystery)\n",
    "        \n",
    "print(test)"
   ]
  },
  {
   "cell_type": "code",
   "execution_count": 147,
   "id": "118aea4a",
   "metadata": {},
   "outputs": [
    {
     "ename": "KeyboardInterrupt",
     "evalue": "",
     "output_type": "error",
     "traceback": [
      "\u001b[0;31m---------------------------------------------------------------------------\u001b[0m",
      "\u001b[0;31mKeyboardInterrupt\u001b[0m                         Traceback (most recent call last)",
      "\u001b[0;32m/var/folders/mk/5nqd3xjx50q0c83t841l9hsw0000gn/T/ipykernel_33510/3490301908.py\u001b[0m in \u001b[0;36m<module>\u001b[0;34m\u001b[0m\n\u001b[1;32m     27\u001b[0m         \u001b[0;32mfor\u001b[0m \u001b[0mmystery\u001b[0m \u001b[0;32min\u001b[0m \u001b[0mnew_mystery\u001b[0m\u001b[0;34m:\u001b[0m\u001b[0;34m\u001b[0m\u001b[0;34m\u001b[0m\u001b[0m\n\u001b[1;32m     28\u001b[0m             \u001b[0mkey\u001b[0m \u001b[0;34m=\u001b[0m \u001b[0;34m''\u001b[0m\u001b[0;34m\u001b[0m\u001b[0;34m\u001b[0m\u001b[0m\n\u001b[0;32m---> 29\u001b[0;31m             \u001b[0;32mfor\u001b[0m \u001b[0midx\u001b[0m\u001b[0;34m,\u001b[0m \u001b[0mchar\u001b[0m \u001b[0;32min\u001b[0m \u001b[0menumerate\u001b[0m\u001b[0;34m(\u001b[0m\u001b[0mguess\u001b[0m\u001b[0;34m)\u001b[0m\u001b[0;34m:\u001b[0m\u001b[0;34m\u001b[0m\u001b[0;34m\u001b[0m\u001b[0m\n\u001b[0m\u001b[1;32m     30\u001b[0m                 \u001b[0mkey\u001b[0m \u001b[0;34m=\u001b[0m \u001b[0mkey\u001b[0m \u001b[0;34m+\u001b[0m \u001b[0mindexStatus\u001b[0m\u001b[0;34m(\u001b[0m\u001b[0midx\u001b[0m\u001b[0;34m,\u001b[0m \u001b[0mguess\u001b[0m\u001b[0;34m,\u001b[0m \u001b[0mmystery\u001b[0m\u001b[0;34m)\u001b[0m\u001b[0;34m\u001b[0m\u001b[0;34m\u001b[0m\u001b[0m\n\u001b[1;32m     31\u001b[0m             \u001b[0mdistinct_keys\u001b[0m\u001b[0;34m.\u001b[0m\u001b[0madd\u001b[0m\u001b[0;34m(\u001b[0m\u001b[0mkey\u001b[0m\u001b[0;34m)\u001b[0m\u001b[0;34m\u001b[0m\u001b[0;34m\u001b[0m\u001b[0m\n",
      "\u001b[0;31mKeyboardInterrupt\u001b[0m: "
     ]
    }
   ],
   "source": [
    "start = time.time()\n",
    "guess = 'trace'\n",
    "my_dict = defaultdict(lambda: defaultdict(int))\n",
    "j = 0\n",
    "for mystery in mystery_list:\n",
    "    feedback = ''\n",
    "    for idx, char in enumerate(guess):\n",
    "        feedback = feedback + indexStatus(idx, guess, mystery)\n",
    "\n",
    "    # build a dictionary which can store eligible guesses based on key\n",
    "    step_two_remains = defaultdict(list)\n",
    "    for mystery in guess_list:\n",
    "        key = ''\n",
    "        for idx, char in enumerate(guess):\n",
    "            key = key + indexStatus(idx, guess, mystery)\n",
    "        step_two_remains[key].append(mystery)\n",
    "    \n",
    "    # Step 2: Find the next guess with highest n\n",
    "    second_dict = {}\n",
    "    i = 1\n",
    "    \n",
    "    # subset eligible mystery words\n",
    "    new_mystery = [x for x in mystery_words if x in step_two_remains[feedback]]\n",
    "    \n",
    "    for guess in guess_list:\n",
    "        distinct_keys = set()\n",
    "        for mystery in new_mystery:\n",
    "            key = ''\n",
    "            for idx, char in enumerate(guess):\n",
    "                key = key + indexStatus(idx, guess, mystery)\n",
    "            distinct_keys.add(key)\n",
    "\n",
    "        # add len of set back to dict\n",
    "        my_dict[feedback][guess] += len(distinct_keys)\n",
    "        \n",
    "    # print out\n",
    "    j += 1\n",
    "    if j % 50 == 0:\n",
    "        print(f\"On step {j}, total_time: {time.time() - start:.3f}\")\n",
    "        \n",
    "print(f\"total_time: {time.time() - start:.3f}\")"
   ]
  },
  {
   "cell_type": "code",
   "execution_count": 148,
   "id": "69bf904f",
   "metadata": {},
   "outputs": [
    {
     "name": "stdout",
     "output_type": "stream",
     "text": [
      "On step 18, total_time: 338.709\n"
     ]
    }
   ],
   "source": [
    "print(f\"On step {j}, total_time: {time.time() - start:.3f}\")"
   ]
  },
  {
   "cell_type": "code",
   "execution_count": 153,
   "id": "e199665b",
   "metadata": {},
   "outputs": [
    {
     "data": {
      "text/plain": [
       "'blush'"
      ]
     },
     "execution_count": 153,
     "metadata": {},
     "output_type": "execute_result"
    }
   ],
   "source": [
    "top_word = max(my_dict['00220'], key=my_dict['00220'].get)\n",
    "top_word"
   ]
  },
  {
   "cell_type": "code",
   "execution_count": 154,
   "id": "f8e3ed40",
   "metadata": {},
   "outputs": [
    {
     "data": {
      "text/plain": [
       "10"
      ]
     },
     "execution_count": 154,
     "metadata": {},
     "output_type": "execute_result"
    }
   ],
   "source": [
    "my_dict['00220']['blush']"
   ]
  },
  {
   "cell_type": "code",
   "execution_count": 156,
   "id": "841d86b8",
   "metadata": {},
   "outputs": [
    {
     "name": "stdout",
     "output_type": "stream",
     "text": [
      "blush\n",
      "shlub\n",
      "shuln\n"
     ]
    }
   ],
   "source": [
    "for k,v in my_dict['00220'].items():\n",
    "    if v >= 10:\n",
    "        print(k)"
   ]
  },
  {
   "cell_type": "markdown",
   "id": "00a7d468",
   "metadata": {},
   "source": [
    "### To Do:\n",
    "\n",
    "This is slow, so I think it makes sense to encode this in numpy arrays"
   ]
  },
  {
   "cell_type": "code",
   "execution_count": null,
   "id": "eb7c5078",
   "metadata": {},
   "outputs": [],
   "source": []
  }
 ],
 "metadata": {
  "kernelspec": {
   "display_name": "ml",
   "language": "python",
   "name": "ml"
  },
  "language_info": {
   "codemirror_mode": {
    "name": "ipython",
    "version": 3
   },
   "file_extension": ".py",
   "mimetype": "text/x-python",
   "name": "python",
   "nbconvert_exporter": "python",
   "pygments_lexer": "ipython3",
   "version": "3.9.2"
  }
 },
 "nbformat": 4,
 "nbformat_minor": 5
}
