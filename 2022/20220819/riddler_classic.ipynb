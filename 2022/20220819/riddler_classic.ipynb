{
 "cells": [
  {
   "cell_type": "markdown",
   "id": "c11b11e8",
   "metadata": {},
   "source": [
    "### Riddler Classic\n",
    "From Dave Moran comes a pill-popping puzzle:\n",
    "\n",
    "I’ve been prescribed to take 1.5 pills of a certain medication every day for 10 days, so I have a bottle with 15 pills. Each morning, I take two pills out of the bottle at random.\n",
    "\n",
    "On the first morning, these are guaranteed to be two full pills. I consume one of them, split the other in half using a precision blade, consume half of that second pill, and place the remaining half back into the bottle.\n",
    "\n",
    "On subsequent mornings when I take out two pills, there are three possibilities:\n",
    "\n",
    "I get two full pills. As on the first morning, I split one and place the unused half back into the bottle.\n",
    "I get one full pill and one half-pill, both of which I consume.\n",
    "I get two half-pills. In this case, I take out another pill at random. If it’s a half-pill, then I consume all three halves. But if it’s a full pill, I split it and place the unused half back in the bottle.\n",
    "Assume that each pill — whether it is a full pill or a half-pill — is equally likely to be taken out of the bottle.\n",
    "\n",
    "On the 10th day, I again take out two pills and consume them. In a rush, I immediately throw the bottle in the trash before bothering to check whether I had just consumed full pills or half-pills. What’s the probability that I took the full dosage, meaning I don’t have to dig through the trash for a remaining half-pill?\n",
    "\n",
    "### Things To Note:\n",
    "\n",
    "- We are guaranteed to NOT exceed given we have 15 pills over 10 days and need 1.5 per day. I only note this so I can recognize that on the 10th day I only need to be concerned with being under or equal to 1.5 pills.\n"
   ]
  },
  {
   "cell_type": "code",
   "execution_count": 4,
   "id": "766df6cf",
   "metadata": {},
   "outputs": [
    {
     "name": "stdout",
     "output_type": "stream",
     "text": [
      "[1.  1.  1.  1.  1.  1.  1.  1.  1.  1.  1.  1.  1.  0.5]\n",
      "[1.  1.  1.  1.  1.  1.  1.  1.  1.  1.  1.  0.5 0.5]\n",
      "[1.  1.  1.  1.  1.  1.  1.  1.  1.  0.5 0.5 0.5]\n",
      "[1.  1.  1.  1.  1.  1.  1.  0.5 0.5 0.5 0.5]\n",
      "[1.  1.  1.  1.  1.  1.  0.5 0.5 0.5]\n",
      "[1.  1.  1.  1.  1.  0.5 0.5]\n",
      "[1.  1.  1.  1.  0.5]\n",
      "[1.  1.  0.5 0.5]\n",
      "[1.  0.5]\n",
      "Success\n",
      "[]\n"
     ]
    }
   ],
   "source": [
    "import numpy as np\n",
    "from matplotlib import pyplot as plt\n",
    "\n",
    "pills = np.ones(15)\n",
    "total = 0\n",
    "day = 0\n",
    "while total < 15:\n",
    "    \n",
    "    # choose pills (indices) until you get 1.5\n",
    "    step = 0\n",
    "    day += 1\n",
    "    \n",
    "    if day == 10:\n",
    "        p1, p2 = np.random.choice(pills, 2, replace = False)\n",
    "        if p1 + p2 == 1.5:\n",
    "            print(\"Success\")\n",
    "        else:\n",
    "            print(\"Fail\")\n",
    "    \n",
    "    while step < 1.5:\n",
    "        p = np.random.choice(np.arange(pills.size), 1, replace = False)\n",
    "        step += (pills[p])\n",
    "        \n",
    "        # remove\n",
    "        pills = np.delete(pills, p)\n",
    "    \n",
    "    if step == 2:\n",
    "        pills = np.append(pills, 0.5)\n",
    "        \n",
    "    print(pills)\n",
    " \n",
    "    total += 1.5\n"
   ]
  },
  {
   "cell_type": "markdown",
   "id": "1e2643a0",
   "metadata": {},
   "source": [
    "### Now that it is working, let's make it a bit easier to read\n",
    "\n",
    "Really need to speed this up, a bit stuck on how to run all sims as a single matrix, but likely a way I am missing here."
   ]
  },
  {
   "cell_type": "code",
   "execution_count": 2,
   "id": "21716c57",
   "metadata": {},
   "outputs": [],
   "source": [
    "sims = 10000\n",
    "proper = 0\n",
    "\n",
    "def establish_sim():\n",
    "    \"\"\"Initial conditions for simulation\"\"\"\n",
    "    return np.ones(15), 1\n",
    "\n",
    "def day_ten(pill_array):\n",
    "    \"\"\"Check if last two pills chosen sum to 1.5\"\"\"\n",
    "    p1, p2 = np.random.choice(pill_array, 2, replace = False)\n",
    "    if p1 + p2 == 1.5:\n",
    "        return 1\n",
    "    else:\n",
    "        return 0\n",
    "\n",
    "def before_day_ten(pill_array, day, day_dose = 0):\n",
    "    \"\"\"Process for pills on day 1-9\"\"\"\n",
    "    \n",
    "    while day_dose < 1.5:\n",
    "        p = np.random.choice(np.arange(pill_array.size), 1, replace = False)\n",
    "        day_dose += (pill_array[p])\n",
    "        pill_array = np.delete(pill_array, p)\n",
    "\n",
    "    if day_dose == 2:\n",
    "        pill_array = np.append(pill_array, 0.5)\n",
    "    \n",
    "    return pill_array, day + 1"
   ]
  },
  {
   "cell_type": "code",
   "execution_count": 3,
   "id": "d688a455",
   "metadata": {
    "scrolled": true
   },
   "outputs": [
    {
     "name": "stdout",
     "output_type": "stream",
     "text": [
      "Proper Dosage Rate for 100 sims: 0.800\n",
      "Proper Dosage Rate for 1000 sims: 0.807\n",
      "Proper Dosage Rate for 10000 sims: 0.792\n",
      "Proper Dosage Rate for 100000 sims: 0.789\n",
      "Proper Dosage Rate for 500000 sims: 0.791\n",
      "Proper Dosage Rate for 1000000 sims: 0.791\n"
     ]
    }
   ],
   "source": [
    "sim_list = [100, 1_000, 10_000, 100_000, 500_000, 1_000_000]\n",
    "for sims in sim_list:\n",
    "    proper = 0\n",
    "    for _ in range(sims):\n",
    "\n",
    "        # Set up starting conditions\n",
    "        pills, day = establish_sim()\n",
    "        \n",
    "        # Run Days 1-9\n",
    "        while day < 10:\n",
    "            pills, day = before_day_ten(pills, day)\n",
    "\n",
    "        # Day 10: Results\n",
    "        proper += day_ten(pills)\n",
    "\n",
    "    print(f\"Proper Dosage Rate for {sims} sims: {proper / sims :.3f}\")"
   ]
  },
  {
   "cell_type": "markdown",
   "id": "c37f5767",
   "metadata": {},
   "source": [
    "### A visual\n",
    "\n",
    "We can see convergence towards out value."
   ]
  },
  {
   "cell_type": "code",
   "execution_count": null,
   "id": "9d3637e8",
   "metadata": {},
   "outputs": [],
   "source": [
    "results = {}\n",
    "for sims in range(1_000, 250_000, 1_000):\n",
    "    proper = 0\n",
    "    for _ in range(sims):\n",
    "\n",
    "        # Set up starting conditions\n",
    "        pills, day = establish_sim()\n",
    "        \n",
    "        # Run Days 1-9\n",
    "        while day < 10:\n",
    "            pills, day = before_day_ten(pills, day)\n",
    "\n",
    "        # Day 10: Results\n",
    "        proper += day_ten(pills)\n",
    "    \n",
    "    # Add to results\n",
    "    results[sims] = proper\n",
    "\n",
    "# Plot Solutions\n",
    "final_solutions = [round(v/k,3) for k,v in results.items()]\n",
    "plt.plot(results.keys(), final_solutions)\n",
    "plt.xlabel(\"Sim Size\")\n",
    "plt.ylabel(\"Proper Dosage Probability\")\n",
    "plt.title(\"Simulating Proper Dosage In Two Pills\");"
   ]
  },
  {
   "cell_type": "markdown",
   "id": "0b67ff3b",
   "metadata": {},
   "source": [
    "### Analytical Solution: \n",
    "\n",
    "TODO\n",
    "\n",
    "Day 1: 100% we grab 2 full, so 13 full + 1 half, 100%\n",
    "Day 2: (13/14) * (12/13) -> grab 2 full -> 11 full + 2 h\n",
    "       (13/14) * (1/13) -> grab 1 full, 1 half -> 12 full\n",
    "\n",
    "However, this explodes each step so a smarter approach is needed."
   ]
  },
  {
   "cell_type": "code",
   "execution_count": null,
   "id": "02ceedf2",
   "metadata": {},
   "outputs": [],
   "source": []
  }
 ],
 "metadata": {
  "kernelspec": {
   "display_name": "ml",
   "language": "python",
   "name": "ml"
  },
  "language_info": {
   "codemirror_mode": {
    "name": "ipython",
    "version": 3
   },
   "file_extension": ".py",
   "mimetype": "text/x-python",
   "name": "python",
   "nbconvert_exporter": "python",
   "pygments_lexer": "ipython3",
   "version": "3.9.2"
  }
 },
 "nbformat": 4,
 "nbformat_minor": 5
}
