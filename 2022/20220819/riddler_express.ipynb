{
 "cells": [
  {
   "cell_type": "markdown",
   "id": "33c69b1d",
   "metadata": {},
   "source": [
    "### Riddler Express:\n",
    "\n",
    "If you’ve ever thought about buying a home, you might be familiar with the so-called “Rule of 72.” For an exponentially increasing quantity, like interest accrued on a principal, you can use the Rule of 72 to approximate the doubling time based on the interest rate. For example, for an interest rate of 4 percent — meaning the exponential growth is 1.04^t, with t measured in years — the doubling time is approximately 72 divided by 4, or 18 years.\n",
    "\n",
    "It turns out that there is only one interest rate for which the Rule of 72 tells you the exact doubling time. What is that interest rate?\n",
    "\n",
    "\n",
    "### Math:\n",
    "\n",
    "$1.04^{t} = 2$\n",
    "\n",
    "Solve for t by using log:\n",
    "\n",
    "$t = \\frac{log(2)}{log(1.04)} = 17.67$\n",
    "\n",
    "I have completely forgotten how to simplify something like $log(1+x)$ so....\n",
    "\n",
    "### How to Solve in Python:\n",
    "\n",
    "Function A must equal Function B given the same `r`:\n",
    "\n",
    "$ a = \\frac{log(2)}{log(1 + r)}$\n",
    "\n",
    "$b = \\frac{72}{100 * r}$\n",
    "\n",
    "*Note: If r = 0.05 then we want t = 5 years, which is why I do `100 * r` in above*\n",
    "\n",
    "And we can use speedy `numpy` to solve for when these functions are equivalent."
   ]
  },
  {
   "cell_type": "code",
   "execution_count": 1,
   "id": "84c084ad",
   "metadata": {},
   "outputs": [
    {
     "data": {
      "text/plain": [
       "(array([7846870]),)"
      ]
     },
     "execution_count": 1,
     "metadata": {},
     "output_type": "execute_result"
    }
   ],
   "source": [
    "import numpy as np\n",
    "\n",
    "step = 100_000_000 # checking 100MM values from 0-1 for rate\n",
    "x = np.arange(1,step)\n",
    "\n",
    "# build rates\n",
    "r = x / step\n",
    "\n",
    "# non-analytical approach so we won't get a perfect value, want it to be quite precise though\n",
    "tolerance = 0.00000002\n",
    "\n",
    "# function solve for step size\n",
    "a = np.log(2) / np.log(1 + r)\n",
    "b = 72 / (100 * r)\n",
    "\n",
    "# find our value\n",
    "np.where(np.abs(a - b) < tolerance)"
   ]
  },
  {
   "cell_type": "code",
   "execution_count": 2,
   "id": "7445a2a3",
   "metadata": {},
   "outputs": [
    {
     "name": "stdout",
     "output_type": "stream",
     "text": [
      "Final rate: 0.0784687\n",
      "Result: 2.000000009456303 \n"
     ]
    }
   ],
   "source": [
    "# prove it works\n",
    "r = 7846870 / step\n",
    "t = 72 / (r * 100)\n",
    "\n",
    "# confirm within 7 decimals, meaning result is 2.0000000*****\n",
    "np.testing.assert_almost_equal((1 + r) ** (t), 2)\n",
    "print(f\"Final rate: {r}\")\n",
    "print(f\"Result: {(1 + r) ** (t)} \")"
   ]
  }
 ],
 "metadata": {
  "kernelspec": {
   "display_name": "ml",
   "language": "python",
   "name": "ml"
  },
  "language_info": {
   "codemirror_mode": {
    "name": "ipython",
    "version": 3
   },
   "file_extension": ".py",
   "mimetype": "text/x-python",
   "name": "python",
   "nbconvert_exporter": "python",
   "pygments_lexer": "ipython3",
   "version": "3.9.2"
  }
 },
 "nbformat": 4,
 "nbformat_minor": 5
}
