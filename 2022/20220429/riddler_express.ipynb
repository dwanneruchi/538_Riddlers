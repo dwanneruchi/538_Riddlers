{
 "cells": [
  {
   "cell_type": "markdown",
   "id": "7513c26d",
   "metadata": {},
   "source": [
    "### Riddler Express\n",
    "\n",
    "There are many fractions with a numerator of 1 whose decimal expansions don’t go on to infinitely many decimal places. For example, 1/4 is equivalent to the decimal 0.25, and 1/500 is equivalent to 0.002. However, the decimal expansion of 1/3 is 0.33333 …, a decimal that never terminates.\n",
    "\n",
    "If you were to add up all these numbers — fractions with a numerator of 1 whose decimal expansions don’t go on forever — what would be the sum? (Note: Before you ask, let’s include the fraction 1/1 in this group.)\n",
    "\n",
    "\n",
    "### Approach: \n",
    "\n",
    "Maybe I learned this back in the day, but needed to be reminded of a rule for determining if a number was terminating or non-terminating (great link: https://www.cuemath.com/numbers/terminating-decimal/)\n",
    "\n",
    "We can define a non-terminating fraction as one that has a denominator that adheres to the following formula: \n",
    "\n",
    "$2^{p}*5^{q}$\n",
    "\n",
    "Examples:\n",
    "\n",
    "$\\frac{1}{2^{2}} = 0.25$\n",
    "\n",
    "$\\frac{1}{2^{3} * 5^2} = 0.005$\n",
    "\n",
    "I can then iterate through a list of `p` and `q` values and estimate a limit! Note that when `p` = `q` = 0 then we just have $\\frac{1}{1}$"
   ]
  },
  {
   "cell_type": "code",
   "execution_count": 1,
   "id": "1fccf499",
   "metadata": {},
   "outputs": [
    {
     "name": "stdout",
     "output_type": "stream",
     "text": [
      "With n = 10 the sum is 2.498, total seconds: 0.00\n",
      "With n = 100 the sum is 2.500, total seconds: 0.01\n",
      "With n = 1000 the sum is 2.500, total seconds: 2.49\n",
      "With n = 1500 the sum is 2.500, total seconds: 9.89\n"
     ]
    }
   ],
   "source": [
    "from itertools import product\n",
    "import time\n",
    "\n",
    "def denom_solve(p,q):\n",
    "    \"\"\"Solve for denom with p and q\"\"\"\n",
    "    return (2**p) * (5**q)\n",
    "\n",
    "\n",
    "for n in [10,100,1_000, 1_500]:\n",
    "    start = time.time()\n",
    "\n",
    "    # find all combos of (0,n) for p/q\n",
    "    p = range(n)\n",
    "    q = range(n)\n",
    "    set_of_vals = list(product(p, q))\n",
    "    tot = 0\n",
    "\n",
    "    for vals in set_of_vals:\n",
    "        tot += (1) / denom_solve(vals[0], vals[1])\n",
    "    \n",
    "    end = time.time()\n",
    "\n",
    "    print(f\"With n = {n} the sum is {tot:.3f}, total seconds: {end - start:.2f}\")"
   ]
  },
  {
   "cell_type": "markdown",
   "id": "a3ed27d2",
   "metadata": {},
   "source": [
    "#### Self-Generated Bonus: Use Numpy for speed\n",
    "\n",
    "Blazing fast!"
   ]
  },
  {
   "cell_type": "code",
   "execution_count": 2,
   "id": "d336159b",
   "metadata": {},
   "outputs": [
    {
     "name": "stdout",
     "output_type": "stream",
     "text": [
      "With n = 10 the sum is 2.498, total seconds: 0.00\n",
      "With n = 100 the sum is 2.500, total seconds: 0.00\n",
      "With n = 1000 the sum is 2.500, total seconds: 0.02\n",
      "With n = 1500 the sum is 2.500, total seconds: 0.05\n",
      "With n = 10000 the sum is 2.500, total seconds: 6.72\n",
      "With n = 20000 the sum is 2.500, total seconds: 47.35\n"
     ]
    }
   ],
   "source": [
    "import numpy as np\n",
    "import time\n",
    "import warnings\n",
    "warnings.filterwarnings('ignore') # overflow error from numpy, hiding for demo purposes\n",
    "\n",
    "for n in [10,100,1_000, 1_500, 10_000, 20_000]:\n",
    "    start = time.time()\n",
    "    p = range(n)\n",
    "    q = range(n)\n",
    "    combos = np.array(np.meshgrid(p, q)).T.reshape(-1,2)\n",
    "    combos = combos.astype(np.float64) # convert to float 64\n",
    "    np_denom = (2 ** (combos[:,0])) * (5 ** (combos[:,1])) \n",
    "    tot = np.sum(1 / np_denom) \n",
    "    end = time.time()\n",
    "\n",
    "    print(f\"With n = {n} the sum is {tot:.3f}, total seconds: {end - start:.2f}\")"
   ]
  }
 ],
 "metadata": {
  "kernelspec": {
   "display_name": "Python 3 (ipykernel)",
   "language": "python",
   "name": "python3"
  },
  "language_info": {
   "codemirror_mode": {
    "name": "ipython",
    "version": 3
   },
   "file_extension": ".py",
   "mimetype": "text/x-python",
   "name": "python",
   "nbconvert_exporter": "python",
   "pygments_lexer": "ipython3",
   "version": "3.9.2"
  }
 },
 "nbformat": 4,
 "nbformat_minor": 5
}
