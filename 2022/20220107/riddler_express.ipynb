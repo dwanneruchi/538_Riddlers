{
 "cells": [
  {
   "cell_type": "markdown",
   "id": "6fb857c5",
   "metadata": {},
   "source": [
    "### Riddler Express\n",
    "From Leonard Cohen comes a timely matter of touchdowns:\n",
    "\n",
    "In the Riddler Football League, you are coaching the Arizona Ordinals against your opponent, the Detroit Lines, and your team is down by 14 points. You can assume that you have exactly two remaining possessions (i.e., opportunities to score), and that Detroit will score no more points.\n",
    "\n",
    "For those unfamiliar with American football, a touchdown is worth 6 points. After each touchdown, you can decide whether to go for 1 extra point or 2 extra points. You happen to have a great kicker on your team, and your chances of scoring 1 extra point (should you go for it) are 100 percent. Meanwhile, scoring 2 extra points is no sure thing — suppose that your team’s probability of success is some value p.\n",
    "\n",
    "If the teams are tied at the end of regulation, the game proceeds to overtime, which you have a 50 percent chance of winning. (Assuming ties are not allowed.)\n",
    "\n",
    "What is the minimum value of p such that you’d go for 2 extra points after your team’s first touchdown (i.e., when you’re down 8 points)?\n",
    "\n",
    "### General Assumptions:\n",
    "\n",
    "- Other team is up by 14 and won't score again\n",
    "- `p = 0.5` of winning in overtime\n",
    "- `p = 1` of making an extra point\n",
    "- Since there is no discussion around winning if we don't score twice I will assume a state of the world where we score twice\n",
    "\n",
    "### Analytical Solution\n",
    "\n",
    "*Win if we stick to FGs*\n",
    "- P(W) = 0.5 since we go to overtime\n",
    "\n",
    "*Win if we try first two point can be split up into 2 WIN scenarios:*\n",
    "- We convert on two point: `p`\n",
    "- We miss first attempt, convert second attempt to go to overtime and win: `(1-p) * p * 0.5`\n",
    "\n",
    "*Solve for `p` in the following*\n",
    "\n",
    "$ 0.5 \\lt p + (1-p)*p*0.5 $\n",
    "\n",
    "$ 0.5 \\lt \\frac{3p}{2} - \\frac{1p^{2}}{2}$\n",
    "\n",
    "$ 1 \\lt 3p - p^{2}$\n",
    "\n",
    "$ p^{2} - 3p + 1 = 0$\n",
    "\n",
    "`p` solutions are:\n",
    "- 0.381966\n",
    "- 2.6180339 (outside of 0-1 boundary so irrelevant)\n",
    "\n",
    "Solution: `p > 0.38197`"
   ]
  },
  {
   "cell_type": "markdown",
   "id": "5ebac1ef",
   "metadata": {},
   "source": [
    "### Now Computational Solution: \n",
    "\n",
    "Run simulations across a range of `p` values, first with an inefficient class approach."
   ]
  },
  {
   "cell_type": "code",
   "execution_count": 1,
   "id": "5c9ef3b5",
   "metadata": {},
   "outputs": [],
   "source": [
    "import random\n",
    "import numpy as np\n",
    "import time\n",
    "\n",
    "class gameSim():\n",
    "    def __init__(self, p, n):\n",
    "        self.p = p\n",
    "        self.games = n\n",
    "        self.wins = 0\n",
    "        \n",
    "    def singleGame(self):\n",
    "        \"\"\"Run a single game and return win as 1 loss as 0\"\"\"\n",
    "        tmp_score = 0 # initialize score at 0\n",
    "        attempt = 0\n",
    "        \n",
    "        # run sim in regulation\n",
    "        while attempt < 2:\n",
    "            attempt += 1\n",
    "\n",
    "            # we attempt 2 if our score is < 8\n",
    "            if tmp_score < 8:\n",
    "                event = random.choices(population = [0,1], weights = [1-self.p, self.p], k = 1)\n",
    "                if event[0] == 1:\n",
    "                    tmp_score += 8\n",
    "                else:\n",
    "                    tmp_score += 6\n",
    "            # otherwise we'd go for the sure thing\n",
    "            else:\n",
    "                tmp_score += 7\n",
    "\n",
    "        # in reg is done -> did we win, lose or tie? \n",
    "        # tie -> equal chance of winning\n",
    "        if tmp_score == 14:\n",
    "            return random.choice([0,1])\n",
    "        return int(tmp_score > 14)\n",
    "\n",
    "    def runSim(self):\n",
    "        \"\"\"Run sim of games with static p\"\"\"\n",
    "        for _ in range(self.games):\n",
    "            self.wins += self.singleGame()\n",
    "            \n",
    "        return self.wins / self.games\n",
    "    "
   ]
  },
  {
   "cell_type": "code",
   "execution_count": 2,
   "id": "acc7ee4f",
   "metadata": {},
   "outputs": [
    {
     "name": "stdout",
     "output_type": "stream",
     "text": [
      "With a p = 0.38160 we should go for it!\n",
      "Took 84.01 seconds\n"
     ]
    }
   ],
   "source": [
    "# Build a range of probs for success in 2 point\n",
    "start = time.time()\n",
    "probs = np.linspace(0.3,0.5,1001) # limiting bounds due to inefficiency\n",
    "i = 0\n",
    "n = 100_000 # Note: Due to inefficiency limiting to 100K\n",
    "\n",
    "# Iterate until we find a p that allows for win > 0.5\n",
    "while True:\n",
    "    p_sim = gameSim(probs[i],n)\n",
    "    exp_win = p_sim.runSim()\n",
    "    if exp_win > 0.5:\n",
    "        print(f\"With a p = {probs[i]:.5f} we should go for it!\")\n",
    "        print(f\"Took {time.time() - start:.2f} seconds\")\n",
    "        break\n",
    "    i += 1"
   ]
  },
  {
   "cell_type": "markdown",
   "id": "0ad6ffe3",
   "metadata": {},
   "source": [
    "### Speed up with Numpy\n",
    "\n",
    "We can iterate same bounds much faster, allowing us to simulate `10X` games but still significantly drop the total time. \n",
    "\n",
    "#### Improve the below:\n",
    "\n",
    "Even better would be to just build a single matrix where each row represents a different `p` value. Then vectorization can handle everything in a single pass through rather than needing to iterate. Will consider this a nice `TODO`"
   ]
  },
  {
   "cell_type": "code",
   "execution_count": 3,
   "id": "bf034c19",
   "metadata": {},
   "outputs": [
    {
     "name": "stdout",
     "output_type": "stream",
     "text": [
      "With a p = 0.38180 we should go for it!\n",
      "Took 21.22 seconds\n"
     ]
    }
   ],
   "source": [
    "# Build a range of probs for success in 2 point\n",
    "start = time.time()\n",
    "probs = np.linspace(0.3,0.5,1001)\n",
    "i = 0\n",
    "n = 1_000_000 # searching over 1MM \n",
    "\n",
    "while True:\n",
    "    # determine if successful initial 2pt conv\n",
    "    p = probs[i]\n",
    "    scores = np.random.choice([6,8], size=n, replace=True, p=[1-p,p])\n",
    "\n",
    "    # split into each type: score > 7 is automatic win given p = 1 for FG\n",
    "    wins = len(scores[scores > 7])\n",
    "\n",
    "    # unsuccessful we have some work to do: \n",
    "    # All are 6, so we can either get a 14 to tie or a 12 to lose\n",
    "    unsuccessful = scores[scores < 8]\n",
    "    second_try = np.random.choice([12,14], size=len(unsuccessful), replace=True, p=[1-p,p])\n",
    "\n",
    "    # we keep ties\n",
    "    ties = second_try[second_try == 14]\n",
    "\n",
    "    # determine successes for ties -> 50%, so just using default p\n",
    "    ot_wins = np.sum(np.random.choice([0,1], size = len(ties)))\n",
    "\n",
    "    win_prob = (ot_wins + wins) / n\n",
    "    \n",
    "    \n",
    "    if win_prob > 0.5:\n",
    "        print(f\"With a p = {probs[i]:.5f} we should go for it!\")\n",
    "        print(f\"Took {time.time() - start:.2f} seconds\")\n",
    "        break\n",
    "        \n",
    "    i += 1"
   ]
  },
  {
   "cell_type": "markdown",
   "id": "81bfb647",
   "metadata": {},
   "source": [
    "### And totally unecessary, but let's plot it out: \n",
    "\n",
    "Expanding search over 0-1, keeping 1MM records"
   ]
  },
  {
   "cell_type": "code",
   "execution_count": 4,
   "id": "aaf717bd",
   "metadata": {},
   "outputs": [
    {
     "name": "stdout",
     "output_type": "stream",
     "text": [
      "Full search time: 45.2 seconds\n"
     ]
    }
   ],
   "source": [
    "# Build a range of probs for success in 2 point\n",
    "start = time.time()\n",
    "probs = np.linspace(0,1,1001)\n",
    "i = 0\n",
    "n = 1_000_000 # searching over 1MM \n",
    "win_exp = []\n",
    "\n",
    "for p in probs:\n",
    "    scores = np.random.choice([6,8], size=n, replace=True, p=[1-p,p])\n",
    "    wins = len(scores[scores > 7])\n",
    "    unsuccessful = scores[scores < 8]\n",
    "    second_try = np.random.choice([12,14], size=len(unsuccessful), replace=True, p=[1-p,p])\n",
    "    ties = second_try[second_try == 14]\n",
    "    ot_wins = np.sum(np.random.choice([0,1], size = len(ties)))\n",
    "    win_prob = (ot_wins + wins) / n\n",
    "    win_exp.append(win_prob)\n",
    "    \n",
    "print(f\"Full search time: {time.time() - start:.3} seconds\")"
   ]
  },
  {
   "cell_type": "code",
   "execution_count": 5,
   "id": "68a5d3df",
   "metadata": {},
   "outputs": [
    {
     "data": {
      "image/png": "[encoded data removed]",
      "text/plain": [
       "<Figure size 432x288 with 1 Axes>"
      ]
     },
     "metadata": {
      "needs_background": "light"
     },
     "output_type": "display_data"
    }
   ],
   "source": [
    "from matplotlib import pyplot as plt\n",
    "\n",
    "fig, ax = plt.subplots()\n",
    "ax.plot(probs, win_exp)\n",
    "ax.hlines(y=0.5, xmin=0, xmax=1, linewidth=2, color='r')\n",
    "plt.xlabel(\"P(Success Conv)\")\n",
    "plt.ylabel(\"P(win)\");"
   ]
  }
 ],
 "metadata": {
  "kernelspec": {
   "display_name": "ml",
   "language": "python",
   "name": "ml"
  },
  "language_info": {
   "codemirror_mode": {
    "name": "ipython",
    "version": 3
   },
   "file_extension": ".py",
   "mimetype": "text/x-python",
   "name": "python",
   "nbconvert_exporter": "python",
   "pygments_lexer": "ipython3",
   "version": "3.9.2"
  }
 },
 "nbformat": 4,
 "nbformat_minor": 5
}
