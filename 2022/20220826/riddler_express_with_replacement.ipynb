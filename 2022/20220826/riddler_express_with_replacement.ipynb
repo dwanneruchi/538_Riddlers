{
 "cells": [
  {
   "cell_type": "markdown",
   "id": "547f3010",
   "metadata": {},
   "source": [
    "### Riddler Express\n",
    "From Christopher Kyba comes a bippity boppity puzzle:\n",
    "\n",
    "Each morning, your fairy godmother appears and gives you a chance to play a game. In this game, she deals 10 cards face down. Nine of the cards are winners, and one card is a loser. If you pick a winning card, you get a prize. You can then either take your prize and walk away or play again for the chance to win a second prize. But if you lose on that second play, you walk away with nothing and the game is over for the day. Each time you succeed, she invites you to play again under the same conditions (win yet another prize or lose everything).\n",
    "\n",
    "What strategy maximizes the average number of prizes you win each day? And what is that average?\n",
    "\n",
    "Extra credit: Suppose your fairy godmother deals N cards each day (instead of 10 cards), with N−1 winning cards and one losing card. Now what is your strategy, and how many prizes do you expect to win each day?\n",
    "\n",
    "\n",
    "#### Approach:\n",
    "\n",
    "We can model this with a binomial distribution if we are solving with replacement. If we solve without replacement we can use the hypergeometric distribution. \n",
    "\n",
    "\n",
    "#### With Replacement: Binomial\n",
    "\n",
    "Gives the probability `k` number of successes in `n` independent trials:\n",
    "- Mean = `np`, variance = `np(1-p)`\n",
    "\n",
    "We can use the binomial distribution probability mass function to find the probability that `k == n` when `p = 0.9` for a series of different `n` values. Given the game ends with a loss this would reflect the likelihood of being successful for `k` draws. \n",
    "\n",
    "We can then determine the average prizes by solving for an expected value with `Prob(k == n) * k prizes`"
   ]
  },
  {
   "cell_type": "code",
   "execution_count": 1,
   "id": "a7a28fea",
   "metadata": {},
   "outputs": [
    {
     "name": "stdout",
     "output_type": "stream",
     "text": [
      "Likelihood of 1 draw, 1 success: 0.9\n",
      "Likelihood of 2 draw, 2 success: 0.81\n",
      "Likelihood of 3 draw, 3 success: 0.7290000000000001\n"
     ]
    }
   ],
   "source": [
    "import numpy as np \n",
    "from scipy import stats\n",
    "\n",
    "# k is discrete event (typically X), n is total trials\n",
    "one_draw = stats.binom.pmf(k = 1, n = 1, p = 0.9)\n",
    "print(f\"Likelihood of 1 draw, 1 success: {one_draw}\")\n",
    "print(f\"Likelihood of 2 draw, 2 success: {stats.binom.pmf(k = 2, n = 2, p = 0.9)}\")\n",
    "print(f\"Likelihood of 3 draw, 3 success: {stats.binom.pmf(k = 3, n = 3, p = 0.9)}\")"
   ]
  },
  {
   "cell_type": "markdown",
   "id": "3202d5f3",
   "metadata": {},
   "source": [
    "#### How to solve?\n",
    "\n",
    "- Build an array of 1-N\n",
    "- Use the binomia probability mass function to solve for the probability that `successess` == `trials`\n",
    "    - If `successess` < `trials` then we receive 0 prizes so we limit our view to `k == n` as described above\n",
    "- Multiply the probability by `trials`, which yields an expected value of prizes per day "
   ]
  },
  {
   "cell_type": "code",
   "execution_count": 2,
   "id": "8412df36",
   "metadata": {},
   "outputs": [
    {
     "name": "stdout",
     "output_type": "stream",
     "text": [
      "Trials that maximize winnings: 9\n"
     ]
    },
    {
     "data": {
      "image/png": "[encoded data removed]",
      "text/plain": [
       "<Figure size 432x288 with 1 Axes>"
      ]
     },
     "metadata": {
      "needs_background": "light"
     },
     "output_type": "display_data"
    }
   ],
   "source": [
    "import matplotlib.pyplot as plt\n",
    "fig, ax = plt.subplots(1, 1)\n",
    "\n",
    "arr = np.arange(1,20)\n",
    "ev = stats.binom.pmf(k = arr, n = arr, p = 0.9) * arr\n",
    "\n",
    "ax.plot(arr, ev, 'bo', ms=8, label='Expected Value');\n",
    "\n",
    "print(f\"Trials that maximize winnings: {arr[np.argmax(ev)]}\")"
   ]
  },
  {
   "cell_type": "code",
   "execution_count": 3,
   "id": "380154b1",
   "metadata": {},
   "outputs": [
    {
     "data": {
      "text/plain": [
       "3.486784401000001"
      ]
     },
     "execution_count": 3,
     "metadata": {},
     "output_type": "execute_result"
    }
   ],
   "source": [
    "# 9 trials Expected Value\n",
    "stats.binom.pmf(k = 9, n = 9, p = 0.9) * 9"
   ]
  },
  {
   "cell_type": "code",
   "execution_count": 4,
   "id": "111af1cd",
   "metadata": {},
   "outputs": [
    {
     "data": {
      "text/plain": [
       "3.486784401000001"
      ]
     },
     "execution_count": 4,
     "metadata": {},
     "output_type": "execute_result"
    }
   ],
   "source": [
    "# 10 trials Expected Value\n",
    "stats.binom.pmf(k = 10, n = 10, p = 0.9) * 10"
   ]
  },
  {
   "cell_type": "code",
   "execution_count": 5,
   "id": "d9243f53",
   "metadata": {},
   "outputs": [
    {
     "name": "stdout",
     "output_type": "stream",
     "text": [
      "3.486784401000001 3.486784401000001\n"
     ]
    }
   ],
   "source": [
    "# Which is it? We can hard-code it for more precision\n",
    "from math import factorial\n",
    "\n",
    "def binom_pmf(k, n, p):\n",
    "    z = factorial(n) / (factorial(k) * factorial(n-k))\n",
    "    x = (p ** k) * (1 - p) ** (n-k)\n",
    "    \n",
    "    return z * x\n",
    "\n",
    "a = binom_pmf(9,9,0.9) * 9.0\n",
    "b = binom_pmf(10,10,0.9) * 10.0\n",
    "print(a,b)\n",
    "if a > b:\n",
    "    print(f\"9 games is best strategy\")\n",
    "if b > a:\n",
    "    print(f\"10 games is best strategy\")"
   ]
  },
  {
   "cell_type": "markdown",
   "id": "bbf6a799",
   "metadata": {},
   "source": [
    "#### Solution With Replacement:\n",
    "\n",
    "- It looks like 9 and 10 trials maximize winnings when `p = 0.9`, but given what I found in the extra credit my final answer will be that maximal strategy is to play 9 times (`n-1`).\n",
    "\n",
    "#### Extra Credit:\n",
    "\n",
    "Suppose your fairy godmother deals N cards each day (instead of 10 cards), with N−1 winning cards and one losing card. Now what is your strategy, and how many prizes do you expect to win each day?\n",
    "\n",
    "- We can set `n` to be much larger, and account for that in the `p` we use `n-1`/`n` to represent success probability"
   ]
  },
  {
   "cell_type": "code",
   "execution_count": 6,
   "id": "7241c0c8",
   "metadata": {},
   "outputs": [
    {
     "name": "stdout",
     "output_type": "stream",
     "text": [
      "Testing N of size 100\n",
      "Trials that maximize winnings: 99\n",
      "Highest Avg Winnings: 36.60323412732292\n",
      "Ratio relative to N: 2.7319990264290284\n",
      "\n",
      "Testing N of size 1000\n",
      "Trials that maximize winnings: 999\n",
      "Highest Avg Winnings: 367.6954247709637\n",
      "Ratio relative to N: 2.719642216442853\n",
      "\n",
      "Testing N of size 10000\n",
      "Trials that maximize winnings: 9999\n",
      "Highest Avg Winnings: 3678.6104643297044\n",
      "Ratio relative to N: 2.71841775501015\n",
      "\n",
      "Testing N of size 250000\n",
      "Trials that maximize winnings: 249999\n",
      "Highest Avg Winnings: 91969.67635274144\n",
      "Ratio relative to N: 2.718287265045355\n",
      "\n",
      "Testing N of size 1000000\n",
      "Trials that maximize winnings: 999999\n",
      "Highest Avg Winnings: 367879.2572210665\n",
      "Ratio relative to N: 2.718283187679371\n",
      "\n",
      "Testing N of size 2000000\n",
      "Trials that maximize winnings: 1999999\n",
      "Highest Avg Winnings: 735758.6984636541\n",
      "Ratio relative to N: 2.71828250780619\n",
      "\n",
      "Testing N of size 10000000\n",
      "Trials that maximize winnings: 9999999\n",
      "Highest Avg Winnings: 3678794.2297110497\n",
      "Ratio relative to N: 2.7182819629423656\n",
      "\n",
      "Testing N of size 100000000\n",
      "Trials that maximize winnings: 99999998\n",
      "Highest Avg Winnings: 36787943.74835395\n",
      "Ratio relative to N: 2.7182818557091664\n",
      "\n",
      "Testing N of size 1000000000\n",
      "Trials that maximize winnings: 999999999\n",
      "Highest Avg Winnings: 367879451.3918439\n",
      "Ratio relative to N: 2.7182817529399266\n",
      "\n"
     ]
    }
   ],
   "source": [
    "# larger scale of N trials\n",
    "N_list = [100, 1_000, 10_000, 250_000, 1_000_000, \n",
    "          2_000_000, 10_000_000, 100_000_000, \n",
    "          1_000_000_000] # up to 1 billion!\n",
    "\n",
    "for N in N_list:\n",
    "    arr = np.arange(N - 100, N + 1) # we only need to search at the tail\n",
    "\n",
    "    # probability of success based on N\n",
    "    p = (N - 1) / (N)\n",
    "\n",
    "    # solving expected value\n",
    "    ev = stats.binom.pmf(k = arr, n = arr, p = p) * arr\n",
    "    print(f\"Testing N of size {N}\")\n",
    "    print(f\"Trials that maximize winnings: {arr[np.argmax(ev)]}\")\n",
    "    print(f\"Highest Avg Winnings: {ev[np.argmax(ev)]}\")\n",
    "    print(f\"Ratio relative to N: {N / ev[np.argmax(ev)]}\\n\")"
   ]
  },
  {
   "cell_type": "markdown",
   "id": "6a4d7e6c",
   "metadata": {},
   "source": [
    "### Extra Credit Strategy: \n",
    "\n",
    "It looks like if we use replacement the strategy should be `N-1`, which makes me update my original answer to be `9` when there are 10 total cards with 9 winning.\n",
    "\n",
    "Also interesting that the ratio of N to winning seems to converge towards `eulers number`. This means we can expect the following number of prizes with `N-1` winning cards in a set of `N` total cards:\n",
    "\n",
    "$\\frac{N}{e}$"
   ]
  }
 ],
 "metadata": {
  "kernelspec": {
   "display_name": "ml",
   "language": "python",
   "name": "ml"
  },
  "language_info": {
   "codemirror_mode": {
    "name": "ipython",
    "version": 3
   },
   "file_extension": ".py",
   "mimetype": "text/x-python",
   "name": "python",
   "nbconvert_exporter": "python",
   "pygments_lexer": "ipython3",
   "version": "3.9.2"
  }
 },
 "nbformat": 4,
 "nbformat_minor": 5
}
