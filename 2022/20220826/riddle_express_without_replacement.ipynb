{
 "cells": [
  {
   "cell_type": "markdown",
   "id": "598be4e6",
   "metadata": {},
   "source": [
    "### Solving Express without replacement\n",
    "\n",
    "Solved with replacement here: https://github.com/dwanneruchi/538_Riddlers/blob/master/2022/20220826/riddler_express_with_replacement.ipynb\n",
    "\n",
    "Without replacement shifts the type of distribution we can use from a binomial to a hypergeometric distribution. Below is the wikipedia entry:\n",
    "> In probability theory and statistics, the hypergeometric distribution is a discrete probability distribution that describes the probability of k successes (random draws for which the object drawn has a specified feature) in n draws, without replacement, from a finite population of size N that contains exactly K objects with that feature, wherein each draw is either a success or a failure."
   ]
  },
  {
   "cell_type": "code",
   "execution_count": 1,
   "id": "8b8aaecb",
   "metadata": {},
   "outputs": [
    {
     "data": {
      "text/plain": [
       "0.8999999999999996"
      ]
     },
     "execution_count": 1,
     "metadata": {},
     "output_type": "execute_result"
    }
   ],
   "source": [
    "from scipy.stats import hypergeom\n",
    "import numpy as np\n",
    "\n",
    "# M: total cards, 10 in our case\n",
    "# n: total winning cards, 9 in our case\n",
    "# N: games we play, max at M\n",
    "M, n, N = (10, 9, 1)\n",
    "rv = hypergeom(M, n, N)\n",
    "pmf_wins = rv.pmf(N) # all we care about is that games played equals our wins\n",
    "pmf_wins # unsurprisingly, same probability as when we used binomial since a single draw of hypergeom == binomial"
   ]
  },
  {
   "cell_type": "code",
   "execution_count": 2,
   "id": "f0d52895",
   "metadata": {},
   "outputs": [
    {
     "name": "stdout",
     "output_type": "stream",
     "text": [
      "Trials that maximize winnings: 5\n"
     ]
    },
    {
     "data": {
      "image/png": "[encoded data removed]",
      "text/plain": [
       "<Figure size 432x288 with 1 Axes>"
      ]
     },
     "metadata": {
      "needs_background": "light"
     },
     "output_type": "display_data"
    }
   ],
   "source": [
    "import matplotlib.pyplot as plt\n",
    "fig, ax = plt.subplots(1, 1)\n",
    "\n",
    "# We can now solve across multiple N games\n",
    "M, n = (10, 9)\n",
    "N = np.arange(0,10 + 1) # we can play at most 10 times\n",
    "k = N\n",
    "ev = hypergeom.pmf(k, M, n, N) * k # solve for expected value\n",
    "\n",
    "ax.plot(k, ev, 'bo', ms=8, label='Expected Value');\n",
    "plt.xlabel('Games Played Daily')\n",
    "plt.ylabel('Daily Prizes')\n",
    "\n",
    "print(f\"Trials that maximize winnings: {N[np.argmax(ev)]}\")"
   ]
  },
  {
   "cell_type": "code",
   "execution_count": null,
   "id": "50c31c61",
   "metadata": {},
   "outputs": [
    {
     "name": "stdout",
     "output_type": "stream",
     "text": [
      "Testing N of size 10000\n",
      "Trials that maximize winnings: 5000.0\n",
      "Highest Avg Winnings: 2499.999999985496\n",
      "Ratio relative to N: 4.000000000023206\n",
      "\n",
      "Testing N of size 250000\n",
      "Trials that maximize winnings: 124998.0\n",
      "Highest Avg Winnings: 62500.00001073418\n",
      "Ratio relative to N: 3.9999999993130126\n",
      "\n",
      "Testing N of size 1000000\n",
      "Trials that maximize winnings: 499998.0\n",
      "Highest Avg Winnings: 250000.0001571617\n",
      "Ratio relative to N: 3.999999997485413\n",
      "\n",
      "Testing N of size 2000000\n",
      "Trials that maximize winnings: 999992.0\n",
      "Highest Avg Winnings: 500000.00315081474\n",
      "Ratio relative to N: 3.9999999747934822\n",
      "\n",
      "Testing N of size 10000000\n",
      "Trials that maximize winnings: 5000115.0\n",
      "Highest Avg Winnings: 2500000.038948763\n",
      "Ratio relative to N: 3.99999993768198\n",
      "\n"
     ]
    }
   ],
   "source": [
    "# Extra Credit\n",
    "# larger scale of N trials\n",
    "N_list = [10_000, 250_000, 1_000_000, \n",
    "          2_000_000, 10_000_000, 100_000_000, \n",
    "          1_000_000_000] # up to 1 billion!\n",
    "\n",
    "for N in N_list:\n",
    "    \n",
    "    # set-up distribution\n",
    "    M, n = (N, N-1)\n",
    "    Ns = np.arange(0.4 * N, 0.6 * N) # we can play at most N times, but I know solutions are near N/2 so limiting range\n",
    "    k = Ns\n",
    "    ev = hypergeom.pmf(k, M, n, Ns) * k # solve for expected value\n",
    "\n",
    "    # solving expected value\n",
    "    print(f\"Testing N of size {N}\")\n",
    "    print(f\"Trials that maximize winnings: {Ns[np.argmax(ev)]}\")\n",
    "    print(f\"Highest Avg Winnings: {ev[np.argmax(ev)]}\")\n",
    "    print(f\"Ratio relative to N: {N / ev[np.argmax(ev)]}\\n\")"
   ]
  },
  {
   "cell_type": "markdown",
   "id": "a5c61b03",
   "metadata": {},
   "source": [
    "#### Extra Credit Solution: \n",
    "\n",
    "My approach reinforces a strategy of playing `N/2` games with expected earning of `N/4` prizes. "
   ]
  }
 ],
 "metadata": {
  "kernelspec": {
   "display_name": "ml",
   "language": "python",
   "name": "ml"
  },
  "language_info": {
   "codemirror_mode": {
    "name": "ipython",
    "version": 3
   },
   "file_extension": ".py",
   "mimetype": "text/x-python",
   "name": "python",
   "nbconvert_exporter": "python",
   "pygments_lexer": "ipython3",
   "version": "3.9.2"
  }
 },
 "nbformat": 4,
 "nbformat_minor": 5
}
