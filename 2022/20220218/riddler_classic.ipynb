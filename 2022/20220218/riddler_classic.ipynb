{
 "cells": [
  {
   "cell_type": "markdown",
   "id": "c0c925f1",
   "metadata": {},
   "source": [
    "### Riddler Express\n",
    "\n",
    "From Gary Yane comes a question that launched a million flips:\n",
    "\n",
    "I have in my possession 1 million fair coins. Before you ask, these are not legal tender. Among these, I want to find the “luckiest” coin.\n",
    "\n",
    "I first flip all 1 million coins simultaneously (I’m great at multitasking like that), discarding any coins that come up tails. I flip all the coins that come up heads a second time, and I again discard any of these coins that come up tails. I repeat this process, over and over again. If at any point I am left with one coin, I declare that to be the “luckiest” coin.\n",
    "\n",
    "But getting to one coin is no sure thing. For example, I might find myself with two coins, flip both of them and have both come up tails. Then I would have zero coins, never having had exactly one coin.\n",
    "\n",
    "What is the probability that I will — at some point — have exactly one “luckiest” coin?\n",
    "\n",
    "#### computational solution\n",
    "\n",
    "Test case:\n",
    "- build `n` sets of `m` flips. \n",
    "- Want to use vectorization to solve this problem more quickly than looping. \n",
    "\n",
    "First, let's confirm we get similar results as if we did all of this as a loop"
   ]
  },
  {
   "cell_type": "code",
   "execution_count": 1,
   "id": "257f78f7",
   "metadata": {},
   "outputs": [
    {
     "name": "stdout",
     "output_type": "stream",
     "text": [
      "Total win %:  0.72\n",
      "Total time: 1.941014051437378\n"
     ]
    }
   ],
   "source": [
    "import numpy as np\n",
    "import time\n",
    "from matplotlib import pyplot as plt\n",
    "\n",
    "n = 10_000 # 1000 games\n",
    "m = 10_000 # 1000 flips each\n",
    "wins = 0\n",
    "s = time.time()\n",
    "# iterate row by row - much slower\n",
    "for _ in range(n):   \n",
    "    flips = np.random.randint(0,2, size = m)\n",
    "    \n",
    "    while True:\n",
    "        # drop any flips that aren't heads (heads = 1)\n",
    "        size = len(flips[np.where(flips == 1)])\n",
    "\n",
    "        if size == 1:\n",
    "            wins += 1\n",
    "            break\n",
    "        if size == 0:\n",
    "            break\n",
    "            \n",
    "        # flip again based on remaining heads (1s)\n",
    "        flips = np.random.randint(low = 0, high = 2, size = size)\n",
    "        \n",
    "print(f\"Total win %: {wins / n: .2f}\")\n",
    "print(f\"Total time: {time.time() - s}\")"
   ]
  },
  {
   "cell_type": "markdown",
   "id": "27305e77",
   "metadata": {},
   "source": [
    "#### Vectorized Approach:\n",
    "\n",
    "Let's solve in one pass through, should be much faster."
   ]
  },
  {
   "cell_type": "code",
   "execution_count": 2,
   "id": "ecd52cd6",
   "metadata": {},
   "outputs": [
    {
     "name": "stdout",
     "output_type": "stream",
     "text": [
      "Total win %:  0.73\n",
      "Total time: 17.27840805053711\n"
     ]
    }
   ],
   "source": [
    "# build our first full matrix\n",
    "m1 = np.random.randint(0,2,(n,m))\n",
    "w = 0 \n",
    "l = 0 \n",
    "s = time.time()\n",
    "\n",
    "while True:\n",
    "    # we rebuild with original size -> but now let's say that a heads is a 0 so we can keep tabs on remaining. \n",
    "    m2 = np.random.randint(0,2,(n,m))\n",
    "\n",
    "    # A diff of 1 now indicates we still have a heads, anything else indicates a tails. \n",
    "    # We can just keep doing subtraction on a new matrix\n",
    "    # then can do a quick where statement for each row to determine wins or losses \n",
    "    diff = m1 - m2\n",
    "\n",
    "    # find row counts of heads and tails: \n",
    "    heads = np.sum(diff==1, axis=1)\n",
    "    tails = np.sum(diff==0, axis=1)\n",
    "\n",
    "    # find wins: \n",
    "    wins = np.where(heads == 1)\n",
    "    w += wins[0].shape[0] # add wins\n",
    "\n",
    "    # find losses: we need heads to be 0 and we need at least a tails indicating still active\n",
    "    losses = np.where((heads == 0) & (tails > 0))\n",
    "    l += losses[0].shape[0] # add losses\n",
    "\n",
    "    # set all row wins to -1 so we don't recount in losses\n",
    "    diff[wins] = -1\n",
    "    diff[losses] = -1 # same with losses to not double count\n",
    "\n",
    "    if (w + l) == n:\n",
    "        print(f\"Total win %: {w / (w+l): .2f}\")\n",
    "        print(f\"Total time: {time.time() - s}\")\n",
    "        break\n",
    "\n",
    "    # move into another\n",
    "    m1 = diff.copy()"
   ]
  },
  {
   "cell_type": "markdown",
   "id": "4e270920",
   "metadata": {},
   "source": [
    "#### Single Matrix ~10x slower - Why?\n",
    "\n",
    "My assumption is either:\n",
    "- a) I did this incorrectly and am not leaning on vectorization\n",
    "- b) My matrix size is so large and so repetitive that it gets no speed boost from vectorization of matrix. \n",
    "    - I could not think of another way to keep the necessary information, which means instead of whittling down an `n x m` matrix to a smaller set, I just keep doing subtraction on `n x m` matrices, which is going to get pretty memory intensive.\n",
    "    - I think if the `n x m` was small this would outperform the `for loop` approach, but we are dealing with some pretty sizable matrices here (10K x 10K = 100MM elements)\n",
    "    - For now, it seems iteration 10K times of 10K vector that shrinks each step is going to be faster, very surprising. \n",
    "    - Multiprocessing would probably make sense for a problem like this, adding as a TODO.\n",
    "\n",
    "Likely better computational ways to solve this, but for now I will lean on iteration & convergence.\n",
    "\n",
    "### 1 Million Is Too Big To Test In A Loop:\n",
    "\n",
    "1 million takes a lot memory that I don't have & likely requires a smarter approach. I am going to attempt to converge with a fairly large number of flips each game (`5K`), and increment game size by `1000`. \n",
    "\n",
    "Plotting this out, we should be able to see a convergence point. "
   ]
  },
  {
   "cell_type": "code",
   "execution_count": 3,
   "id": "c2fd994a",
   "metadata": {},
   "outputs": [
    {
     "name": "stdout",
     "output_type": "stream",
     "text": [
      "Finished 10000 game iteration in 1.21 seconds\n",
      "Cumulative time: 6.68 seconds\n",
      "Finished 20000 game iteration in 2.43 seconds\n",
      "Cumulative time: 25.57 seconds\n",
      "Finished 30000 game iteration in 3.68 seconds\n",
      "Cumulative time: 56.75 seconds\n",
      "Finished 40000 game iteration in 4.94 seconds\n",
      "Cumulative time: 100.34 seconds\n",
      "Finished 50000 game iteration in 6.21 seconds\n",
      "Cumulative time: 156.62 seconds\n",
      "Finished 60000 game iteration in 7.50 seconds\n",
      "Cumulative time: 226.13 seconds\n",
      "Finished 70000 game iteration in 8.68 seconds\n",
      "Cumulative time: 307.76 seconds\n",
      "Finished 80000 game iteration in 10.31 seconds\n",
      "Cumulative time: 402.48 seconds\n",
      "Finished 90000 game iteration in 11.15 seconds\n",
      "Cumulative time: 508.82 seconds\n",
      "Finished 100000 game iteration in 12.39 seconds\n",
      "Cumulative time: 626.81 seconds\n"
     ]
    }
   ],
   "source": [
    "# we first get idxs for heads\n",
    "results = {}\n",
    "time_res = {}\n",
    "very_start = time.time()\n",
    "n_list = list(range(1_000, 101_000, 1_000)) # total games at once, in steps of 1_000\n",
    "m = 5_000 # flips at once\n",
    "\n",
    "for n in n_list:\n",
    "    wins = 0\n",
    "    s = time.time()\n",
    "    # iterate over each game, will get very slow\n",
    "    for _ in range(n):   \n",
    "        flips = np.random.randint(0,2, size = m)\n",
    "\n",
    "        while True:\n",
    "            # drop any flips that aren't heads (heads = 1)\n",
    "            size = len(flips[np.where(flips == 1)])\n",
    "\n",
    "            if size == 1:\n",
    "                wins += 1\n",
    "                break\n",
    "            if size == 0:\n",
    "                break\n",
    "\n",
    "            # flip again based on remaining heads (1s)\n",
    "            flips = np.random.randint(low = 0, high = 2, size = size)\n",
    "    tot_time = time.time() - s\n",
    "    results[n] = wins\n",
    "    time_res[n] = tot_time\n",
    "    \n",
    "    if n % 10_000 == 0:\n",
    "        print(f\"Finished {n} game iteration in {tot_time:.2f} seconds\")\n",
    "        print(f\"Cumulative time: {time.time() - very_start:.2f} seconds\")"
   ]
  },
  {
   "cell_type": "code",
   "execution_count": 4,
   "id": "2b5ed249",
   "metadata": {},
   "outputs": [
    {
     "data": {
      "image/png": "[encoded data removed]",
      "text/plain": [
       "<Figure size 432x288 with 1 Axes>"
      ]
     },
     "metadata": {
      "needs_background": "light"
     },
     "output_type": "display_data"
    }
   ],
   "source": [
    "# Plot Solutions\n",
    "final_solutions = [round(v/k,3) for k,v in results.items()]\n",
    "plt.plot(results.keys(), final_solutions)\n",
    "plt.xlabel(\"Total Games (Each game 1K flips)\")\n",
    "plt.ylabel(\"Win Probability\")\n",
    "plt.title(\"Lucky Coin Simulation\");"
   ]
  },
  {
   "cell_type": "code",
   "execution_count": 5,
   "id": "522009bb",
   "metadata": {},
   "outputs": [
    {
     "name": "stdout",
     "output_type": "stream",
     "text": [
      "Final converged win probability: 0.72\n"
     ]
    }
   ],
   "source": [
    "# Take mean of last 10 estimates\n",
    "print(f\"Final converged win probability: {round(np.mean(final_solutions[-10:]),2)}\")"
   ]
  }
 ],
 "metadata": {
  "kernelspec": {
   "display_name": "ml",
   "language": "python",
   "name": "ml"
  },
  "language_info": {
   "codemirror_mode": {
    "name": "ipython",
    "version": 3
   },
   "file_extension": ".py",
   "mimetype": "text/x-python",
   "name": "python",
   "nbconvert_exporter": "python",
   "pygments_lexer": "ipython3",
   "version": "3.9.2"
  }
 },
 "nbformat": 4,
 "nbformat_minor": 5
}
