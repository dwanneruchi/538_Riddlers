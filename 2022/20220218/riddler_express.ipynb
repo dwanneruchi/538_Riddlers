{
 "cells": [
  {
   "cell_type": "markdown",
   "id": "02164272",
   "metadata": {},
   "source": [
    "### Riddler Express\n",
    "\n",
    "It’s time for a random number duel! You and I will both use random number generators, which should give you random real numbers between 0 and 1. Whoever’s number is greater wins the duel!\n",
    "\n",
    "There’s just one problem. I’ve hacked your random number generator. Instead of giving you a random number between 0 and 1, it gives you a random number between 0.1 and 0.8.\n",
    "\n",
    "What are your chances of winning the duel?\n",
    "\n",
    "#### computational solution\n",
    "\n",
    "Numpy is so nice, can't believe I can check 1 billion in a bit over 2 minutes."
   ]
  },
  {
   "cell_type": "code",
   "execution_count": 1,
   "id": "3340a157",
   "metadata": {},
   "outputs": [
    {
     "name": "stdout",
     "output_type": "stream",
     "text": [
      "With n=1000 I win 43.40 % of the time\n",
      "Total time: 0.00010\n",
      "With n=10000 I win 45.81 % of the time\n",
      "Total time: 0.00033\n",
      "With n=100000 I win 45.06 % of the time\n",
      "Total time: 0.00144\n",
      "With n=1000000 I win 45.05 % of the time\n",
      "Total time: 0.01409\n",
      "With n=10000000 I win 44.98 % of the time\n",
      "Total time: 0.14567\n",
      "With n=100000000 I win 45.00 % of the time\n",
      "Total time: 1.40284\n",
      "With n=500000000 I win 45.00 % of the time\n",
      "Total time: 12.09433\n",
      "With n=1000000000 I win 45.00 % of the time\n",
      "Total time: 138.00711\n"
     ]
    }
   ],
   "source": [
    "import numpy as np \n",
    "import time \n",
    "\n",
    "n_list = [1_000, 10_000, 100_000, 1_000_000, 10_000_000, 100_000_000, 500_000_000, 1_000_000_000] \n",
    "\n",
    "for n in n_list:\n",
    "\n",
    "    s = time.time()\n",
    "\n",
    "    # build guesses based on n\n",
    "    your_guess = np.random.uniform(0,1, size = n)\n",
    "    my_guess = np.random.uniform(0.1,0.8, size = n)\n",
    "\n",
    "    # determine wins\n",
    "    w = len(my_guess[np.where(my_guess > your_guess)])\n",
    "    print(f\"With n={n} I win {100 * w/len(your_guess):.2f} % of the time\")\n",
    "    print(f\"Total time: {time.time() - s:.5f}\")"
   ]
  },
  {
   "cell_type": "markdown",
   "id": "f8680948",
   "metadata": {},
   "source": [
    "#### Analytical Solution:\n",
    "\n",
    "I assume a `uniform` random number generator, which seems fair! Given the uniform property:\n",
    "\n",
    "- 0 - 0.1: I win, this happens 10% of opponent's time\n",
    "- 0.8 - 1: I lose, this happens 20% of opponent's time\n",
    "- 0.1 - 0.8: Opponent win's 50% of these, so 35% of total go to me\n",
    "\n",
    "$P(me > opp) = 0.1 + \\frac{0.7}{2} = 0.45$"
   ]
  }
 ],
 "metadata": {
  "kernelspec": {
   "display_name": "ml",
   "language": "python",
   "name": "ml"
  },
  "language_info": {
   "codemirror_mode": {
    "name": "ipython",
    "version": 3
   },
   "file_extension": ".py",
   "mimetype": "text/x-python",
   "name": "python",
   "nbconvert_exporter": "python",
   "pygments_lexer": "ipython3",
   "version": "3.9.2"
  }
 },
 "nbformat": 4,
 "nbformat_minor": 5
}
