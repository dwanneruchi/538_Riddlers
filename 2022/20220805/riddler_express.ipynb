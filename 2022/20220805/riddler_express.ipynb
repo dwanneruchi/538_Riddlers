{
 "cells": [
  {
   "cell_type": "markdown",
   "id": "cab23d2a",
   "metadata": {},
   "source": [
    "### Aug 5th, Riddler Express:\n",
    "\n",
    "From Michael Branicky comes a puzzle that was inspired by an email thread from James Propp:\n",
    "\n",
    "Suppose you roll a fair six-sided die on a ridged gnocchi board, such that two adjacent faces come up every time.\n",
    "\n",
    "On average, what is the sum of the numbers shown on those two faces?\n",
    "\n",
    "#### Solution Overview: \n",
    "\n",
    "- Non-adjacencies: 1 & 6, 2 & 5, 3 & 4\n",
    "- Can build out all possible adjacent sums per roll\n",
    "- We know each side is going to have 4 possible sums based on 4 adjacent points\n",
    "- This means we can get an expected value of the sums by:\n",
    "    - Each side has a 1/6 likelihood of being rolled\n",
    "    - Assuming a roll, there are 1/4 likelihood of a certain sum\n",
    "    - Find all possible sums, add together, and multiply by (1/24)"
   ]
  },
  {
   "cell_type": "code",
   "execution_count": 1,
   "id": "74b45e82",
   "metadata": {},
   "outputs": [
    {
     "data": {
      "text/plain": [
       "7.0"
      ]
     },
     "execution_count": 1,
     "metadata": {},
     "output_type": "execute_result"
    }
   ],
   "source": [
    "# adjacent sides\n",
    "def adjacent(r):\n",
    "    \"\"\"\n",
    "    Build all possible adjacent sums  for r under\n",
    "    assumptions that the following aren't adjacent:\n",
    "    - 1, 6\n",
    "    - 2, 5\n",
    "    - 3, 4\n",
    "    \"\"\"\n",
    "    if r in (1,6):\n",
    "        return [r + x for x in [2,3,4,5]]\n",
    "    elif r in (2,5):\n",
    "        return [r + x for x in [1,3,4,6]]\n",
    "    else:\n",
    "        return [r + x for x in [1,2,5,6]]\n",
    "\n",
    "# die faces\n",
    "sides = list(range(1,7))\n",
    "\n",
    "# we now solve for each roll, which is (1/6) and each possible adjacent sum (1/4)\n",
    "possible_adjs = [adjacent(r) for r in sides]\n",
    "sum([item for items in possible_adjs for item in items]) * (1/24)"
   ]
  },
  {
   "cell_type": "code",
   "execution_count": 2,
   "id": "badf2b71",
   "metadata": {},
   "outputs": [
    {
     "data": {
      "text/plain": [
       "7.0"
      ]
     },
     "execution_count": 2,
     "metadata": {},
     "output_type": "execute_result"
    }
   ],
   "source": [
    "# cleaner:\n",
    "def adjacent(r, start = 0):\n",
    "    \"\"\"\n",
    "    Non-adjacent sides sum to 7: Output partial EV\n",
    "    \"\"\"\n",
    "    while True:\n",
    "        start += 1\n",
    "        if (r + start) == 7:\n",
    "            break\n",
    "    \n",
    "    # Find adjacent side & sum with roll\n",
    "    adj = [x + r for x in range(1,7) if x not in [r, start]]\n",
    "        \n",
    "    return sum(adj)/4\n",
    "\n",
    "sum([adjacent(r) for r in list(range(1,7))]) / 6"
   ]
  }
 ],
 "metadata": {
  "kernelspec": {
   "display_name": "ml",
   "language": "python",
   "name": "ml"
  },
  "language_info": {
   "codemirror_mode": {
    "name": "ipython",
    "version": 3
   },
   "file_extension": ".py",
   "mimetype": "text/x-python",
   "name": "python",
   "nbconvert_exporter": "python",
   "pygments_lexer": "ipython3",
   "version": "3.9.2"
  }
 },
 "nbformat": 4,
 "nbformat_minor": 5
}
