{
 "cells": [
  {
   "cell_type": "markdown",
   "id": "6a322b84",
   "metadata": {},
   "source": [
    "### Riddler Express:\n",
    "\n",
    "Trapezoidal numbers are whole numbers that can be written as the sum of two or more consecutive positive integers. For example, 9 is a trapezoidal number because it can be written as 2+3+4. In fact, 9 is doubly trapezoidal because it can also be written as 4+5. (By the way, triangular numbers are also trapezoidal. I’m a fan of inclusive definitions like these.)\n",
    "\n",
    "What is the smallest number that is triply trapezoidal, meaning it is trapezoidal in three different ways?\n",
    "\n",
    "```\n",
    "15: {1+2+3+4+5}, {4,5,6}, {7,8}\n",
    "```\n",
    "\n",
    "Shoutout to this Stack post: https://stackoverflow.com/questions/42540098/combine-accumulate-and-takewhile\n",
    "\n",
    "I knew I wanted to combine takewhile and accumulate to solve this, but was not sure HOW to effectively do that."
   ]
  },
  {
   "cell_type": "code",
   "execution_count": 1,
   "id": "8b45959a",
   "metadata": {},
   "outputs": [],
   "source": [
    "import numpy as np\n",
    "from itertools import takewhile, accumulate"
   ]
  },
  {
   "cell_type": "code",
   "execution_count": 2,
   "id": "3d4a2881",
   "metadata": {},
   "outputs": [
    {
     "name": "stdout",
     "output_type": "stream",
     "text": [
      "Found 3 trapezoidals for 15\n"
     ]
    }
   ],
   "source": [
    "run = True\n",
    "z = 9\n",
    "while run:\n",
    "    n = 0\n",
    "    for i in range(1,z):\n",
    "        n += sum(1 for _ in takewhile(lambda a: a <= z, accumulate(range(i, z))) if _ == z)\n",
    "        if n > 2:\n",
    "            print(f\"Found {n} trapezoidals for {z}\")\n",
    "            run = False\n",
    "            break\n",
    "\n",
    "    # update z\n",
    "    z += 1"
   ]
  },
  {
   "cell_type": "markdown",
   "id": "65d1fce1",
   "metadata": {},
   "source": [
    "### Solve Extra Credit:\n",
    "\n",
    "Extra credit: What is the smallest number that is quadruply trapezoidal? Quintuply trapezoidal? Sextuply trapezoidal? \n",
    "\n",
    "4 & 5 are both 45:\n",
    "\n",
    "```\n",
    "45: {22,23}, {[1,2,3,4,5,6,7,8,9]}, {5,6,7,8,9,10}, {7,8,9,10,11}, {14,15,16}\n",
    "```\n",
    "\n",
    "6 & 7 are both 105\n",
    "\n",
    "```\n",
    "(1-14), (6-15), (12-18), (15-20), (19-23), (34-36), (52,52)\n",
    "```\n",
    "\n",
    "Not going to write out anymore but used the following code to track starting number for above sequences:\n",
    "\n",
    "```python\n",
    "z = 105 # trapezoidal number being reviewed\n",
    "for i in range(1,z):\n",
    "    out = [i for _ in takewhile(lambda a: a <= z, accumulate(range(i, z))) if _ == z] # convert to list & print\n",
    "    if len(out) > 0:\n",
    "        print(out)\n",
    "```"
   ]
  },
  {
   "cell_type": "code",
   "execution_count": 3,
   "id": "6d2e579a",
   "metadata": {},
   "outputs": [
    {
     "name": "stdout",
     "output_type": "stream",
     "text": [
      "Exceeded 2 trapezoidals for 9, with 2 total\n",
      "Exceeded 3 trapezoidals for 15, with 3 total\n",
      "Exceeded 4 trapezoidals for 45, with 5 total\n",
      "Exceeded 5 trapezoidals for 45, with 5 total\n",
      "Exceeded 6 trapezoidals for 105, with 7 total\n",
      "Exceeded 7 trapezoidals for 105, with 7 total\n",
      "Exceeded 8 trapezoidals for 225, with 8 total\n",
      "Exceeded 9 trapezoidals for 315, with 11 total\n",
      "Exceeded 10 trapezoidals for 315, with 11 total\n",
      "Exceeded 11 trapezoidals for 315, with 11 total\n",
      "Exceeded 12 trapezoidals for 945, with 15 total\n",
      "Exceeded 13 trapezoidals for 945, with 15 total\n",
      "Exceeded 14 trapezoidals for 945, with 15 total\n",
      "Exceeded 15 trapezoidals for 945, with 15 total\n",
      "Exceeded 16 trapezoidals for 1575, with 17 total\n",
      "Exceeded 17 trapezoidals for 1575, with 17 total\n",
      "Exceeded 18 trapezoidals for 2835, with 19 total\n",
      "Exceeded 19 trapezoidals for 2835, with 19 total\n",
      "Exceeded 20 trapezoidals for 3465, with 23 total\n"
     ]
    }
   ],
   "source": [
    "# Solve for 2-20\n",
    "checks = list(range(2,21))\n",
    "z = 1\n",
    "for trap in checks:\n",
    "    run = True\n",
    "    while run:\n",
    "        n = 0\n",
    "        for i in range(1,z):\n",
    "            n += sum(1 for _ in takewhile(lambda a: a <= z, accumulate(range(i, z))) if _ == z)\n",
    "        if n >= trap:\n",
    "            print(f\"Exceeded {trap} trapezoidals for {z}, with {n} total\")\n",
    "            run = False\n",
    "            z -= 1 # allow us to try the same value again (if it is the lowest for trap and trap + 1)\n",
    "            break\n",
    "\n",
    "        # update z; we catch this in the break above even with a solution\n",
    "        z += 1"
   ]
  }
 ],
 "metadata": {
  "kernelspec": {
   "display_name": "ml",
   "language": "python",
   "name": "ml"
  },
  "language_info": {
   "codemirror_mode": {
    "name": "ipython",
    "version": 3
   },
   "file_extension": ".py",
   "mimetype": "text/x-python",
   "name": "python",
   "nbconvert_exporter": "python",
   "pygments_lexer": "ipython3",
   "version": "3.9.2"
  }
 },
 "nbformat": 4,
 "nbformat_minor": 5
}
