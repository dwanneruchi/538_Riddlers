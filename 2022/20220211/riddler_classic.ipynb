{
 "cells": [
  {
   "cell_type": "markdown",
   "id": "a0b755eb",
   "metadata": {},
   "source": [
    "### Riddler Classic\n",
    "\n",
    "From Dean Ballard comes a cubical conundrum:\n",
    "\n",
    "Consider a cube, which has eight vertices, or corners. Suppose I assign a prime number to each vertex. A “face sum” is the value I get when I add up all four prime numbers on one of the six faces.\n",
    "\n",
    "Can you find eight distinct primes and arrange them on a cube so that the six face sums are all equal?\n",
    "\n",
    "### Overview of Solution\n",
    "\n",
    "Thinking about this as a list of vertices: `a,b,c,d,e,f,g,h`\n",
    "\n",
    "`face 1:`\n",
    "```\n",
    "a,b\n",
    "c,d\n",
    "```\n",
    "\n",
    "`face 2:`\n",
    "```\n",
    "e,f\n",
    "g,h\n",
    "```\n",
    "\n",
    "Just need to determine where the following is true: \n",
    "\n",
    "- sum(a,b,c,d) = sum(e,f,g,h) = sum(a,b,e,f) = sum(c,d,g,h) = sum(b,d,f,h) = sum(a,c,e,g)\n",
    "\n",
    "My process is to:\n",
    "- take a set of prime numbers (index 0 -> index i)\n",
    "- use `permutations` from itertools to find all possible arrangements of the vertices (size of 8)\n",
    "- determine if all faces are equivalent or not"
   ]
  },
  {
   "cell_type": "code",
   "execution_count": 1,
   "id": "4646cfbc",
   "metadata": {},
   "outputs": [],
   "source": [
    "from itertools import permutations\n",
    "import numpy as np\n",
    "import time\n",
    "\n",
    "# ripped from stack: https://stackoverflow.com/questions/11619942/print-series-of-prime-numbers-in-python\n",
    "prime_list = []\n",
    "for num in range(2,101):\n",
    "    prime = True\n",
    "    for i in range(2,num):\n",
    "        if (num%i==0):\n",
    "            prime = False\n",
    "    if prime:\n",
    "        prime_list.append(num)\n",
    "        \n",
    "def checkVerts(v):\n",
    "    \"\"\"\n",
    "        Calculate sum of vertices of each face\n",
    "        Return number of distinct sums and first face sum (only used when all equal)\n",
    "    \"\"\"\n",
    "    v1 = sum(v[:4])\n",
    "    v2 = sum(v[4:])\n",
    "    v3 = v[0] + v[1] + v[4] + v[5]\n",
    "    v4 = v[2] + v[3] + v[6] + v[7]\n",
    "    v5 = v[1] + v[3] + v[5] + v[7]\n",
    "    v6 = v[0] + v[2] + v[4] + v[6]\n",
    "    \n",
    "    return len(set([v1,v2,v3,v4,v5,v6])), v1"
   ]
  },
  {
   "cell_type": "code",
   "execution_count": 2,
   "id": "2d3ff5cd",
   "metadata": {},
   "outputs": [
    {
     "name": "stdout",
     "output_type": "stream",
     "text": [
      "8\n",
      "9\n",
      "10\n",
      "11\n",
      "(3, 13, 19, 29, 31, 17, 11, 5), sums to 64\n"
     ]
    }
   ],
   "source": [
    "i = 8\n",
    "run = True\n",
    "while run:\n",
    "    print(i)\n",
    "    primes = prime_list[:i]\n",
    "    for v in permutations(primes, 8):\n",
    "        dist, sum_v = checkVerts(v)\n",
    "        if dist == 1:\n",
    "            print(f\"{v}, sums to {sum_v}\")\n",
    "            run = False\n",
    "            break\n",
    "    \n",
    "    # update i\n",
    "    i += 1"
   ]
  },
  {
   "cell_type": "markdown",
   "id": "6f55cd92",
   "metadata": {},
   "source": [
    "#### Solution:\n",
    "\n",
    "`face 1:`\n",
    "```\n",
    "a = 3, b = 13\n",
    "c = 19, d = 29\n",
    "```\n",
    "\n",
    "`face 2:`\n",
    "```\n",
    "e = 31, f = 17\n",
    "g = 11, h = 5\n",
    "```\n",
    "\n",
    "Sum to 64"
   ]
  },
  {
   "cell_type": "markdown",
   "id": "fc9c4d43",
   "metadata": {},
   "source": [
    "### Extra Credit:\n",
    "\n",
    "Extra credit: Can you find another set of eight distinct primes that can similarly be arranged on the vertices of a cube? How many more can you find?\n",
    "\n",
    "Able to find quite a bit"
   ]
  },
  {
   "cell_type": "code",
   "execution_count": 3,
   "id": "765536b7",
   "metadata": {},
   "outputs": [
    {
     "name": "stdout",
     "output_type": "stream",
     "text": [
      "On step 8, total time: 0.00\n",
      "On step 9, total time: 0.04\n",
      "On step 10, total time: 0.36\n",
      "On step 11, total time: 1.99\n",
      "On step 12, total time: 7.92\n",
      "On step 13, total time: 25.92\n",
      "On step 14, total time: 72.95\n",
      "On step 15, total time: 182.97\n",
      "Total time: 418.53\n",
      "Sum of 64 with vertices of (31, 17, 11, 5, 3, 13, 19, 29)\n",
      "Sum of 66 with vertices of (31, 17, 11, 7, 5, 13, 19, 29)\n",
      "Sum of 72 with vertices of (37, 17, 7, 11, 5, 13, 23, 31)\n",
      "Sum of 76 with vertices of (43, 17, 11, 5, 3, 13, 19, 41)\n",
      "Sum of 78 with vertices of (43, 17, 11, 7, 5, 13, 19, 41)\n",
      "Sum of 80 with vertices of (41, 19, 13, 7, 3, 17, 23, 37)\n",
      "Sum of 82 with vertices of (47, 17, 7, 11, 5, 13, 23, 41)\n",
      "Sum of 84 with vertices of (43, 23, 7, 11, 5, 13, 29, 37)\n",
      "Sum of 86 with vertices of (47, 19, 13, 7, 3, 17, 23, 43)\n",
      "Sum of 88 with vertices of (47, 23, 7, 11, 5, 13, 29, 41)\n",
      "Sum of 90 with vertices of (47, 19, 13, 11, 7, 17, 23, 43)\n",
      "Sum of 92 with vertices of (43, 13, 7, 29, 5, 31, 37, 19)\n",
      "Sum of 94 with vertices of (47, 23, 13, 11, 5, 19, 29, 41)\n",
      "Sum of 96 with vertices of (47, 31, 7, 11, 5, 13, 37, 41)\n",
      "Sum of 98 with vertices of (47, 31, 7, 13, 3, 17, 41, 37)\n",
      "Sum of 100 with vertices of (47, 23, 13, 17, 11, 19, 29, 41)\n",
      "Sum of 102 with vertices of (47, 37, 7, 11, 5, 13, 43, 41)\n",
      "Sum of 104 with vertices of (47, 37, 13, 7, 3, 17, 41, 43)\n",
      "Sum of 106 with vertices of (47, 31, 17, 11, 5, 23, 37, 41)\n",
      "Sum of 108 with vertices of (47, 37, 13, 11, 7, 17, 41, 43)\n",
      "Sum of 110 with vertices of (47, 37, 19, 7, 3, 23, 41, 43)\n",
      "Sum of 112 with vertices of (47, 37, 17, 11, 5, 23, 43, 41)\n",
      "Sum of 114 with vertices of (47, 37, 19, 11, 7, 23, 41, 43)\n",
      "Sum of 118 with vertices of (47, 37, 23, 11, 5, 29, 43, 41)\n",
      "Sum of 120 with vertices of (47, 37, 23, 13, 7, 29, 43, 41)\n",
      "Sum of 124 with vertices of (47, 37, 23, 17, 11, 29, 43, 41)\n",
      "Sum of 126 with vertices of (47, 37, 23, 19, 13, 29, 43, 41)\n"
     ]
    }
   ],
   "source": [
    "i = 8\n",
    "winning_set = {}\n",
    "s = time.time()\n",
    "while i < 16:\n",
    "    print(f\"On step {i}, total time: {time.time() - s:.2f}\")\n",
    "    primes = prime_list[:i]\n",
    "    for v in permutations(primes, 8):\n",
    "        dist, sum_v = checkVerts(v)\n",
    "        if dist == 1:\n",
    "            winning_set[sum_v] = v\n",
    "    \n",
    "    # update i\n",
    "    i += 1\n",
    "print(f\"Total time: {time.time() - s:.2f}\")\n",
    "\n",
    "for key in sorted(winning_set):\n",
    "    print(f\"Sum of {key} with vertices of {winning_set[key]}\")"
   ]
  }
 ],
 "metadata": {
  "kernelspec": {
   "display_name": "ml",
   "language": "python",
   "name": "ml"
  },
  "language_info": {
   "codemirror_mode": {
    "name": "ipython",
    "version": 3
   },
   "file_extension": ".py",
   "mimetype": "text/x-python",
   "name": "python",
   "nbconvert_exporter": "python",
   "pygments_lexer": "ipython3",
   "version": "3.9.2"
  }
 },
 "nbformat": 4,
 "nbformat_minor": 5
}
