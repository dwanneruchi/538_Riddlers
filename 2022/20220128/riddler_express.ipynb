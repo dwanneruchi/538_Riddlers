{
 "cells": [
  {
   "cell_type": "markdown",
   "id": "55bc463f",
   "metadata": {},
   "source": [
    "### Riddler Express\n",
    "\n",
    "Start with 5 highlighted squares on an `infinite` board!\n",
    "\n",
    "To go from one generation to the next, you consider every square’s eight neighbors (up, down, left, right and the four diagonal directions). If at least three of those squares are shaded, in the previous iteration, that square will be shaded in the next generation.\n",
    "\n",
    "How many squares will be shaded in generation 10?\n",
    "\n"
   ]
  },
  {
   "cell_type": "code",
   "execution_count": 1,
   "id": "e3e8755e",
   "metadata": {},
   "outputs": [
    {
     "name": "stdout",
     "output_type": "stream",
     "text": [
      "[[0. 0. 0. 0. 0. 0. 0. 0. 0.]\n",
      " [0. 0. 0. 0. 0. 0. 0. 0. 0.]\n",
      " [0. 0. 0. 0. 0. 0. 0. 0. 0.]\n",
      " [0. 0. 0. 0. 1. 0. 0. 0. 0.]\n",
      " [0. 0. 0. 1. 1. 1. 0. 0. 0.]\n",
      " [0. 0. 0. 0. 1. 0. 0. 0. 0.]\n",
      " [0. 0. 0. 0. 0. 0. 0. 0. 0.]\n",
      " [0. 0. 0. 0. 0. 0. 0. 0. 0.]\n",
      " [0. 0. 0. 0. 0. 0. 0. 0. 0.]]\n"
     ]
    }
   ],
   "source": [
    "import numpy as np\n",
    "\n",
    "# build initial state (gen 1)\n",
    "matrix = np.zeros((9,9)) # start with 0s\n",
    "overwrite = [(4,3), (4,4), (4,5), (3,4), (5,4)]\n",
    "for idx in overwrite:\n",
    "    matrix[idx] = 1\n",
    "\n",
    "print(matrix)"
   ]
  },
  {
   "cell_type": "code",
   "execution_count": 2,
   "id": "5134f457",
   "metadata": {},
   "outputs": [],
   "source": [
    "def searchNeighbors(idx, m) -> int:\n",
    "    \"\"\"Pass in index and check if >= 3 neighbors are 1\"\"\"\n",
    "    i,j = idx\n",
    "    elements = [m[i, j-1], m[i-1, j], m[i+1, j], m[i, j+1],\n",
    "                m[i-1, j-1], m[i-1, j+1], m[i+1, j-1], m[i+1, j+1]\n",
    "               ]\n",
    "    \n",
    "    # check if v > any surrounding vals\n",
    "    g = len([e for e in elements if e])\n",
    "    \n",
    "    if g >= 3:\n",
    "        return 1\n",
    "    return 0\n",
    "\n",
    "assert(searchNeighbors((4,4), matrix) == 1) #center has 4, so should return a 1\n",
    "assert(searchNeighbors((3,3), matrix) == 1) #(3,3) was 0, but switches to 1\n",
    "assert(searchNeighbors((0,0), matrix) == 0) #(0,0) was 0, and stays 0"
   ]
  },
  {
   "cell_type": "code",
   "execution_count": 3,
   "id": "c10c6da9",
   "metadata": {},
   "outputs": [],
   "source": [
    "def fullSearch(m):\n",
    "    \"\"\"Pass in matrix, pad with 0s for easier index, and search over all\"\"\"\n",
    "    m_pad = np.pad(m, pad_width=1, mode = 'constant', constant_values = 0)\n",
    "    row = m.shape[0]\n",
    "    col = m.shape[1]\n",
    "    update = []\n",
    "    for i in range(1,row+1):\n",
    "        for j in range(1,col+1):\n",
    "            if searchNeighbors((i,j), m_pad):\n",
    "                update.append((i,j))\n",
    "    for idx in update:\n",
    "        m_pad[idx] = 1\n",
    "    \n",
    "    return m_pad\n",
    "\n",
    "assert(np.sum(fullSearch(matrix)) == 9)"
   ]
  },
  {
   "cell_type": "code",
   "execution_count": 4,
   "id": "5c401a01",
   "metadata": {},
   "outputs": [
    {
     "name": "stdout",
     "output_type": "stream",
     "text": [
      "Total shaded in generation 1: 5.0\n",
      "Total shaded in generation 2: 9.0\n",
      "Total shaded in generation 3: 13.0\n",
      "Total shaded in generation 4: 21.0\n",
      "Total shaded in generation 5: 29.0\n",
      "Total shaded in generation 6: 37.0\n",
      "Total shaded in generation 7: 49.0\n",
      "Total shaded in generation 8: 61.0\n",
      "Total shaded in generation 9: 73.0\n",
      "Total shaded in generation 10: 89.0\n"
     ]
    }
   ],
   "source": [
    "n = 10\n",
    "for i in range(1,n+1):\n",
    "    print(f\"Total shaded in generation {i}: {np.sum(matrix)}\")\n",
    "    matrix = fullSearch(matrix)"
   ]
  },
  {
   "cell_type": "markdown",
   "id": "7393ad7f",
   "metadata": {},
   "source": [
    "### Extra Credit:\n",
    "\n",
    "Extra credit: As N gets very, very large, approximately how many squares will be shaded in generation N (in terms of N)?\n",
    "\n",
    "Need to rebuild, much too slow now"
   ]
  },
  {
   "cell_type": "code",
   "execution_count": 5,
   "id": "69ea0df8",
   "metadata": {},
   "outputs": [
    {
     "name": "stdout",
     "output_type": "stream",
     "text": [
      "Total shaded in generation 1: 5.0\n",
      "Total shaded in generation 2: 9\n",
      "Total shaded in generation 3: 13\n",
      "Total shaded in generation 4: 21\n",
      "Total shaded in generation 5: 29\n",
      "Total shaded in generation 6: 37\n",
      "Total shaded in generation 7: 49\n",
      "Total shaded in generation 8: 61\n",
      "Total shaded in generation 9: 73\n",
      "Total shaded in generation 10: 89\n"
     ]
    }
   ],
   "source": [
    "### rerun first 10 to confirm approach\n",
    "arr = np.zeros((9,9)) # start with 0s\n",
    "overwrite = [(4,3), (4,4), (4,5), (3,4), (5,4)]\n",
    "for idx in overwrite:\n",
    "    arr[idx] = 1\n",
    "\n",
    "### gen\n",
    "gen = 10\n",
    "\n",
    "for i in range(1,gen+1):\n",
    "    print(f\"Total shaded in generation {i}: {np.sum(arr)}\")\n",
    "    arr = np.pad(arr, pad_width=1, mode = 'constant', constant_values = 0)\n",
    "    r,c = arr.shape\n",
    "    empty_arr = np.zeros((r,c))\n",
    "\n",
    "    # rows\n",
    "    empty_arr[1:] += arr[:r-1] # same as summing row above (i - 1, j)\n",
    "    empty_arr[:r-1] += arr[1:r] # same as summing row below (i + 1, j)\n",
    "\n",
    "    # cols\n",
    "    empty_arr[:, 1:] += arr[:, :c-1] # same as summing left col (i, j - 1)\n",
    "    empty_arr[:, :c-1] += arr[:, 1:c] # same as summing right col (i, j + 1)\n",
    "\n",
    "    # diag down-right\n",
    "    empty_arr[:r-1, :c-1] += arr[1:r, 1:c] \n",
    "\n",
    "    # diag up-right\n",
    "    empty_arr[1:, :c-1] += arr[:r-1, 1:c] \n",
    "\n",
    "    # diag down-left\n",
    "    empty_arr[:r-1, 1:] += arr[1:r, :c-1] \n",
    "\n",
    "    # diag down-right\n",
    "    empty_arr[1:, 1:] += arr[:r-1, :c-1] \n",
    "\n",
    "    # rewrite as 1 where >= 3, else 0 -> overwrite\n",
    "    arr = np.where(empty_arr >= 3 , 1, 0)"
   ]
  },
  {
   "cell_type": "code",
   "execution_count": 6,
   "id": "028d3f6a",
   "metadata": {},
   "outputs": [
    {
     "name": "stdout",
     "output_type": "stream",
     "text": [
      "Total shaded in generation 400: 107469\n",
      "Total time: 0.78\n",
      "Total shaded in generation 800: 428269\n",
      "Total time: 7.6\n",
      "Total shaded in generation 1200: 962401\n",
      "Total time: 2.6e+01\n",
      "Total shaded in generation 1600: 1709869\n",
      "Total time: 6.1e+01\n",
      "Total shaded in generation 2000: 2670669\n",
      "Total time: 1.2e+02\n"
     ]
    }
   ],
   "source": [
    "### rerun first 10\n",
    "import time\n",
    "arr = np.zeros((9,9)) # start with 0s\n",
    "overwrite = [(4,3), (4,4), (4,5), (3,4), (5,4)]\n",
    "for idx in overwrite:\n",
    "    arr[idx] = 1\n",
    "\n",
    "### gen\n",
    "gen = 2_000\n",
    "start = time.time()\n",
    "\n",
    "### store output:\n",
    "sum_n = []\n",
    "\n",
    "for i in range(1,gen+1):\n",
    "    if i % 400 == 0:\n",
    "        print(f\"Total shaded in generation {i}: {np.sum(arr)}\")\n",
    "        print(f\"Total time: {time.time() - start:.2}\")\n",
    "    \n",
    "    # add sum relative to n\n",
    "    sum_n.append(np.sum(arr))\n",
    "        \n",
    "    # pad and solve\n",
    "    arr = np.pad(arr, pad_width=1, mode = 'constant', constant_values = 0)\n",
    "    r,c = arr.shape\n",
    "    empty_arr = np.zeros((r,c))\n",
    "\n",
    "    # rows\n",
    "    empty_arr[1:] += arr[:r-1] # same as summing row above (i - 1, j)\n",
    "    empty_arr[:r-1] += arr[1:r] # same as summing row below (i + 1, j)\n",
    "\n",
    "    # cols\n",
    "    empty_arr[:, 1:] += arr[:, :c-1] # same as summing left col (i, j - 1)\n",
    "    empty_arr[:, :c-1] += arr[:, 1:c] # same as summing right col (i, j + 1)\n",
    "\n",
    "    # diag down-right\n",
    "    empty_arr[:r-1, :c-1] += arr[1:r, 1:c] \n",
    "\n",
    "    # diag up-right\n",
    "    empty_arr[1:, :c-1] += arr[:r-1, 1:c] \n",
    "\n",
    "    # diag down-left\n",
    "    empty_arr[:r-1, 1:] += arr[1:r, :c-1] \n",
    "\n",
    "    # diag down-right\n",
    "    empty_arr[1:, 1:] += arr[:r-1, :c-1] \n",
    "\n",
    "    # rewrite as 1 where >= 3, else 0 -> overwrite\n",
    "    arr = np.where(empty_arr >= 3 , 1, 0)"
   ]
  },
  {
   "cell_type": "code",
   "execution_count": 7,
   "id": "7fde35b9",
   "metadata": {},
   "outputs": [
    {
     "name": "stdout",
     "output_type": "stream",
     "text": [
      "0.89\n",
      "0.6869\n",
      "0.676725\n",
      "0.670676\n",
      "0.668669\n",
      "0.6680004444444444\n",
      "0.66766725\n"
     ]
    }
   ],
   "source": [
    "for i in [10,100,200, 500,1000,1500, 2000]:\n",
    "    print(sum_n[i-1] / (i**2))"
   ]
  }
 ],
 "metadata": {
  "kernelspec": {
   "display_name": "ml",
   "language": "python",
   "name": "ml"
  },
  "language_info": {
   "codemirror_mode": {
    "name": "ipython",
    "version": 3
   },
   "file_extension": ".py",
   "mimetype": "text/x-python",
   "name": "python",
   "nbconvert_exporter": "python",
   "pygments_lexer": "ipython3",
   "version": "3.9.2"
  }
 },
 "nbformat": 4,
 "nbformat_minor": 5
}
