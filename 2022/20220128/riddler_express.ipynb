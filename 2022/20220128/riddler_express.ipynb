{
 "cells": [
  {
   "cell_type": "markdown",
   "id": "55bc463f",
   "metadata": {},
   "source": [
    "### Riddler Express\n",
    "\n",
    "Start with 5 highlighted squares on an `infinite` board!\n",
    "\n",
    "To go from one generation to the next, you consider every square’s eight neighbors (up, down, left, right and the four diagonal directions). If at least three of those squares are shaded, in the previous iteration, that square will be shaded in the next generation.\n",
    "\n",
    "How many squares will be shaded in generation 10?\n",
    "\n"
   ]
  },
  {
   "cell_type": "code",
   "execution_count": 1,
   "id": "e3e8755e",
   "metadata": {},
   "outputs": [
    {
     "name": "stdout",
     "output_type": "stream",
     "text": [
      "[[0. 0. 0. 0. 0. 0. 0. 0. 0.]\n",
      " [0. 0. 0. 0. 0. 0. 0. 0. 0.]\n",
      " [0. 0. 0. 0. 0. 0. 0. 0. 0.]\n",
      " [0. 0. 0. 0. 1. 0. 0. 0. 0.]\n",
      " [0. 0. 0. 1. 1. 1. 0. 0. 0.]\n",
      " [0. 0. 0. 0. 1. 0. 0. 0. 0.]\n",
      " [0. 0. 0. 0. 0. 0. 0. 0. 0.]\n",
      " [0. 0. 0. 0. 0. 0. 0. 0. 0.]\n",
      " [0. 0. 0. 0. 0. 0. 0. 0. 0.]]\n"
     ]
    }
   ],
   "source": [
    "import numpy as np\n",
    "import time \n",
    "\n",
    "# build initial state (gen 1)\n",
    "matrix = np.zeros((9,9)) # start with 0s\n",
    "overwrite = [(4,3), (4,4), (4,5), (3,4), (5,4)]\n",
    "for idx in overwrite:\n",
    "    matrix[idx] = 1\n",
    "\n",
    "print(matrix)"
   ]
  },
  {
   "cell_type": "code",
   "execution_count": 2,
   "id": "5134f457",
   "metadata": {},
   "outputs": [],
   "source": [
    "def searchNeighbors(idx, m) -> int:\n",
    "    \"\"\"Pass in index and check if >= 3 neighbors are 1\"\"\"\n",
    "    i,j = idx\n",
    "    elements = [m[i, j-1], m[i-1, j], m[i+1, j], m[i, j+1],\n",
    "                m[i-1, j-1], m[i-1, j+1], m[i+1, j-1], m[i+1, j+1]\n",
    "               ]\n",
    "    \n",
    "    # check if v > any surrounding vals\n",
    "    g = len([e for e in elements if e])\n",
    "    \n",
    "    if g >= 3:\n",
    "        return 1\n",
    "    return 0\n",
    "\n",
    "assert(searchNeighbors((4,4), matrix) == 1) #center has 4, so should return a 1\n",
    "assert(searchNeighbors((3,3), matrix) == 1) #(3,3) was 0, but switches to 1\n",
    "assert(searchNeighbors((0,0), matrix) == 0) #(0,0) was 0, and stays 0"
   ]
  },
  {
   "cell_type": "code",
   "execution_count": 3,
   "id": "c10c6da9",
   "metadata": {},
   "outputs": [],
   "source": [
    "def fullSearch(m):\n",
    "    \"\"\"Pass in matrix, pad with 0s for easier index, and search over all\"\"\"\n",
    "    m_pad = np.pad(m, pad_width=1, mode = 'constant', constant_values = 0)\n",
    "    row = m.shape[0]\n",
    "    col = m.shape[1]\n",
    "    update = []\n",
    "    for i in range(1,row+1):\n",
    "        for j in range(1,col+1):\n",
    "            if searchNeighbors((i,j), m_pad):\n",
    "                update.append((i,j))\n",
    "    for idx in update:\n",
    "        m_pad[idx] = 1\n",
    "    \n",
    "    return m_pad\n",
    "\n",
    "assert(np.sum(fullSearch(matrix)) == 9)"
   ]
  },
  {
   "cell_type": "code",
   "execution_count": 4,
   "id": "5c401a01",
   "metadata": {},
   "outputs": [
    {
     "name": "stdout",
     "output_type": "stream",
     "text": [
      "Total shaded in generation 1: 5.0\n",
      "Total shaded in generation 2: 9.0\n",
      "Total shaded in generation 3: 13.0\n",
      "Total shaded in generation 4: 21.0\n",
      "Total shaded in generation 5: 29.0\n",
      "Total shaded in generation 6: 37.0\n",
      "Total shaded in generation 7: 49.0\n",
      "Total shaded in generation 8: 61.0\n",
      "Total shaded in generation 9: 73.0\n",
      "Total shaded in generation 10: 89.0\n",
      "Total time: 0.00444\n"
     ]
    }
   ],
   "source": [
    "n = 10\n",
    "s = time.time()\n",
    "for i in range(1,n+1):\n",
    "    print(f\"Total shaded in generation {i}: {np.sum(matrix)}\")\n",
    "    matrix = fullSearch(matrix)\n",
    "print(f\"Total time: {time.time() - s:.5f}\")"
   ]
  },
  {
   "cell_type": "markdown",
   "id": "7393ad7f",
   "metadata": {},
   "source": [
    "### Extra Credit:\n",
    "\n",
    "Extra credit: As N gets very, very large, approximately how many squares will be shaded in generation N (in terms of N)?\n",
    "\n",
    "Current approach scales very poorly, as shown below: "
   ]
  },
  {
   "cell_type": "code",
   "execution_count": 5,
   "id": "635a4dec",
   "metadata": {},
   "outputs": [
    {
     "name": "stdout",
     "output_type": "stream",
     "text": [
      "Total time for gen 50: 0.22064\n",
      "Total time for gen 100: 1.51831\n",
      "Total time for gen 150: 4.86441\n",
      "Total time for gen 200: 11.40988\n"
     ]
    }
   ],
   "source": [
    "# This does not scale - see below:\n",
    "# build initial state (gen 1)\n",
    "matrix = np.zeros((9,9)) # start with 0s\n",
    "overwrite = [(4,3), (4,4), (4,5), (3,4), (5,4)]\n",
    "for idx in overwrite:\n",
    "    matrix[idx] = 1\n",
    "    \n",
    "n = 200\n",
    "s = time.time()\n",
    "for i in range(1,n+1):\n",
    "    #print(f\"Total shaded in generation {i}: {np.sum(matrix)}\")\n",
    "    matrix = fullSearch(matrix)\n",
    "    if i % 50 == 0:\n",
    "        print(f\"Total time for gen {i}: {time.time() - s:.5f}\")"
   ]
  },
  {
   "cell_type": "markdown",
   "id": "5c690c10",
   "metadata": {},
   "source": [
    "#### Rewrite:\n",
    "\n",
    "The main operation is looking at all neighbors and summing up 1s, which can happen in a vectorized manner! Avoiding a for loop is going to massively speed up the process. \n",
    "\n",
    "##### Timing Comparison\n",
    "\n",
    "note: These came from earlier testing\n",
    "\n",
    "- loop: \n",
    "    - 100 runs took 1.5 seconds\n",
    "    - 200 runs took 11.4 seconds\n",
    "\n",
    "- vectorized:\n",
    "    - 100 runs took 0.05 seconds --> 30X speedup!\n",
    "    - 200 runs took .1522 seconds --> 76X speedup!\n",
    "    \n",
    "    \n",
    "Vectorized will massively outperform, especially as our matrix grows in size!"
   ]
  },
  {
   "cell_type": "code",
   "execution_count": 6,
   "id": "bf2067a6",
   "metadata": {},
   "outputs": [],
   "source": [
    "def vectorizedSearch(m):\n",
    "    \"\"\"\n",
    "    Rewrite search for surrounding 8 neighbors using matrix addition (vectorized approach)\n",
    "    \n",
    "    Process:\n",
    "    - pad matrix so border can be compared (allows for ever-increasing search space)\n",
    "    - solve for all 8 neighbors using matrix addition\n",
    "    - any element >= 3 is 1, else 0\n",
    "    \"\"\"\n",
    "    arr = np.pad(m, pad_width=1, mode = 'constant', constant_values = 0)\n",
    "    r,c = arr.shape\n",
    "    empty_arr = np.zeros((r,c)) # store results\n",
    "\n",
    "    # rows\n",
    "    empty_arr[1:] += arr[:r-1] # same as summing row above (i - 1, j)\n",
    "    empty_arr[:r-1] += arr[1:r] # same as summing row below (i + 1, j)\n",
    "\n",
    "    # cols\n",
    "    empty_arr[:, 1:] += arr[:, :c-1] # same as summing left col (i, j - 1)\n",
    "    empty_arr[:, :c-1] += arr[:, 1:c] # same as summing right col (i, j + 1)\n",
    "\n",
    "    # diag down-right\n",
    "    empty_arr[:r-1, :c-1] += arr[1:r, 1:c] \n",
    "\n",
    "    # diag up-right\n",
    "    empty_arr[1:, :c-1] += arr[:r-1, 1:c] \n",
    "\n",
    "    # diag down-left\n",
    "    empty_arr[:r-1, 1:] += arr[1:r, :c-1] \n",
    "\n",
    "    # diag down-right\n",
    "    empty_arr[1:, 1:] += arr[:r-1, :c-1] \n",
    "\n",
    "    # rewrite as 1 where >= 3, else 0 -> overwrite\n",
    "    arr = np.where(empty_arr >= 3 , 1, 0)\n",
    "    \n",
    "    return arr\n",
    "\n",
    "# testing:\n",
    "arr = np.zeros((9,9)) # start with 0s\n",
    "overwrite = [(4,3), (4,4), (4,5), (3,4), (5,4)]\n",
    "for idx in overwrite:\n",
    "    arr[idx] = 1\n",
    "    \n",
    "# gen 2: \n",
    "arr = vectorizedSearch(arr)\n",
    "assert(np.sum(arr) == 9)\n",
    "\n",
    "# gen 3: \n",
    "arr = vectorizedSearch(arr)\n",
    "assert(np.sum(arr) == 13)\n",
    "\n",
    "# gen 4: \n",
    "arr = vectorizedSearch(arr)\n",
    "assert(np.sum(arr) == 21)"
   ]
  },
  {
   "cell_type": "code",
   "execution_count": 7,
   "id": "028d3f6a",
   "metadata": {},
   "outputs": [
    {
     "name": "stdout",
     "output_type": "stream",
     "text": [
      "Total shaded in generation 500: 167669\n",
      "Total time: 1.574\n",
      "Total shaded in generation 1000: 668669\n",
      "Total time: 14.99\n",
      "Total shaded in generation 1500: 1503001\n",
      "Total time: 49.82\n",
      "Total shaded in generation 2000: 2670669\n",
      "Total time: 118.9\n",
      "Total shaded in generation 2500: 4171669\n",
      "Total time: 226.1\n"
     ]
    }
   ],
   "source": [
    "### rerun first 10\n",
    "import time\n",
    "arr = np.zeros((9,9)) # start with 0s\n",
    "overwrite = [(4,3), (4,4), (4,5), (3,4), (5,4)]\n",
    "for idx in overwrite:\n",
    "    arr[idx] = 1\n",
    "\n",
    "### gen\n",
    "gen = 2_500\n",
    "start = time.time()\n",
    "\n",
    "### store output:\n",
    "sum_n = []\n",
    "\n",
    "for i in range(1,gen+1):\n",
    "    if i % 500 == 0:\n",
    "        print(f\"Total shaded in generation {i}: {np.sum(arr)}\")\n",
    "        print(f\"Total time: {time.time() - start:.4}\")\n",
    "    \n",
    "    # add sum relative to n\n",
    "    sum_n.append(np.sum(arr))\n",
    "        \n",
    "    # neighborhood search\n",
    "    arr = vectorizedSearch(arr)\n"
   ]
  },
  {
   "cell_type": "code",
   "execution_count": 8,
   "id": "7fde35b9",
   "metadata": {},
   "outputs": [
    {
     "name": "stdout",
     "output_type": "stream",
     "text": [
      "0.89\n",
      "0.6869\n",
      "0.676725\n",
      "0.670676\n",
      "0.668669\n",
      "0.6680004444444444\n",
      "0.66766725\n",
      "0.66746704\n"
     ]
    }
   ],
   "source": [
    "for i in [10,100,200, 500,1000,1500, 2000, 2500]:\n",
    "    print(sum_n[i-1] / (i**2))"
   ]
  },
  {
   "cell_type": "code",
   "execution_count": 9,
   "id": "d3d3503b",
   "metadata": {},
   "outputs": [
    {
     "data": {
      "text/plain": [
       "Text(0.5, 0, '# of Generations')"
      ]
     },
     "execution_count": 9,
     "metadata": {},
     "output_type": "execute_result"
    },
    {
     "data": {
      "image/png": "[encoded data removed]",
      "text/plain": [
       "<Figure size 432x288 with 1 Axes>"
      ]
     },
     "metadata": {
      "needs_background": "light"
     },
     "output_type": "display_data"
    }
   ],
   "source": [
    "from matplotlib import pyplot as plt\n",
    "solved = [sum_n[i-1] / (i**2) for i in range(100,len(sum_n) + 1)]\n",
    "plt.plot(solved)\n",
    "plt.ylabel(\"2/3 * N^2\")\n",
    "plt.xlabel(\"# of Generations\")"
   ]
  },
  {
   "cell_type": "markdown",
   "id": "f460ee0d",
   "metadata": {},
   "source": [
    "### Final Solution for Extra Credit: \n",
    "\n",
    "Convergence seems to be occurring at: \n",
    "\n",
    "$\\frac{2}{3} * N^{2}$\n",
    "\n",
    "where N = # of generations"
   ]
  }
 ],
 "metadata": {
  "kernelspec": {
   "display_name": "ml",
   "language": "python",
   "name": "ml"
  },
  "language_info": {
   "codemirror_mode": {
    "name": "ipython",
    "version": 3
   },
   "file_extension": ".py",
   "mimetype": "text/x-python",
   "name": "python",
   "nbconvert_exporter": "python",
   "pygments_lexer": "ipython3",
   "version": "3.9.2"
  }
 },
 "nbformat": 4,
 "nbformat_minor": 5
}
