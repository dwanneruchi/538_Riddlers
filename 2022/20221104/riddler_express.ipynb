{
 "cells": [
  {
   "cell_type": "markdown",
   "id": "331cd4cd",
   "metadata": {},
   "source": [
    "### Riddler Express\n",
    "The end of daylight saving time here on the East Coast of the U.S. got me thinking more generally about the calendar year. Each solar year consists of approximately 365.24217 mean solar days. That’s pretty close to 365.25, which is why it makes sense to have an extra day every four years. However, the Gregorian calendar is a little more precise: There are 97 leap years every 400 years, averaging out to 365.2425 days per year.\n",
    "\n",
    "Can you make a better approximation than the Gregorian calendar? Find numbers L and N (where N is less than 400) such that if every cycle of N years includes L leap years, the average number of days per year is as close as possible to 365.24217."
   ]
  },
  {
   "cell_type": "code",
   "execution_count": 1,
   "id": "717a82fd",
   "metadata": {},
   "outputs": [
    {
     "data": {
      "text/plain": [
       "365.25"
      ]
     },
     "execution_count": 1,
     "metadata": {},
     "output_type": "execute_result"
    }
   ],
   "source": [
    "# current\n",
    "\n",
    "d = 365 # days in standard year\n",
    "y = 400 # year interval\n",
    "l = 100 # leap year days\n",
    "\n",
    "(y * d + l) / y"
   ]
  },
  {
   "cell_type": "code",
   "execution_count": 2,
   "id": "0976b611",
   "metadata": {},
   "outputs": [
    {
     "data": {
      "text/plain": [
       "365.2425"
      ]
     },
     "execution_count": 2,
     "metadata": {},
     "output_type": "execute_result"
    }
   ],
   "source": [
    "# gregorian\n",
    "d = 365 # days in standard year\n",
    "y = 400 # year interval\n",
    "l = 97 # leap year days\n",
    "\n",
    "(y * d + l) / y"
   ]
  },
  {
   "cell_type": "markdown",
   "id": "d3d88868",
   "metadata": {},
   "source": [
    "### Goal:\n",
    "\n",
    "\n",
    "Minimize:\n",
    "    \n",
    "$365.24217 - \\frac{y * d + l}{y}$\n",
    "\n",
    "where d = 365\n",
    "\n",
    "Should be able to solve using calculus but....*numpy*:\n",
    "- Brute force solution calculates all combinations of (1-400) years across (1-400) leap years\n",
    "- Find the min indices and determine the min values for years and total leap years"
   ]
  },
  {
   "cell_type": "code",
   "execution_count": 3,
   "id": "54258d0d",
   "metadata": {},
   "outputs": [
    {
     "name": "stdout",
     "output_type": "stream",
     "text": [
      "(200, 400)\n",
      "(200, 400)\n",
      "Min solution: 85 leap years every 351 years\n",
      "This yields an avg year length of 365.242165 years\n",
      "A solar year is 365.24217 years\n"
     ]
    }
   ],
   "source": [
    "import numpy as np\n",
    "\n",
    "solar_year = 365.24217\n",
    "\n",
    "# brute-force calculation\n",
    "y = np.arange(1,401,1)\n",
    "l = np.arange(1,201,1)\n",
    "\n",
    "# build out the outer product of arrays\n",
    "y_matrix, l_matrix = np.meshgrid(y,l)\n",
    "\n",
    "# need to transpose so we get all combinations\n",
    "print(y_matrix.shape)\n",
    "print(l_matrix.shape)\n",
    "\n",
    "# solve for all combinations, find min.\n",
    "res = np.abs(((y_matrix * 365 + l_matrix) / y_matrix) - solar_year)\n",
    "min_idx = np.argwhere(res == np.min(res))\n",
    "min_idxs = (min_idx[0][0], min_idx[0][1])\n",
    "\n",
    "min_yrs = y_matrix[min_idxs]\n",
    "min_leaps = l_matrix[min_idxs]\n",
    "\n",
    "assert(abs(((min_yrs * 365 + min_leaps) / min_yrs) - solar_year) < abs(365.2425 - solar_year))\n",
    "\n",
    "print(f\"Min solution: {min_leaps} leap years every {min_yrs} years\")\n",
    "print(f\"This yields an avg year length of {(min_yrs * 365 + min_leaps) / min_yrs:.6f} years\")\n",
    "print(f\"A solar year is {solar_year} years\")"
   ]
  },
  {
   "cell_type": "markdown",
   "id": "53a2040c",
   "metadata": {},
   "source": [
    "### Using Optimizer:\n",
    "\n",
    "TODO"
   ]
  }
 ],
 "metadata": {
  "kernelspec": {
   "display_name": "ml",
   "language": "python",
   "name": "ml"
  },
  "language_info": {
   "codemirror_mode": {
    "name": "ipython",
    "version": 3
   },
   "file_extension": ".py",
   "mimetype": "text/x-python",
   "name": "python",
   "nbconvert_exporter": "python",
   "pygments_lexer": "ipython3",
   "version": "3.9.2"
  }
 },
 "nbformat": 4,
 "nbformat_minor": 5
}
