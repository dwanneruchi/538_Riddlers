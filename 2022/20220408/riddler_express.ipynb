{
 "cells": [
  {
   "cell_type": "markdown",
   "id": "9829c962",
   "metadata": {},
   "source": [
    "### Riddler Express\n",
    "\n",
    "This week, both puzzles come courtesy of Ben Orlin, author of the newly released “Math Games with Bad Drawings.” In addition to its terrible drawings, the book includes several games that have appeared in this column, including Tax Collector and Racetrack. Ben’s Express puzzle relates to tic-tac-toe.\n",
    "\n",
    "In tic-tac-toe, you can rate a square’s “real estate value” by how many possible three-in-a-rows pass through it. Thus, the center scores 4, the corners score 3 and the edges score 2.\n",
    "\n",
    "That means the center is the “most valuable” real estate, while the edges are the “least valuable.”\n",
    "\n",
    "Recent Stories from FiveThirtyEight\n",
    "Now, let’s try three-dimensional tic-tac-toe, played on a 3-by-3-by-3 board. Which positions are the most and least valuable, and how much are they worth?"
   ]
  },
  {
   "cell_type": "code",
   "execution_count": 1,
   "id": "a586a2ac",
   "metadata": {},
   "outputs": [
    {
     "name": "stdout",
     "output_type": "stream",
     "text": [
      "[[1 2 3]\n",
      " [4 5 6]\n",
      " [7 8 9]]\n",
      "For start 1, coordinate (0, 0) there are 3 ways to win\n",
      "For start 2, coordinate (0, 1) there are 2 ways to win\n",
      "For start 3, coordinate (0, 2) there are 3 ways to win\n",
      "For start 4, coordinate (1, 0) there are 2 ways to win\n",
      "For start 5, coordinate (1, 1) there are 4 ways to win\n",
      "For start 6, coordinate (1, 2) there are 2 ways to win\n",
      "For start 7, coordinate (2, 0) there are 3 ways to win\n",
      "For start 8, coordinate (2, 1) there are 2 ways to win\n",
      "For start 9, coordinate (2, 2) there are 3 ways to win\n"
     ]
    }
   ],
   "source": [
    "import numpy as np\n",
    "from mpl_toolkits.mplot3d import Axes3D\n",
    "import matplotlib.pyplot as plt\n",
    "from itertools import product, combinations\n",
    "import warnings\n",
    "warnings.filterwarnings(\"ignore\") # matplot warning on 3d projections\n",
    "\n",
    "# build array of vals for 2-d example -> confirm proper process\n",
    "arr = np.asarray(range(1,10))\n",
    "arr.shape = (3,3)\n",
    "print(arr)\n",
    "\n",
    "# store\n",
    "legit_lines = []\n",
    "\n",
    "# find rows & cols:\n",
    "for r in range(arr.shape[0]):\n",
    "    legit_lines.append([v for v in arr[r,:]])\n",
    "    legit_lines.append([v for v in arr[:,r]])\n",
    "    \n",
    "# add diag manually for now (lazy)\n",
    "legit_lines.append([1,5,9])\n",
    "legit_lines.append([3,5,7])\n",
    "\n",
    "# iterate over vals\n",
    "for v in np.nditer(arr):\n",
    "    total = 0\n",
    "    for line in legit_lines:\n",
    "        if v in line:\n",
    "            total += 1\n",
    "    print(f\"For start {v}, coordinate {np.where(arr == v)[0][0], np.where(arr == v)[1][0]} there are {total} ways to win\")\n",
    "    "
   ]
  },
  {
   "cell_type": "markdown",
   "id": "a032cdcd",
   "metadata": {},
   "source": [
    "## Solving a Cube\n",
    "\n",
    "This gets a bit trickier as we now need to account for planes that can cut through. "
   ]
  },
  {
   "cell_type": "code",
   "execution_count": 2,
   "id": "764e7d28",
   "metadata": {},
   "outputs": [
    {
     "name": "stdout",
     "output_type": "stream",
     "text": [
      "[[[ 1  2  3]\n",
      "  [ 4  5  6]\n",
      "  [ 7  8  9]]\n",
      "\n",
      " [[10 11 12]\n",
      "  [13 14 15]\n",
      "  [16 17 18]]\n",
      "\n",
      " [[19 20 21]\n",
      "  [22 23 24]\n",
      "  [25 26 27]]]\n",
      "49\n",
      "49\n",
      "For start 1, coordinate (0, 0, 0) there are 7 ways to win\n",
      "For start 2, coordinate (0, 0, 1) there are 4 ways to win\n",
      "For start 3, coordinate (0, 0, 2) there are 7 ways to win\n",
      "For start 4, coordinate (0, 1, 0) there are 4 ways to win\n",
      "For start 5, coordinate (0, 1, 1) there are 5 ways to win\n",
      "For start 6, coordinate (0, 1, 2) there are 4 ways to win\n",
      "For start 7, coordinate (0, 2, 0) there are 7 ways to win\n",
      "For start 8, coordinate (0, 2, 1) there are 4 ways to win\n",
      "For start 9, coordinate (0, 2, 2) there are 7 ways to win\n",
      "For start 10, coordinate (1, 0, 0) there are 4 ways to win\n",
      "For start 11, coordinate (1, 0, 1) there are 5 ways to win\n",
      "For start 12, coordinate (1, 0, 2) there are 4 ways to win\n",
      "For start 13, coordinate (1, 1, 0) there are 5 ways to win\n",
      "For start 14, coordinate (1, 1, 1) there are 13 ways to win\n",
      "For start 15, coordinate (1, 1, 2) there are 5 ways to win\n",
      "For start 16, coordinate (1, 2, 0) there are 4 ways to win\n",
      "For start 17, coordinate (1, 2, 1) there are 5 ways to win\n",
      "For start 18, coordinate (1, 2, 2) there are 4 ways to win\n",
      "For start 19, coordinate (2, 0, 0) there are 7 ways to win\n",
      "For start 20, coordinate (2, 0, 1) there are 4 ways to win\n",
      "For start 21, coordinate (2, 0, 2) there are 7 ways to win\n",
      "For start 22, coordinate (2, 1, 0) there are 4 ways to win\n",
      "For start 23, coordinate (2, 1, 1) there are 5 ways to win\n",
      "For start 24, coordinate (2, 1, 2) there are 4 ways to win\n",
      "For start 25, coordinate (2, 2, 0) there are 7 ways to win\n",
      "For start 26, coordinate (2, 2, 1) there are 4 ways to win\n",
      "For start 27, coordinate (2, 2, 2) there are 7 ways to win\n"
     ]
    }
   ],
   "source": [
    "# build array of vals\n",
    "arr = np.asarray(range(1,28))\n",
    "arr.shape = (3,3,3)\n",
    "print(arr)\n",
    "\n",
    "# store\n",
    "legit_lines = []\n",
    "\n",
    "# find planes parallel to cube (3 total)\n",
    "for r in range(arr.shape[0]):\n",
    "    for axis in range(arr.shape[2]):\n",
    "        legit_lines.append([v for v in arr[r,:, axis]])\n",
    "        legit_lines.append([v for v in arr[:,r, axis]])\n",
    "        legit_lines.append([v for v in arr[axis,r, :]])\n",
    "        \n",
    "# hard part now is coding a process for diagonals \n",
    "# 6 total diagonals planes to consider, each with 3 possible\n",
    "\n",
    "face_diag = []\n",
    "\n",
    "# 6 planes go to opposite edges\n",
    "for i in range(arr.shape[0]):\n",
    "    face_diag.append([arr[i,0,0], arr[i,1,1], arr[i,2,2]]) # top left -> bottom right\n",
    "    face_diag.append([arr[i,2,0], arr[i,1,1], arr[i,0,2]]) # bottom left -> top right\n",
    "    face_diag.append([arr[0,0,i], arr[1,1,i], arr[2,2,i]]) # plane downward\n",
    "    face_diag.append([arr[0,i,0], arr[1,i,1], arr[2,i,2]]) # plane through center\n",
    "    face_diag.append([arr[2,0,i], arr[1,1,i], arr[0,2,i]]) # plane downward\n",
    "    face_diag.append([arr[2,i,0], arr[1,i,1], arr[0,i,2]]) # plane through center\n",
    "\n",
    "# and 4 more diagonals through cube manually - e.g 1-14-27, 7-14-21, 25-14-3, 19-14-9\n",
    "face_diag.append([1,14,27])\n",
    "face_diag.append([7,14,21])\n",
    "face_diag.append([25,14,3])\n",
    "face_diag.append([19,14,9])\n",
    "\n",
    "# ensure no duplicates\n",
    "total_lines = face_diag + legit_lines\n",
    "\n",
    "# sort each line\n",
    "sorted_total = [sorted(l) for l in total_lines]\n",
    "print(len(sorted_total))\n",
    "\n",
    "# make a set for distinct - can't use a set on a list so need to rework slightly\n",
    "temp_list = [(x[0], x[1], x[2]) for x in sorted_total]\n",
    "set_sorted_total = set(temp_list)\n",
    "print(len(set_sorted_total)) # no duplicates it seems\n",
    "\n",
    "# iterate over vals\n",
    "minimal_points = [] # i know min is 4 now\n",
    "for v in np.nditer(arr):\n",
    "    total = 0\n",
    "    for line in set_sorted_total:\n",
    "        if v in line:\n",
    "            total += 1\n",
    "    coord = np.where(arr == v)[0][0], np.where(arr == v)[1][0], np.where(arr == v)[2][0]\n",
    "    print(f\"For start {v}, coordinate {coord} there are {total} ways to win\")\n",
    "    \n",
    "    if total == 4:\n",
    "        minimal_points.append(coord)"
   ]
  },
  {
   "cell_type": "markdown",
   "id": "9f44099a",
   "metadata": {},
   "source": [
    "### Print Points in Line Segment:"
   ]
  },
  {
   "cell_type": "code",
   "execution_count": 3,
   "id": "eec43e1b",
   "metadata": {},
   "outputs": [
    {
     "name": "stdout",
     "output_type": "stream",
     "text": [
      "Least Valuable Region\n",
      "Line values (4, 14, 24), or coordinates: [(0, 1, 0), (1, 1, 1), (2, 1, 2)]\n",
      "Line values (4, 5, 6), or coordinates: [(0, 1, 0), (0, 1, 1), (0, 1, 2)]\n",
      "Line values (4, 13, 22), or coordinates: [(0, 1, 0), (1, 1, 0), (2, 1, 0)]\n",
      "Line values (1, 4, 7), or coordinates: [(0, 0, 0), (0, 1, 0), (0, 2, 0)]\n"
     ]
    }
   ],
   "source": [
    "lines = {}\n",
    "print(\"Least Valuable Region\")\n",
    "for line in set_sorted_total:\n",
    "    if 4 in line:\n",
    "        coords = []\n",
    "        for v in line:\n",
    "            coords.append((np.where(arr == v)[0][0], np.where(arr == v)[1][0], np.where(arr == v)[2][0]))\n",
    "        print(f\"Line values {line}, or coordinates: {coords}\")\n"
   ]
  },
  {
   "cell_type": "code",
   "execution_count": 4,
   "id": "8d9b9a03",
   "metadata": {},
   "outputs": [
    {
     "name": "stdout",
     "output_type": "stream",
     "text": [
      "Most Valuable Region\n",
      "Line values (12, 14, 16), or coordinates: [(1, 0, 2), (1, 1, 1), (1, 2, 0)]\n",
      "Line values (4, 14, 24), or coordinates: [(0, 1, 0), (1, 1, 1), (2, 1, 2)]\n",
      "Line values (11, 14, 17), or coordinates: [(1, 0, 1), (1, 1, 1), (1, 2, 1)]\n",
      "Line values (9, 14, 19), or coordinates: [(0, 2, 2), (1, 1, 1), (2, 0, 0)]\n",
      "Line values (1, 14, 27), or coordinates: [(0, 0, 0), (1, 1, 1), (2, 2, 2)]\n",
      "Line values (6, 14, 22), or coordinates: [(0, 1, 2), (1, 1, 1), (2, 1, 0)]\n",
      "Line values (5, 14, 23), or coordinates: [(0, 1, 1), (1, 1, 1), (2, 1, 1)]\n",
      "Line values (10, 14, 18), or coordinates: [(1, 0, 0), (1, 1, 1), (1, 2, 2)]\n",
      "Line values (2, 14, 26), or coordinates: [(0, 0, 1), (1, 1, 1), (2, 2, 1)]\n",
      "Line values (3, 14, 25), or coordinates: [(0, 0, 2), (1, 1, 1), (2, 2, 0)]\n",
      "Line values (8, 14, 20), or coordinates: [(0, 2, 1), (1, 1, 1), (2, 0, 1)]\n",
      "Line values (13, 14, 15), or coordinates: [(1, 1, 0), (1, 1, 1), (1, 1, 2)]\n",
      "Line values (7, 14, 21), or coordinates: [(0, 2, 0), (1, 1, 1), (2, 0, 2)]\n"
     ]
    }
   ],
   "source": [
    "lines = {}\n",
    "print(\"Most Valuable Region\")\n",
    "for line in set_sorted_total:\n",
    "    if 14 in line:\n",
    "        coords = []\n",
    "        for v in line:\n",
    "            coords.append((np.where(arr == v)[0][0], np.where(arr == v)[1][0], np.where(arr == v)[2][0]))\n",
    "        print(f\"Line values {line}, or coordinates: {coords}\")"
   ]
  },
  {
   "cell_type": "markdown",
   "id": "91dbd4a3",
   "metadata": {},
   "source": [
    "### Final Answer\n",
    "\n",
    "Least Valuable: 4 \"three-in-a-rows\"\n",
    "- These are the middle vertices on the exterior of the cube (highlighted in red)\n",
    "- These all will have an X, Y, and Z parallel line as well as a diagonal. \n",
    "\n",
    "\n",
    "Most Valuable: 13 \"three-in-a-rows\"\n",
    "- The central vertex (highlighted in green) "
   ]
  },
  {
   "cell_type": "code",
   "execution_count": 5,
   "id": "90d20a35",
   "metadata": {
    "scrolled": true
   },
   "outputs": [
    {
     "data": {
      "image/png": "[encoded data removed]",
      "text/plain": [
       "<Figure size 432x288 with 1 Axes>"
      ]
     },
     "metadata": {
      "needs_background": "light"
     },
     "output_type": "display_data"
    }
   ],
   "source": [
    "# source: https://stackoverflow.com/questions/11140163/plotting-a-3d-cube-a-sphere-and-a-vector-in-matplotlib\n",
    "fig = plt.figure()\n",
    "ax = fig.gca(projection='3d')\n",
    "ax.set_aspect(\"auto\")\n",
    "\n",
    "# draw cube\n",
    "r = [0, 2]\n",
    "for s, e in combinations(np.array(list(product(r, r, r))), 2):\n",
    "    if np.sum(np.abs(s-e)) == r[1]-r[0]:\n",
    "        ax.plot3D(*zip(s, e), color=\"b\")\n",
    "        \n",
    "# add points for most common\n",
    "ax.scatter([1], [1], [1], color=\"g\", s=100)\n",
    "\n",
    "# add points for least common\n",
    "for coord in minimal_points:\n",
    "    ax.scatter(coord[0], coord[1], coord[2], color=\"r\", s=100)"
   ]
  }
 ],
 "metadata": {
  "kernelspec": {
   "display_name": "ml",
   "language": "python",
   "name": "ml"
  },
  "language_info": {
   "codemirror_mode": {
    "name": "ipython",
    "version": 3
   },
   "file_extension": ".py",
   "mimetype": "text/x-python",
   "name": "python",
   "nbconvert_exporter": "python",
   "pygments_lexer": "ipython3",
   "version": "3.9.2"
  }
 },
 "nbformat": 4,
 "nbformat_minor": 5
}
