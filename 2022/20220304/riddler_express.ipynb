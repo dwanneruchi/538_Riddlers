{
 "cells": [
  {
   "cell_type": "markdown",
   "id": "5948d883",
   "metadata": {},
   "source": [
    "### Riddler Express\n",
    "\n",
    "From Ivor Traber comes a probability triathlon:\n",
    "\n",
    "You have three fair coins, three fair dice and a full deck of cards in your possession. First, you flip all three coins and note the number of heads. Next, you toss all three dice and note the number of ones or sixes. Finally, you draw three random cards from the deck of 52 and note the number of hearts.\n",
    "\n",
    "What is the probability that all three numbers are the same?\n",
    "\n",
    "### Approach: \n",
    "\n",
    "- We know that independent events (which these all are) adhere to the following:\n",
    "\n",
    "$P(A \\cap B \\cap C) = P(A) P(B) P(C)$\n",
    "\n",
    "- We know that the sum of all possible combinations of A, B and C is 1, meaning we can sum up the joint probability across each state (0,1,2,3)\n",
    "\n",
    "- Finally, we can use `combinations` to fully capture probability of events with more than one ordering of sequences. \n",
    "    - Example: Likelihood of flipping 2 heads?\n",
    "    - This can occur as: THH, HTH, or HHT -> 3/(2^3) = 0.375\n",
    "    - Alternatively, we can solve this as: 3C1 * (prob H) * (prob T * prob T) = 3 * 0.5 * (0.5^2) = 0.375\n",
    "    - The latter being the number of combinations times the probability of event"
   ]
  },
  {
   "cell_type": "code",
   "execution_count": 1,
   "id": "4baadbd7",
   "metadata": {},
   "outputs": [
    {
     "name": "stdout",
     "output_type": "stream",
     "text": [
      "Final probability: 0.09949346405228755\n"
     ]
    }
   ],
   "source": [
    "from itertools import combinations, permutations\n",
    "\n",
    "# prob 0\n",
    "h_0 = 0.5 ** 3\n",
    "d_0 = (4/6) ** 3\n",
    "hr_0 = (39/52) * (38/51) * (37/50)\n",
    "p_0 = h_0 * d_0 * hr_0\n",
    "\n",
    "# prob 1 -> logic: find total seq of choosing 1 from 3 -> 1st, 2nd and 3rd (pretty basic)\n",
    "c1 = len(list(combinations(range(3),1)))\n",
    "h_1 = c1 * (0.5**3)\n",
    "d_1 = 2 * c1 * (1/6) * ((4/6) **2)\n",
    "hr_1 = c1 * (13/52) * (39/51) * (38/50)\n",
    "p_1 = h_1 * d_1 * hr_1\n",
    "\n",
    "# prob 2 -> logic: find total seqs of choosing 2 from 3 -> (1,2),(1,3), (2,3) \n",
    "c2 = len(list(combinations(range(3),2)))\n",
    "h_2 = c2 * (0.5**3)\n",
    "\n",
    "# gets weird: (aax, axa, xaa, bbx,bxb, xbb, abx, bax, axb,bxa, xab,xba)\n",
    "d_2 = 12 * ((1/6) ** 2) * (4/6)\n",
    "# equal to: len(list(combinations(range(3),2))) * ((2/6) ** 2) * (4/6)\n",
    "\n",
    "hr_2 = c2 * (13/52) * (12/51) * (39/50)\n",
    "p_2 = h_2 * d_2 * hr_2\n",
    "\n",
    "# prob 3\n",
    "h_3 = 0.5 ** 3\n",
    "d_3 = (2/6) ** 3 # each roll we have 2/6 prob \n",
    "hr_3 = (13/52) * (12/51) * (11/50)\n",
    "p_3 = h_3 * d_3 * hr_3\n",
    "\n",
    "# logic check\n",
    "assert(round(sum([h_0, h_1, h_2, h_3]),2) == 1)\n",
    "\n",
    "# sum up for final prob\n",
    "print(f\"Final probability: {sum([p_0,p_1,p_2,p_3])}\")"
   ]
  }
 ],
 "metadata": {
  "kernelspec": {
   "display_name": "ml",
   "language": "python",
   "name": "ml"
  },
  "language_info": {
   "codemirror_mode": {
    "name": "ipython",
    "version": 3
   },
   "file_extension": ".py",
   "mimetype": "text/x-python",
   "name": "python",
   "nbconvert_exporter": "python",
   "pygments_lexer": "ipython3",
   "version": "3.9.2"
  }
 },
 "nbformat": 4,
 "nbformat_minor": 5
}
