{
 "cells": [
  {
   "cell_type": "code",
   "execution_count": 1,
   "metadata": {},
   "outputs": [],
   "source": [
    "import matplotlib.pyplot as plt\n",
    "from itertools import combinations, permutations, chain, product\n",
    "from math import factorial \n",
    "from random import randint"
   ]
  },
  {
   "cell_type": "markdown",
   "metadata": {},
   "source": [
    "### A Small Set:\n",
    "\n",
    "Limit prison count to `3` and bottles to `8`.\n",
    "\n",
    "Solving with combinations: Build out distinct groupings of size `r` for `0-3` using:\n",
    "\n",
    "$\\binom{n}{r} = \\frac{n!}{r!(n-r!)}$\n",
    "\n",
    "\n",
    "So, really:\n",
    "\n",
    "$\\sum_{r=0}^{3} \\frac{n!}{r!(n-r!)}$\n",
    "\n",
    "This yields `8` distinct groupings:\n",
    "\n",
    "Wine 1- A\n",
    "\n",
    "Wine 2 - B\n",
    "\n",
    "Wine 3 - C\n",
    "\n",
    "Wine 4 - AB\n",
    "\n",
    "Wine 5 - BC\n",
    "\n",
    "Wine 6 - AC\n",
    "\n",
    "Wine 7 - ABC\n",
    "\n",
    "Wine 8 - nobody"
   ]
  },
  {
   "cell_type": "code",
   "execution_count": 2,
   "metadata": {},
   "outputs": [
    {
     "name": "stdout",
     "output_type": "stream",
     "text": [
      "8.0\n"
     ]
    }
   ],
   "source": [
    "count = 0\n",
    "n = 3\n",
    "for r in [0,1,2,3]:\n",
    "    count += factorial(n) / (factorial(r)*(factorial(n-r)))\n",
    "print(count)"
   ]
  },
  {
   "cell_type": "code",
   "execution_count": 3,
   "metadata": {},
   "outputs": [
    {
     "name": "stdout",
     "output_type": "stream",
     "text": [
      "Total of 8 groups\n",
      "1 ()\n",
      "2 ('A',)\n",
      "3 ('B',)\n",
      "4 ('C',)\n",
      "5 ('A', 'B')\n",
      "6 ('A', 'C')\n",
      "7 ('B', 'C')\n",
      "8 ('A', 'B', 'C')\n"
     ]
    }
   ],
   "source": [
    "# or python implementation\n",
    "all_groups = {}\n",
    "prisoner_vals = ['A', 'B', 'C']\n",
    "z = 1\n",
    "for n in range(4):\n",
    "    sub_g = {z + x: group for x, group in enumerate(list(combinations(prisoner_vals, n)))}\n",
    "    all_groups = {**all_groups, **sub_g}\n",
    "    z = max(sub_g.keys()) + 1\n",
    "\n",
    "print(f\"Total of {len(all_groups.keys())} groups\")\n",
    "for k,v in all_groups.items():\n",
    "    print(k, v)"
   ]
  },
  {
   "cell_type": "markdown",
   "metadata": {},
   "source": [
    "### Solution :\n",
    "\n",
    "$\\sum_{r=0}^{10} \\frac{n!}{r!(n-r!)}$\n",
    "\n",
    "\n",
    "- Can build unordered groups (`combinations`) of sizes `0` to `10`\n",
    "- This would allow us to map `10 prisoners` to `1024 combinations` of prisoners, which exceeds distinct bottles of wine.\n",
    "- Each bottle of wine will have a distinct combination of prisoners\n",
    "- When 24 hours passes determine which prisoners die & compare to which wine was given to all prisoners dead (or if no prisoners die we know its the wine that went to nobody)"
   ]
  },
  {
   "cell_type": "code",
   "execution_count": 4,
   "metadata": {},
   "outputs": [
    {
     "name": "stdout",
     "output_type": "stream",
     "text": [
      "1024.0\n"
     ]
    }
   ],
   "source": [
    "count = 0\n",
    "n = 10\n",
    "for r in range(11):\n",
    "    count += factorial(n) / (factorial(r)*(factorial(n-r)))\n",
    "print(count)"
   ]
  },
  {
   "cell_type": "code",
   "execution_count": 5,
   "metadata": {},
   "outputs": [
    {
     "name": "stdout",
     "output_type": "stream",
     "text": [
      "Total of 1024 groups\n"
     ]
    }
   ],
   "source": [
    "# or python implementation\n",
    "all_groups = {}\n",
    "prisoner_vals = [x for x in 'ABCDEFGHIJ']\n",
    "z = 1\n",
    "for n in range(11):\n",
    "    sub_g = {z + x: group for x, group in enumerate(list(combinations(prisoner_vals, n)))}\n",
    "    all_groups = {**all_groups, **sub_g}\n",
    "    z = max(sub_g.keys()) + 1\n",
    "\n",
    "print(f\"Total of {len(all_groups.keys())} groups\")"
   ]
  },
  {
   "cell_type": "markdown",
   "metadata": {},
   "source": [
    "### Prove It Works Via Simulation:\n",
    "\n",
    "- Randomly choose a bottle of wine\n",
    "- Print out the death sequence\n",
    "- Map back to index and confirm it matches bottle of wine"
   ]
  },
  {
   "cell_type": "code",
   "execution_count": 6,
   "metadata": {},
   "outputs": [
    {
     "name": "stdout",
     "output_type": "stream",
     "text": [
      "These people died: ['C', 'B', 'E', 'J', 'F', 'A', 'H']\n",
      "Poison wine must be bottle 873 since the following drank: ('A', 'B', 'C', 'E', 'F', 'H', 'J')\n",
      "Bottle that was poisoned was 873\n"
     ]
    }
   ],
   "source": [
    "import random\n",
    "\n",
    "# randomly choose a bottle of wine to be poisonous\n",
    "poisoned_wine = randint(1,1001)\n",
    "\n",
    "# which people die? randomize the group so time does not matter\n",
    "g = list(all_groups[poisoned_wine])\n",
    "random.shuffle(g)\n",
    "print(f\"These people died: {g}\")\n",
    "\n",
    "# determine which wine bottle has poison\n",
    "ordered = ''.join(sorted(g))\n",
    "for k,v in all_groups.items():\n",
    "    if ''.join(v) == ordered:\n",
    "        print(f'Poison wine must be bottle {k} since the following drank: {v}')\n",
    "\n",
    "# which wine was it?\n",
    "print(f\"Bottle that was poisoned was {poisoned_wine}\")"
   ]
  }
 ],
 "metadata": {
  "kernelspec": {
   "display_name": "Python 3.8",
   "language": "python",
   "name": "other-env"
  },
  "language_info": {
   "codemirror_mode": {
    "name": "ipython",
    "version": 3
   },
   "file_extension": ".py",
   "mimetype": "text/x-python",
   "name": "python",
   "nbconvert_exporter": "python",
   "pygments_lexer": "ipython3",
   "version": "3.8.5"
  }
 },
 "nbformat": 4,
 "nbformat_minor": 4
}
