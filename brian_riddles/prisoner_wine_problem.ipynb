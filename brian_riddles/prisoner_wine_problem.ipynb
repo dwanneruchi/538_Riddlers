{
 "cells": [
  {
   "cell_type": "code",
   "execution_count": 1,
   "metadata": {},
   "outputs": [],
   "source": [
    "import matplotlib.pyplot as plt\n",
    "from itertools import combinations, permutations, chain, product\n",
    "from math import factorial \n",
    "from random import randint"
   ]
  },
  {
   "cell_type": "markdown",
   "metadata": {},
   "source": [
    "### Initial Thought: \n",
    "\n",
    "Solving with combinations: Build out distinct groupings of size `r` using:\n",
    "\n",
    "$\\binom{n}{r} = \\frac{n!}{r!(n-r!)}$\n",
    "\n",
    "Unfortunately, max size is 252 distinct groups with `r = 5`, so won't resolve problem (plot of distinct counts based on `r` shown below)"
   ]
  },
  {
   "cell_type": "code",
   "execution_count": 2,
   "metadata": {},
   "outputs": [
    {
     "data": {
      "image/png": "[encoded data removed]",
      "text/plain": [
       "<Figure size 432x288 with 1 Axes>"
      ]
     },
     "metadata": {
      "needs_background": "light"
     },
     "output_type": "display_data"
    }
   ],
   "source": [
    "comb_list = []\n",
    "prisoner_vals = range(1,11)\n",
    "for n in prisoner_vals:\n",
    "    comb_list.append(len(list(combinations(prisoner_vals, n))))\n",
    "\n",
    "plt.bar(prisoner_vals, comb_list)  \n",
    "plt.ylabel('Distinct Combinations')\n",
    "plt.xlabel('r-size of group');"
   ]
  },
  {
   "cell_type": "markdown",
   "metadata": {},
   "source": [
    "### Adding Sequential Component\n",
    "\n",
    "- Given this problem includes a time component we can build sequences using ordered groupings (permutations)\n",
    "    - example:\n",
    "        - Person A drinks poison at 1 pm, Person B drinks poison at 1 pm and 1 second, Person C drinks poison at 1 pm and 2 seconds\n",
    "        - Person A dies, then B, then C on the next day\n",
    "        - This would mean the ingestion sequence must have been `A-B-C`, and not `A-C-B`, `B-C-A`, `B-A-C`, `C-A-B` or `C-B-A` (*adding order allows us to map a size `r=3` distinct sequence to 6 total ordered sequences, expanding distinct sequences overall - this of course expands as `r` grows*)\n",
    "    \n",
    " Equation to build ordered sequences is:\n",
    " \n",
    " $\\frac{n!}{(n-r!)}$\n",
    " \n",
    " - This means that a group of `A-B-C-D` counts as different from `D-C-B-A`, which should work given the time component. "
   ]
  },
  {
   "cell_type": "code",
   "execution_count": 3,
   "metadata": {},
   "outputs": [
    {
     "data": {
      "image/png": "[encoded data removed]",
      "text/plain": [
       "<Figure size 432x288 with 1 Axes>"
      ]
     },
     "metadata": {
      "needs_background": "light"
     },
     "output_type": "display_data"
    }
   ],
   "source": [
    "# empty list to store sequence\n",
    "perm_list = []\n",
    "\n",
    "# only going to consider 1 <= r <= 6\n",
    "prisoner_vals = range(1,6)\n",
    "\n",
    "# solve for total distinct sequences\n",
    "for r in prisoner_vals:\n",
    "    perm_list.append(factorial(10) / factorial(10-r))\n",
    "\n",
    "# plot it, red line indicates what we need\n",
    "plt.bar(prisoner_vals, perm_list)  \n",
    "plt.ylabel('Distinct Permutations')\n",
    "plt.xlabel('r-size of group')\n",
    "plt.axhline(y=1000, color = 'r');"
   ]
  },
  {
   "cell_type": "markdown",
   "metadata": {},
   "source": [
    "### Solution A:\n",
    "\n",
    "- Can build ordered groups of size 4 and track sequence in which each wine is ingested for each group, then compare to sequence of deaths. \n",
    "- This would allow us to map `10 prisoners` to `5040 sequences` of prisoners (same as `10*9*8*7`, ensuring a prisoner is only represented once in a sequence)\n",
    "- The translation would be something like as follows, where order of ingestion & order of death is critical to honing in on the Poison Wine:\n",
    "\n",
    "| Wine Number | Sequence of Drink | Sequence of Death (if poisoned)\n",
    "| --- | --- | --- | \n",
    "| 1 | A-B-C-D | A-B-C-D |\n",
    "| 2 | B-A-C-D | B-A-C-D |\n",
    "| 3 | A-B-D-C | A-B-D-C |\n",
    "| 4 | A-C-B-D | A-C-B-D |\n",
    "|...|...|...|\n",
    "|1000 | J-I-A-C | J-I-A-C |\n",
    "\n",
    "Comments:\n",
    "- Critical point is that sequence of ingestion needs to be monitored for each wine bottle, and then sequence of death will be compared to the records on sequence of ingestion\n",
    "- There are more subgroups that can be made than needed for 1000 bottles, so some will just be trashed. "
   ]
  },
  {
   "cell_type": "code",
   "execution_count": 4,
   "metadata": {},
   "outputs": [
    {
     "name": "stdout",
     "output_type": "stream",
     "text": [
      "Example of sequences: [(1, 2, 3, 4), (1, 2, 3, 5), (1, 2, 3, 6), (1, 2, 3, 7)]\n",
      "Poison found in bottle 425, which maps to sequence (1, 9, 6, 8)\n"
     ]
    }
   ],
   "source": [
    "# randomly choose a bottle of wine to be poisonous\n",
    "poisoned_wine = randint(1,1001)\n",
    "\n",
    "# possible permutations from 10 distinct prisoners with r-size 4\n",
    "l = list(permutations(range(1, 11), 4))\n",
    "len(l)\n",
    "print(f\"Example of sequences: {l[:4]}\")\n",
    "\n",
    "print(f\"Poison found in bottle {poisoned_wine}, which maps to sequence {l[poisoned_wine]}\")"
   ]
  },
  {
   "cell_type": "markdown",
   "metadata": {},
   "source": [
    "### Solution B: \n",
    "\n",
    "- We have a problem where we need to map 10 elements -> 1000 distinct elements (can be ordered). \n",
    "- There is no need to have the same number of prisoners drink the same amount of wine:\n",
    "    - giving the poison wine to 1,2 or even 3 prisoners will just result in 1,2, or 3 deaths, which is telling in itself.\n",
    "- This means we could solve by the following simpler approach:\n",
    "    - `10**3 = 1000`, so we have 3 spaces and 10 people to fill in those spaces to map from 10 prisoners -> 1000 bottles\n",
    "    - We can provide a sip of each wine to 3 random prisoners, with replacement, spaced out in time\n",
    "    - However, this approach is a bit ugly as you have to treat `A-A-B` and `A-B-A` as different scenarios \n",
    "        - This would have to be handled by an expected time lag for each ingestion of a wine (sip 1 of Wine A happens 2 seconds before sip 3 of Wine A and 1 second ebfore sip 2 of Wine A)\n",
    "    - The benefit of this is approach is it reduces guaranteed death from 4 prisoners to 1-3 prisoners depending on sequence:\n",
    "        - This allows the king to then wow his guests with additional creative executions at his party.\n",
    "    \n",
    "#### Example:\n",
    "- Wine 1 -> Prisoner A, A, A  -> Death: Only Prisoner A dies (would only be dosed once)\n",
    "- Wine 2 -> Prisoner A, A, B  -> Death: Prisoner A dies, followed by Prisoner B (2 seconds after A)\n",
    "- Wine 3 -> Prisoner A, B, A  -> Death: Prisoner A dies (only dosed once), followed by Prisoner B (1 second after A)\n",
    "\n",
    "`.....`\n",
    "\n",
    "- Wine 1000 -> Prisoner J,J,J -> Death: Only Prisoner J dies"
   ]
  },
  {
   "cell_type": "code",
   "execution_count": 5,
   "metadata": {},
   "outputs": [
    {
     "name": "stdout",
     "output_type": "stream",
     "text": [
      "Total distinct groups: 1000\n",
      "Example of sequences: [(1, 1, 1), (1, 1, 2), (1, 1, 3), (1, 1, 4)]\n",
      "Poison found in bottle 749, which maps to sequence (8, 5, 10)\n"
     ]
    }
   ],
   "source": [
    "# python implementation\n",
    "poisoned_wine = randint(1,1001)\n",
    "\n",
    "# distinct groupings: Generate cartesian product over group of 10, 3 vals per group\n",
    "groups = list(product(range(1,11), repeat=3))\n",
    "\n",
    "print(f\"Total distinct groups: {len(groups)}\")\n",
    "print(f\"Example of sequences: {groups[:4]}\")\n",
    "\n",
    "print(f\"Poison found in bottle {poisoned_wine}, which maps to sequence {groups[poisoned_wine]}\")"
   ]
  }
 ],
 "metadata": {
  "kernelspec": {
   "display_name": "Python 3.8",
   "language": "python",
   "name": "other-env"
  },
  "language_info": {
   "codemirror_mode": {
    "name": "ipython",
    "version": 3
   },
   "file_extension": ".py",
   "mimetype": "text/x-python",
   "name": "python",
   "nbconvert_exporter": "python",
   "pygments_lexer": "ipython3",
   "version": "3.8.5"
  }
 },
 "nbformat": 4,
 "nbformat_minor": 4
}
