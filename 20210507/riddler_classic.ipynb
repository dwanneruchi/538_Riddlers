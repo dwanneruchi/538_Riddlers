{
 "cells": [
  {
   "cell_type": "markdown",
   "metadata": {},
   "source": [
    "### Riddler Classic: \n",
    "\n",
    "From Fred Blundun comes a simple game of definitive diffidence:\n",
    "\n",
    "Martina and Olivia each secretly generate their own random real number, selected uniformly between 0 and 1. Starting with Martina, they take turns declaring (so the other can hear) who they think probably has the greater number until the first moment they agree. Throughout this process, their respective numbers do not change. So for example, their dialogue might go as follows:\n",
    "\n",
    "```\n",
    "Martina: My number is probably bigger.\n",
    "\n",
    "Olivia: My number is probably bigger.\n",
    "\n",
    "Martina: My number is probably bigger.\n",
    "\n",
    "Olivia: My number is probably bigger.\n",
    "\n",
    "Martina: Olivia’s number is probably bigger.\n",
    "\n",
    "```\n",
    "They are playing as a team, hoping to maximize the chances they correctly predict who has the greater number.\n",
    "\n",
    "For any given round with randomly generated numbers, what is the probability that the person they agree on really does have the bigger number?\n",
    "\n",
    "\n",
    "### Initial Thoughts:\n",
    "\n",
    "Given the comment on maximizing chances, it makes me wonder if some kind of strategy can be employed where their likelihood of saying \"my number is probably bigger\" is associated with the value of their number. \n",
    "\n",
    "E.g. If my number is 0.05 I doubt my number is bigger, however if my number is 0.99 I am pretty confident my number is bigger.\n",
    "\n",
    "Need to model out a confidence value, which I think could be used in conjunction with the sequence of the conversation:\n",
    "- `n` = max sequence size, dictated by how precise we want to be (.1 increments use 10, .01 use 100, etc.).\n",
    "- In each round each user's comment will represent a step in our sequence to n, at which point their is a tie of 1?"
   ]
  },
  {
   "cell_type": "code",
   "execution_count": 1,
   "metadata": {},
   "outputs": [],
   "source": [
    "import numpy as np\n",
    "from random import random"
   ]
  },
  {
   "cell_type": "code",
   "execution_count": 2,
   "metadata": {},
   "outputs": [],
   "source": [
    "def confidenceSeq(floatVal, precision = 1):\n",
    "    \"\"\"Input users float & expected precision, return sequence at which they lose confidence\"\"\"\n",
    "    return round(floatVal * 10**precision, 0)"
   ]
  },
  {
   "cell_type": "code",
   "execution_count": 3,
   "metadata": {},
   "outputs": [
    {
     "data": {
      "text/plain": [
       "[0.0, 3.0, 5.0, 7.0, 10.0]"
      ]
     },
     "execution_count": 3,
     "metadata": {},
     "output_type": "execute_result"
    }
   ],
   "source": [
    "# low precision\n",
    "test_arr = np.asarray([0.01,0.3,0.5,0.7,0.99])\n",
    "[confidenceSeq(i) for i in test_arr]"
   ]
  },
  {
   "cell_type": "code",
   "execution_count": 4,
   "metadata": {},
   "outputs": [
    {
     "data": {
      "text/plain": [
       "[10.0, 300.0, 500.0, 700.0, 990.0]"
      ]
     },
     "execution_count": 4,
     "metadata": {},
     "output_type": "execute_result"
    }
   ],
   "source": [
    "# higher precision\n",
    "test_arr = np.asarray([0.01,0.3,0.5,0.7,0.99])\n",
    "[confidenceSeq(i, 3) for i in test_arr]"
   ]
  },
  {
   "cell_type": "code",
   "execution_count": 5,
   "metadata": {},
   "outputs": [
    {
     "name": "stdout",
     "output_type": "stream",
     "text": [
      "Martina has a value of 0.4350, Olivia has a value of 0.5335\n",
      "M's turn\n",
      "O's turn\n",
      "M's turn\n",
      "O's turn\n",
      "M's turn\n",
      "O's turn\n",
      "M's turn\n",
      "O's turn\n",
      "M's turn\n",
      "O's turn\n",
      "M's turn\n",
      "O's turn\n",
      "M's turn\n",
      "O's turn\n",
      "M's turn\n",
      "O's turn\n",
      "M's turn\n",
      "O's turn\n",
      "M's turn\n",
      "O's turn\n",
      "M's turn\n",
      "O's turn\n",
      "M's turn\n",
      "O's turn\n",
      "M's turn\n",
      "O's turn\n",
      "M's turn\n",
      "O's turn\n",
      "M's turn\n",
      "O's turn\n",
      "M's turn\n",
      "O's turn\n",
      "M's turn\n",
      "O's turn\n",
      "M's turn\n",
      "O's turn\n",
      "M's turn\n",
      "O's turn\n",
      "M's turn\n",
      "O's turn\n",
      "M's turn\n",
      "O's turn\n",
      "M's turn\n",
      "O's turn\n",
      "M's turn\n",
      " is bigger\n"
     ]
    }
   ],
   "source": [
    "step = 0\n",
    "m_val = random() # m goes first\n",
    "o_val = random()\n",
    "\n",
    "conf_vals = [confidenceSeq(i, 2) for i in [m_val, o_val]]\n",
    "print(f\"Martina has a value of {m_val:.4f}, Olivia has a value of {o_val:.4f}\")\n",
    "\n",
    "while True:\n",
    "    \n",
    "    step += 1\n",
    "    \n",
    "    if step % 2 == 0:\n",
    "        print(\"O's turn\")\n",
    "        if step > conf_vals[1]:\n",
    "            print(\"M is bigger\")\n",
    "            break\n",
    "    else:\n",
    "        print(\"M's turn\")\n",
    "        if step > conf_vals[0]:\n",
    "            print(\" is bigger\")\n",
    "            break        "
   ]
  },
  {
   "cell_type": "markdown",
   "metadata": {},
   "source": [
    "### Combining Into a Simulation: "
   ]
  },
  {
   "cell_type": "code",
   "execution_count": 6,
   "metadata": {},
   "outputs": [
    {
     "name": "stdout",
     "output_type": "stream",
     "text": [
      "For 100 games there was an accuracy of 98.000%\n"
     ]
    }
   ],
   "source": [
    "#\n",
    "win = 0\n",
    "games = 100\n",
    "missed_wins = {}\n",
    "\n",
    "for game in range(games):\n",
    "\n",
    "    # new game run\n",
    "    step = 0\n",
    "    m_val = random() # m goes first\n",
    "    o_val = random()\n",
    "    game_vals = [m_val, o_val]\n",
    "    conf_vals = [confidenceSeq(i, 2) for i in game_vals]\n",
    "    true_winner_idx = game_vals.index(max(game_vals))\n",
    "    name_list = [\"Martina\", \"Olivia\"]\n",
    "    #print(f\"Martina has a value of {game_vals[0]:.4f}, Olivia has a value of {game_vals[1]:.4f}\")\n",
    "    #print(f\"True winner should be: {name_list[true_winner_idx]}\")\n",
    "\n",
    "    while True:\n",
    "\n",
    "        step += 1\n",
    "\n",
    "        if step % 2 == 0:\n",
    "            if step > conf_vals[1]:\n",
    "                pred_winner_idx = 0 \n",
    "                break\n",
    "        else:\n",
    "            if step > conf_vals[0]:\n",
    "                pred_winner_idx = 1\n",
    "                break\n",
    "\n",
    "    # Determine performance: Store off misses for review \n",
    "    if pred_winner_idx == true_winner_idx:\n",
    "        win += 1\n",
    "    else:\n",
    "        missed_wins[game] = game_vals\n",
    "        \n",
    "### Performance metrics\n",
    "print(f\"For {games} games there was an accuracy of {100 * win / games:.3f}%\")"
   ]
  },
  {
   "cell_type": "code",
   "execution_count": 7,
   "metadata": {},
   "outputs": [
    {
     "data": {
      "text/plain": [
       "{21: [0.7112954155843861, 0.7120397239398537],\n",
       " 97: [0.5796914882856266, 0.5764447046350438]}"
      ]
     },
     "execution_count": 7,
     "metadata": {},
     "output_type": "execute_result"
    }
   ],
   "source": [
    "# makes sense that our miss will occur when very close....as we expand precision this shouldn't happen....which is next.\n",
    "missed_wins"
   ]
  },
  {
   "cell_type": "markdown",
   "metadata": {},
   "source": [
    "### Many Sims: \n",
    "\n",
    "We get closer & closer to 100%. "
   ]
  },
  {
   "cell_type": "code",
   "execution_count": 8,
   "metadata": {},
   "outputs": [
    {
     "name": "stdout",
     "output_type": "stream",
     "text": [
      "For 100000 games with precision 0 there was an accuracy of 74.958%\n",
      "For 100000 games with precision 1 there was an accuracy of 95.306%\n",
      "For 100000 games with precision 2 there was an accuracy of 99.543%\n",
      "For 100000 games with precision 3 there was an accuracy of 99.949%\n",
      "For 100000 games with precision 4 there was an accuracy of 99.988%\n"
     ]
    }
   ],
   "source": [
    "for precision in [0, 1,2,3,4]:\n",
    "    win = 0\n",
    "    games = 100_000 \n",
    "\n",
    "    for game in range(games):\n",
    "\n",
    "        # new game run\n",
    "        step = 0\n",
    "        m_val = random() # m goes first\n",
    "        o_val = random()\n",
    "        game_vals = [m_val, o_val]\n",
    "        conf_vals = [confidenceSeq(i, precision) for i in game_vals]\n",
    "        true_winner_idx = game_vals.index(max(game_vals))\n",
    "        name_list = [\"Martina\", \"Olivia\"]\n",
    "        #print(f\"Martina has a value of {game_vals[0]:.4f}, Olivia has a value of {game_vals[1]:.4f}\")\n",
    "        #print(f\"True winner should be: {name_list[true_winner_idx]}\")\n",
    "\n",
    "        while True:\n",
    "\n",
    "            step += 1\n",
    "\n",
    "            if step % 2 == 0:\n",
    "                if step > conf_vals[1]:\n",
    "                    pred_winner_idx = 0 \n",
    "                    break\n",
    "            else:\n",
    "                if step > conf_vals[0]:\n",
    "                    pred_winner_idx = 1\n",
    "                    break\n",
    "\n",
    "        # Determine performance: Store off misses for review \n",
    "        if pred_winner_idx == true_winner_idx:\n",
    "            win += 1\n",
    "\n",
    "    ### Performance metrics\n",
    "    print(f\"For {games} games with precision {precision} there was an accuracy of {100 * win / games:.3f}%\")"
   ]
  },
  {
   "cell_type": "markdown",
   "metadata": {},
   "source": [
    "### But, The Inner-Game Simulations Aren't Actually Needed:\n",
    "\n",
    "- We can very quickly establish the winner each game based on the min value\n",
    "- This allows us to quickly increase precision & game size"
   ]
  },
  {
   "cell_type": "code",
   "execution_count": 9,
   "metadata": {},
   "outputs": [
    {
     "name": "stdout",
     "output_type": "stream",
     "text": [
      "For 1000000 games with precision 0 there was an accuracy of 75.011%\n",
      "For 1000000 games with precision 1 there was an accuracy of 95.227%\n",
      "For 1000000 games with precision 2 there was an accuracy of 99.507%\n",
      "For 1000000 games with precision 3 there was an accuracy of 99.951%\n",
      "For 1000000 games with precision 4 there was an accuracy of 99.995%\n",
      "For 1000000 games with precision 5 there was an accuracy of 100.000%\n",
      "For 1000000 games with precision 6 there was an accuracy of 100.000%\n",
      "For 1000000 games with precision 7 there was an accuracy of 100.000%\n",
      "For 1000000 games with precision 8 there was an accuracy of 100.000%\n",
      "For 1000000 games with precision 9 there was an accuracy of 100.000%\n"
     ]
    }
   ],
   "source": [
    "for precision in [0, 1,2,3,4,5,6,7,8,9]:\n",
    "    win = 0\n",
    "    games = 1_000_000 \n",
    "\n",
    "    for game in range(games):\n",
    "\n",
    "        # new game run\n",
    "        m_val = random() # m goes first\n",
    "        o_val = random()\n",
    "        game_vals = [m_val, o_val]\n",
    "        conf_vals = [confidenceSeq(i, precision) for i in game_vals]\n",
    "        true_winner_idx = game_vals.index(max(game_vals))\n",
    "        start_step = min(conf_vals) - 1\n",
    "\n",
    "        while True:\n",
    "\n",
    "            start_step += 1\n",
    "\n",
    "            if start_step % 2 == 0:\n",
    "                if start_step > conf_vals[1]:\n",
    "                    pred_winner_idx = 0 \n",
    "                    break\n",
    "            else:\n",
    "                if start_step > conf_vals[0]:\n",
    "                    pred_winner_idx = 1\n",
    "                    break\n",
    "\n",
    "\n",
    "        # Determine performance: Store off misses for review \n",
    "        if pred_winner_idx == true_winner_idx:\n",
    "            win += 1\n",
    "\n",
    "    ### Performance metrics\n",
    "    print(f\"For {games} games with precision {precision} there was an accuracy of {100 * win / games:.3f}%\")"
   ]
  }
 ],
 "metadata": {
  "kernelspec": {
   "display_name": "Python 3.8",
   "language": "python",
   "name": "other-env"
  },
  "language_info": {
   "codemirror_mode": {
    "name": "ipython",
    "version": 3
   },
   "file_extension": ".py",
   "mimetype": "text/x-python",
   "name": "python",
   "nbconvert_exporter": "python",
   "pygments_lexer": "ipython3",
   "version": "3.8.5"
  }
 },
 "nbformat": 4,
 "nbformat_minor": 4
}
