{
 "cells": [
  {
   "cell_type": "markdown",
   "metadata": {},
   "source": [
    "### Riddler Express\n",
    "\n",
    "Riddler Nation is competing against Conundrum Country at an Olympic archery event. Each team fires three arrows toward a circular target 70 meters away. Hitting the bull’s-eye earns a team 10 points, while regions successively farther away from the bull’s-eye are worth fewer and fewer points.\n",
    "\n",
    "Whichever team has more points after three rounds wins. However, if the teams are tied after each team has taken three shots, both sides will fire another three arrows. (If they remain tied, they will continue firing three arrows each until the tie is broken.)\n",
    "\n",
    "For every shot, each archer of Riddler Nation has a one-third chance of hitting the bull’s-eye (i.e., earning 10 points), a one-third chance of earning 9 points and a one-third chance of earning 5 points.\n",
    "\n",
    "Meanwhile, each archer of Conundrum Country earns 8 points with every arrow.\n",
    "\n",
    "Which team is favored to win?"
   ]
  },
  {
   "cell_type": "markdown",
   "metadata": {},
   "source": [
    "### Analytical Solution: \n",
    "\n",
    "What we know: \n",
    "- There are 3 total shows, of which each has 3 possible outcomes, yielding `3^3` possible outcomes (not considering ties yet).\n",
    "- Each of these sequences has a score\n",
    "- A score of 24 indicates we need to consider tie option (which is just the same breakdown) "
   ]
  },
  {
   "cell_type": "code",
   "execution_count": 1,
   "metadata": {},
   "outputs": [
    {
     "name": "stdout",
     "output_type": "stream",
     "text": [
      "Total possibilities: 27\n",
      "['aaa', 'aab', 'aac', 'aba', 'abb', 'abc', 'aca', 'acb', 'acc', 'baa', 'bab', 'bac', 'bba', 'bbb', 'bbc', 'bca', 'bcb', 'bcc', 'caa', 'cab', 'cac', 'cba', 'cbb', 'cbc', 'cca', 'ccb', 'ccc']\n"
     ]
    }
   ],
   "source": [
    "from itertools import product\n",
    "from collections import defaultdict\n",
    "\n",
    "# identify all possible outcomes\n",
    "possible_outcomes = [\"\".join(seq) for seq in product(\"abc\", repeat=3)]\n",
    "print(f\"Total possibilities: {len(possible_outcomes)}\")\n",
    "print(possible_outcomes)"
   ]
  },
  {
   "cell_type": "markdown",
   "metadata": {},
   "source": [
    "Now we can just calculate a score for each of these & combine into a dictionary based on score."
   ]
  },
  {
   "cell_type": "code",
   "execution_count": 2,
   "metadata": {},
   "outputs": [],
   "source": [
    "# points assigned to shot\n",
    "score_dict = {'a': 10, 'b': 9, 'c': 5}\n",
    "\n",
    "def rnScore(outcome, score_dict):\n",
    "    \"\"\"Input outcome & return score\"\"\"\n",
    "    return sum([score_dict[shot] for shot in outcome])\n",
    "\n",
    "# do some tests\n",
    "\n",
    "# if we do: a-b-c we should get 24\n",
    "assert(rnScore('abc', score_dict) == 24)\n",
    "\n",
    "# if we do: a-a-c we should get 25\n",
    "assert(rnScore('aac', score_dict) == 25)"
   ]
  },
  {
   "cell_type": "code",
   "execution_count": 3,
   "metadata": {},
   "outputs": [],
   "source": [
    "result_dict = defaultdict(int)  # start with 0\n",
    "\n",
    "for outcome in possible_outcomes:\n",
    "    \n",
    "    score = rnScore(outcome, score_dict)\n",
    "    \n",
    "    result_dict[score] += 1"
   ]
  },
  {
   "cell_type": "code",
   "execution_count": 4,
   "metadata": {},
   "outputs": [
    {
     "data": {
      "text/plain": [
       "{15: 1, 19: 3, 20: 3, 23: 3, 24: 6, 25: 3, 27: 1, 28: 3, 29: 3, 30: 1}"
      ]
     },
     "execution_count": 4,
     "metadata": {},
     "output_type": "execute_result"
    }
   ],
   "source": [
    "dict(sorted(result_dict.items()))"
   ]
  },
  {
   "cell_type": "markdown",
   "metadata": {},
   "source": [
    "### Solving: \n",
    "\n",
    "Anytime Riddler Nation is > 24, they win. \n",
    "\n",
    "- We see that 11/27 games are outright wins for riddler nation\n",
    "- We see that 6/27 games are ties\n",
    "- We see that 10/27 games are outright losses for riddler nation\n",
    "\n",
    "#### Solution: Riddler Nation Expected to Win\n",
    "\n",
    "#### Extra Credit: \n",
    "\n",
    "What is the probability that the team you identified as the favorite will win? We can just calculate expected wins with the series below....(just an example)"
   ]
  },
  {
   "cell_type": "code",
   "execution_count": 5,
   "metadata": {},
   "outputs": [
    {
     "data": {
      "text/plain": [
       "14.14247865708517"
      ]
     },
     "execution_count": 5,
     "metadata": {},
     "output_type": "execute_result"
    }
   ],
   "source": [
    "rn_prob = 11/27 # riddler nation likelihood\n",
    "rn_wins = 11\n",
    "tie_prob = 6/27 # tie likelihood\n",
    "ties = 6\n",
    "\n",
    "# Building out the series of wins: \n",
    "# True wins    Tie-wins        tie-tie-win                  \n",
    "rn_wins + (ties * rn_prob) + (ties * tie_prob) * rn_prob \\\n",
    "    + (ties * (tie_prob**2)) * rn_prob + (ties * (tie_prob**3)) * rn_prob \\\n",
    "    + (ties * (tie_prob**4)) * rn_prob + (ties * (tie_prob**5)) * rn_prob"
   ]
  },
  {
   "cell_type": "markdown",
   "metadata": {},
   "source": [
    "#### Final Likelihood:\n",
    "\n",
    "\n",
    "$ W = 11 + \\sum \\limits _{n = 0} ^ {n}(6 * pw * T^{n})$\n",
    "\n",
    "where:\n",
    "- `pw` = win likelihood\n",
    "- `T` = tie likelihood\n",
    "\n",
    "\n",
    "$ Likelihood = \\frac{W}{27} $\n",
    "\n",
    "Or written as: \n",
    "\n",
    "$ Likelihood = \\frac{11}{27} + \\sum \\limits _{n = 0} ^ {n}(\\frac{6}{27} * pw * T^{n})$"
   ]
  },
  {
   "cell_type": "code",
   "execution_count": 6,
   "metadata": {},
   "outputs": [
    {
     "name": "stdout",
     "output_type": "stream",
     "text": [
      "Final likelihood: 0.5238\n"
     ]
    }
   ],
   "source": [
    "wins = 11\n",
    "for n in range(0,1000):\n",
    "    wins += 6 * (11/27) * ((6/27) ** n)\n",
    "\n",
    "print(f\"Final likelihood: {wins / 27:.4f}\")"
   ]
  },
  {
   "cell_type": "code",
   "execution_count": 7,
   "metadata": {},
   "outputs": [
    {
     "name": "stdout",
     "output_type": "stream",
     "text": [
      "Final likelihood: 0.5238\n"
     ]
    }
   ],
   "source": [
    "like = 11/27\n",
    "for n in range(0,1000):\n",
    "    like += (6/27) * (11/27) * ((6/27) ** n)\n",
    "\n",
    "print(f\"Final likelihood: {like:.4f}\")"
   ]
  },
  {
   "cell_type": "markdown",
   "metadata": {},
   "source": [
    "### And An Easy Simulation\n",
    "\n",
    "Pretty easy."
   ]
  },
  {
   "cell_type": "code",
   "execution_count": 8,
   "metadata": {
    "scrolled": true
   },
   "outputs": [
    {
     "name": "stdout",
     "output_type": "stream",
     "text": [
      "Ran 100 games with win likelihood of 0.5600\n",
      "Total time: 0.001\n",
      "Ran 1000 games with win likelihood of 0.4910\n",
      "Total time: 0.005\n",
      "Ran 10000 games with win likelihood of 0.5304\n",
      "Total time: 0.031\n",
      "Ran 100000 games with win likelihood of 0.5272\n",
      "Total time: 0.309\n",
      "Ran 1000000 games with win likelihood of 0.5244\n",
      "Total time: 3.221\n",
      "Ran 5000000 games with win likelihood of 0.5241\n",
      "Total time: 12.489\n",
      "Ran 10000000 games with win likelihood of 0.5240\n",
      "Total time: 23.001\n"
     ]
    }
   ],
   "source": [
    "import random\n",
    "import time\n",
    "\n",
    "sim_list = [100, 1_000, 10_000, 100_000, 1_000_000, 5_000_000, 10_000_000]\n",
    "\n",
    "for sim in sim_list:\n",
    "    start = time.time()\n",
    "    wins = 0\n",
    "    for _ in range(sim):\n",
    "        while True:\n",
    "            score = sum(random.choices([10,9,5],k=3))\n",
    "            if score > 24:\n",
    "                wins += 1\n",
    "                break\n",
    "            elif score < 24:\n",
    "                break\n",
    "            else:\n",
    "                continue\n",
    "    print(f\"Ran {sim} games with win likelihood of {wins/sim:.4f}\")\n",
    "    print(f\"Total time: {time.time() - start:.3f}\")"
   ]
  }
 ],
 "metadata": {
  "kernelspec": {
   "display_name": "Python 3.8",
   "language": "python",
   "name": "other-env"
  },
  "language_info": {
   "codemirror_mode": {
    "name": "ipython",
    "version": 3
   },
   "file_extension": ".py",
   "mimetype": "text/x-python",
   "name": "python",
   "nbconvert_exporter": "python",
   "pygments_lexer": "ipython3",
   "version": "3.8.5"
  }
 },
 "nbformat": 4,
 "nbformat_minor": 4
}
