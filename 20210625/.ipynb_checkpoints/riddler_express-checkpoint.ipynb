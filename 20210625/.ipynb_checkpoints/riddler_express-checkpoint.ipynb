{
 "cells": [
  {
   "cell_type": "markdown",
   "metadata": {},
   "source": [
    "### Riddler Express\n",
    "\n",
    "<Disclaimer: I got a tip for the \"missing information\". I wish I had written the problem out first>\n",
    "\n",
    "A bag contains 100 marbles, and each marble is one of three different colors. If you were to draw three marbles at random, the probability that you would get one of each color is exactly 20 percent.\n",
    "\n",
    "How many marbles of each color are in the bag?\n",
    "\n",
    "#### Solution Approach: Assuming replacement (was not clear from the problem)\n",
    "\n",
    "Things we know:\n",
    "\n",
    "$n = 100$\n",
    "\n",
    "$\\frac{x}{n} * \\frac{y}{n} * \\frac{z}{n} = 0.2$\n",
    "\n",
    "$x + y + z = 100$\n",
    "\n",
    "Solution: \n",
    "\n",
    "$x * y * z = 0.2n$\n",
    "\n",
    "$x + y + z = n$\n",
    "\n",
    "We won't find a unique solution at this point...in fact we won't find any solution until we add missing info\n",
    "\n",
    "##### The \"missing\" info:\n",
    "\n",
    "- The above will result in a likelihood for a single sequence of colors. \n",
    "- The problem does not specify that we need a specific sequence, just that we need the colors (in any order), meaning we need to determine total permutations: \n",
    "\n",
    "- We need to order 3 items in a sequence of 3\n",
    "$\\frac{n!}{n-r!} = \\frac{3!}{(3-3)!} = 6$\n",
    "\n",
    "#### Returning to Solution: \n",
    "\n",
    "Equation updated to following: \n",
    "\n",
    "$x * y * z = \\frac{.2n}{6}$\n",
    "\n",
    "$x + y + z = 100$\n",
    "\n",
    "... onto Python"
   ]
  },
  {
   "cell_type": "code",
   "execution_count": 1,
   "metadata": {},
   "outputs": [
    {
     "name": "stdout",
     "output_type": "stream",
     "text": [
      "Found 20% with following distribution: (22, 36, 42)\n",
      "Found 20% with following distribution: (25, 29, 46)\n"
     ]
    }
   ],
   "source": [
    "n = 100\n",
    "objective = round(0.2 / 6,4)\n",
    "solution_list = []\n",
    "for x in range(1,100):\n",
    "    for y in range(1,100):\n",
    "        \n",
    "        # 0 count of z would make no sense\n",
    "        if not (x+y < 100):\n",
    "            continue\n",
    "        \n",
    "        # determine z based on x & y counts\n",
    "        z = n - x - y\n",
    "        \n",
    "        # determine likelihood\n",
    "        likelihood = (x*y*z)/n**3\n",
    "        \n",
    "        if  round(likelihood, 4) == objective:\n",
    "            \n",
    "            # order & determine if stored already\n",
    "            solution = sorted((x,y,z))\n",
    "            if solution not in solution_list:\n",
    "                print(f\"Found 20% with following distribution: {(x,y,z)}\")\n",
    "                solution_list.append(solution)"
   ]
  }
 ],
 "metadata": {
  "kernelspec": {
   "display_name": "Python 3.8",
   "language": "python",
   "name": "other-env"
  },
  "language_info": {
   "codemirror_mode": {
    "name": "ipython",
    "version": 3
   },
   "file_extension": ".py",
   "mimetype": "text/x-python",
   "name": "python",
   "nbconvert_exporter": "python",
   "pygments_lexer": "ipython3",
   "version": "3.8.5"
  }
 },
 "nbformat": 4,
 "nbformat_minor": 4
}
