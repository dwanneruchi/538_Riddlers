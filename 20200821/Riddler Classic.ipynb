{
 "cells": [
  {
   "cell_type": "markdown",
   "metadata": {},
   "source": [
    "Riddler Classic\n",
    "From Scott Ogawa comes a riddle about rodents of usual size:\n",
    "\n",
    "Quarantined in your apartment, you decide to entertain yourself by building a large pen for your pet hamster. To create the pen, you have several vertical posts, around which you will wrap a sheet of fabric. The sheet is 1 meter long — meaning the perimeter of your pen can be at most 1 meter — and weighs 1 kilogram, while each post weighs k kilograms.\n",
    "\n",
    "Over the course of a typical day, your hamster gets bored and likes to change rooms in your apartment. That means you want your pen to be lightweight and easy to move between rooms. The total weight of the posts and the fabric you use should not exceed 1 kilogram.\n",
    "\n",
    "For example, if k = 0.2, then you could make an equilateral triangle with a perimeter of 0.4 meters (since 0.4 meters of the sheet would weigh 0.4 kilograms), or you could make a square with perimeter of 0.2 meters. However, you couldn’t make a pentagon, since the weight of five posts would already hit the maximum and leave no room for the sheet.\n",
    "\n",
    "You want to figure out the best shape in order to enclose the largest area possible. What’s the greatest value of k for which you should use four posts rather than three?\n",
    "\n",
    "Extra credit: For which values of k should you use five posts, six posts, seven posts, and so on?"
   ]
  },
  {
   "cell_type": "markdown",
   "metadata": {},
   "source": [
    "### The simulation method:\n",
    "\n",
    "Class quite unecessary, and probably makes it hard to work with the challenge problem. \n",
    "\n",
    "- I can infer that the value won't exceed .25 since weight exceeds 1, limits range of values to search\n",
    "- an equilateral triangle will have the greatest area, and a square will have greatest area"
   ]
  },
  {
   "cell_type": "code",
   "execution_count": 1,
   "metadata": {},
   "outputs": [],
   "source": [
    "import numpy as np\n",
    "k = list(np.arange(0, 0.25, 0.0001)) "
   ]
  },
  {
   "cell_type": "code",
   "execution_count": 2,
   "metadata": {},
   "outputs": [],
   "source": [
    "# dicts to store values\n",
    "tri_area = {}\n",
    "square_area = {}"
   ]
  },
  {
   "cell_type": "code",
   "execution_count": 3,
   "metadata": {},
   "outputs": [],
   "source": [
    "class item():\n",
    "    def __init__(self, weight):\n",
    "        self.weight = weight \n",
    "        self.square_area = 0\n",
    "        self.tri_area = 0\n",
    "    \n",
    "    def compare(self):\n",
    "        # run the various shapes\n",
    "        sq = self.square()\n",
    "        tr = self.triangle()\n",
    "        if sq == -1:\n",
    "            raise ValueError(\"Square failed\") \n",
    "        elif tr == -1:\n",
    "            raise ValueError(\"Triangle failed\") \n",
    "        elif self.square_area > self.tri_area:\n",
    "            return \"Square\"\n",
    "        else:\n",
    "            return \"Triangle\"\n",
    "    \n",
    "    def square(self):\n",
    "        \"\"\"Calculate remaining length & area for square based on weight\"\"\"\n",
    "        try:\n",
    "            sh_size = self.__sq_sheet_size() # get sheet size \n",
    "            s_weight = 4 * self.weight + (sh_size * 1) # calculate weight of square\n",
    "            if s_weight < 0 or s_weight > 1:\n",
    "                return -1\n",
    "            else:\n",
    "                self.square_area = self.__square_area(sh_size)\n",
    "                return 1\n",
    "            \n",
    "        except ValueError:\n",
    "            return -1\n",
    "\n",
    "    def triangle(self):\n",
    "        \"\"\"Calculate remaining length & area of sheet for triangle based on weight\"\"\"\n",
    "        try:\n",
    "            sh_tr_size = self.__tr_sheet_size() # get sheet size \n",
    "            t_weight = 3 * self.weight + (sh_tr_size * 1) # calculate weight of tri\n",
    "            if t_weight < 0 or t_weight > 1:\n",
    "                return -1\n",
    "            else:\n",
    "                self.tri_area = self.__tri_area(sh_tr_size)\n",
    "                return 1\n",
    "            \n",
    "        except ValueError:\n",
    "            return -1\n",
    "        \n",
    "    def __sq_sheet_size(self):\n",
    "        \"\"\"Private method for calculating weight of sheet based on self.weight\"\"\"\n",
    "        s =  1 - (4 * self.weight)\n",
    "        if s < 0:\n",
    "            raise ValueError(\"Sheet weight must exceed 0 kg\") \n",
    "        else:\n",
    "            return s\n",
    "\n",
    "    def __tr_sheet_size(self):\n",
    "        \"\"\"Private method for calculating weight of sheet based on self.weight\"\"\"\n",
    "        s =  1 - (3 * self.weight)\n",
    "        if s < 0:\n",
    "            raise ValueError(\"Sheet weight must exceed 0 kg\") \n",
    "        else:\n",
    "            return s\n",
    "        \n",
    "    def __square_area(self, sheet_size):\n",
    "        \"\"\"Private method for calculating area of square\"\"\"\n",
    "        return (sheet_size / 4) ** 2\n",
    "    \n",
    "    def __tri_area(self, sheet_size):\n",
    "        \"\"\"Private method for calculating area of equilateral triangle\"\"\"\n",
    "        return ((3**0.5) / 4) * ((sheet_size/3)**2)"
   ]
  },
  {
   "cell_type": "code",
   "execution_count": 4,
   "metadata": {},
   "outputs": [
    {
     "name": "stdout",
     "output_type": "stream",
     "text": [
      "Maximum kg is 0.0896)\n"
     ]
    }
   ],
   "source": [
    "# now just loop through until square stops\n",
    "\n",
    "for kg in k:\n",
    "    # instantiate\n",
    "    comp = item(kg)\n",
    "\n",
    "    # run comparison\n",
    "    winner = comp.compare()\n",
    "    if winner != \"Square\":\n",
    "        break\n",
    "    \n",
    "    # max kg\n",
    "    max_kg = kg\n",
    "    \n",
    "#\n",
    "print(f\"Maximum kg is {max_kg})\")"
   ]
  },
  {
   "cell_type": "code",
   "execution_count": null,
   "metadata": {},
   "outputs": [],
   "source": []
  }
 ],
 "metadata": {
  "kernelspec": {
   "display_name": "Python 3.8",
   "language": "python",
   "name": "other-env"
  },
  "language_info": {
   "codemirror_mode": {
    "name": "ipython",
    "version": 3
   },
   "file_extension": ".py",
   "mimetype": "text/x-python",
   "name": "python",
   "nbconvert_exporter": "python",
   "pygments_lexer": "ipython3",
   "version": "3.8.5"
  }
 },
 "nbformat": 4,
 "nbformat_minor": 4
}
