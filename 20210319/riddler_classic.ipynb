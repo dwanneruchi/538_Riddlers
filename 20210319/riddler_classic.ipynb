{
 "cells": [
  {
   "cell_type": "markdown",
   "metadata": {},
   "source": [
    "A few weeks ago, Scott Matlick reached out to me with observations about the relative likelihood that a positive integer with a given number of digits would be a perfect square. And that got us both wondering. For some perfect squares, when you remove the last digit, you get another perfect square. For example, when you remove the last digit from 256 (16^2), you get 25 (5^2).\n",
    "\n",
    "The first few squares for which this happens are 16, 49, 169, 256 and 361. What are the next three squares for which you can remove the last digit and get a different perfect square? How many more can you find? (Bonus points for not looking this up online or writing code to solve it for you! There are interesting ways to do this by hand, I swear.)\n",
    "\n",
    "### Process:\n",
    "\n",
    "1) Definitely writing code....\n",
    "\n",
    "2) Can repeatedly square an integer, then add 0-9 to the end (convert to a string & back?), then check if perfect square"
   ]
  },
  {
   "cell_type": "code",
   "execution_count": 1,
   "metadata": {},
   "outputs": [],
   "source": [
    "from itertools import count \n",
    "\n",
    "def testSquare(in_int):\n",
    "    \"\"\"Pass in integer & determine if perfect square\"\"\"\n",
    "    return (in_int)**0.5 % 1 == 0\n",
    "\n",
    "def testDigits(in_int, digit):\n",
    "    \"\"\"Convert from n digits to n + 1 digits\"\"\"\n",
    "    s_dig = ''.join(str(in_int) + str(digit))\n",
    "    return testSquare(int(s_dig))"
   ]
  },
  {
   "cell_type": "code",
   "execution_count": 2,
   "metadata": {},
   "outputs": [],
   "source": [
    "# do some tests: Confirm square testing works \n",
    "assert(testSquare(25) == True)\n",
    "assert(testSquare(17) == False)\n",
    "assert(testSquare(144) == True)\n",
    "\n",
    "# Confirm testDigits works\n",
    "assert(testDigits(25,6) == True) # 256 is a perfect square\n",
    "assert(testDigits(36,7) == False)"
   ]
  },
  {
   "cell_type": "code",
   "execution_count": 3,
   "metadata": {},
   "outputs": [
    {
     "name": "stdout",
     "output_type": "stream",
     "text": [
      "['1[6]', '4[9]', '16[9]', '25[6]', '36[1]']\n"
     ]
    }
   ],
   "source": [
    "\n",
    "### Doing a quick test to find the first 5: \n",
    "results = []\n",
    "\n",
    "# leveraging count for infinite sequence\n",
    "for x in count(1):\n",
    "    if len(results) >= 5:\n",
    "        break\n",
    "    \n",
    "    # square input, and add on 0-9 digits, check if perfect square\n",
    "    output = list(map(testDigits, [x**2]*10, range(10)))\n",
    "    \n",
    "    # if any element is true, then convert to list & find index\n",
    "    if any(output):\n",
    "        idx = [i for i, x in enumerate(output) if x is True]\n",
    "        \n",
    "        # reconstruct value: idx is the same as the digit itself\n",
    "        results.append(''.join(str(x**2) + str(idx)))\n",
    "    \n",
    "print(results)"
   ]
  },
  {
   "cell_type": "markdown",
   "metadata": {},
   "source": [
    "### Run larger process: \n",
    "\n",
    "start at count(7)"
   ]
  },
  {
   "cell_type": "code",
   "execution_count": 4,
   "metadata": {},
   "outputs": [
    {
     "name": "stdout",
     "output_type": "stream",
     "text": [
      "Remove last digit from 1444 (38.0^2), you get 144 (12.0^2)\n",
      "Remove last digit from 3249 (57.0^2), you get 324 (18.0^2)\n",
      "Remove last digit from 18496 (136.0^2), you get 1849 (43.0^2)\n"
     ]
    }
   ],
   "source": [
    "results = []\n",
    "\n",
    "# leveraging count for infinite sequence\n",
    "for x in count(7):\n",
    "    if len(results) >= 3:\n",
    "        break\n",
    "    \n",
    "    # square input, and add on 0-9 digits, check if perfect square\n",
    "    output = list(map(testDigits, [x**2]*10, range(10)))\n",
    "    \n",
    "    # if any element is true, then convert to list & find index\n",
    "    if any(output):\n",
    "        idx = [i for i, x in enumerate(output) if x is True]\n",
    "        \n",
    "        # reconstruct value: idx is the same as the digit itself\n",
    "        results.append(''.join(str(x**2) + str(idx[0])))\n",
    "    \n",
    "# Print out square-roots\n",
    "for _ in results:\n",
    "    print(f\"Remove last digit from {_} ({int(_)**0.5}^2), you get {_[:-1]} ({int(_[:-1])**0.5}^2)\")"
   ]
  },
  {
   "cell_type": "markdown",
   "metadata": {},
   "source": [
    "#### Solving Extra Credit: \n",
    "\n",
    "Did you look up the sequence and spoil the puzzle for yourself? Good news, there’s more! In the list above, 169 (132) is a little different from the other numbers. Not only when you remove the last digit do you get a perfect square, 16 (42), but when you remove the last two digits, you again get a perfect square: 1 (12). Can you find another square with both of these properties?"
   ]
  },
  {
   "cell_type": "code",
   "execution_count": null,
   "metadata": {},
   "outputs": [],
   "source": []
  }
 ],
 "metadata": {
  "kernelspec": {
   "display_name": "Python 3.8",
   "language": "python",
   "name": "other-env"
  },
  "language_info": {
   "codemirror_mode": {
    "name": "ipython",
    "version": 3
   },
   "file_extension": ".py",
   "mimetype": "text/x-python",
   "name": "python",
   "nbconvert_exporter": "python",
   "pygments_lexer": "ipython3",
   "version": "3.8.5"
  }
 },
 "nbformat": 4,
 "nbformat_minor": 4
}
