{
 "cells": [
  {
   "cell_type": "markdown",
   "metadata": {},
   "source": [
    "### Throwing All Functions Together In One Spot: \n",
    "\n",
    "Testing & exploration can be found here: https://github.com/dwanneruchi/538_Riddlers/blob/master/20210723/riddler_express.ipynb"
   ]
  },
  {
   "cell_type": "code",
   "execution_count": 1,
   "metadata": {},
   "outputs": [],
   "source": [
    "from itertools import product\n",
    "import random\n",
    "\n",
    "# Movement funcs:\n",
    "def bishopMove(row, col):\n",
    "    \"\"\"Bishop can move diagonal 1 space\"\"\"\n",
    "    return list(product([row-1, row+1],[col-1, col+1]))\n",
    "\n",
    "def rookMove(row, col):\n",
    "    \"\"\"Rook can move horiz/vert 1 space\"\"\"\n",
    "    moves = []\n",
    "    for i,j in [(-1,0), (1,0),(0,-1), (0,1)]:\n",
    "        moves.append((row + i, col + j))\n",
    "    return moves\n",
    "\n",
    "def knightMove(row, col):\n",
    "    \"\"\"Knight can move 2, 1 per usual (l-shape) -> 8 total moves\n",
    "    Stack tips: https://stackoverflow.com/questions/19372622/how-do-i-generate-all-of-a-knights-moves\n",
    "    \"\"\"\n",
    "    return list(product([row-1, row+1],[col-2, col+2])) + list(product([row-2,row+2],[col-1,col+1]))\n",
    "\n",
    "def pawnMove(row, col):\n",
    "    \"\"\"Pawn can only move up-diagonal\"\"\"\n",
    "    moves = []\n",
    "    for i,j in [(-1,-1), (-1,1)]:\n",
    "        moves.append((row + i, col + j))\n",
    "    return moves\n",
    "\n",
    "def queenMove(row, col):\n",
    "    \"\"\"Queen can move one space in any direction\"\"\"\n",
    "    all_moves = list(product([row-1, row+1, row],[col-1, col+1, col]))\n",
    "    \n",
    "    return [move for move in all_moves if (move[0] != row or move[1] != col)] # need to ensure some move occurred\n",
    "\n",
    "def move(p, row, col):\n",
    "    \"\"\"Determine current piece & return list of moves (not yet filtered)\"\"\"\n",
    "    if p == 'b':\n",
    "        return bishopMove(row, col)\n",
    "    elif p == 'r':\n",
    "        return rookMove(row, col)\n",
    "    elif p == 'n':\n",
    "        return knightMove(row, col)\n",
    "    elif p == 'p':\n",
    "        return pawnMove(row, col)\n",
    "    elif p == 'q':\n",
    "        return queenMove(row, col)\n",
    "    else:\n",
    "        raise TypeError(\"Not correct piece\")\n",
    "\n",
    "# Filtering out moves OR finding the king      \n",
    "def checkMoveBoundary(moveList):\n",
    "    \"\"\"Check if any move goes outside boundary, if so pass\"\"\"\n",
    "    return [(x,y) for x,y in moveList if x >= 0 and y >= 0 and x < 8 and y < 8]\n",
    "    \n",
    "def checkMoveBlack(moveList, gameBoard):\n",
    "    \"\"\"Check if any move leads to a black piece; remove as option\"\"\"\n",
    "    return [(x,y) for x,y in moveList if gameBoard[x][y] != 'BL']\n",
    "    \n",
    "def checkMoveKing(moveList, gameBoard):\n",
    "    \"\"\"Check if we can move to a king (which results in a win)\"\"\"\n",
    "    try:\n",
    "        return [(x,y) for x,y in moveList if gameBoard[x][y] == 'K'][0]\n",
    "    except:\n",
    "        return False\n",
    "\n",
    "# General Game Board\n",
    "game_board = [\n",
    "     ['K', 'BL', 'b', 'BL', 'K', 'r', 'b', 'r'],\n",
    "     ['n', 'r', 'n', 'n', 'p', 'n', 'K', 'b'],\n",
    "     ['r', 'BL', 'n', 'BL', 'p', 'r', 'p', 'r'],\n",
    "     ['BL', 'BL', 'p', 'r', 'BL', 'n', 'BL', 'BL'],\n",
    "     ['n', 'n', 'n', 'b', 'BL', 'b', 'r', 'b'],\n",
    "     ['q', 'r', 'n', 'p', 'BL', 'n', 'r', 'q'],\n",
    "     ['BL', 'BL', 'r', 'p', 'b', 'p', 'b', 'q'],\n",
    "     ['K', 'b', 'q', 'n', 'p', 'r', 'n', 'n']\n",
    "]"
   ]
  },
  {
   "cell_type": "markdown",
   "metadata": {},
   "source": [
    "### Running Various Games\n",
    "\n",
    "This could be more intelligently run, but I am running a series of games until one of the following occur:\n",
    "\n",
    "- King is moved to (ends the full simulation)\n",
    "- No eligible moves (ends the current game)\n",
    "\n",
    "More intelligent approach: Keep track of sequences and determine some sequence length to not allow repeated...there is a non-zero change right now of being stuck in an infinite loop of moves. "
   ]
  },
  {
   "cell_type": "code",
   "execution_count": 2,
   "metadata": {},
   "outputs": [
    {
     "name": "stdout",
     "output_type": "stream",
     "text": [
      "Game over - found king at (0, 0)\n"
     ]
    }
   ],
   "source": [
    "winner = False\n",
    "\n",
    "for _ in range(1000):\n",
    "    \n",
    "    # before we overwrite sequence let's look at winner; if winner end sim\n",
    "    if winner:\n",
    "        break\n",
    "    \n",
    "    sequence = [] # keep track of order\n",
    "    pos = (6,4)\n",
    "\n",
    "    while True:\n",
    "        # add move location to sequence\n",
    "        sequence.append(pos)\n",
    "\n",
    "        # determine piece & moves\n",
    "        piece = game_board[pos[0]][pos[1]]\n",
    "        pos_moves = move(piece, pos[0], pos[1])\n",
    "\n",
    "        # filter out incorrect moves\n",
    "        pos_moves = checkMoveBoundary(pos_moves)\n",
    "        pos_moves = checkMoveBlack(pos_moves,game_board)\n",
    "\n",
    "        # ensure we have moves left - if not we end our game & go to the next\n",
    "        if len(pos_moves) == 0:\n",
    "            break\n",
    "\n",
    "        # Any kings? If so, we end the simulation \n",
    "        finish = checkMoveKing(pos_moves,game_board)\n",
    "\n",
    "        if finish != False:\n",
    "            print(f\"Game over - found king at {finish}\")\n",
    "            winner = True\n",
    "            break\n",
    "\n",
    "        # If not, we need to choose a move from candidate moves: shuffle (Future: Check if we have last n moves in `sequence`)\n",
    "        random.shuffle(pos_moves)\n",
    "\n",
    "        pos = pos_moves[0]"
   ]
  },
  {
   "cell_type": "code",
   "execution_count": 3,
   "metadata": {},
   "outputs": [
    {
     "data": {
      "text/plain": [
       "[(6, 4),\n",
       " (5, 3),\n",
       " (4, 2),\n",
       " (6, 3),\n",
       " (5, 2),\n",
       " (6, 4),\n",
       " (5, 3),\n",
       " (4, 2),\n",
       " (5, 0),\n",
       " (5, 1),\n",
       " (4, 1),\n",
       " (2, 0),\n",
       " (1, 0),\n",
       " (0, 2),\n",
       " (1, 1),\n",
       " (1, 2)]"
      ]
     },
     "execution_count": 3,
     "metadata": {},
     "output_type": "execute_result"
    }
   ],
   "source": [
    "sequence"
   ]
  },
  {
   "cell_type": "markdown",
   "metadata": {},
   "source": [
    "### Found A Differenct Sequence (Quicker) In a Prior Run: \n",
    "\n",
    "```\n",
    "[(6, 4), \n",
    " (5, 3),\n",
    " (4, 2),\n",
    " (5, 0),\n",
    " (4, 1),\n",
    " (2, 0),\n",
    " (1, 0),\n",
    " (0, 2),\n",
    " (1, 1),\n",
    " (1, 2),\n",
    " (0,0)]\n",
    "```\n",
    "\n",
    "This becomes: \n",
    "\n",
    "`Bishop -> Pawn -> Knight -> Queen -> Knight -> Rook -> Knight -> Bishop -> Rook -> Knight -> KING at (0,0)`"
   ]
  },
  {
   "cell_type": "markdown",
   "metadata": {},
   "source": [
    "### Are There Multiple Solutions? \n",
    "\n",
    "Can we get to more than one king? \n",
    "\n",
    "Solution: Found 3 of the 4 have paths."
   ]
  },
  {
   "cell_type": "code",
   "execution_count": 17,
   "metadata": {},
   "outputs": [],
   "source": [
    "king_solution = {}\n",
    "\n",
    "winner = False\n",
    "\n",
    "for _ in range(100_000):\n",
    "    \n",
    "    # before we overwrite sequence let's look at winner; if winner end sim\n",
    "    if winner:\n",
    "        break\n",
    "    \n",
    "    sequence = [] # keep track of order\n",
    "    pos = (6,4)\n",
    "    i = 1 # let's kill it after 2K moves...arbitrary\n",
    "\n",
    "    while True:\n",
    "        # add move location to sequence\n",
    "        sequence.append(pos)\n",
    "\n",
    "        # determine piece & moves\n",
    "        piece = game_board[pos[0]][pos[1]]\n",
    "        pos_moves = move(piece, pos[0], pos[1])\n",
    "\n",
    "        # filter out incorrect moves\n",
    "        pos_moves = checkMoveBoundary(pos_moves)\n",
    "        pos_moves = checkMoveBlack(pos_moves,game_board)\n",
    "\n",
    "        # ensure we have moves left - if not we end our game & go to the next\n",
    "        if len(pos_moves) == 0:\n",
    "            break\n",
    "\n",
    "        # Any kings? If so, we end the simulation \n",
    "        finish = checkMoveKing(pos_moves,game_board)\n",
    "\n",
    "        if finish != False:\n",
    "            \n",
    "            # store more efficient solutions\n",
    "            if finish in king_solution.keys():\n",
    "                if len(sequence) < len(king_solution[finish]):\n",
    "                    # override value with more efficient route\n",
    "                    sequence.append(finish)\n",
    "                    king_solution[finish] = sequence\n",
    "            # always store a new king solution\n",
    "            if finish not in king_solution.keys():\n",
    "                sequence.append(finish)\n",
    "                king_solution[finish] = sequence\n",
    "            \n",
    "            break\n",
    "\n",
    "        # If not, we need to choose a move from candidate moves: shuffle (Future: Check if we have last n moves in `sequence`)\n",
    "        random.shuffle(pos_moves)\n",
    "\n",
    "        pos = pos_moves[0]\n",
    "        i += 1\n",
    "        if i > 2000:\n",
    "            break"
   ]
  },
  {
   "cell_type": "code",
   "execution_count": 18,
   "metadata": {},
   "outputs": [
    {
     "name": "stdout",
     "output_type": "stream",
     "text": [
      "Found king at (0, 4)\n",
      "Optimal Path: [(6, 4), (5, 3), (4, 2), (5, 0), (4, 1), (2, 2), (1, 4), (0, 5), (0, 4)]\n",
      "Found king at (0, 0)\n",
      "Optimal Path: [(6, 4), (5, 3), (4, 2), (5, 0), (4, 1), (2, 2), (1, 0), (0, 2), (1, 1), (1, 2), (0, 0)]\n",
      "Found king at (1, 6)\n",
      "Optimal Path: [(6, 4), (5, 3), (4, 2), (5, 0), (4, 1), (2, 0), (1, 0), (0, 2), (1, 3), (2, 5), (3, 5), (1, 6)]\n"
     ]
    }
   ],
   "source": [
    "for key, val in king_solution.items():\n",
    "    print(f\"Found king at {key}\")\n",
    "    print(f\"Optimal Path: {val}\")"
   ]
  }
 ],
 "metadata": {
  "kernelspec": {
   "display_name": "Python 3.8",
   "language": "python",
   "name": "other-env"
  },
  "language_info": {
   "codemirror_mode": {
    "name": "ipython",
    "version": 3
   },
   "file_extension": ".py",
   "mimetype": "text/x-python",
   "name": "python",
   "nbconvert_exporter": "python",
   "pygments_lexer": "ipython3",
   "version": "3.8.5"
  }
 },
 "nbformat": 4,
 "nbformat_minor": 4
}
