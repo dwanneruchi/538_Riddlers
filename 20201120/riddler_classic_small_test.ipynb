{
 "cells": [
  {
   "cell_type": "markdown",
   "metadata": {},
   "source": [
    "### Riddler Classic: \n",
    "\n",
    "From Patrick Lopatto comes a riddle we can all be thankful for:\n",
    "\n",
    "To celebrate Thanksgiving, you and 19 of your family members are seated at a circular table (socially distanced, of course). Everyone at the table would like a helping of cranberry sauce, which happens to be in front of you at the moment.\n",
    "\n",
    "Instead of passing the sauce around in a circle, you pass it randomly to the person seated directly to your left or to your right. They then do the same, passing it randomly either to the person to their left or right. This continues until everyone has, at some point, received the cranberry sauce.\n",
    "\n",
    "Of the 20 people in the circle, who has the greatest chance of being the last to receive the cranberry sauce?"
   ]
  },
  {
   "cell_type": "code",
   "execution_count": 1,
   "metadata": {},
   "outputs": [],
   "source": [
    "import numpy as np\n",
    "from collections import defaultdict"
   ]
  },
  {
   "cell_type": "code",
   "execution_count": 7,
   "metadata": {},
   "outputs": [],
   "source": [
    "class TDinner():\n",
    "    def __init__(self, num_people):\n",
    "        self.curr = 0 # we start off\n",
    "        self.people_list = [x for x in range(num_people)]\n",
    "        self.tracker = defaultdict(lambda: 0) # as we add keys, we just keep track of counts\n",
    "        self.tracker[0] += 1 # person starting has touched this \n",
    "        self.last_person = 99999 # outrageous value so we know this is not our answer\n",
    "       \n",
    "    def fullFeed(self):\n",
    "        \"\"\"Work around the table until everyone has access to cranberry sauce\"\"\"\n",
    "        continueCircle = True\n",
    "       \n",
    "        while continueCircle:\n",
    "           \n",
    "            # do a pass\n",
    "            self.__passOnce()\n",
    "           \n",
    "            # check if we can stop\n",
    "            continueCircle = self.__allTouch()\n",
    "       \n",
    "        loser = self.last_person\n",
    "       \n",
    "        return loser\n",
    "       \n",
    "    def __passOnce(self):\n",
    "        \"\"\" Look at self.curr & randomly choose index around\"\"\"\n",
    "       \n",
    "        # if 0 go left, else right\n",
    "        if np.random.choice(2, 1)[0] == 0:\n",
    "            next_move = self.people_list[(self.curr - 1)]\n",
    "        else:\n",
    "            # need to handle scenario where we are on element n of list len n and + 1 (should go to 0th person)\n",
    "            max_solv = lambda x : x + 1 if (x < len(self.people_list) - 1) else 0\n",
    "            next_move = max_solv(self.curr)\n",
    "           \n",
    "        # add next_move idx to tracker & add 1\n",
    "        self.tracker[next_move] += 1\n",
    "       \n",
    "        # update curr\n",
    "        self.curr = next_move\n",
    "           \n",
    "    def __allTouch(self):\n",
    "        \"\"\"Determine if everyone has experienced Cranberry Sauce\"\"\"\n",
    "       \n",
    "        # get list of people at table that haven't touched CS\n",
    "        missing_list = [x for x in self.people_list if x not in self.tracker.keys()]\n",
    "       \n",
    "        # if we dip below 2 then we only have 1 person left\n",
    "        if len(missing_list) < 2:\n",
    "            self.last_person = missing_list[0]\n",
    "            return False\n",
    "        return True"
   ]
  },
  {
   "cell_type": "code",
   "execution_count": 10,
   "metadata": {},
   "outputs": [],
   "source": [
    "### Run a small test\n",
    "from collections import OrderedDict\n",
    "\n",
    "# Params\n",
    "family_members = 20\n",
    "sims = 20000\n",
    "keys = [x for x in range(family_members)]\n",
    "items = [(key, 0) for key in keys] # adding a default value of 0 for ordered dict\n",
    "loser_tracker = OrderedDict(items)\n",
    "\n",
    "# Run sims\n",
    "for _ in range(sims):\n",
    "    \n",
    "    dinner = TDinner(family_members)\n",
    "    loser = dinner.fullFeed()\n",
    "    \n",
    "    # update dict \n",
    "    loser_tracker[loser] += 1"
   ]
  },
  {
   "cell_type": "code",
   "execution_count": 11,
   "metadata": {},
   "outputs": [
    {
     "data": {
      "text/plain": [
       "OrderedDict([(0, 0),\n",
       "             (12, 995),\n",
       "             (6, 1004),\n",
       "             (13, 1017),\n",
       "             (18, 1025),\n",
       "             (19, 1031),\n",
       "             (9, 1033),\n",
       "             (16, 1045),\n",
       "             (14, 1049),\n",
       "             (3, 1059),\n",
       "             (1, 1060),\n",
       "             (11, 1060),\n",
       "             (7, 1062),\n",
       "             (4, 1065),\n",
       "             (17, 1065),\n",
       "             (15, 1077),\n",
       "             (5, 1085),\n",
       "             (2, 1088),\n",
       "             (8, 1090),\n",
       "             (10, 1090)])"
      ]
     },
     "execution_count": 11,
     "metadata": {},
     "output_type": "execute_result"
    }
   ],
   "source": [
    "# Sort output \n",
    "# sorted accepts an iterable, as well as a key for reference. in this case we sort by t[1] which is our value\n",
    "OrderedDict(sorted(loser_tracker.items(), key = lambda t: t[1]))"
   ]
  },
  {
   "cell_type": "code",
   "execution_count": 13,
   "metadata": {},
   "outputs": [],
   "source": [
    "### write it out\n",
    "import pickle \n",
    "\n",
    "with open('test.pickle','wb') as fout:\n",
    "    pickle.dump(loser_tracker, fout)\n",
    "\n",
    "with open('test.pickle','rb') as fin:\n",
    "    pickle.load(fin)"
   ]
  },
  {
   "cell_type": "code",
   "execution_count": 20,
   "metadata": {},
   "outputs": [],
   "source": [
    "import os\n",
    "file_name = os.getpid()\n",
    "out_filename = str(file_name) + \".pickle\"\n",
    "\n",
    "with open(out_filename,'wb') as fout:\n",
    "    pickle.dump(loser_tracker, fout)"
   ]
  },
  {
   "cell_type": "code",
   "execution_count": null,
   "metadata": {},
   "outputs": [],
   "source": []
  }
 ],
 "metadata": {
  "kernelspec": {
   "display_name": "Python 3.8",
   "language": "python",
   "name": "other-env"
  },
  "language_info": {
   "codemirror_mode": {
    "name": "ipython",
    "version": 3
   },
   "file_extension": ".py",
   "mimetype": "text/x-python",
   "name": "python",
   "nbconvert_exporter": "python",
   "pygments_lexer": "ipython3",
   "version": "3.8.5"
  }
 },
 "nbformat": 4,
 "nbformat_minor": 4
}
