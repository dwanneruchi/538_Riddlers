{
 "cells": [
  {
   "cell_type": "markdown",
   "metadata": {},
   "source": [
    "### Classic Solution\n",
    "\n",
    "Depends on: \n",
    "- tDinnerClass.py -> class that establishes dinner table with `num_fam` and determines who receives the cranberry sauce last\n",
    "- classic_solve.py -> Runs 4 processes in parallel for a total of `4 x sims`\n"
   ]
  },
  {
   "cell_type": "code",
   "execution_count": 16,
   "metadata": {},
   "outputs": [],
   "source": [
    "import glob\n",
    "import pickle \n",
    "from collections import defaultdict\n",
    "import numpy as np\n",
    "import matplotlib.pyplot as plt\n",
    "\n",
    "# Generate list of files in output\n",
    "file_list = glob.glob(\"*.pickle\")\n",
    "\n",
    "# dict to store outputs:\n",
    "pickle_dict = {}\n",
    "main_tracker = defaultdict(lambda: 0) # sum all vals\n",
    "\n",
    "# read in values \n",
    "for i, file in enumerate(file_list):\n",
    "    \n",
    "    # open file from list\n",
    "    with open(file,'rb') as fin:\n",
    "        pickle_dict[i] = pickle.load(fin)"
   ]
  },
  {
   "cell_type": "code",
   "execution_count": 17,
   "metadata": {},
   "outputs": [],
   "source": [
    "# add all of the dicts together\n",
    "for k in pickle_dict.keys():\n",
    "    for key, value in pickle_dict[k].items():\n",
    "        # add to default dict\n",
    "        main_tracker[key] += value"
   ]
  },
  {
   "cell_type": "code",
   "execution_count": 18,
   "metadata": {},
   "outputs": [
    {
     "data": {
      "text/plain": [
       "defaultdict(<function __main__.<lambda>()>,\n",
       "            {0: 0,\n",
       "             1: 52804,\n",
       "             2: 52561,\n",
       "             3: 53171,\n",
       "             4: 52450,\n",
       "             5: 52635,\n",
       "             6: 52539,\n",
       "             7: 52368,\n",
       "             8: 52373,\n",
       "             9: 52477,\n",
       "             10: 52483,\n",
       "             11: 52637,\n",
       "             12: 52392,\n",
       "             13: 52587,\n",
       "             14: 52499,\n",
       "             15: 52823,\n",
       "             16: 52679,\n",
       "             17: 52978,\n",
       "             18: 52836,\n",
       "             19: 52708})"
      ]
     },
     "execution_count": 18,
     "metadata": {},
     "output_type": "execute_result"
    }
   ],
   "source": [
    "main_tracker"
   ]
  },
  {
   "cell_type": "markdown",
   "metadata": {},
   "source": [
    "### Add a plot:"
   ]
  },
  {
   "cell_type": "code",
   "execution_count": 19,
   "metadata": {},
   "outputs": [
    {
     "data": {
      "text/plain": [
       "[0, 1, 2, 3, 4, 5, 6, 7, 8, 9, 10, 11, 12, 13, 14, 15, 16, 17, 18, 19]"
      ]
     },
     "execution_count": 19,
     "metadata": {},
     "output_type": "execute_result"
    }
   ],
   "source": [
    "[x[0] for x in main_tracker.items()]"
   ]
  },
  {
   "cell_type": "code",
   "execution_count": 23,
   "metadata": {},
   "outputs": [
    {
     "data": {
      "image/png": "[encoded data removed]",
      "text/plain": [
       "<Figure size 432x288 with 1 Axes>"
      ]
     },
     "metadata": {
      "needs_background": "light"
     },
     "output_type": "display_data"
    }
   ],
   "source": [
    "n_bins = 20\n",
    "\n",
    "# Generate a normal distribution, center at x=0 and y=5\n",
    "x = [x[0] for x in main_tracker.items()]\n",
    "y_pos = np.arange(len(x))\n",
    "y = [x[1] for x in main_tracker.items()]\n",
    "\n",
    "# plot it\n",
    "plt.bar(y_pos, y, align='center', alpha=0.5)\n",
    "plt.xticks(y_pos, x)\n",
    "plt.ylabel('Seats to my left')\n",
    "plt.title('Loser Plots')\n",
    "\n",
    "plt.show()"
   ]
  },
  {
   "cell_type": "code",
   "execution_count": null,
   "metadata": {},
   "outputs": [],
   "source": []
  }
 ],
 "metadata": {
  "kernelspec": {
   "display_name": "Python 3.8",
   "language": "python",
   "name": "other-env"
  },
  "language_info": {
   "codemirror_mode": {
    "name": "ipython",
    "version": 3
   },
   "file_extension": ".py",
   "mimetype": "text/x-python",
   "name": "python",
   "nbconvert_exporter": "python",
   "pygments_lexer": "ipython3",
   "version": "3.8.5"
  }
 },
 "nbformat": 4,
 "nbformat_minor": 4
}
