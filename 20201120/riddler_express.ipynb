{
 "cells": [
  {
   "cell_type": "markdown",
   "metadata": {},
   "source": [
    "### Riddler Express:\n",
    "\n",
    "First, an unlucky puzzle that comes a week late:\n",
    "\n",
    "Depending on the year, there can be one, two or three Friday the 13ths. Last week happened to be the second Friday the 13th of 2020.\n",
    "\n",
    "What is the greatest number of Friday the 13ths that can occur over the course of four consecutive calendar years?\n",
    "\n",
    "Extra credit: What’s the greatest number of Friday the 13ths that can occur over a four-year period (i.e., a period that doesn’t necessarily begin on January 1)?"
   ]
  },
  {
   "cell_type": "code",
   "execution_count": 1,
   "metadata": {},
   "outputs": [
    {
     "name": "stdout",
     "output_type": "stream",
     "text": [
      "First full week in Nov: [2, 3, 4, 5, 6, 7, 8]\n",
      "First Friday in Nov: 6\n",
      "[6, 13, 20, 27]\n",
      "2\n"
     ]
    }
   ],
   "source": [
    "import calendar\n",
    "\n",
    "# create calendar object for Nov 2020\n",
    "c = calendar.monthcalendar(2020, 11)\n",
    "\n",
    "# Friday is represented as the 4th idx\n",
    "print(f\"First full week in Nov: {c[1]}\")\n",
    "print(f\"First Friday in Nov: {c[1][4]}\")\n",
    "\n",
    "# we need to find the on-0 vnalues of 4th index\n",
    "fri_month = [x[4] for x in c if x[4] != 0]\n",
    "print(fri_month)\n",
    "\n",
    "# then we just test if 13 exists & add to count for sequence\n",
    "fake_seq = 1\n",
    "fake_seq += 13 in fri_month\n",
    "print(fake_seq)"
   ]
  },
  {
   "cell_type": "code",
   "execution_count": 2,
   "metadata": {},
   "outputs": [
    {
     "name": "stdout",
     "output_type": "stream",
     "text": [
      "2\n"
     ]
    }
   ],
   "source": [
    "# Simplified: \n",
    "# just check if any of the 4th index == 13\n",
    "fri_month = [x[4] for x in c if x[4] == 13]\n",
    "\n",
    "# then we just test if 13 exists & add to count for sequence\n",
    "fake_seq = 1\n",
    "fake_seq += len(fri_month)\n",
    "print(fake_seq)"
   ]
  },
  {
   "cell_type": "markdown",
   "metadata": {},
   "source": [
    "### Function\n",
    "\n",
    "Make this a function based on a start year & sequence of years \n",
    "\n",
    "\n",
    "#### Some test cases:\n",
    "- 2012 & 2015 -> 3 Friday 13ths\n",
    "- 2013 & 2017 -> 2 Friday 13ths \n",
    "- 2014  -> 1 Friday 13th"
   ]
  },
  {
   "cell_type": "code",
   "execution_count": 20,
   "metadata": {},
   "outputs": [],
   "source": [
    "def countThirteenth(start_year = 2020, total_years = 1):\n",
    "    \"\"\"Read in start year & iterate through total years, tracking Fri 13th occurrences\"\"\"\n",
    "    \n",
    "    total_occurrences = 0\n",
    "    \n",
    "    # iterate through year sequence: \n",
    "    for year in range(total_years):\n",
    "        \n",
    "        # recalculate year based on sequence\n",
    "        test_year = year + start_year\n",
    "    \n",
    "        # iterate through months \n",
    "        for i in range(1,13):\n",
    "\n",
    "            # build calendar object for year, month\n",
    "            c = calendar.monthcalendar(test_year, i)\n",
    "\n",
    "            # generate list of friday 13th (can only be 0 or 1)\n",
    "            fri_nums = [x[4] for x in c if x[4] == 13]\n",
    "\n",
    "            # update tracker with length of list \n",
    "            total_occurrences += len(fri_nums)\n",
    "\n",
    "    # return total\n",
    "    return total_occurrences"
   ]
  },
  {
   "cell_type": "code",
   "execution_count": 21,
   "metadata": {},
   "outputs": [],
   "source": [
    "### Run through test cases\n",
    "\n",
    "# 3 total \n",
    "assert 3 == countThirteenth(2012, 1)\n",
    "assert 3 == countThirteenth(2015, 1)\n",
    "\n",
    "# 2 total \n",
    "assert 2 == countThirteenth(2013, 1)\n",
    "assert 2 == countThirteenth(2017, 1)\n",
    "\n",
    "# 1 total \n",
    "assert 1 == countThirteenth(2014, 1)\n",
    "\n",
    "# 2012 - 2015 should have 3 + 2 + 1 + 3 = 9\n",
    "assert 9 == countThirteenth(2012, 4)"
   ]
  },
  {
   "cell_type": "markdown",
   "metadata": {},
   "source": [
    "### Quick Solve: \n",
    "\n",
    "- Can just iterate over a century, and assume repeats occur at some point (this is the lazy approach)"
   ]
  },
  {
   "cell_type": "code",
   "execution_count": 23,
   "metadata": {},
   "outputs": [
    {
     "name": "stdout",
     "output_type": "stream",
     "text": [
      "Max Friday 13th count over 4 years: 9\n",
      "Year start: 1956\n"
     ]
    }
   ],
   "source": [
    "max_count = 0 # starting count \n",
    "\n",
    "for year_start in range(1930, 2030):\n",
    "    tot_vals = countThirteenth(year_start, 4)\n",
    "    \n",
    "    # determine if we have found a great count over a 4 year period\n",
    "    if tot_vals > max_count:\n",
    "        max_count = tot_vals\n",
    "        max_year_start = year_start\n",
    "\n",
    "print(f\"Max Friday 13th count over 4 years: {max_count}\")\n",
    "print(f\"Year start: {max_year_start}\")"
   ]
  },
  {
   "cell_type": "markdown",
   "metadata": {},
   "source": [
    "### Improving Solution: \n",
    "\n",
    "Want to determine when we have seen the same sequence of years. This allows us to have a clear answer without needing to loop over every single 4-year sequence. \n"
   ]
  },
  {
   "cell_type": "code",
   "execution_count": null,
   "metadata": {},
   "outputs": [],
   "source": []
  },
  {
   "cell_type": "code",
   "execution_count": null,
   "metadata": {},
   "outputs": [],
   "source": []
  }
 ],
 "metadata": {
  "kernelspec": {
   "display_name": "Python 3.8",
   "language": "python",
   "name": "other-env"
  },
  "language_info": {
   "codemirror_mode": {
    "name": "ipython",
    "version": 3
   },
   "file_extension": ".py",
   "mimetype": "text/x-python",
   "name": "python",
   "nbconvert_exporter": "python",
   "pygments_lexer": "ipython3",
   "version": "3.8.5"
  }
 },
 "nbformat": 4,
 "nbformat_minor": 4
}
