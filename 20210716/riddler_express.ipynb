{
 "cells": [
  {
   "cell_type": "markdown",
   "metadata": {},
   "source": [
    "### Riddler Express\n",
    "\n",
    "I have three dogs: Fatch, Fetch and Fitch. Yesterday, I found a brown 12-inch stick for them to play with. I marked the top and bottom of the stick and then threw it for Fatch. Fatch, a Dalmatian, bit it in a random spot — leaving a mark — and returned it to me. In her honor, I painted the stick black from the top to the bite and white from the bottom to the bite.\n",
    "\n",
    "I subsequently threw the stick for Fetch and then for Fitch, each of whom retrieved the stick by biting a random spot. What is the probability that Fetch and Fitch both bit the same color (i.e., both black or both white)?"
   ]
  },
  {
   "cell_type": "code",
   "execution_count": 1,
   "metadata": {},
   "outputs": [],
   "source": [
    "import numpy as np\n",
    "import random"
   ]
  },
  {
   "cell_type": "code",
   "execution_count": 2,
   "metadata": {},
   "outputs": [
    {
     "name": "stdout",
     "output_type": "stream",
     "text": [
      "Sample runs 1000, Percent Same Color: 0.67\n",
      "Sample runs 10000, Percent Same Color: 0.66\n",
      "Sample runs 100000, Percent Same Color: 0.67\n",
      "Sample runs 1000000, Percent Same Color: 0.67\n",
      "Sample runs 5000000, Percent Same Color: 0.67\n"
     ]
    }
   ],
   "source": [
    "sample_runs = [1_000, 10_000, 100_000, 1_000_000, 5_000_000]\n",
    "\n",
    "for n in sample_runs:\n",
    "    total = 0\n",
    "    for _ in range(n):\n",
    "        vals = [random.uniform(0,12) for x in range(3)]\n",
    "\n",
    "        if (vals[0] > vals[1]) == (vals[0] > vals[2]):\n",
    "            total += 1\n",
    "\n",
    "    print(f\"Sample runs {n}, Percent Same Color: {total / n:.2f}\")"
   ]
  }
 ],
 "metadata": {
  "kernelspec": {
   "display_name": "Python 3.8",
   "language": "python",
   "name": "other-env"
  },
  "language_info": {
   "codemirror_mode": {
    "name": "ipython",
    "version": 3
   },
   "file_extension": ".py",
   "mimetype": "text/x-python",
   "name": "python",
   "nbconvert_exporter": "python",
   "pygments_lexer": "ipython3",
   "version": "3.8.5"
  }
 },
 "nbformat": 4,
 "nbformat_minor": 4
}
