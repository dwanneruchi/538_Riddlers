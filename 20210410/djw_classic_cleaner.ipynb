{
 "cells": [
  {
   "cell_type": "markdown",
   "metadata": {},
   "source": [
    "### Classic:\n",
    "In Riddler City, all the streets are currently two-way streets. But in an effort to make the metropolis friendlier for pedestrians and cyclists, the mayor has decreed that all streets should be one-way. Meanwhile, the civil engineer overseeing this transition is not particularly invested in the project and will be randomly assigning every block of each street a random direction.\n",
    "\n",
    "For your daily commute to work, you drive a car two blocks east and two blocks south, as shown in the diagram below. What is the probability that, after each block is randomly assigned a one-way direction, there will still be a way for you to commute to work while staying within this two-by-two block region (i.e., sticking to the 12 streets you see in the diagram)? \n",
    "\n",
    "\n",
    "### General Approach: Graphs \n",
    "\n",
    "#### Graph Vertex:\n",
    "\n",
    "```\n",
    "0 1 2 \n",
    "\n",
    "3 4 5\n",
    "\n",
    "6 7 8\n",
    "\n",
    "```\n",
    "\n",
    "#### Combinations of Arcs:\n",
    "\n",
    "Helpful to store as a dictionary. The graph traversal overview here was very helpful: https://www.python.org/doc/essays/graphs/\n",
    "\n",
    "#### Randomization:\n",
    "\n",
    "Prior to storing the graph as a dictionary, randomly change each edge (using 0/1 to do this)\n",
    "\n",
    "#### Solution:\n",
    "\n",
    "- Convert to a graph\n",
    "- Edges become arcs (we have direction)\n",
    "- Randomly switch direction of arc\n",
    "- Confirm traversal from upper-left vertex to bottom-right vertex \n"
   ]
  },
  {
   "cell_type": "code",
   "execution_count": 1,
   "metadata": {},
   "outputs": [],
   "source": [
    "from numpy.random import binomial as bi\n",
    "from collections import defaultdict\n",
    "\n",
    "l_tuples = [(0,1), (0,3),\n",
    "            (1,2), (1,4),\n",
    "            (2,5),\n",
    "            (3,4), (3,6),\n",
    "            (4,5), (4,7),\n",
    "            (5,8),\n",
    "            (6,7),\n",
    "            (7,8)\n",
    "           ]"
   ]
  },
  {
   "cell_type": "code",
   "execution_count": 2,
   "metadata": {},
   "outputs": [],
   "source": [
    "# utilize the recursive path function from documentation with minor tweak\n",
    "# Breakdown: \n",
    "# If start == end, then we are finished & path is found\n",
    "# If start is not in graph, then we can't go anywhere (this would mean the arcs point to start instread of away)\n",
    "# Otherwise, iterate over node options recursively -> working backwards to determine if we can navigate form s -> e\n",
    "def find_path(graph, start, end, path=[]):\n",
    "        path = path + [start]\n",
    "        if start == end:\n",
    "            return path\n",
    "        if start not in graph:\n",
    "            return None\n",
    "        for node in graph[start]:\n",
    "            if node not in path:\n",
    "                newpath = find_path(graph, node, end, path)\n",
    "                if newpath: \n",
    "                    return newpath\n",
    "        return None\n",
    "\n",
    "def randomRoute(l_tup):\n",
    "    \"\"\"Randomly flip edges to generate list of of arcs\"\"\"\n",
    "    out_tup = []\n",
    "    for edge in l_tup:\n",
    "        if bi(1, 0.5, 1):\n",
    "            edge = (edge[1], edge[0])\n",
    "        out_tup.append(edge)\n",
    "    return out_tup\n",
    "\n",
    "\n",
    "def graphBuild(l_tup):\n",
    "    routes = defaultdict( list )\n",
    "\n",
    "    for k,v in l_tup:\n",
    "        routes[k].append(v)\n",
    "    \n",
    "    return routes"
   ]
  },
  {
   "cell_type": "markdown",
   "metadata": {},
   "source": [
    "### Confirm Path Traversal Works:\n",
    "\n",
    "Trying a few examples:\n",
    "1) Original path -> we know this works\n",
    "\n",
    "2) Impossible patth -> No way to move out of vertex 1\n",
    "\n",
    "3) Path with infinite loop -> ensure we break out of infinite recursion"
   ]
  },
  {
   "cell_type": "code",
   "execution_count": 3,
   "metadata": {},
   "outputs": [
    {
     "name": "stdout",
     "output_type": "stream",
     "text": [
      "[0, 1, 2, 5, 8]\n",
      "None\n",
      "None\n"
     ]
    }
   ],
   "source": [
    "start = 0\n",
    "end = 8\n",
    "\n",
    "# original list of edges all east / south\n",
    "l_tuples = [(0,1), (0,3),\n",
    "            (1,2), (1,4),\n",
    "            (2,5),\n",
    "            (3,4), (3,6),\n",
    "            (4,5), (4,7),\n",
    "            (5,8),\n",
    "            (6,7),\n",
    "            (7,8)\n",
    "           ]\n",
    "\n",
    "# build graph\n",
    "graph = graphBuild(l_tuples)\n",
    "\n",
    "print(find_path(graph, start, end))\n",
    "assert(find_path(graph, start, end) != None)\n",
    "\n",
    "# check an impossible example now \n",
    "# 0 - 1 exists, but then 1 is flipped to go backwards\n",
    "# 0 - 3 no longer exists (only goes up)\n",
    "\n",
    "l_tuples = [(0,1), (3,0),\n",
    "            (2,1), (4,1),\n",
    "            (2,5),\n",
    "            (3,4), (3,6),\n",
    "            (4,5), (4,7),\n",
    "            (5,8),\n",
    "            (6,7),\n",
    "            (7,8)\n",
    "           ]\n",
    "\n",
    "# build graph\n",
    "graph = graphBuild(l_tuples)\n",
    "\n",
    "print(find_path(graph, start, end))\n",
    "assert(find_path(graph, start, end) == None)\n",
    "\n",
    "# check an infinite loop example now \n",
    "# 0 - 1 , 1 -4 , 4 - 3, 3 - 0\n",
    "\n",
    "# each tuple represents a graph arc\n",
    "l_tuples = [(0,1), (3,0),\n",
    "            (2,1), (1,4),\n",
    "            (2,5),\n",
    "            (4, 3), (6,3),\n",
    "            (5,4), (7,4),\n",
    "            (5,8),\n",
    "            (6,7),\n",
    "            (7,8)\n",
    "           ]\n",
    "\n",
    "# build graph\n",
    "graph = graphBuild(l_tuples)\n",
    "\n",
    "print(find_path(graph, start, end))\n",
    "assert(find_path(graph, start, end) == None)"
   ]
  },
  {
   "cell_type": "markdown",
   "metadata": {},
   "source": [
    "#### Sim Progression: \n",
    "\n",
    "- see how the prob of success shifts over time "
   ]
  },
  {
   "cell_type": "code",
   "execution_count": 4,
   "metadata": {},
   "outputs": [
    {
     "name": "stdout",
     "output_type": "stream",
     "text": [
      "Probability of success for sim size 100: 0.3800\n",
      "Probability of success for sim size 1000: 0.2760\n",
      "Probability of success for sim size 10000: 0.2749\n",
      "Probability of success for sim size 100000: 0.2771\n",
      "Probability of success for sim size 250000: 0.2770\n",
      "Probability of success for sim size 500000: 0.2767\n",
      "Probability of success for sim size 1000000: 0.2770\n",
      "Probability of success for sim size 2000000: 0.2765\n"
     ]
    }
   ],
   "source": [
    "# original list of edges all east / south\n",
    "l_tuples = [(0,1), (0,3),\n",
    "            (1,2), (1,4),\n",
    "            (2,5),\n",
    "            (3,4), (3,6),\n",
    "            (4,5), (4,7),\n",
    "            (5,8),\n",
    "            (6,7),\n",
    "            (7,8)\n",
    "           ]\n",
    "\n",
    "sim_list = [100,1_000,10_000, 100_000, 250_000, 500_000, 1_000_000, 2_000_000]\n",
    "\n",
    "for sims in sim_list:\n",
    "\n",
    "    success = 0\n",
    "\n",
    "    for _ in range(sims):\n",
    "\n",
    "        # randomize route\n",
    "        out = randomRoute(l_tuples)\n",
    "\n",
    "        # convert to graph \n",
    "        routes = graphBuild(out)\n",
    "\n",
    "        # graph traversal\n",
    "        try:\n",
    "            all_paths = find_path(routes, 0,8)\n",
    "            if all_paths != None:\n",
    "                #print(all_paths)\n",
    "                success += 1\n",
    "        except:\n",
    "            print(\"Error\")\n",
    "\n",
    "\n",
    "    print(f\"Probability of success for sim size {sims}: {success/sims:.4f}\")"
   ]
  },
  {
   "cell_type": "markdown",
   "metadata": {},
   "source": [
    "### Analytical Solution:\n",
    "\n",
    "- Determine all possible combinations of routes (think of them as + vs -)\n",
    "- Determine total routes that allow for Start -> Finish \n",
    "\n",
    "#### Arcs:\n",
    "- 12 total arcs which can be (+) or (-) ---> 2^12 combinations (I think) \n",
    "- Potential routes need to include 2 horizontal (+) and 2 vertical (+)...."
   ]
  },
  {
   "cell_type": "code",
   "execution_count": 7,
   "metadata": {},
   "outputs": [
    {
     "data": {
      "text/plain": [
       "4096"
      ]
     },
     "execution_count": 7,
     "metadata": {},
     "output_type": "execute_result"
    }
   ],
   "source": [
    "2**12"
   ]
  },
  {
   "cell_type": "code",
   "execution_count": null,
   "metadata": {},
   "outputs": [],
   "source": []
  }
 ],
 "metadata": {
  "kernelspec": {
   "display_name": "Python 3.8",
   "language": "python",
   "name": "other-env"
  },
  "language_info": {
   "codemirror_mode": {
    "name": "ipython",
    "version": 3
   },
   "file_extension": ".py",
   "mimetype": "text/x-python",
   "name": "python",
   "nbconvert_exporter": "python",
   "pygments_lexer": "ipython3",
   "version": "3.8.5"
  }
 },
 "nbformat": 4,
 "nbformat_minor": 4
}
