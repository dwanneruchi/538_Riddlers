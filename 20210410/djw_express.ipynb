{
 "cells": [
  {
   "cell_type": "markdown",
   "metadata": {},
   "source": [
    "### Riddler Express\n",
    "\n",
    "You have two 16-ounce cups — cup A and cup B. Both cups initially have 8 ounces of water in them.\n",
    "\n",
    "You take half of the water in cup A and pour it into cup B. Then, you take half of the water in cup B and pour it back into cup A. You do this again. And again. And again. And then many, many, many more times — always pouring half the contents of A into B, and then half of B back into A.\n",
    "\n",
    "When you finally pause for a breather, what fraction of the total water is in cup A?"
   ]
  },
  {
   "cell_type": "code",
   "execution_count": 1,
   "metadata": {},
   "outputs": [],
   "source": [
    "def cupPour(in_cup):\n",
    "    return in_cup/2"
   ]
  },
  {
   "cell_type": "code",
   "execution_count": 12,
   "metadata": {},
   "outputs": [
    {
     "name": "stdout",
     "output_type": "stream",
     "text": [
      "Cup B has 12.00 ounces of water\n",
      "Cup A has 10.00 ounces of water\n",
      "Cup B has 11.00 ounces of water\n",
      "Cup A has 10.50 ounces of water\n",
      "Cup B has 10.75 ounces of water\n",
      "Cup A has 10.62 ounces of water\n",
      "Cup B has 10.69 ounces of water\n",
      "Cup A has 10.66 ounces of water\n",
      "Cup B has 10.67 ounces of water\n",
      "Cup A has 10.66 ounces of water\n",
      "Cup B has 10.67 ounces of water\n",
      "Cup A has 10.67 ounces of water\n",
      "Cup B has 10.67 ounces of water\n",
      "Cup A has 10.67 ounces of water\n",
      "Cup B has 10.67 ounces of water\n",
      "Cup A has 10.67 ounces of water\n",
      "Cup B has 10.67 ounces of water\n",
      "Cup A has 10.67 ounces of water\n",
      "Cup B has 10.67 ounces of water\n",
      "Cup A has 10.67 ounces of water\n",
      "Cup B has 10.67 ounces of water\n",
      "Cup A has 10.67 ounces of water\n",
      "Cup B has 10.67 ounces of water\n",
      "Cup A has 10.67 ounces of water\n",
      "Cup B has 10.67 ounces of water\n",
      "Cup A has 10.67 ounces of water\n",
      "Cup B has 10.67 ounces of water\n",
      "Cup A has 10.67 ounces of water\n",
      "Cup B has 10.67 ounces of water\n",
      "Cup A has 10.67 ounces of water\n",
      "Cup B has 10.67 ounces of water\n",
      "Cup A has 10.67 ounces of water\n",
      "Cup B has 10.67 ounces of water\n",
      "Cup A has 10.67 ounces of water\n",
      "Cup B has 10.67 ounces of water\n",
      "Cup A has 10.67 ounces of water\n",
      "Cup B has 10.67 ounces of water\n",
      "Cup A has 10.67 ounces of water\n",
      "Cup B has 10.67 ounces of water\n",
      "Cup A has 10.67 ounces of water\n",
      "Cup B has 10.67 ounces of water\n",
      "Cup A has 10.67 ounces of water\n",
      "Cup B has 10.67 ounces of water\n",
      "Cup A has 10.67 ounces of water\n",
      "Cup B has 10.67 ounces of water\n",
      "Cup A has 10.67 ounces of water\n",
      "Cup B has 10.67 ounces of water\n",
      "Cup A has 10.67 ounces of water\n",
      "Cup B has 10.67 ounces of water\n",
      "Cup A has 10.67 ounces of water\n",
      "Cup B has 10.67 ounces of water\n",
      "Cup A has 10.67 ounces of water\n",
      "Cup B has 10.67 ounces of water\n",
      "Cup A has 10.67 ounces of water\n",
      "Cup B has 10.67 ounces of water\n",
      "Cup A has 10.67 ounces of water\n",
      "Cup B has 10.67 ounces of water\n",
      "Cup A has 10.67 ounces of water\n",
      "Cup B has 10.67 ounces of water\n",
      "Cup A has 10.67 ounces of water\n",
      "Cup B has 10.67 ounces of water\n",
      "Cup A has 10.67 ounces of water\n",
      "Cup B has 10.67 ounces of water\n",
      "Cup A has 10.67 ounces of water\n",
      "Cup B has 10.67 ounces of water\n",
      "Cup A has 10.67 ounces of water\n",
      "Cup B has 10.67 ounces of water\n",
      "Cup A has 10.67 ounces of water\n",
      "Cup B has 10.67 ounces of water\n",
      "Cup A has 10.67 ounces of water\n",
      "Cup B has 10.67 ounces of water\n",
      "Cup A has 10.67 ounces of water\n",
      "Cup B has 10.67 ounces of water\n",
      "Cup A has 10.67 ounces of water\n",
      "Cup B has 10.67 ounces of water\n",
      "Cup A has 10.67 ounces of water\n",
      "Cup B has 10.67 ounces of water\n",
      "Cup A has 10.67 ounces of water\n",
      "Cup B has 10.67 ounces of water\n",
      "Cup A has 10.67 ounces of water\n",
      "Cup B has 10.67 ounces of water\n",
      "Cup A has 10.67 ounces of water\n",
      "Cup B has 10.67 ounces of water\n",
      "Cup A has 10.67 ounces of water\n",
      "Cup B has 10.67 ounces of water\n",
      "Cup A has 10.67 ounces of water\n",
      "Cup B has 10.67 ounces of water\n",
      "Cup A has 10.67 ounces of water\n",
      "Cup B has 10.67 ounces of water\n",
      "Cup A has 10.67 ounces of water\n",
      "Cup B has 10.67 ounces of water\n",
      "Cup A has 10.67 ounces of water\n",
      "Cup B has 10.67 ounces of water\n",
      "Cup A has 10.67 ounces of water\n",
      "Cup B has 10.67 ounces of water\n",
      "Cup A has 10.67 ounces of water\n",
      "Cup B has 10.67 ounces of water\n",
      "Cup A has 10.67 ounces of water\n",
      "Cup B has 10.67 ounces of water\n",
      "Cup A has 10.67 ounces of water\n",
      "Cup A has 66.67% of the water\n"
     ]
    }
   ],
   "source": [
    "tot_h20 = 16\n",
    "cup_a = 8\n",
    "cup_b = 8\n",
    "\n",
    "for i in range(100):\n",
    "    \n",
    "    if i % 2 == 0:\n",
    "        diff = cupPour(cup_a)\n",
    "        cup_a -= diff\n",
    "        cup_b += diff\n",
    "        print(f\"Cup B has {cup_b:.2f} ounces of water\")\n",
    "    else:\n",
    "        diff = cupPour(cup_b)\n",
    "        cup_b -= diff\n",
    "        cup_a += diff\n",
    "        print(f\"Cup A has {cup_a:.2f} ounces of water\")\n",
    "        \n",
    "print(f\"Cup A has {100 * cup_a / tot_h20:.2f}% of the water\")"
   ]
  },
  {
   "cell_type": "markdown",
   "metadata": {},
   "source": [
    "### Extra credit: \n",
    "\n",
    "Now suppose both cups initially have somewhere between 0 and 8 ounces of water in them. You don’t know the precise amount in each cup, but you know that both cups are not empty. Again, you pour half the water from cup A into cup B, and then half from cup B back to A. You do this many, many times. When you again finally pause for a breather, what fraction of the total water is in cup A?"
   ]
  },
  {
   "cell_type": "code",
   "execution_count": 15,
   "metadata": {},
   "outputs": [],
   "source": [
    "from random import uniform"
   ]
  },
  {
   "cell_type": "code",
   "execution_count": 18,
   "metadata": {},
   "outputs": [
    {
     "data": {
      "text/plain": [
       "0.34326141064604965"
      ]
     },
     "execution_count": 18,
     "metadata": {},
     "output_type": "execute_result"
    }
   ],
   "source": []
  },
  {
   "cell_type": "code",
   "execution_count": 24,
   "metadata": {},
   "outputs": [
    {
     "name": "stdout",
     "output_type": "stream",
     "text": [
      "Cup A starts at 3.423589928506491, Cup B starts at 3.1243242073545696\n",
      "Cup A has 66.67% of the water\n",
      "\n",
      "Cup A starts at 5.864233051953954, Cup B starts at 1.3663728902546248\n",
      "Cup A has 66.67% of the water\n",
      "\n",
      "Cup A starts at 0.6117817361595312, Cup B starts at 0.0020186649154041447\n",
      "Cup A has 66.67% of the water\n",
      "\n",
      "Cup A starts at 7.73014548359592, Cup B starts at 7.153481730278957\n",
      "Cup A has 66.67% of the water\n",
      "\n",
      "Cup A starts at 7.862415608788159, Cup B starts at 4.89078842928354\n",
      "Cup A has 66.67% of the water\n",
      "\n",
      "Cup A starts at 5.904587165515923, Cup B starts at 5.0709082025430225\n",
      "Cup A has 66.67% of the water\n",
      "\n",
      "Cup A starts at 1.5632244490727434, Cup B starts at 2.9090152301852124\n",
      "Cup A has 66.67% of the water\n",
      "\n",
      "Cup A starts at 3.7148444348524094, Cup B starts at 1.3993465719806695\n",
      "Cup A has 66.67% of the water\n",
      "\n",
      "Cup A starts at 4.544951949595466, Cup B starts at 0.7887560226550541\n",
      "Cup A has 66.67% of the water\n",
      "\n",
      "Cup A starts at 4.8910869429740895, Cup B starts at 1.5579559826870417\n",
      "Cup A has 66.67% of the water\n",
      "\n"
     ]
    }
   ],
   "source": [
    "\n",
    "for _ in range(10):\n",
    "    cup_a = uniform(0,8)\n",
    "    cup_b = uniform(0,8)\n",
    "\n",
    "    tot_h20 = cup_a + cup_b\n",
    "    print(f\"Cup A starts at {cup_a}, Cup B starts at {cup_b}\")\n",
    "\n",
    "    for i in range(1000):\n",
    "\n",
    "        if i % 2 == 0:\n",
    "            diff = cupPour(cup_a)\n",
    "            cup_a -= diff\n",
    "            cup_b += diff\n",
    "        else:\n",
    "            diff = cupPour(cup_b)\n",
    "            cup_b -= diff\n",
    "            cup_a += diff\n",
    "\n",
    "    print(f\"Cup A has {100 * cup_a / tot_h20:.2f}% of the water\\n\")"
   ]
  }
 ],
 "metadata": {
  "kernelspec": {
   "display_name": "Python 3.8",
   "language": "python",
   "name": "other-env"
  },
  "language_info": {
   "codemirror_mode": {
    "name": "ipython",
    "version": 3
   },
   "file_extension": ".py",
   "mimetype": "text/x-python",
   "name": "python",
   "nbconvert_exporter": "python",
   "pygments_lexer": "ipython3",
   "version": "3.8.5"
  }
 },
 "nbformat": 4,
 "nbformat_minor": 4
}
