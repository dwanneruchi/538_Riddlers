{
 "cells": [
  {
   "cell_type": "markdown",
   "metadata": {},
   "source": [
    "Mathematician John von Neumann is credited with figuring out how to take a biased coin (whose probability of coming up heads is p, not necessarily equal to 0.5) and “simulate” a fair coin. Simply flip the coin twice. If it comes up heads both times or tails both times, then flip it twice again. Eventually, you’ll get two different flips — either a heads and then a tails, or a tails and then a heads, with each of these two cases equally likely. Once you get two different flips, you can call the second of those flips the outcome of your “simulation.”\n",
    "\n",
    "For any value of p between zero and one, this procedure will always return heads half the time and tails half the time. This is pretty remarkable! But there’s a downside to von Neumann’s approach — you don’t know how long (i.e., how many flips) the simulation will last.\n",
    "\n",
    "Suppose I want to simulate a fair coin in at most three flips. For which values of p is this possible?\n",
    "\n",
    "Extra credit: Suppose I want to simulate a fair coin in at most N flips. For how many values of p is this possible?"
   ]
  },
  {
   "cell_type": "markdown",
   "metadata": {},
   "source": [
    "### General Thinking:\n",
    "\n",
    "- John VN is not counting a simulation until there is a divergence at `N-1` flips, in which case the `Nth` flip is going to count as the outcome of the simulation. \n",
    "\n",
    "- In our problem we want to minimize those `N` flips to `<=3`. "
   ]
  },
  {
   "cell_type": "code",
   "execution_count": 20,
   "metadata": {},
   "outputs": [],
   "source": [
    "import numpy as np \n",
    "\n",
    "# start with building a class for handling the John Von Neumann scenario \n",
    "# Note: This is not efficient. Very slow, but just a POC\n",
    "class johnny_v():\n",
    "    def __init__(self, p = 0.5, sims = 1000):\n",
    "        self.coin_p = p\n",
    "        self.sims = sims\n",
    "        self.obs_list = []\n",
    "        \n",
    "    def __single_sim(self):\n",
    "        \"\"\"Flip a coin until we get N-1 != N. Return observation N\"\"\"\n",
    "        same = True\n",
    "        \n",
    "        while same:\n",
    "            \n",
    "            # flip two coins with a prob of coin_p\n",
    "            outcomes = np.random.binomial(1, self.coin_p, size = 2)\n",
    "            \n",
    "            if outcomes[0] != outcomes[1]:\n",
    "                return outcomes[1]\n",
    "            \n",
    "    def full_sim(self):\n",
    "        \"\"\"Run a full simulation across self.sims length\"\"\"\n",
    "        \n",
    "        for i in range(self.sims):\n",
    "            self.obs_list.append(self.__single_sim())"
   ]
  },
  {
   "cell_type": "code",
   "execution_count": 24,
   "metadata": {},
   "outputs": [
    {
     "data": {
      "text/plain": [
       "0.506"
      ]
     },
     "execution_count": 24,
     "metadata": {},
     "output_type": "execute_result"
    }
   ],
   "source": [
    "# run a test with p = 0.5 on 1000 sims\n",
    "test_1 = johnny_v(0.5, 1000)\n",
    "test_1.full_sim()\n",
    "sum(test_1.obs_list) / test_1.sims"
   ]
  },
  {
   "cell_type": "code",
   "execution_count": 26,
   "metadata": {},
   "outputs": [
    {
     "data": {
      "text/plain": [
       "0.497"
      ]
     },
     "execution_count": 26,
     "metadata": {},
     "output_type": "execute_result"
    }
   ],
   "source": [
    "# run a test with p = 0.2 on 10000 sims\n",
    "test_1 = johnny_v(0.2, 10000)\n",
    "test_1.full_sim()\n",
    "sum(test_1.obs_list) / test_1.sims"
   ]
  },
  {
   "cell_type": "code",
   "execution_count": 27,
   "metadata": {},
   "outputs": [
    {
     "data": {
      "text/plain": [
       "0.49986"
      ]
     },
     "execution_count": 27,
     "metadata": {},
     "output_type": "execute_result"
    }
   ],
   "source": [
    "# run a test with p = 0.01 on 100000 sims\n",
    "test_1 = johnny_v(0.01, 100000)\n",
    "test_1.full_sim()\n",
    "sum(test_1.obs_list) / test_1.sims"
   ]
  },
  {
   "cell_type": "markdown",
   "metadata": {},
   "source": [
    "### Switching to the problem at hand: \n",
    "\n",
    "- Need to modify the class now to max out at 3 sims. \n",
    "\n",
    "- Maybe makes sense that if non-dominant flip is the first then keep it, otherwise move to next. \n",
    "\n",
    "- General idea: \n",
    " - If `p` represents heads, then when `p` > 0.5 we would not accept a heads on its first flip, rather we move to the next flip. But if the first flip is tails, we accept. \n",
    " - We can work this out to find our end points: \n",
    "     - 3 flips:\n",
    "         - Max `p`: `p*p*p = 0.5` \n",
    "             - `p` = 0.7937\n",
    "         - Min `p`: `(1-p)^3 = 0.5`\n",
    "            -  `p` = `1 - 0.5 ** (1/3)`\n",
    "            -  `p` = 0.2063\n",
    "      - 2 flips:\n",
    "         - Max `p`: `p*p = 0.5` \n",
    "             - `p` = 0.707\n",
    "         - Min `p`: `(1-p)^2 = 0.5`\n",
    "            -  `p` = `1 - 0.5 ** (1/2)`\n",
    "            -  `p` = 0.2929\n",
    "      - 1 flip: \n",
    "         - 0.5 is our only method. "
   ]
  },
  {
   "cell_type": "code",
   "execution_count": 135,
   "metadata": {},
   "outputs": [],
   "source": [
    "# Modified Flips below: \n",
    "class modified_flips():\n",
    "    def __init__(self, p = 0.5, sims = 1000):\n",
    "        self.coin_p = p\n",
    "        self.sims = sims\n",
    "        self.obs_list = []\n",
    "        \n",
    "    def __single_sim(self):\n",
    "        \"\"\"Flip a coin 3 times & return observation N\"\"\"\n",
    "        outcomes = np.random.binomial(1, self.coin_p, size = 3)\n",
    "        \n",
    "        if self.coin_p == 0.5:\n",
    "            return outcomes[0] # return first value randomly - will converge to 0.5 \n",
    "\n",
    "        # when less likely, we need to return heads (1) when it occurs\n",
    "        if self.coin_p < 0.5:\n",
    "            \n",
    "            # 3 flips\n",
    "            if self.coin_p < 0.25: \n",
    "                if outcomes[0] == 1:\n",
    "                    return outcomes[0]\n",
    "                elif outcomes[1] == 1:\n",
    "                    return outcomes[1]\n",
    "                else:\n",
    "                    return outcomes[2]\n",
    "                \n",
    "            # 2 flips - return second \n",
    "            else:\n",
    "                if outcomes[0] == 1:\n",
    "                    return outcomes[0]\n",
    "                else:\n",
    "                    return outcomes[1]\n",
    "                \n",
    "        # when more likely, we need to return tails (0) when it occurs\n",
    "        if self.coin_p > 0.5:\n",
    "            \n",
    "            # 3 flips\n",
    "            if self.coin_p > 0.75: \n",
    "                if outcomes[0] == 0:\n",
    "                    return outcomes[0]\n",
    "                elif outcomes[1] == 0:\n",
    "                    return outcomes[1]\n",
    "                else:\n",
    "                    return outcomes[2]\n",
    "                \n",
    "            # 2 flips - return second \n",
    "            else:\n",
    "                if outcomes[0] == 0:\n",
    "                    return outcomes[0]\n",
    "                else:\n",
    "                    return outcomes[1]\n",
    "            \n",
    "    def full_sim(self):\n",
    "        \"\"\"Run a full simulation across self.sims length\"\"\"\n",
    "        \n",
    "        for i in range(self.sims):\n",
    "            self.obs_list.append(self.__single_sim())"
   ]
  },
  {
   "cell_type": "code",
   "execution_count": 138,
   "metadata": {},
   "outputs": [
    {
     "name": "stdout",
     "output_type": "stream",
     "text": [
      "For p-value of 0.5 the observed proportions of heads was: 0.50\n",
      "For p-value of 0.7071067811865476 the observed proportions of heads was: 0.50\n",
      "For p-value of 0.7938839309316524 the observed proportions of heads was: 0.50\n",
      "For p-value of 0.2928932188134524 the observed proportions of heads was: 0.50\n",
      "For p-value of 0.20611606906834756 the observed proportions of heads was: 0.50\n"
     ]
    }
   ],
   "source": [
    "# check each answer: \n",
    "x = 0.5 # fair coin\n",
    "p_values = [x, x**0.5, x**0.333, 1 - x**0.5, 1 - x**0.333]\n",
    "\n",
    "# run sim for p-values 100K times each, print final proportion of heads\n",
    "for p_val in p_values:\n",
    "    test_1 = modified_flips(p_val, 100000)\n",
    "    test_1.full_sim() # run sim\n",
    "    final_prop = sum(test_1.obs_list) / test_1.sims\n",
    "    print(f\"For p-value of {p_val} the observed proportions of heads was: {final_prop:.2f}\")"
   ]
  },
  {
   "cell_type": "code",
   "execution_count": 140,
   "metadata": {},
   "outputs": [
    {
     "name": "stdout",
     "output_type": "stream",
     "text": [
      "For p-value of 0.15 the observed proportions of heads was: 0.38\n",
      "For p-value of 0.3 the observed proportions of heads was: 0.51\n",
      "For p-value of 0.67 the observed proportions of heads was: 0.45\n",
      "For p-value of 0.9 the observed proportions of heads was: 0.73\n"
     ]
    }
   ],
   "source": [
    "# None of the strategies will work on other values of p\n",
    "bad_p_vals = [0.15, 0.3, 0.67, 0.9]\n",
    "\n",
    "# run sim for p-values 100K times each, print final proportion of heads\n",
    "for p_val in bad_p_vals:\n",
    "    test_1 = modified_flips(p_val, 100000)\n",
    "    test_1.full_sim() # run sim\n",
    "    final_prop = sum(test_1.obs_list) / test_1.sims\n",
    "    print(f\"For p-value of {p_val} the observed proportions of heads was: {final_prop:.2f}\")"
   ]
  }
 ],
 "metadata": {
  "kernelspec": {
   "display_name": "Python 3.8",
   "language": "python",
   "name": "other-env"
  },
  "language_info": {
   "codemirror_mode": {
    "name": "ipython",
    "version": 3
   },
   "file_extension": ".py",
   "mimetype": "text/x-python",
   "name": "python",
   "nbconvert_exporter": "python",
   "pygments_lexer": "ipython3",
   "version": "3.8.5"
  }
 },
 "nbformat": 4,
 "nbformat_minor": 4
}
