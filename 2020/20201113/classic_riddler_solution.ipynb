{
 "cells": [
  {
   "cell_type": "markdown",
   "metadata": {},
   "source": [
    "### Solution:\n",
    "\n",
    "- After running simulation with multiprocessing (`classic_riddler_mp.py`) can read in files within `output\\`\n"
   ]
  },
  {
   "cell_type": "code",
   "execution_count": 21,
   "metadata": {},
   "outputs": [
    {
     "name": "stdout",
     "output_type": "stream",
     "text": [
      "Final percentage is: 0.2116\n"
     ]
    }
   ],
   "source": [
    "import glob\n",
    "\n",
    "# Generate list of files in output\n",
    "file_list = glob.glob(\"output/*.txt\")\n",
    "\n",
    "# dict to store outputs:\n",
    "solution_dict = {\n",
    "    'losers': 0,\n",
    "    'trials': 0\n",
    "}\n",
    "\n",
    "# read in values & calculate final probability\n",
    "for file in file_list:\n",
    "    \n",
    "    # open file from list\n",
    "    my_file = open(file, \"r\")\n",
    "    \n",
    "    count = 0\n",
    "  \n",
    "    while True: \n",
    "        count += 1\n",
    "\n",
    "        # Get next line from file \n",
    "        line = my_file.readline() \n",
    "\n",
    "        # if line is empty \n",
    "        # end of file is reached; move to next\n",
    "        if not line: \n",
    "            break\n",
    "            \n",
    "        # otherwise pull in values (stored as char, so must convert )\n",
    "        var = int(line.strip())\n",
    "        \n",
    "        # count == 1 indicates super losers, count == 3 indicates trials\n",
    "        if count == 1:\n",
    "            solution_dict['losers'] += var\n",
    "        elif count == 3:\n",
    "            solution_dict['trials'] += var\n",
    "        \n",
    "        # update count\n",
    "        count += 1\n",
    "\n",
    "    my_file.close() \n",
    "    \n",
    "# print final solution\n",
    "print(f\"Final percentage is: {100 * solution_dict['losers'] / solution_dict['trials']:.4f}\")\n"
   ]
  }
 ],
 "metadata": {
  "kernelspec": {
   "display_name": "Python 3.8",
   "language": "python",
   "name": "other-env"
  },
  "language_info": {
   "codemirror_mode": {
    "name": "ipython",
    "version": 3
   },
   "file_extension": ".py",
   "mimetype": "text/x-python",
   "name": "python",
   "nbconvert_exporter": "python",
   "pygments_lexer": "ipython3",
   "version": "3.8.5"
  }
 },
 "nbformat": 4,
 "nbformat_minor": 4
}
