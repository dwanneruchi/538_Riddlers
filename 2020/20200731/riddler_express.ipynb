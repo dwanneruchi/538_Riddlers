{
 "cells": [
  {
   "cell_type": "markdown",
   "metadata": {},
   "source": [
    "### Riddler Express\n",
    "Congratulations, you’ve made it to the final round of the Riddler Rock, Paper, Scissors.\n",
    "\n",
    "The rules are simple: Rock beats scissors, scissors beat paper, and paper beats rock. Moreover, the game is “sudden death,” so the first person to win a single round is immediately declared the grand champion. If there’s a tie, meaning both players choose the same object, then you simply play another round.\n",
    "\n",
    "Fortunately, your opponent is someone you’ve studied well. Based on the motion of their arm, you can tell whether they will (1) play rock or paper with equal probability, (2) play paper or scissors with equal probability or (3) play rock or scissors with equal probability. (Every round falls into one of these three categories.)\n",
    "\n",
    "If you strategize correctly, what are your chances of winning the tournament?"
   ]
  },
  {
   "cell_type": "markdown",
   "metadata": {},
   "source": [
    "### Solution\n",
    "\n",
    "Each scenario is going to have the same overall states.\n",
    "\n",
    "We can look at scenario 1: you see a motion that makes you think person is throwing Rock or Paper\n",
    "- If rock, we throw Paper\n",
    "- if Paper, we throw Scissors\n",
    "\n",
    "Outcomes of the above:\n",
    "\n",
    "- Probs for rock:\n",
    "    - 0.25: We throw S, they throw P (Win)\n",
    "    - 0.25: We throw S, they throw R (Loss)\n",
    "    \n",
    "- Probs for paper:\n",
    "    - 0.25: We throw P, they throw P (Tie)\n",
    "    - 0.25: We throw P, they throw R (Win)\n",
    "    \n",
    " In scenario 1 it is best to throw Paper always because your chances of winnning are:\n",
    " \n",
    " - 0.5 + 0.5(X) where X is the next state. We can get X to be equal to 0.5 + 0.5(X) for any scenario given ability to limit to two possible throws by opponent. \n",
    "     - Eventually converges to 1\n",
    " \n",
    " This exists for every scenario. \n",
    " \n",
    " ### Simulation Below\n",
    " \n",
    " "
   ]
  },
  {
   "cell_type": "code",
   "execution_count": 2,
   "metadata": {},
   "outputs": [],
   "source": [
    "import random\n",
    "from collections import defaultdict\n",
    "\n",
    "scenarios = {}\n",
    "\n",
    "# My strategy: Play the option that yields WIN or TIE\n",
    "scenarios[1] = {'opponent': ['R', 'P'], 'me': 'P'}\n",
    "scenarios[2] = {'opponent': ['P', 'S'], 'me': 'S'}\n",
    "scenarios[3] = {'opponent': ['R', 'S'], 'me': 'R'}\n",
    "\n",
    "# winner, losers, tie: ordered as OPP|ME -> WINNER\n",
    "solutions = {}\n",
    "solutions['R|P'] = 'me'\n",
    "solutions['R|S'] = 'opp'\n",
    "solutions['R|R'] = 'tie'\n",
    "\n",
    "solutions['P|P'] = 'tie'\n",
    "solutions['P|S'] = 'me'\n",
    "solutions['P|R'] = 'opp'\n",
    "\n",
    "solutions['S|P'] = 'opp'\n",
    "solutions['S|S'] = 'tie'\n",
    "solutions['S|R'] = 'me'"
   ]
  },
  {
   "cell_type": "code",
   "execution_count": 5,
   "metadata": {},
   "outputs": [],
   "source": [
    "poss_scen = [1,2,3] # possible scenarios to choose from\n",
    "\n",
    "# results dict\n",
    "# using default dict to just update results with key as needed\n",
    "results_dict = defaultdict(int)\n",
    "\n",
    "# simulation: run 1000 times\n",
    "i = 0\n",
    "while i < 1000:\n",
    "    ## randomly choose a scenario 1-3:\n",
    "    curr_scen = random.choice(poss_scen)\n",
    "    \n",
    "    ## play game based on scenario \n",
    "    \n",
    "    ## get opponent throws:\n",
    "    opp_throw = random.choice(scenarios[curr_scen]['opponent'])\n",
    "    \n",
    "    ## my throw\n",
    "    my_throw = scenarios[curr_scen]['me']\n",
    "    \n",
    "    ## generate string gameplay\n",
    "    gameplay = f'{opp_throw}|{my_throw}'\n",
    "    \n",
    "    ## determine winner & keep track\n",
    "    if solutions[gameplay] == 'me':\n",
    "        results_dict['me'] += 1\n",
    "        i += 1 # move to the next game\n",
    "        \n",
    "    elif solutions[gameplay] == 'opp':\n",
    "        results_dict['opp'] += 1\n",
    "        i += 1 # move to next game \n",
    "    \n",
    "    else:\n",
    "        # this is a trie; don't update i value\n",
    "        # but update dictionary\n",
    "        results_dict['tie'] += 1"
   ]
  },
  {
   "cell_type": "code",
   "execution_count": 6,
   "metadata": {},
   "outputs": [
    {
     "data": {
      "text/plain": [
       "defaultdict(int, {'me': 1000, 'tie': 992})"
      ]
     },
     "execution_count": 6,
     "metadata": {},
     "output_type": "execute_result"
    }
   ],
   "source": [
    "results_dict"
   ]
  }
 ],
 "metadata": {
  "kernelspec": {
   "display_name": "Python 3.8",
   "language": "python",
   "name": "other-env"
  },
  "language_info": {
   "codemirror_mode": {
    "name": "ipython",
    "version": 3
   },
   "file_extension": ".py",
   "mimetype": "text/x-python",
   "name": "python",
   "nbconvert_exporter": "python",
   "pygments_lexer": "ipython3",
   "version": "3.8.5"
  }
 },
 "nbformat": 4,
 "nbformat_minor": 4
}
