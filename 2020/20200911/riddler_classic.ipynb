{
 "cells": [
  {
   "cell_type": "markdown",
   "metadata": {},
   "source": [
    "### Prompt: \n",
    "\n",
    "For every mountain in the Tour de FiveThirtyEight, the first few riders to reach the summit are awarded points. The rider with the most such points at the end of the Tour is named “King of the Mountains” and gets to wear a special polka dot jersey.\n",
    "\n",
    "At the moment, you are racing against three other riders up one of the mountains. The first rider over the top gets 5 points, the second rider gets 3, the third rider gets 2, and the fourth rider gets 1.\n",
    "\n",
    "All four of you are of equal ability — that is, under normal circumstances, you all have an equal chance of reaching the summit first. But there’s a catch — two of your competitors are on the same team. Teammates are able to work together, drafting and setting a tempo up the mountain. Whichever teammate happens to be slower on the climb will get a boost from their faster teammate, and the two of them will both reach the summit at the faster teammate’s time.\n",
    "\n",
    "As a lone rider, the odds may be stacked against you. In your quest for the polka dot jersey, how many points can you expect to win on this mountain, on average?\n",
    "\n",
    "### Assumptions:\n",
    "\n",
    "- Every player has an equal likelihood of winning of `p` at anytime, so `p=0.25`\n",
    "- P3 & P4 will always be sequential (e.g. 1st/2nd, 2nd/3rd, 3rd/4th)\n",
    "- We only care about P1 final values"
   ]
  },
  {
   "cell_type": "code",
   "execution_count": 6,
   "metadata": {},
   "outputs": [
    {
     "name": "stdout",
     "output_type": "stream",
     "text": [
      "2.4169622\n",
      "Total time was 239.76346635818481\n"
     ]
    }
   ],
   "source": [
    "import numpy as np\n",
    "import statistics\n",
    "import time \n",
    "\n",
    "# track time\n",
    "start = time.time()\n",
    "\n",
    "player_1_points = []\n",
    "\n",
    "for _ in range(5000000):\n",
    "    \n",
    "    # determining the first place person\n",
    "    first = np.random.choice(np.arange(1, 5), p=[0.25, 0.25, 0.25, 0.25])\n",
    "\n",
    "    # if P3 is first, then we know P4 has to be second \n",
    "    # if P4 is first, then we know P3 has to be second\n",
    "    if first == 3 or first == 4:\n",
    "        \n",
    "        # randomly determine between P1 & p3 who is third\n",
    "        third =  np.random.choice(np.arange(1, 3), p=[0.5, 0.5])\n",
    "        \n",
    "        if third == 1:\n",
    "            player_1_points.append(2) #p1 was 3rd, so need to add 2 points\n",
    "        else:\n",
    "            player_1_points.append(1) #p1 was not 3rd, so 4th by default \n",
    " \n",
    "    # if P2 is first, then next 3 spots are up for grabs \n",
    "    elif first == 2:\n",
    "        \n",
    "        # randomly choose 2nd, 3rd and 4th place \n",
    "        second =  np.random.choice([1,3,4], p=[1/3, 1/3,1/3])\n",
    "\n",
    "\n",
    "        # if P3 or P4 is second, then P1 automatically 4th \n",
    "        if second == 3 or second == 4:\n",
    "            player_1_points.append(1) # p1 automatically in 4th \n",
    "\n",
    "        else:\n",
    "            player_1_points.append(3) # p1 is second by default \n",
    "            \n",
    "    # p1 is first\n",
    "    else:\n",
    "        player_1_points.append(5)\n",
    "\n",
    "len(player_1_points)\n",
    "\n",
    "mean_score = statistics.mean(player_1_points) # mean over n runs\n",
    "\n",
    "print(mean_score)\n",
    "\n",
    "end = time.time()\n",
    "\n",
    "print(f\"Total time was {end - start}\")"
   ]
  },
  {
   "cell_type": "markdown",
   "metadata": {},
   "source": [
    "### A More Efficient Solve\n",
    "\n",
    "Attempting to speed attempt up"
   ]
  },
  {
   "cell_type": "code",
   "execution_count": 17,
   "metadata": {},
   "outputs": [],
   "source": [
    "from numba import jit\n",
    "\n",
    "\n",
    "@jit(nopython=True) # Set \"nopython\" mode for best performance, equivalent to @njit\n",
    "def ride_sim(): # Function is compiled to machine code when called the first time\n",
    "    \n",
    "    # determining the first place person\n",
    "    first = np.random.choice(np.arange(1, 5))\n",
    "\n",
    "    if first == 3 or first == 4:\n",
    "        third =  np.random.choice(np.arange(1, 3))\n",
    "        if third == 1:\n",
    "            return 2 #p1 was 3rd, so need to add 2 points\n",
    "        else:\n",
    "            return 1 #p1 was not 3rd, so 4th by default \n",
    " \n",
    "    elif first == 2:\n",
    "        second =  np.random.choice([1,3,4])\n",
    "        if second == 3 or second == 4:\n",
    "            return 1 # p1 automatically in 4th \n",
    "        else:\n",
    "            return 3 # p1 is second by default \n",
    "    else:\n",
    "        return 5"
   ]
  },
  {
   "cell_type": "code",
   "execution_count": 18,
   "metadata": {},
   "outputs": [
    {
     "ename": "TypingError",
     "evalue": "Failed in nopython mode pipeline (step: nopython frontend)\n\u001b[1m\u001b[1m\u001b[1mNo implementation of function Function(<built-in method choice of numpy.random.mtrand.RandomState object at 0x0000017A7E8A8E40>) found for signature:\n \n >>> choice(list(int64)<iv=[1, 3, 4]>)\n \nThere are 2 candidate implementations:\n\u001b[1m      - Of which 1 did not match due to:\n      Overload in function 'choice': File: numba\\cpython\\randomimpl.py: Line 1346.\n        With argument(s): '(list(int64)<iv=None>)':\u001b[0m\n\u001b[1m       Rejected as the implementation raised a specific error:\n         TypeError: np.random.choice() first argument should be int or array, got list(int64)<iv=None>\u001b[0m\n  raised from C:\\Users\\David\\AppData\\Local\\Programs\\Python\\Python38\\lib\\site-packages\\numba\\cpython\\randomimpl.py:1383\n\u001b[1m      - Of which 1 did not match due to:\n      Overload in function 'choice': File: numba\\cpython\\randomimpl.py: Line 1346.\n        With argument(s): '(list(int64)<iv=[1, 3, 4]>)':\u001b[0m\n\u001b[1m       Rejected as the implementation raised a specific error:\n         TypeError: np.random.choice() first argument should be int or array, got list(int64)<iv=[1, 3, 4]>\u001b[0m\n  raised from C:\\Users\\David\\AppData\\Local\\Programs\\Python\\Python38\\lib\\site-packages\\numba\\cpython\\randomimpl.py:1383\n\u001b[0m\n\u001b[0m\u001b[1mDuring: resolving callee type: Function(<built-in method choice of numpy.random.mtrand.RandomState object at 0x0000017A7E8A8E40>)\u001b[0m\n\u001b[0m\u001b[1mDuring: typing of call at <ipython-input-17-51bb528b6dfc> (18)\n\u001b[0m\n\u001b[1m\nFile \"<ipython-input-17-51bb528b6dfc>\", line 18:\u001b[0m\n\u001b[1mdef ride_sim(): # Function is compiled to machine code when called the first time\n    <source elided>\n    elif first == 2:\n\u001b[1m        second =  np.random.choice([1,3,4])\n\u001b[0m        \u001b[1m^\u001b[0m\u001b[0m\n",
     "output_type": "error",
     "traceback": [
      "\u001b[1;31m---------------------------------------------------------------------------\u001b[0m",
      "\u001b[1;31mTypingError\u001b[0m                               Traceback (most recent call last)",
      "\u001b[1;32m<ipython-input-18-402386aad828>\u001b[0m in \u001b[0;36m<module>\u001b[1;34m\u001b[0m\n\u001b[0;32m      5\u001b[0m \u001b[1;33m\u001b[0m\u001b[0m\n\u001b[0;32m      6\u001b[0m \u001b[1;32mfor\u001b[0m \u001b[0m_\u001b[0m \u001b[1;32min\u001b[0m \u001b[0mrange\u001b[0m\u001b[1;33m(\u001b[0m\u001b[0msims\u001b[0m\u001b[1;33m)\u001b[0m\u001b[1;33m:\u001b[0m\u001b[1;33m\u001b[0m\u001b[1;33m\u001b[0m\u001b[0m\n\u001b[1;32m----> 7\u001b[1;33m     \u001b[0mnp\u001b[0m\u001b[1;33m.\u001b[0m\u001b[0mappend\u001b[0m\u001b[1;33m(\u001b[0m\u001b[0mplayer_1_points\u001b[0m\u001b[1;33m,\u001b[0m \u001b[0mride_sim\u001b[0m\u001b[1;33m(\u001b[0m\u001b[1;33m)\u001b[0m\u001b[1;33m)\u001b[0m\u001b[1;33m\u001b[0m\u001b[1;33m\u001b[0m\u001b[0m\n\u001b[0m\u001b[0;32m      8\u001b[0m \u001b[1;33m\u001b[0m\u001b[0m\n\u001b[0;32m      9\u001b[0m \u001b[1;31m# get stats\u001b[0m\u001b[1;33m\u001b[0m\u001b[1;33m\u001b[0m\u001b[1;33m\u001b[0m\u001b[0m\n",
      "\u001b[1;32m~\\AppData\\Local\\Programs\\Python\\Python38\\lib\\site-packages\\numba\\core\\dispatcher.py\u001b[0m in \u001b[0;36m_compile_for_args\u001b[1;34m(self, *args, **kws)\u001b[0m\n\u001b[0;32m    413\u001b[0m                 \u001b[0me\u001b[0m\u001b[1;33m.\u001b[0m\u001b[0mpatch_message\u001b[0m\u001b[1;33m(\u001b[0m\u001b[0mmsg\u001b[0m\u001b[1;33m)\u001b[0m\u001b[1;33m\u001b[0m\u001b[1;33m\u001b[0m\u001b[0m\n\u001b[0;32m    414\u001b[0m \u001b[1;33m\u001b[0m\u001b[0m\n\u001b[1;32m--> 415\u001b[1;33m             \u001b[0merror_rewrite\u001b[0m\u001b[1;33m(\u001b[0m\u001b[0me\u001b[0m\u001b[1;33m,\u001b[0m \u001b[1;34m'typing'\u001b[0m\u001b[1;33m)\u001b[0m\u001b[1;33m\u001b[0m\u001b[1;33m\u001b[0m\u001b[0m\n\u001b[0m\u001b[0;32m    416\u001b[0m         \u001b[1;32mexcept\u001b[0m \u001b[0merrors\u001b[0m\u001b[1;33m.\u001b[0m\u001b[0mUnsupportedError\u001b[0m \u001b[1;32mas\u001b[0m \u001b[0me\u001b[0m\u001b[1;33m:\u001b[0m\u001b[1;33m\u001b[0m\u001b[1;33m\u001b[0m\u001b[0m\n\u001b[0;32m    417\u001b[0m             \u001b[1;31m# Something unsupported is present in the user code, add help info\u001b[0m\u001b[1;33m\u001b[0m\u001b[1;33m\u001b[0m\u001b[1;33m\u001b[0m\u001b[0m\n",
      "\u001b[1;32m~\\AppData\\Local\\Programs\\Python\\Python38\\lib\\site-packages\\numba\\core\\dispatcher.py\u001b[0m in \u001b[0;36merror_rewrite\u001b[1;34m(e, issue_type)\u001b[0m\n\u001b[0;32m    356\u001b[0m                 \u001b[1;32mraise\u001b[0m \u001b[0me\u001b[0m\u001b[1;33m\u001b[0m\u001b[1;33m\u001b[0m\u001b[0m\n\u001b[0;32m    357\u001b[0m             \u001b[1;32melse\u001b[0m\u001b[1;33m:\u001b[0m\u001b[1;33m\u001b[0m\u001b[1;33m\u001b[0m\u001b[0m\n\u001b[1;32m--> 358\u001b[1;33m                 \u001b[0mreraise\u001b[0m\u001b[1;33m(\u001b[0m\u001b[0mtype\u001b[0m\u001b[1;33m(\u001b[0m\u001b[0me\u001b[0m\u001b[1;33m)\u001b[0m\u001b[1;33m,\u001b[0m \u001b[0me\u001b[0m\u001b[1;33m,\u001b[0m \u001b[1;32mNone\u001b[0m\u001b[1;33m)\u001b[0m\u001b[1;33m\u001b[0m\u001b[1;33m\u001b[0m\u001b[0m\n\u001b[0m\u001b[0;32m    359\u001b[0m \u001b[1;33m\u001b[0m\u001b[0m\n\u001b[0;32m    360\u001b[0m         \u001b[0margtypes\u001b[0m \u001b[1;33m=\u001b[0m \u001b[1;33m[\u001b[0m\u001b[1;33m]\u001b[0m\u001b[1;33m\u001b[0m\u001b[1;33m\u001b[0m\u001b[0m\n",
      "\u001b[1;32m~\\AppData\\Local\\Programs\\Python\\Python38\\lib\\site-packages\\numba\\core\\utils.py\u001b[0m in \u001b[0;36mreraise\u001b[1;34m(tp, value, tb)\u001b[0m\n\u001b[0;32m     78\u001b[0m         \u001b[0mvalue\u001b[0m \u001b[1;33m=\u001b[0m \u001b[0mtp\u001b[0m\u001b[1;33m(\u001b[0m\u001b[1;33m)\u001b[0m\u001b[1;33m\u001b[0m\u001b[1;33m\u001b[0m\u001b[0m\n\u001b[0;32m     79\u001b[0m     \u001b[1;32mif\u001b[0m \u001b[0mvalue\u001b[0m\u001b[1;33m.\u001b[0m\u001b[0m__traceback__\u001b[0m \u001b[1;32mis\u001b[0m \u001b[1;32mnot\u001b[0m \u001b[0mtb\u001b[0m\u001b[1;33m:\u001b[0m\u001b[1;33m\u001b[0m\u001b[1;33m\u001b[0m\u001b[0m\n\u001b[1;32m---> 80\u001b[1;33m         \u001b[1;32mraise\u001b[0m \u001b[0mvalue\u001b[0m\u001b[1;33m.\u001b[0m\u001b[0mwith_traceback\u001b[0m\u001b[1;33m(\u001b[0m\u001b[0mtb\u001b[0m\u001b[1;33m)\u001b[0m\u001b[1;33m\u001b[0m\u001b[1;33m\u001b[0m\u001b[0m\n\u001b[0m\u001b[0;32m     81\u001b[0m     \u001b[1;32mraise\u001b[0m \u001b[0mvalue\u001b[0m\u001b[1;33m\u001b[0m\u001b[1;33m\u001b[0m\u001b[0m\n\u001b[0;32m     82\u001b[0m \u001b[1;33m\u001b[0m\u001b[0m\n",
      "\u001b[1;31mTypingError\u001b[0m: Failed in nopython mode pipeline (step: nopython frontend)\n\u001b[1m\u001b[1m\u001b[1mNo implementation of function Function(<built-in method choice of numpy.random.mtrand.RandomState object at 0x0000017A7E8A8E40>) found for signature:\n \n >>> choice(list(int64)<iv=[1, 3, 4]>)\n \nThere are 2 candidate implementations:\n\u001b[1m      - Of which 1 did not match due to:\n      Overload in function 'choice': File: numba\\cpython\\randomimpl.py: Line 1346.\n        With argument(s): '(list(int64)<iv=None>)':\u001b[0m\n\u001b[1m       Rejected as the implementation raised a specific error:\n         TypeError: np.random.choice() first argument should be int or array, got list(int64)<iv=None>\u001b[0m\n  raised from C:\\Users\\David\\AppData\\Local\\Programs\\Python\\Python38\\lib\\site-packages\\numba\\cpython\\randomimpl.py:1383\n\u001b[1m      - Of which 1 did not match due to:\n      Overload in function 'choice': File: numba\\cpython\\randomimpl.py: Line 1346.\n        With argument(s): '(list(int64)<iv=[1, 3, 4]>)':\u001b[0m\n\u001b[1m       Rejected as the implementation raised a specific error:\n         TypeError: np.random.choice() first argument should be int or array, got list(int64)<iv=[1, 3, 4]>\u001b[0m\n  raised from C:\\Users\\David\\AppData\\Local\\Programs\\Python\\Python38\\lib\\site-packages\\numba\\cpython\\randomimpl.py:1383\n\u001b[0m\n\u001b[0m\u001b[1mDuring: resolving callee type: Function(<built-in method choice of numpy.random.mtrand.RandomState object at 0x0000017A7E8A8E40>)\u001b[0m\n\u001b[0m\u001b[1mDuring: typing of call at <ipython-input-17-51bb528b6dfc> (18)\n\u001b[0m\n\u001b[1m\nFile \"<ipython-input-17-51bb528b6dfc>\", line 18:\u001b[0m\n\u001b[1mdef ride_sim(): # Function is compiled to machine code when called the first time\n    <source elided>\n    elif first == 2:\n\u001b[1m        second =  np.random.choice([1,3,4])\n\u001b[0m        \u001b[1m^\u001b[0m\u001b[0m\n"
     ]
    }
   ],
   "source": [
    "# track time for numba \n",
    "start = time.time()\n",
    "sims = 5\n",
    "player_1_points = np.zeros(shape=(sims,1))\n",
    "\n",
    "for _ in range(sims):\n",
    "    np.append(player_1_points, ride_sim())\n",
    "    \n",
    "# get stats\n",
    "mean_score = statistics.mean(player_1_points) # mean over n runs\n",
    "print(mean_score)\n",
    "end = time.time()\n",
    "\n",
    "print(f\"Total time was {end - start}\")"
   ]
  },
  {
   "cell_type": "code",
   "execution_count": null,
   "metadata": {},
   "outputs": [],
   "source": []
  }
 ],
 "metadata": {
  "kernelspec": {
   "display_name": "Python 3.8",
   "language": "python",
   "name": "other-env"
  },
  "language_info": {
   "codemirror_mode": {
    "name": "ipython",
    "version": 3
   },
   "file_extension": ".py",
   "mimetype": "text/x-python",
   "name": "python",
   "nbconvert_exporter": "python",
   "pygments_lexer": "ipython3",
   "version": "3.8.5"
  }
 },
 "nbformat": 4,
 "nbformat_minor": 4
}
