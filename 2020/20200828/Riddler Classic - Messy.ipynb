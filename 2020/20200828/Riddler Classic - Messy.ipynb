{
 "cells": [
  {
   "cell_type": "markdown",
   "metadata": {},
   "source": [
    "## Riddler Classic: \n",
    "\n",
    "Duane’s friend’s granddaughter claimed that she once won a game of War that lasted exactly 26 turns.\n",
    "\n",
    "War is a two-player game in which a standard deck of cards is first shuffled and then divided into two piles with 26 cards each — one pile for each player. In every turn of the game, both players flip over and reveal the top card of their deck. The player whose card has a higher rank wins the turn and places both cards on the bottom of their pile. In the event that both cards have the same rank, the rules get a little more complicated, with each player flipping over additional cards to compare in a mini “War” showdown. Duane’s friend’s granddaughter said that for every turn of the game, she always drew the card of higher rank, with no mini “Wars.”\n",
    "\n",
    "Assuming a deck is randomly shuffled before every game, how many games of War would you expect to play until you had a game that lasted just 26 turns with no “Wars,” like Duane’s friend’s granddaughter?"
   ]
  },
  {
   "cell_type": "markdown",
   "metadata": {},
   "source": [
    "### Python Simulation:\n",
    "\n",
    "- Build a basic deck and divide up\n",
    "    - Just using integers here: \n",
    "        - 2:10 are normal\n",
    "        - J, Q, K, A -> 11-14\n",
    "        - no joker\n",
    "    - need to attach a suit, this is where named tuple is helpful\n",
    "    \n",
    "- Build the War class\n",
    "\n",
    "- Run many iterations (possibly use multiprocessing to store results?)"
   ]
  },
  {
   "cell_type": "code",
   "execution_count": 34,
   "metadata": {},
   "outputs": [],
   "source": [
    "import collections\n",
    "import random\n",
    "\n",
    "# a card has two components: rank & suit \n",
    "# named tuples are easy-to-create, lightweight object types\n",
    "Card = collections.namedtuple('Card', ['rank', 'suit'])\n",
    "\n",
    "# similar idea to CardDeck class built from Fluent Python Ch 1\n",
    "class CardDeck:\n",
    "    ranks = [i for i in range(2,15)] # lazy way of doing this \n",
    "    suits = 's d c h'.split() \n",
    "    \n",
    "    def __init__(self):\n",
    "        self.cards = [Card(rank, suit) for suit in self.suits \n",
    "                      for rank in self.ranks]\n",
    "        \n",
    "    def deal(self):\n",
    "        \"\"\"Shuffle cards & deal out in batches of 26\"\"\"\n",
    "        \n",
    "        self.__shuffle() # shuffle cards\n",
    "        \n",
    "        return self.cards[:26], self.cards[26:]\n",
    "    \n",
    "    def __shuffle(self):\n",
    "        \"\"\"Randomly order list of cards to simulate shuffling\"\"\"\n",
    "        random.shuffle(self.cards)"
   ]
  },
  {
   "cell_type": "code",
   "execution_count": 38,
   "metadata": {},
   "outputs": [
    {
     "name": "stdout",
     "output_type": "stream",
     "text": [
      "P1 gets 26 cards; P2 gets 26 cards\n"
     ]
    }
   ],
   "source": [
    "# run a basic test of dealing\n",
    "test = CardDeck()\n",
    "p1, p2 = test.deal()\n",
    "print(f\"P1 gets {len(p1)} cards; P2 gets {len(p2)} cards\")"
   ]
  },
  {
   "cell_type": "markdown",
   "metadata": {},
   "source": [
    "### War Game: \n",
    "\n",
    "General Rules:\n",
    "- each player flips top of deck (index 0)\n",
    "- player that wins receives card:\n",
    "    - winning player will move played card & winning card to bottom of stack (maybe randomize order???)\n",
    "- in case of tie:\n",
    "    - if rank is equivalent, then two new cards are dealt.\n",
    "    - one card is face-down, and one is face-up\n",
    "    - \n",
    "    \n",
    "Making it a bit easier to simulate: \n",
    "\n",
    "- limit processing:\n",
    "    - Given the challenge, we really just want to know the number of times our iteration was exactly 26. So we can really just play this to a binary end:\n",
    "       - If the first person to win a card then loses, mark as '0'\n",
    "       - If a tie ever occurs mark as '0'\n",
    "       - If first person to win always wins until one deck is empty, mark as '1'\n",
    "\n",
    "- Going to pivot here. We don't actually need the total card deck above. We just need numbers, and need to check if one sequence always exceeds another ssequence element by element\n",
    "- numpy should be faster\n",
    "        "
   ]
  },
  {
   "cell_type": "markdown",
   "metadata": {},
   "source": [
    "### Pivoting: Simpler version of this\n",
    "\n",
    "Realized while coding the card game that we really only care about if one sequence has all elements > another sequence\n",
    "\n",
    "This is quick to solve in nympy as I can subtract arrays from one another. Then just need to check if every element is positive or negative:\n",
    "- if yes then game is over and receives a `1`\n",
    "- if no then game would continue beyond 26 plays and receives `0`"
   ]
  },
  {
   "cell_type": "code",
   "execution_count": 81,
   "metadata": {},
   "outputs": [],
   "source": [
    "import numpy as np\n",
    "\n",
    "class leanDeck:\n",
    "    def __init__(self):\n",
    "        self.deck = np.tile(np.arange(13),4) # build 52 total integers of 1-13\n",
    "        \n",
    "    def play_war(self):\n",
    "        \"\"\"We can play a simple game of war that tracks automatic win vs non-automatic\"\"\"\n",
    "        \n",
    "        # shuffle & play\n",
    "        self.__shuffle()\n",
    "        \n",
    "        # find array of differences\n",
    "        diff = self.p1 - self.p2\n",
    "        \n",
    "        # check logic of all elements - either must all be positive or negative\n",
    "        if (diff > 0).all():\n",
    "            return 1\n",
    "        elif (diff < 0).all():\n",
    "            return 1\n",
    "        else:\n",
    "            return 0\n",
    "        \n",
    "                \n",
    "        \n",
    "    def __shuffle(self):\n",
    "        \"\"\"in place shufflinf to simulate shuffling deck\"\"\"\n",
    "        np.random.shuffle(self.deck)\n",
    "        \n",
    "        self.p1 = self.deck[:26] # first 26 goes to p1\n",
    "        self.p2 = self.deck[26:] # second 26 goes to p2\n",
    "            "
   ]
  },
  {
   "cell_type": "code",
   "execution_count": 88,
   "metadata": {},
   "outputs": [],
   "source": [
    "tracker = 0 # used to store number of times we see the result hoped for \n",
    "tot_its = 0\n",
    "\n",
    "for _ in range(10000000):\n",
    "    \n",
    "    # generate new class and play\n",
    "    simGame = leanDeck()\n",
    "    tracker += simGame.play_war() # update tracker with result \n",
    "    tot_its += 1 # update iterations"
   ]
  },
  {
   "cell_type": "code",
   "execution_count": 90,
   "metadata": {},
   "outputs": [
    {
     "data": {
      "text/plain": [
       "0"
      ]
     },
     "execution_count": 90,
     "metadata": {},
     "output_type": "execute_result"
    }
   ],
   "source": [
    "tracker"
   ]
  },
  {
   "cell_type": "markdown",
   "metadata": {},
   "source": [
    "### rebuild using numba....\n",
    "\n",
    "numba lets u use the JIT compiler, so should be faster if written properly "
   ]
  },
  {
   "cell_type": "code",
   "execution_count": 94,
   "metadata": {},
   "outputs": [],
   "source": [
    "from numba import jit"
   ]
  },
  {
   "cell_type": "code",
   "execution_count": 95,
   "metadata": {},
   "outputs": [
    {
     "name": "stdout",
     "output_type": "stream",
     "text": [
      "[[  9.  10.  11.  12.  13.  14.  15.  16.  17.  18.]\n",
      " [ 19.  20.  21.  22.  23.  24.  25.  26.  27.  28.]\n",
      " [ 29.  30.  31.  32.  33.  34.  35.  36.  37.  38.]\n",
      " [ 39.  40.  41.  42.  43.  44.  45.  46.  47.  48.]\n",
      " [ 49.  50.  51.  52.  53.  54.  55.  56.  57.  58.]\n",
      " [ 59.  60.  61.  62.  63.  64.  65.  66.  67.  68.]\n",
      " [ 69.  70.  71.  72.  73.  74.  75.  76.  77.  78.]\n",
      " [ 79.  80.  81.  82.  83.  84.  85.  86.  87.  88.]\n",
      " [ 89.  90.  91.  92.  93.  94.  95.  96.  97.  98.]\n",
      " [ 99. 100. 101. 102. 103. 104. 105. 106. 107. 108.]]\n"
     ]
    }
   ],
   "source": [
    "x = np.arange(100).reshape(10, 10)\n",
    "\n",
    "@jit(nopython=True) # Set \"nopython\" mode for best performance, equivalent to @njit\n",
    "def go_fast(a): # Function is compiled to machine code when called the first time\n",
    "    trace = 0.0\n",
    "    for i in range(a.shape[0]):   # Numba likes loops\n",
    "        trace += np.tanh(a[i, i]) # Numba likes NumPy functions\n",
    "    return a + trace              # Numba likes NumPy broadcasting\n",
    "\n",
    "print(go_fast(x))"
   ]
  },
  {
   "cell_type": "code",
   "execution_count": 113,
   "metadata": {},
   "outputs": [],
   "source": [
    "deck = np.tile(np.arange(13),4) # build 52 total integers of 0-12\n",
    "\n",
    "@jit(nopython=True) # Set \"nopython\" mode for best performance, equivalent to @njit\n",
    "def war_game(deck): # Function is compiled to machine code when called the first time\n",
    "    np.random.shuffle(deck) # shuffle \n",
    "    p1 = deck[:26]\n",
    "    p2 = deck[26:]\n",
    "    \n",
    "    # find array of differences\n",
    "    diff = p1 - p2\n",
    "    \n",
    "    # check logic of all elements - either must all be positive or negative\n",
    "    if (diff > 0).all():\n",
    "        return 1\n",
    "    elif (diff < 0).all():\n",
    "        return 1\n",
    "    else:\n",
    "        return 0"
   ]
  },
  {
   "cell_type": "markdown",
   "metadata": {},
   "source": [
    "### time test:\n",
    "\n",
    "see how numba performs compared to class approach - looks like its about 15X faster"
   ]
  },
  {
   "cell_type": "code",
   "execution_count": 116,
   "metadata": {},
   "outputs": [
    {
     "name": "stdout",
     "output_type": "stream",
     "text": [
      "1.5 µs ± 71.1 ns per loop (mean ± std. dev. of 7 runs, 1000000 loops each)\n"
     ]
    }
   ],
   "source": [
    "%timeit war_game(deck)"
   ]
  },
  {
   "cell_type": "code",
   "execution_count": 117,
   "metadata": {},
   "outputs": [],
   "source": [
    "def no_numba():\n",
    "    # generate new class and play\n",
    "    simGame = leanDeck()\n",
    "    return simGame.play_war()\n"
   ]
  },
  {
   "cell_type": "code",
   "execution_count": 118,
   "metadata": {},
   "outputs": [
    {
     "name": "stdout",
     "output_type": "stream",
     "text": [
      "20.9 µs ± 977 ns per loop (mean ± std. dev. of 7 runs, 10000 loops each)\n"
     ]
    }
   ],
   "source": [
    "%timeit no_numba()"
   ]
  },
  {
   "cell_type": "markdown",
   "metadata": {},
   "source": [
    "### run with numba 100 million times?\n",
    "\n",
    "- the deck is just getting perpetually shuffled....shouldn't really matter"
   ]
  },
  {
   "cell_type": "code",
   "execution_count": 127,
   "metadata": {},
   "outputs": [
    {
     "name": "stdout",
     "output_type": "stream",
     "text": [
      "Total outcomes: 1\n",
      "Total time: 162.93903803825378\n"
     ]
    }
   ],
   "source": [
    "import time\n",
    "\n",
    "start = time.time()\n",
    "\n",
    "outcomes = 0\n",
    "for _ in range(100000000):\n",
    "    outcomes += war_game(deck)\n",
    "\n",
    "end = time.time()\n",
    " \n",
    "print(f'Total outcomes: {outcomes}')\n",
    "print(f'Total time: {end - start}')"
   ]
  },
  {
   "cell_type": "markdown",
   "metadata": {},
   "source": [
    "### Try 1 billion iterations.\n",
    "\n",
    "- only had 1/100 million in earlier simulation. seems too rare. "
   ]
  },
  {
   "cell_type": "code",
   "execution_count": 128,
   "metadata": {},
   "outputs": [
    {
     "name": "stdout",
     "output_type": "stream",
     "text": [
      "Total outcomes: 8\n",
      "Total time: 1593.402357339859\n"
     ]
    }
   ],
   "source": [
    "start = time.time()\n",
    "\n",
    "outcomes = 0\n",
    "for _ in range(1000000000):\n",
    "    outcomes += war_game(deck)\n",
    "\n",
    "end = time.time()\n",
    " \n",
    "print(f'Total outcomes: {outcomes}')\n",
    "print(f'Total time: {end - start}')"
   ]
  },
  {
   "cell_type": "code",
   "execution_count": null,
   "metadata": {},
   "outputs": [],
   "source": []
  }
 ],
 "metadata": {
  "kernelspec": {
   "display_name": "Python 3.8",
   "language": "python",
   "name": "other-env"
  },
  "language_info": {
   "codemirror_mode": {
    "name": "ipython",
    "version": 3
   },
   "file_extension": ".py",
   "mimetype": "text/x-python",
   "name": "python",
   "nbconvert_exporter": "python",
   "pygments_lexer": "ipython3",
   "version": "3.8.5"
  }
 },
 "nbformat": 4,
 "nbformat_minor": 4
}
