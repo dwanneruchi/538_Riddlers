{
 "cells": [
  {
   "cell_type": "markdown",
   "metadata": {},
   "source": [
    "# Riddler Express\n",
    "\n",
    "Suppose you have a rope that goes all the way around the Earth’s equator, flat on the ground. (For the entirety of this puzzle, you should assume that the Earth is a perfect sphere with a radius of 6,378 kilometers.)\n",
    "\n",
    "You want to lengthen the rope just the right amount so that it’s 1 meter off the ground all the way around the Earth. How much longer did you have to make the rope?\n",
    "\n",
    "If you’ve never heard this puzzle before, the answer is surprisingly small — about 6.28 (i.e., 2𝜋) meters. Also, spoiler alert! (Darn, I was one sentence too late.)\n",
    "\n",
    "Now, instead of tying the Earth up with rope, you’ve moved on to covering the globe with a giant sheet that lies flat on the ground. If you want the sheet to be 1 meter off the ground (just like the rope), by how much would you have to increase the area of your sheet?\n",
    "\n",
    "Extra credit: What city, country, land mass or body of water has an area that is very close to your answer?"
   ]
  },
  {
   "cell_type": "markdown",
   "metadata": {},
   "source": [
    "Answer: 160.296636123 km^2\n",
    "Extra Credit: Liechtenstein (160 km^2)\n",
    "\n",
    "Logic Below\n",
    "\n",
    "# String logic\n",
    "\n",
    "circumference of a slice of the sphere: 2*pi*r\n",
    "\n",
    "necessary rope to lie on the earth: 2*pi*r where r = 6,378,000 m\n",
    "necessary rope to lie 1 m off ground:\n",
    "- r increases by 1 so:\n",
    "- 2 * pi * (r + 1 m) -> difference is 2*pi* 1 m\n",
    "\n",
    "# Sheet Logic: Note converted 1m -> 0.001 km for convenience\n",
    "\n",
    "- surface area of a sphere is: `4*pi*r^2`\n",
    "\n",
    "- necessary sheet lying flat for Earth: `4 * pi * (6,378)^2 = 511185932.523 km^2`\n",
    "- necessary sheet lying 1 m above Earth: `4 * pi * (6378 + .001)^2 = 511186092.819 km^2`\n",
    "\n",
    "difference is:  \n",
    "\n",
    "```\n",
    "= 4*pi*(r+.001)^2 - 4*pi*(r)^2\n",
    "= 4*pi*(r^2 + .002r + .000001) - 4*pi*(r)^2\n",
    "= 4*pi*.002(6,378) + 4*pi*.000001\n",
    "= 160.296636123 km^2\n",
    "```"
   ]
  }
 ],
 "metadata": {
  "kernelspec": {
   "display_name": "Python 3.8",
   "language": "python",
   "name": "other-env"
  },
  "language_info": {
   "codemirror_mode": {
    "name": "ipython",
    "version": 3
   },
   "file_extension": ".py",
   "mimetype": "text/x-python",
   "name": "python",
   "nbconvert_exporter": "python",
   "pygments_lexer": "ipython3",
   "version": "3.8.5"
  }
 },
 "nbformat": 4,
 "nbformat_minor": 4
}
