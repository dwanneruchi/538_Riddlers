{
 "cells": [
  {
   "cell_type": "markdown",
   "metadata": {},
   "source": [
    "### Riddler Classic: \n",
    "\n",
    "Advent of Code is done, so solving these again!\n",
    "\n",
    "From Keith Wynroe comes an epic power battle that is sure to wear you down:\n",
    "\n",
    "The Game of Attrition has two players, each of whom starts with a whole number of “power points.” Players take turns “attacking” each other, which involves subtracting their own number of power points from their opponent’s until one of the players is out of points.\n",
    "\n",
    "For example, suppose Player A (who goes first) starts with 5 points and Player B starts with 7 points. After A’s first attack, A still has 5 points, while B has been reduced to 2 points (i.e., 7 minus 5). Now it’s B’s turn, who reduces A to 5 minus 2, or 3 points. Finally, on A’s second turn, B is reduced from 2 points to nothing (since 2 minus 3 is −1). Despite starting with fewer points, A wins!\n",
    "\n",
    "Now suppose A goes first and starts with N points. In terms of N, what is the greatest number of points B can start with so that A will still emerge victorious?"
   ]
  },
  {
   "cell_type": "markdown",
   "metadata": {},
   "source": [
    "#### Start by Solving the Test Case: \n",
    "\n",
    "I assume a pattern will emerge across various `N` values for Player A, so will first build out the test case."
   ]
  },
  {
   "cell_type": "code",
   "execution_count": 1,
   "metadata": {},
   "outputs": [],
   "source": [
    "def playGame(aPoints, bPoints):\n",
    "    \"\"\"Input starting points for each player; Run game until someone has a value less than 0\"\"\"\n",
    "    attack = 0\n",
    "   \n",
    "    while True:\n",
    "       \n",
    "        print(f\"Round {attack + 1}: Player A has {aPoints} points\")\n",
    "        print(f\"Round {attack + 1}: Player B has {bPoints} points\")\n",
    "        print(\"*******\")\n",
    "        if attack % 2 == 0:\n",
    "            # player A attacks\n",
    "            bPoints -= aPoints\n",
    "            if bPoints <= 0:\n",
    "                return \"A\"\n",
    "        else:\n",
    "            # player B attacks\n",
    "            aPoints -= bPoints\n",
    "            if aPoints <= 0:\n",
    "                return \"B\"\n",
    "           \n",
    "        attack += 1"
   ]
  },
  {
   "cell_type": "code",
   "execution_count": 2,
   "metadata": {},
   "outputs": [
    {
     "name": "stdout",
     "output_type": "stream",
     "text": [
      "Round 1: Player A has 5 points\n",
      "Round 1: Player B has 7 points\n",
      "*******\n",
      "Round 2: Player A has 5 points\n",
      "Round 2: Player B has 2 points\n",
      "*******\n",
      "Round 3: Player A has 3 points\n",
      "Round 3: Player B has 2 points\n",
      "*******\n"
     ]
    }
   ],
   "source": [
    "assert(playGame(5,7) == 'A')"
   ]
  },
  {
   "cell_type": "markdown",
   "metadata": {},
   "source": [
    "#### When Does B start winning? \n",
    "\n",
    "- Initial tests showed that starting at `N=5` shows a switch in winners when `B=8`. \n",
    "- However, this does not occur exactly at an integer."
   ]
  },
  {
   "cell_type": "code",
   "execution_count": 3,
   "metadata": {},
   "outputs": [],
   "source": [
    "def playGame(aPoints, bPoints):\n",
    "    \"\"\"Input starting points for each player; Run game until someone has a value less than 0\"\"\"\n",
    "    attack = 0\n",
    "    while True:\n",
    "        if attack % 2 == 0:\n",
    "            # player A attacks\n",
    "            bPoints -= aPoints\n",
    "            if bPoints <= 0:\n",
    "                return \"A\"\n",
    "        else:\n",
    "            # player B attacks\n",
    "            aPoints -= bPoints\n",
    "            if aPoints <= 0:\n",
    "                return \"B\"\n",
    "           \n",
    "        attack += 1"
   ]
  },
  {
   "cell_type": "code",
   "execution_count": 4,
   "metadata": {},
   "outputs": [
    {
     "name": "stdout",
     "output_type": "stream",
     "text": [
      "A\n",
      "A\n",
      "A\n",
      "A\n",
      "B\n"
     ]
    }
   ],
   "source": [
    "for i in range(0,5):\n",
    "    print(playGame(5,5+i))"
   ]
  },
  {
   "cell_type": "code",
   "execution_count": 5,
   "metadata": {},
   "outputs": [
    {
     "name": "stdout",
     "output_type": "stream",
     "text": [
      "Increment of 0, winner is A\n",
      "Increment of 0.5, winner is A\n",
      "Increment of 1.0, winner is A\n",
      "Increment of 1.5, winner is A\n",
      "Increment of 2.0, winner is A\n",
      "Increment of 2.5, winner is A\n",
      "Increment of 3.0, winner is A\n",
      "Increment of 3.5, winner is B\n"
     ]
    }
   ],
   "source": [
    "inc = 0\n",
    "for _ in range(8):\n",
    "    print(f\"Increment of {inc}, winner is {playGame(5,5+inc)}\")\n",
    "    inc += 0.5"
   ]
  },
  {
   "cell_type": "markdown",
   "metadata": {},
   "source": [
    "#### Testing Increments:  \n",
    "\n",
    "Function to play the Game until B wins. "
   ]
  },
  {
   "cell_type": "code",
   "execution_count": 6,
   "metadata": {},
   "outputs": [],
   "source": [
    "def incrementGame(aPoints, inc):\n",
    "    \"\"\"Increment bPoints based on starting A until we see that B wins\"\"\"\n",
    "    bPoints = aPoints\n",
    "   \n",
    "    while True:\n",
    "       \n",
    "        if playGame(aPoints, bPoints) == \"B\":\n",
    "            return bPoints - aPoints - inc\n",
    "        else:\n",
    "            bPoints += inc"
   ]
  },
  {
   "cell_type": "code",
   "execution_count": 7,
   "metadata": {},
   "outputs": [
    {
     "data": {
      "text/plain": [
       "3.090099999992798"
      ]
     },
     "execution_count": 7,
     "metadata": {},
     "output_type": "execute_result"
    }
   ],
   "source": [
    "# This is a more precise point\n",
    "incrementGame(5, 0.0001)"
   ]
  },
  {
   "cell_type": "code",
   "execution_count": 8,
   "metadata": {},
   "outputs": [],
   "source": [
    "# confirm\n",
    "assert(playGame(5,8.09) == 'A')\n",
    "assert(playGame(5,8.10) == 'B')"
   ]
  },
  {
   "cell_type": "markdown",
   "metadata": {},
   "source": [
    "### Testing Over Multiple Values\n",
    "\n",
    "- A clear pattern emerges"
   ]
  },
  {
   "cell_type": "code",
   "execution_count": 9,
   "metadata": {},
   "outputs": [
    {
     "name": "stdout",
     "output_type": "stream",
     "text": [
      "A Start was 10, max diff was 6.180299999985596\n",
      "Testing output: 1.61804443\n",
      "*****************\n",
      "A Start was 110, max diff was 67.98370000225682\n",
      "Testing output: 1.61803491\n",
      "*****************\n",
      "A Start was 210, max diff was 129.78709998049473\n",
      "Testing output: 1.61803446\n",
      "*****************\n",
      "A Start was 310, max diff was 191.59049995190682\n",
      "Testing output: 1.6180343\n",
      "*****************\n",
      "A Start was 410, max diff was 253.3938999363929\n",
      "Testing output: 1.61803422\n",
      "*****************\n",
      "A Start was 510, max diff was 315.197299920879\n",
      "Testing output: 1.61803417\n",
      "*****************\n",
      "A Start was 610, max diff was 377.0006999053651\n",
      "Testing output: 1.61803413\n",
      "*****************\n",
      "A Start was 710, max diff was 438.80409988985116\n",
      "Testing output: 1.61803411\n",
      "*****************\n",
      "A Start was 810, max diff was 500.60749987433724\n",
      "Testing output: 1.61803409\n",
      "*****************\n",
      "A Start was 910, max diff was 562.4108998588233\n",
      "Testing output: 1.61803407\n",
      "*****************\n"
     ]
    }
   ],
   "source": [
    "### figure out proportion of max diff\n",
    "for aStart in range(10, 1000, 100):\n",
    "    max_diff = incrementGame(aStart, 0.0001)\n",
    "    print(f\"A Start was {aStart}, max diff was {max_diff}\")\n",
    "    print(f\"Testing output: {round((aStart / max_diff),8)}\")\n",
    "    print(\"*****************\")"
   ]
  },
  {
   "cell_type": "markdown",
   "metadata": {},
   "source": [
    "### Solution: \n",
    "\n",
    "Original Question: `Now suppose A goes first and starts with N points. In terms of N, what is the greatest number of points B can start with so that A will still emerge victorious?`\n",
    "\n",
    "The solution: `1.61803N`\n",
    "\n",
    "As Matt pointed out to me, this is the [Golden Ratio](https://en.wikipedia.org/wiki/Golden_ratio)\n",
    "\n",
    "#### Proving Across Random Values\n",
    "\n",
    "Will randomly select a starting point & test against a start of B for `1.61803N` vs `1.61803N`"
   ]
  },
  {
   "cell_type": "code",
   "execution_count": 10,
   "metadata": {},
   "outputs": [
    {
     "name": "stdout",
     "output_type": "stream",
     "text": [
      "Random Integers, Round 1\n",
      "Player A starts with 340876\n",
      "Player B still loses with a start of: 551547.5942800001\n",
      "Player B wins with a start of: 551551.00304\n",
      "------------------\n",
      "Random Integers, Round 2\n",
      "Player A starts with 434856\n",
      "Player B still loses with a start of: 703610.05368\n",
      "Player B wins with a start of: 703614.40224\n",
      "------------------\n",
      "Random Integers, Round 3\n",
      "Player A starts with 300604\n",
      "Player B still loses with a start of: 486386.29012\n",
      "Player B wins with a start of: 486389.29615999997\n",
      "------------------\n",
      "Random Integers, Round 4\n",
      "Player A starts with 92349\n",
      "Player B still loses with a start of: 149423.45247000002\n",
      "Player B wins with a start of: 149424.37596\n",
      "------------------\n",
      "Random Integers, Round 5\n",
      "Player A starts with 602243\n",
      "Player B still loses with a start of: 974447.24129\n",
      "Player B wins with a start of: 974453.2637199999\n",
      "------------------\n",
      "Random Integers, Round 6\n",
      "Player A starts with 857449\n",
      "Player B still loses with a start of: 1387378.2054700002\n",
      "Player B wins with a start of: 1387386.77996\n",
      "------------------\n",
      "Random Integers, Round 7\n",
      "Player A starts with 631098\n",
      "Player B still loses with a start of: 1021135.4969400001\n",
      "Player B wins with a start of: 1021141.8079199999\n",
      "------------------\n",
      "Random Integers, Round 8\n",
      "Player A starts with 980558\n",
      "Player B still loses with a start of: 1586572.26074\n",
      "Player B wins with a start of: 1586582.06632\n",
      "------------------\n",
      "Random Integers, Round 9\n",
      "Player A starts with 190144\n",
      "Player B still loses with a start of: 307658.69632\n",
      "Player B wins with a start of: 307660.59776\n",
      "------------------\n",
      "Random Integers, Round 10\n",
      "Player A starts with 70295\n",
      "Player B still loses with a start of: 113739.41885\n",
      "Player B wins with a start of: 113740.1218\n",
      "------------------\n"
     ]
    }
   ],
   "source": [
    "import random \n",
    "\n",
    "for _ in range(10):\n",
    "    \n",
    "    # determine random N\n",
    "    N = random.randint(100, 1000000)\n",
    "    \n",
    "    # determine last val where A still wins\n",
    "    B_lose = N * 1.61803\n",
    "    \n",
    "    # determine first val where B wins\n",
    "    B_win = N * 1.61804\n",
    "    print(f\"Random Integers, Round {_ + 1}\")\n",
    "    print(f\"Player A starts with {N}\")\n",
    "    assert(playGame(N, B_lose) == 'A')\n",
    "    print(f\"Player B still loses with a start of: {B_lose}\")\n",
    "    assert(playGame(N, B_win) == 'B')\n",
    "    print(f\"Player B wins with a start of: {B_win}\")\n",
    "    print(\"------------------\")"
   ]
  },
  {
   "cell_type": "markdown",
   "metadata": {},
   "source": [
    "### Final Thoughts:\n",
    "\n",
    "- This does solve the problem, but is not as precise as it could be given some of the jumps shown in higher values. "
   ]
  }
 ],
 "metadata": {
  "kernelspec": {
   "display_name": "Python 3.8",
   "language": "python",
   "name": "other-env"
  },
  "language_info": {
   "codemirror_mode": {
    "name": "ipython",
    "version": 3
   },
   "file_extension": ".py",
   "mimetype": "text/x-python",
   "name": "python",
   "nbconvert_exporter": "python",
   "pygments_lexer": "ipython3",
   "version": "3.8.5"
  }
 },
 "nbformat": 4,
 "nbformat_minor": 4
}
