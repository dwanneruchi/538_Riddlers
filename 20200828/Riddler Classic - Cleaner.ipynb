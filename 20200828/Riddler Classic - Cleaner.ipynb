{
 "cells": [
  {
   "cell_type": "markdown",
   "metadata": {},
   "source": [
    "### General Approach:\n",
    "\n",
    "- The game rules don't matter, really just need to build out a sequence of 13 that repeats 4x\n",
    "- Then shuffle each \"game\"\n",
    "- \"deal\" (subset array to each player gets 26 elements)\n",
    "- subtract arrays using element-wise subtraction and ensure diff array has elements all greater than 0 or less than 0\n",
    "    - maybe faster if I just do a check for greater than & sum. if sum is 26 or 0 then we have an occurrence"
   ]
  },
  {
   "cell_type": "code",
   "execution_count": 5,
   "metadata": {},
   "outputs": [],
   "source": [
    "import numpy as np\n",
    "from numba import jit\n",
    "\n",
    "deck = np.tile(np.arange(13),4) # build 52 total integers of 0-12; initial deck \n",
    "\n",
    "@jit(nopython=True) # Set \"nopython\" mode for best performance, equivalent to @njit\n",
    "def war_game(deck): # Function is compiled to machine code when called the first time\n",
    "    np.random.shuffle(deck) # shuffle \n",
    "    p1 = deck[:26]\n",
    "    p2 = deck[26:]\n",
    "    \n",
    "    # find array of differences\n",
    "    diff = p1 - p2\n",
    "    \n",
    "    # check logic of all elements - either must all be positive or negative\n",
    "    if (diff > 0).all():\n",
    "        return 1\n",
    "    elif (diff < 0).all():\n",
    "        return 1\n",
    "    else:\n",
    "        return 0"
   ]
  },
  {
   "cell_type": "code",
   "execution_count": 22,
   "metadata": {},
   "outputs": [],
   "source": [
    "# possibly faster version\n",
    "# instead of doing .all() I just sum(Trues). if answer is 26 or 0 then we know one player one every hand in 26 steps\n",
    "\n",
    "@jit(nopython=True) # Set \"nopython\" mode for best performance, equivalent to @njit\n",
    "def war_game_simple(deck): # Function is compiled to machine code when called the first time\n",
    "    np.random.shuffle(deck) # shuffle \n",
    "    p1 = deck[:26]\n",
    "    p2 = deck[26:]\n",
    "    \n",
    "    # find array of differences\n",
    "    diff = np.sum(p1 > p2)\n",
    "    \n",
    "    # check logic of all elements - either must all be positive or negative\n",
    "    if (diff == 26) or (diff == 0):\n",
    "        return 1\n",
    "    else:\n",
    "        return 0"
   ]
  },
  {
   "cell_type": "markdown",
   "metadata": {},
   "source": [
    "### quick time test:\n",
    "\n",
    "- which function runs faster?\n",
    "    - Guess it is still the other one...."
   ]
  },
  {
   "cell_type": "code",
   "execution_count": 24,
   "metadata": {},
   "outputs": [
    {
     "name": "stdout",
     "output_type": "stream",
     "text": [
      "1.48 µs ± 46 ns per loop (mean ± std. dev. of 7 runs, 1000000 loops each)\n"
     ]
    }
   ],
   "source": [
    "%timeit war_game(deck)"
   ]
  },
  {
   "cell_type": "code",
   "execution_count": 25,
   "metadata": {},
   "outputs": [
    {
     "name": "stdout",
     "output_type": "stream",
     "text": [
      "1.9 µs ± 233 ns per loop (mean ± std. dev. of 7 runs, 1000000 loops each)\n"
     ]
    }
   ],
   "source": [
    "%timeit war_game_simple(deck)"
   ]
  },
  {
   "cell_type": "markdown",
   "metadata": {},
   "source": [
    "### Run loop where we exit once a 1 is received\n",
    "\n",
    "- Run 10 times with a while loop.\n",
    "- This simulates total play over 10 versions. \n",
    "- might be worth doing some multiprocessing..."
   ]
  },
  {
   "cell_type": "code",
   "execution_count": null,
   "metadata": {},
   "outputs": [],
   "source": [
    "import time\n",
    "\n",
    "total_games = [] # empty list to store results \n",
    "\n",
    "for _ in range(10):\n",
    "    deck = np.tile(np.arange(13),4) # build 52 total integers of 0-12; initial deck \n",
    "\n",
    "    start = time.time()\n",
    "\n",
    "    outcome = 0\n",
    "    iterations = 0\n",
    "    \n",
    "    while outcome == 0:\n",
    "        outcome = war_game(deck)\n",
    "        iterations += 1\n",
    "\n",
    "    end = time.time()\n",
    "    total_games.append(iterations)\n",
    "    print(f\"Took {iterations} iterations to find a perfect game\")\n",
    "    print(f'Total time: {end - start}')\n",
    "    \n",
    "total_games"
   ]
  },
  {
   "cell_type": "code",
   "execution_count": null,
   "metadata": {},
   "outputs": [],
   "source": []
  }
 ],
 "metadata": {
  "kernelspec": {
   "display_name": "Python 3.8",
   "language": "python",
   "name": "other-env"
  },
  "language_info": {
   "codemirror_mode": {
    "name": "ipython",
    "version": 3
   },
   "file_extension": ".py",
   "mimetype": "text/x-python",
   "name": "python",
   "nbconvert_exporter": "python",
   "pygments_lexer": "ipython3",
   "version": "3.8.5"
  }
 },
 "nbformat": 4,
 "nbformat_minor": 4
}
