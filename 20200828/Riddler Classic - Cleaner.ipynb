{
 "cells": [
  {
   "cell_type": "markdown",
   "metadata": {},
   "source": [
    "### General Approach:\n",
    "\n",
    "- The game rules don't matter, really just need to build out a sequence of 13 that repeats 4x\n",
    "- Then shuffle each \"game\"\n",
    "- \"deal\" (subset array to each player gets 26 elements)\n",
    "- subtract arrays using element-wise subtraction and ensure diff array has elements all greater than 0 or less than 0\n",
    "    - maybe faster if I just do a check for greater than & sum. if sum is 26 or 0 then we have an occurrence"
   ]
  },
  {
   "cell_type": "code",
   "execution_count": 40,
   "metadata": {},
   "outputs": [],
   "source": [
    "import numpy as np\n",
    "from numba import jit\n",
    "\n",
    "deck = np.tile(np.arange(13),4) # build 52 total integers of 0-12; initial deck \n",
    "\n",
    "@jit(nopython=True) # Set \"nopython\" mode for best performance, equivalent to @njit\n",
    "def war_game(deck): # Function is compiled to machine code when called the first time\n",
    "    np.random.shuffle(deck) # shuffle \n",
    "    p1 = deck[:26]\n",
    "    p2 = deck[26:]\n",
    "    \n",
    "    # find array of differences\n",
    "    diff = p1 - p2\n",
    "    \n",
    "    # check logic of all elements - either must all be positive or negative\n",
    "    if (diff > 0).all():\n",
    "        return 1\n",
    "    else:\n",
    "        return 0"
   ]
  },
  {
   "cell_type": "code",
   "execution_count": 41,
   "metadata": {},
   "outputs": [],
   "source": [
    "# possibly faster version\n",
    "# instead of doing .all() I just sum(Trues). if answer is 26 or 0 then we know one player one every hand in 26 steps\n",
    "\n",
    "@jit(nopython=True) # Set \"nopython\" mode for best performance, equivalent to @njit\n",
    "def war_game_simple(deck): # Function is compiled to machine code when called the first time\n",
    "    np.random.shuffle(deck) # shuffle \n",
    "    p1 = deck[:26]\n",
    "    p2 = deck[26:]\n",
    "    \n",
    "    # find array of differences\n",
    "    diff = np.sum(p1 > p2)\n",
    "    \n",
    "    # check logic of all elements - either must all be positive or negative\n",
    "    if (diff == 26):\n",
    "        return 1\n",
    "    else:\n",
    "        return 0"
   ]
  },
  {
   "cell_type": "markdown",
   "metadata": {},
   "source": [
    "### quick time test:\n",
    "\n",
    "- which function runs faster?\n",
    "    - Guess it is still the other one...."
   ]
  },
  {
   "cell_type": "code",
   "execution_count": 44,
   "metadata": {},
   "outputs": [
    {
     "name": "stdout",
     "output_type": "stream",
     "text": [
      "2.07 µs ± 345 ns per loop (mean ± std. dev. of 7 runs, 1000000 loops each)\n"
     ]
    }
   ],
   "source": [
    "%timeit war_game(deck)"
   ]
  },
  {
   "cell_type": "code",
   "execution_count": 45,
   "metadata": {},
   "outputs": [
    {
     "name": "stdout",
     "output_type": "stream",
     "text": [
      "1.66 µs ± 336 ns per loop (mean ± std. dev. of 7 runs, 1000000 loops each)\n"
     ]
    }
   ],
   "source": [
    "%timeit war_game_simple(deck)"
   ]
  },
  {
   "cell_type": "markdown",
   "metadata": {},
   "source": [
    "### Run loop where we exit once a 1 is received\n",
    "\n",
    "- Run 10 times with a while loop.\n",
    "- This simulates total play over 10 versions. \n",
    "- might be worth doing some multiprocessing..."
   ]
  },
  {
   "cell_type": "code",
   "execution_count": 46,
   "metadata": {},
   "outputs": [
    {
     "name": "stdout",
     "output_type": "stream",
     "text": [
      "Took 13878602 iterations to find a perfect game\n",
      "Total time: 19.134847402572632\n",
      "Took 81502391 iterations to find a perfect game\n",
      "Total time: 143.12804889678955\n",
      "Took 51756700 iterations to find a perfect game\n",
      "Total time: 98.63952350616455\n",
      "Game 4, Iteration 100000000\n",
      "Game 4, Iteration 200000000\n",
      "Game 4, Iteration 300000000\n",
      "Game 4, Iteration 400000000\n",
      "Game 4, Iteration 500000000\n",
      "Game 4, Iteration 600000000\n",
      "Took 605318123 iterations to find a perfect game\n",
      "Total time: 1087.339852809906\n",
      "Took 71472620 iterations to find a perfect game\n",
      "Total time: 127.47719287872314\n",
      "Game 6, Iteration 100000000\n",
      "Game 6, Iteration 200000000\n",
      "Took 292312779 iterations to find a perfect game\n",
      "Total time: 538.6507391929626\n",
      "Game 7, Iteration 100000000\n",
      "Game 7, Iteration 200000000\n",
      "Game 7, Iteration 300000000\n",
      "Took 351834417 iterations to find a perfect game\n",
      "Total time: 535.3347852230072\n",
      "Took 27431168 iterations to find a perfect game\n",
      "Total time: 36.353739976882935\n",
      "Took 50906328 iterations to find a perfect game\n",
      "Total time: 67.95217895507812\n",
      "Took 28403494 iterations to find a perfect game\n",
      "Total time: 37.90359902381897\n"
     ]
    },
    {
     "data": {
      "text/plain": [
       "[13878602,\n",
       " 81502391,\n",
       " 51756700,\n",
       " 605318123,\n",
       " 71472620,\n",
       " 292312779,\n",
       " 351834417,\n",
       " 27431168,\n",
       " 50906328,\n",
       " 28403494]"
      ]
     },
     "execution_count": 46,
     "metadata": {},
     "output_type": "execute_result"
    }
   ],
   "source": [
    "import time\n",
    "\n",
    "total_games = [] # empty list to store results \n",
    "\n",
    "for i in range(10):\n",
    "    deck = np.tile(np.arange(13),4) # build 52 total integers of 0-12; initial deck \n",
    "\n",
    "    start = time.time()\n",
    "\n",
    "    outcome = 0\n",
    "    iterations = 0\n",
    "    \n",
    "    while outcome != 1:\n",
    "        outcome = war_game_simple(deck) # output if winner in 26 or not\n",
    "        iterations += 1\n",
    "        \n",
    "        if iterations % 100000000 == 0:\n",
    "            print(f\"Game {i + 1}, Iteration {iterations}\")\n",
    "\n",
    "    end = time.time()\n",
    "    total_games.append(iterations)\n",
    "    print(f\"Took {iterations} iterations to find a perfect game\")\n",
    "    print(f'Total time: {end - start}')\n",
    "    \n",
    "total_games"
   ]
  },
  {
   "cell_type": "code",
   "execution_count": 48,
   "metadata": {},
   "outputs": [
    {
     "data": {
      "text/plain": [
       "157481662.2"
      ]
     },
     "execution_count": 48,
     "metadata": {},
     "output_type": "execute_result"
    }
   ],
   "source": [
    "import statistics\n",
    "statistics.mean(total_games) "
   ]
  },
  {
   "cell_type": "code",
   "execution_count": null,
   "metadata": {},
   "outputs": [],
   "source": []
  }
 ],
 "metadata": {
  "kernelspec": {
   "display_name": "Python 3.8",
   "language": "python",
   "name": "other-env"
  },
  "language_info": {
   "codemirror_mode": {
    "name": "ipython",
    "version": 3
   },
   "file_extension": ".py",
   "mimetype": "text/x-python",
   "name": "python",
   "nbconvert_exporter": "python",
   "pygments_lexer": "ipython3",
   "version": "3.8.5"
  }
 },
 "nbformat": 4,
 "nbformat_minor": 4
}
