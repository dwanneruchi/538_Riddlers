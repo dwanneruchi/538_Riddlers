{
 "cells": [
  {
   "cell_type": "markdown",
   "metadata": {},
   "source": [
    "### Riddler Classic: \n",
    "\n",
    "In this challenge, the numbers from 1 to 11 are arranged in a circle in a particular order: 1, 4, 8, 7, 11, 2, 5, 9, 3, 6, 10. You then have to connect pairs of numbers with straight line segments that don’t intersect, and your score is the sum of the products of the joined numbers. For example, with the connections {1, 4}, {8, 10}, {3, 7}, {5, 9}, and {2, 11} (and the 6 left by itself), you get a score of 1·4 + 8·10 + 3·7 + 5·9 + 2·11, or 172.\n",
    "\n",
    "The best score you can achieve with this ordering of 1 through 11 around the circle is 237, which you can get with the following connections: {6, 10}, {3, 4}, {7, 8}, {9, 11} and {2, 5} (and the 1 left by itself).\n",
    "\n",
    "This got Friend-of-The-Riddler Tyler Barron and me thinking about possible extensions of this challenge. If you want the highest possible maximum score, then you can rearrange the numbers from 1 to 11 so that they are in numerical order around the circle. (With this arrangement, the maximum score is 250.)\n",
    "\n",
    "But what if you want the lowest possible maximum score? That is, how can you order the numbers from 1 to 11 around the circle so that the maximum possible score is as low as possible? And what is the resulting score?\n",
    "\n",
    "## Initial Thought:\n",
    "\n",
    "- as we take a sequence, confirm that it does not cross paths with existing sequence:\n",
    "    - we can read all of these circles as a sequential list \n",
    "    - in order to not cross elements must be:\n",
    "        - sequence is within the other sequence\n",
    "        - sequence is outside the other sequence \n",
    "        \n",
    "### Determining An Intersection: "
   ]
  },
  {
   "cell_type": "code",
   "execution_count": 1,
   "metadata": {},
   "outputs": [
    {
     "name": "stdout",
     "output_type": "stream",
     "text": [
      "[7, 11, 2, 5, 9, 3, 6]\n"
     ]
    }
   ],
   "source": [
    "# the list\n",
    "list_order = [1, 4, 8, 7, 11, 2, 5, 9, 3, 6, 10]\n",
    "\n",
    "# prior sequence:\n",
    "seq_1 = (1,4)\n",
    "seq_2 = (8,10)\n",
    "\n",
    "#find remaining values:\n",
    "remaining = [x for x in list_order if x not in seq_1 and x not in seq_2]\n",
    "print(remaining)"
   ]
  },
  {
   "cell_type": "code",
   "execution_count": 2,
   "metadata": {},
   "outputs": [],
   "source": [
    "def checkIntersection(newS, oldS, origList):\n",
    "    \"\"\"Check if there is intersection of newS on oldS\"\"\"\n",
    "    # find index of elements in new seq\n",
    "    new_a = origList.index(newS[0])\n",
    "    new_b = origList.index(newS[1])\n",
    "    \n",
    "    # find index of elements in old seq\n",
    "    old_a = origList.index(oldS[0])\n",
    "    old_b = origList.index(oldS[1])\n",
    "    \n",
    "    # check if intersection or not \n",
    "    n_a, n_b = min(new_a,new_b), max(new_a,new_b)\n",
    "    o_a, o_b = min(old_a,old_b), max(old_a,old_b)\n",
    "    \n",
    "    #print(n_a, n_b, o_a, o_b)\n",
    "    \n",
    "    if o_a < n_a < o_b and o_a < n_b < o_b:\n",
    "        return 0\n",
    "\n",
    "    # route is totally outside \n",
    "    if (not(o_a <= n_a <= o_b)) and (not(o_a <= n_b <= o_b)):\n",
    "        return 0\n",
    "\n",
    "    # intersect\n",
    "    return 1"
   ]
  },
  {
   "cell_type": "code",
   "execution_count": 3,
   "metadata": {},
   "outputs": [],
   "source": [
    "# do a few checks: \n",
    "\n",
    "#  1,10 and 4,6 should not intersect\n",
    "assert(checkIntersection((1,10), (4,6), list_order) == 0)\n",
    "\n",
    "#  1,9 and 4,3 should intersect\n",
    "assert(checkIntersection((1,9), (3,4), list_order) == 1)\n",
    "\n",
    "# 2,1 and 11,6 should intersect\n",
    "assert(checkIntersection((2,1), (11,6), list_order) == 1)\n",
    "\n",
    "# 10, 2 and 11,1 should not intersect\n",
    "assert(checkIntersection((2,10), (11,1), list_order) == 0)"
   ]
  },
  {
   "cell_type": "markdown",
   "metadata": {},
   "source": [
    "### Determine Eligible Sequences: \n",
    "\n",
    "- Now need a process for building eligible sequences"
   ]
  },
  {
   "cell_type": "code",
   "execution_count": 7,
   "metadata": {},
   "outputs": [
    {
     "name": "stdout",
     "output_type": "stream",
     "text": [
      "5\n"
     ]
    }
   ],
   "source": [
    "from math import floor, factorial\n",
    "import random\n",
    "\n",
    "# We have 11 elements, so will need 5 pairs \n",
    "sequence_count = floor(len(list_order)/2)\n",
    "print(sequence_count)"
   ]
  },
  {
   "cell_type": "code",
   "execution_count": 8,
   "metadata": {},
   "outputs": [
    {
     "data": {
      "text/plain": [
       "120"
      ]
     },
     "execution_count": 8,
     "metadata": {},
     "output_type": "execute_result"
    }
   ],
   "source": [
    "factorial(5)"
   ]
  },
  {
   "cell_type": "code",
   "execution_count": 15,
   "metadata": {},
   "outputs": [
    {
     "name": "stdout",
     "output_type": "stream",
     "text": [
      "working in step 0\n",
      "Found a clean pair!\n",
      "working in step 1\n",
      "Found a clean pair!\n",
      "working in step 2\n",
      "Found a clean pair!\n",
      "working in step 3\n",
      "Found a clean pair!\n",
      "working in step 4\n",
      "Found a clean pair!\n"
     ]
    }
   ],
   "source": [
    "# within a run:\n",
    "seq_dict = {}\n",
    "current_list = list_order.copy()\n",
    "for i in range(sequence_count):\n",
    "    print(f\"working in step {i}\")\n",
    "    current_seq = seq_dict.values()\n",
    "    #print(current_list)\n",
    "    tested_pairs = set()\n",
    "    \n",
    "    # possible pairs\n",
    "    # add logic to determine if all unique pairs have been tested\n",
    "    # just a combination, right? \n",
    "    # (n!) / k!(n-k!)\n",
    "    pos_pairs = factorial(len(current_list)) / (factorial(2) * factorial(len(current_list) - 2))\n",
    "    \n",
    "    \n",
    "    while True:\n",
    "        \n",
    "        # randomly find two numbers from list\n",
    "        num1 = random.choices(current_list, k=1)[0]\n",
    "        num2 = random.choices([x for x in current_list if x != num1], k=1)[0]\n",
    "        \n",
    "        # num1,num2 need to be added so we can see if we tested a pair\n",
    "        tested_pairs.add((num1,num2))\n",
    "        \n",
    "        # check if tested pairs == unique pairs\n",
    "        if len(tested_pairs) >= pos_pairs:\n",
    "            print(\"Not possible to solve\")\n",
    "            break\n",
    "\n",
    "        \n",
    "        # compare to existing sequences - if intersection then rerun\n",
    "        sum_c = 0\n",
    "        for seq in current_seq:\n",
    "            sum_c += checkIntersection((num1,num2), seq, list_order)\n",
    "            \n",
    "        # if > 0 then we had intersection and must redo, else store off\n",
    "        if sum_c > 0:\n",
    "            continue\n",
    "        else:\n",
    "            \n",
    "            print(f\"Found a clean pair!\")\n",
    "            \n",
    "            # add tuple\n",
    "            seq_dict[i] = (num1,num2)\n",
    "            \n",
    "            # remove from current list \n",
    "            current_list.remove(num1)\n",
    "            current_list.remove(num2)\n",
    "            \n",
    "            break\n",
    "            "
   ]
  },
  {
   "cell_type": "code",
   "execution_count": 16,
   "metadata": {},
   "outputs": [
    {
     "data": {
      "text/plain": [
       "{0: (6, 10), 1: (8, 1), 2: (3, 7), 3: (11, 2), 4: (5, 9)}"
      ]
     },
     "execution_count": 16,
     "metadata": {},
     "output_type": "execute_result"
    }
   ],
   "source": [
    "seq_dict"
   ]
  },
  {
   "cell_type": "markdown",
   "metadata": {},
   "source": [
    "### Iterate N Times\n",
    "\n",
    "Run a big simulation, keeping tabs on the max sequence. Can we match what the riddler had? \n",
    "\n",
    "`The best score you can achieve with this ordering of 1 through 11 around the circle is 237, which you can get with the following connections: {6, 10}, {3, 4}, {7, 8}, {9, 11} and {2, 5} (and the 1 left by itself).`\n",
    "\n",
    "Able to solve!"
   ]
  },
  {
   "cell_type": "code",
   "execution_count": 40,
   "metadata": {},
   "outputs": [
    {
     "name": "stdout",
     "output_type": "stream",
     "text": [
      "0.5435709953308105\n",
      "New max score: 237\n"
     ]
    }
   ],
   "source": [
    "import time \n",
    "\n",
    "n = 5_000\n",
    "\n",
    "max_seq = {}\n",
    "max_score = 0\n",
    "\n",
    "start = time.time()\n",
    "\n",
    "for _ in range(n):\n",
    "    # within a run:\n",
    "    seq_dict = {}\n",
    "    current_list = list_order.copy()\n",
    "    for i in range(sequence_count):\n",
    "        #print(f\"working in step {i}\")\n",
    "        current_seq = seq_dict.values()\n",
    "        #print(current_list)\n",
    "        tested_pairs = set()\n",
    "\n",
    "        # possible pairs\n",
    "        # add logic to determine if all unique pairs have been tested\n",
    "        # just a combination, right? \n",
    "        # (n!) / k!(n-k!)\n",
    "        pos_pairs = factorial(len(current_list)) / (factorial(2) * factorial(len(current_list) - 2))\n",
    "\n",
    "\n",
    "        while True:\n",
    "\n",
    "            # randomly find two numbers from list\n",
    "            num1 = random.choices(current_list, k=1)[0]\n",
    "            num2 = random.choices([x for x in current_list if x != num1], k=1)[0]\n",
    "\n",
    "            # num1,num2 need to be added so we can see if we tested a pair\n",
    "            tested_pairs.add((num1,num2))\n",
    "\n",
    "            # check if tested pairs == unique pairs\n",
    "            if len(tested_pairs) >= pos_pairs:\n",
    "                #print(\"Not possible to solve\")\n",
    "                break\n",
    "\n",
    "\n",
    "            # compare to existing sequences - if intersection then rerun\n",
    "            sum_c = 0\n",
    "            for seq in current_seq:\n",
    "                sum_c += checkIntersection((num1,num2), seq, list_order)\n",
    "\n",
    "            # if > 0 then we had intersection and must redo, else store off\n",
    "            if sum_c > 0:\n",
    "                continue\n",
    "            else:\n",
    "\n",
    "                #print(f\"Found a clean pair!\")\n",
    "\n",
    "                # add tuple\n",
    "                seq_dict[i] = (num1,num2)\n",
    "                \n",
    "                \n",
    "\n",
    "                # remove from current list \n",
    "                current_list.remove(num1)\n",
    "                current_list.remove(num2)\n",
    "                \n",
    "                # # if 5 total, then calculate \n",
    "                if len(seq_dict) == 5:\n",
    "                    score = 0\n",
    "                    for key, val in seq_dict.items():\n",
    "                        score += val[0] * val[1]\n",
    "\n",
    "                # determine if exceeds max, if so save off \n",
    "                \n",
    "                if score > max_score:\n",
    "                    max_score = score\n",
    "                    max_seq = seq_dict\n",
    "                    \n",
    "                break\n",
    "finish = time.time()\n",
    "\n",
    "print(finish - start)\n",
    "print(f\"New max score: {max_score}\")"
   ]
  },
  {
   "cell_type": "code",
   "execution_count": 41,
   "metadata": {},
   "outputs": [
    {
     "data": {
      "text/plain": [
       "{0: (9, 11), 1: (10, 6), 2: (3, 4), 3: (2, 5), 4: (7, 8)}"
      ]
     },
     "execution_count": 41,
     "metadata": {},
     "output_type": "execute_result"
    }
   ],
   "source": [
    "max_seq"
   ]
  },
  {
   "cell_type": "code",
   "execution_count": 44,
   "metadata": {},
   "outputs": [
    {
     "data": {
      "text/plain": [
       "251.12979984283447"
      ]
     },
     "execution_count": 44,
     "metadata": {},
     "output_type": "execute_result"
    }
   ],
   "source": [
    "# time to process all combinations? 251 days...\n",
    "factorial(11) * (finish - start) * (1/ 86400)"
   ]
  },
  {
   "cell_type": "markdown",
   "metadata": {},
   "source": [
    "### Final Step: \n",
    "\n",
    "- Need to do this for all orderings of the numbers, which is actually a massive problem. It would be `11!`\n",
    "\n",
    "\n",
    "One way to fix this is use a generator to build next sequence, once a max score exceed prior min we move to next ordering.\n",
    "\n",
    "May need to switch to numpy."
   ]
  },
  {
   "cell_type": "code",
   "execution_count": 33,
   "metadata": {},
   "outputs": [
    {
     "data": {
      "text/plain": [
       "39916800"
      ]
     },
     "execution_count": 33,
     "metadata": {},
     "output_type": "execute_result"
    }
   ],
   "source": [
    "factorial(11)"
   ]
  }
 ],
 "metadata": {
  "kernelspec": {
   "display_name": "Python 3.8",
   "language": "python",
   "name": "other-env"
  },
  "language_info": {
   "codemirror_mode": {
    "name": "ipython",
    "version": 3
   },
   "file_extension": ".py",
   "mimetype": "text/x-python",
   "name": "python",
   "nbconvert_exporter": "python",
   "pygments_lexer": "ipython3",
   "version": "3.8.5"
  }
 },
 "nbformat": 4,
 "nbformat_minor": 4
}
