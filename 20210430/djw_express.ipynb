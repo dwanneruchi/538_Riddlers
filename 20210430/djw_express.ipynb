{
 "cells": [
  {
   "cell_type": "markdown",
   "metadata": {},
   "source": [
    "### Riddler Express\n",
    "\n",
    "You’re playing a game of cornhole with your friends, and it’s your turn to toss the four bean bags. For every bean bag you toss onto your opponents’ board, you get 1 point. For every bag that goes through the hole on their board, you get 3 points. And for any bags that don’t land on the board or through the hole, you get 0 points.\n",
    "\n",
    "Your opponents had a terrible round, missing the board with all their throws. Meanwhile, your team currently has 18 points — just 3 points away from victory at 21. You’re also playing with a special house rule: To win, you must score exactly 21 points, without going over.\n",
    "\n",
    "Based on your history, you know there are three kinds of throws you can make:\n",
    "\n",
    "- An aggressive throw, which has a 40 percent chance of going in the hole, a 30 percent chance of landing on the board and a 30 percent chance of missing the board and hole.\n",
    "- A conservative throw, which has a 10 percent chance of going in the hole, an 80 percent chance of landing on the board and a 10 percent chance of missing the board and hole.\n",
    "- A wasted throw, which has a 100 percent chance of missing the board and hole.\n",
    "\n",
    "For each bean bag, you can choose any of these three throws. Your goal is to maximize your chances of scoring exactly 3 points with your four tosses. What is the probability that your team will finish the round with exactly 21 points and declare victory?\n",
    "\n",
    "\n",
    "### Optimal Strategy:\n",
    "\n",
    "- Attempt to get the 3 points with aggressive throw:\n",
    "    - If you miss, keep trying \n",
    "    - If you make it in the hole, then you waste remaining throws\n",
    "    - If you get on the board, then switch to conservative to try to get 3 on board\n",
    "    \n",
    "    \n",
    "#### Permutations (order matters for events)\n",
    "\n",
    "- Definitions:\n",
    "    - `HA` = hit a 3-pointer (0.4)\n",
    "    - `MA` = miss aggressively (0.3)\n",
    "    - `BA` = make board aggressively (0.3)\n",
    "    - `MC` = conservative miss (0.1)\n",
    "    - `BC` = conservative board (0.8)\n",
    "    - `HC` = conservative hit of 3-pointer (0.1)\n",
    "    - `W` = wasted throw (1.0)\n",
    "    \n",
    "- 3 points through the hole:\n",
    "    - `HA-W-W-W`\n",
    "    - `MA-HA-W-W`\n",
    "    - `MA-MA-HA-W`\n",
    "    - `MA-W-W-HA`\n",
    "\n",
    "- 3 points on the board:\n",
    "    - `BA-BC-BC-W`\n",
    "    - `MA-BA-BC-BC`\n",
    "    - `BA-MC-BC_BC`\n",
    "    - `BA-BC-MC-BC`"
   ]
  },
  {
   "cell_type": "code",
   "execution_count": 3,
   "metadata": {},
   "outputs": [
    {
     "name": "stdout",
     "output_type": "stream",
     "text": [
      "0.5668000000000001\n",
      "0.28800000000000003\n",
      "Likelihood of scoring 3 points assuming optimal strategy: 0.8548\n"
     ]
    }
   ],
   "source": [
    "# HA-W-W-W, MA-HA-W-W, MA-MA-HA-W, MA-W-W-HA\n",
    "hole = 0.4 + (0.3 * 0.4) + (0.4 * 0.3**2) + (0.4 * 0.3**3)\n",
    "\n",
    "# B-CB-CB-W, M-B-CB-CB, B-M-CB-CB, B-CB-M-CB\n",
    "# BA-BC-BC-W, MA-BA-BC-BC, BA-MC-BC_BC, BA-BC-MC-BC\n",
    "board = (0.3 * .8**2)  + (0.3 * 0.3 * 0.8**2) + 2 * (0.3 * 0.8**2 * 0.1)\n",
    "\n",
    "\n",
    "print(hole)\n",
    "print(board)\n",
    "print(f\"Likelihood of scoring 3 points assuming optimal strategy: {hole + board:.4f}\")"
   ]
  }
 ],
 "metadata": {
  "kernelspec": {
   "display_name": "Python 3.8",
   "language": "python",
   "name": "other-env"
  },
  "language_info": {
   "codemirror_mode": {
    "name": "ipython",
    "version": 3
   },
   "file_extension": ".py",
   "mimetype": "text/x-python",
   "name": "python",
   "nbconvert_exporter": "python",
   "pygments_lexer": "ipython3",
   "version": "3.8.5"
  }
 },
 "nbformat": 4,
 "nbformat_minor": 4
}
